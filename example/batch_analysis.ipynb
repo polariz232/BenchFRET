{
 "cells": [
  {
   "cell_type": "code",
   "execution_count": null,
   "metadata": {},
   "outputs": [],
   "source": [
    "from BenchFRET.pipeline.dataloader import SimLoader\n",
    "from BenchFRET.DeepLASI.wrapper import DeepLasiWrapper\n",
    "from BenchFRET.pipeline.analysis import get_score\n",
    "import os\n",
    "from tqdm.notebook import tqdm \n",
    "import re\n",
    "import pandas as pd\n",
    "import plotly.graph_objects as go"
   ]
  },
  {
   "cell_type": "code",
   "execution_count": null,
   "metadata": {},
   "outputs": [],
   "source": [
    "folder_path = r\"F:\\BenchFRET_Simulated_Comparison_Data\\pickledict\"\n",
    "file_paths = [f for f in os.listdir(folder_path) if os.path.isfile(os.path.join(folder_path, f))]"
   ]
  },
  {
   "cell_type": "code",
   "execution_count": null,
   "metadata": {},
   "outputs": [],
   "source": [
    "deeplasi = DeepLasiWrapper()"
   ]
  },
  {
   "cell_type": "code",
   "execution_count": null,
   "metadata": {},
   "outputs": [],
   "source": [
    "df = pd.DataFrame(columns=['noise', 'trans_rate', 'accuracy'])\n",
    "\n",
    "for file in tqdm(file_paths):\n",
    "    noise, trans_rate = re.findall(r'\\d+', file)\n",
    "    \n",
    "    print(f'for this dataset, noise is {noise}, transition_rate is {trans_rate}')\n",
    "\n",
    "    simloader = SimLoader(data_path=os.path.join(folder_path, file))\n",
    "    data = simloader.get_data()\n",
    "    labels = simloader.get_labels()\n",
    "    \n",
    "    detected_states, _ = deeplasi.predict(data, n_colors=2, n_states=2)\n",
    "    \n",
    "    _, accuracy = get_score(detected_states, labels)\n",
    "    \n",
    "    df.loc[len(df)] = [noise, trans_rate, accuracy]\n",
    "    \n"
   ]
  },
  {
   "cell_type": "code",
   "execution_count": null,
   "metadata": {},
   "outputs": [],
   "source": [
    "# Assuming you have a DataFrame called df with x, y, and z columns\n",
    "fig = go.Figure(data=[go.Scatter3d(\n",
    "    x=df['noise'],\n",
    "    y=df['trans_rate'],\n",
    "    z=df['accuracy'],\n",
    "    mode='markers',\n",
    "    marker=dict(\n",
    "        size=5,\n",
    "        color=df['z'],  # You can use a column from the DataFrame to color the markers\n",
    "        colorscale='Viridis',  # Choose a colorscale\n",
    "        opacity=0.8\n",
    "    )\n",
    ")])\n",
    "\n",
    "# Set the layout of the graph\n",
    "fig.update_layout(\n",
    "    scene=dict(\n",
    "        xaxis_title='X',\n",
    "        yaxis_title='Y',\n",
    "        zaxis_title='Z'\n",
    "    )\n",
    ")\n",
    "\n",
    "# Show the graph\n",
    "fig.show()\n"
   ]
  }
 ],
 "metadata": {
  "kernelspec": {
   "display_name": "DeepGapSeq",
   "language": "python",
   "name": "python3"
  },
  "language_info": {
   "codemirror_mode": {
    "name": "ipython",
    "version": 3
   },
   "file_extension": ".py",
   "mimetype": "text/x-python",
   "name": "python",
   "nbconvert_exporter": "python",
   "pygments_lexer": "ipython3",
   "version": "3.9.0"
  }
 },
 "nbformat": 4,
 "nbformat_minor": 2
}
