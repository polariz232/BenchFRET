{
 "cells": [
  {
   "cell_type": "code",
   "execution_count": 1,
   "metadata": {},
   "outputs": [],
   "source": [
    "from BenchFRET.pipeline.batch_tools import Hmm_performance_batch\n",
    "import pandas as pd"
   ]
  },
  {
   "cell_type": "code",
   "execution_count": 2,
   "metadata": {},
   "outputs": [],
   "source": [
    "folder_path = r\"F:\\BenchFRET_Simulated_Comparison_Data\\2 states\\pickledict\""
   ]
  },
  {
   "cell_type": "code",
   "execution_count": 3,
   "metadata": {},
   "outputs": [
    {
     "data": {
      "application/json": {
       "ascii": false,
       "bar_format": null,
       "colour": null,
       "elapsed": 0.009701967239379883,
       "initial": 0,
       "n": 0,
       "ncols": null,
       "nrows": null,
       "postfix": null,
       "prefix": "",
       "rate": null,
       "total": 210,
       "unit": "it",
       "unit_divisor": 1000,
       "unit_scale": false
      },
      "application/vnd.jupyter.widget-view+json": {
       "model_id": "84d29df1c3ee4d1bb540556f61b606ab",
       "version_major": 2,
       "version_minor": 0
      },
      "text/plain": [
       "  0%|          | 0/210 [00:00<?, ?it/s]"
      ]
     },
     "metadata": {},
     "output_type": "display_data"
    },
    {
     "name": "stdout",
     "output_type": "stream",
     "text": [
      "for this dataset, noise is 0.00, transition_rate is 0.05\n",
      "traces are of shape:(100, 1000, 2)\n",
      "got 100 traces containing 2 features: DD, DA\n",
      "\n",
      "labels are of shape:(100, 1000)\n",
      "got labels for 100 traces\n",
      "\n"
     ]
    },
    {
     "data": {
      "application/json": {
       "ascii": false,
       "bar_format": null,
       "colour": null,
       "elapsed": 0.007572174072265625,
       "initial": 0,
       "n": 0,
       "ncols": null,
       "nrows": null,
       "postfix": null,
       "prefix": "",
       "rate": null,
       "total": 100,
       "unit": "it",
       "unit_divisor": 1000,
       "unit_scale": false
      },
      "application/vnd.jupyter.widget-view+json": {
       "model_id": "a99bf4f0eb7c441a9163d8e6d763911f",
       "version_major": 2,
       "version_minor": 0
      },
      "text/plain": [
       "  0%|          | 0/100 [00:00<?, ?it/s]"
      ]
     },
     "metadata": {},
     "output_type": "display_data"
    },
    {
     "name": "stdout",
     "output_type": "stream",
     "text": [
      "accuracy for individual traces is [0.0, 0.0, 0.941, 0.978, 0.0, 0.0, 1.0, 0.59, 1.0, 0.0, 0.546, 0.988, 1.0, 0.963, 1.0, 0.0, 0.757, 1.0, 1.0, 0.0, 0.989, 0.0, 1.0, 1.0, 1.0, 0.0, 0.0, 0.0, 1.0, 0.0, 0.0, 0.0, 0.0, 0.0, 0.991, 0.0, 0.998, 0.0, 1.0, 1.0, 1.0, 0.999, 1.0, 1.0, 0.0, 0.0, 1.0, 0.0, 0.989, 1.0, 1.0, 1.0, 0.0, 1.0, 0.967, 1.0, 0.0, 0.0, 0.913, 0.994, 1.0, 0.948, 0.0, 0.982, 1.0, 0.0, 1.0, 1.0, 0.98, 1.0, 1.0, 0.0, 0.0, 0.0, 1.0, 0.0, 1.0, 0.0, 0.673, 1.0, 0.583, 0.0, 1.0, 0.0, 0.91, 1.0, 0.0, 0.0, 0.0, 0.999, 1.0, 1.0, 1.0, 1.0, 1.0, 0.976, 0.0, 1.0, 0.0, 0.6]\n",
      "overall average accuracy is 0.59254\n",
      "for this dataset, noise is 0.00, transition_rate is 0.10\n",
      "traces are of shape:(98, 1000, 2)\n",
      "got 98 traces containing 2 features: DD, DA\n",
      "\n",
      "labels are of shape:(98, 1000)\n",
      "got labels for 98 traces\n",
      "\n"
     ]
    },
    {
     "data": {
      "application/json": {
       "ascii": false,
       "bar_format": null,
       "colour": null,
       "elapsed": 0.002999544143676758,
       "initial": 0,
       "n": 0,
       "ncols": null,
       "nrows": null,
       "postfix": null,
       "prefix": "",
       "rate": null,
       "total": 98,
       "unit": "it",
       "unit_divisor": 1000,
       "unit_scale": false
      },
      "application/vnd.jupyter.widget-view+json": {
       "model_id": "cff08385327b4a1f91967ece65798088",
       "version_major": 2,
       "version_minor": 0
      },
      "text/plain": [
       "  0%|          | 0/98 [00:00<?, ?it/s]"
      ]
     },
     "metadata": {},
     "output_type": "display_data"
    },
    {
     "name": "stdout",
     "output_type": "stream",
     "text": [
      "accuracy for individual traces is [0.0, 0.0, 0.994, 0.0, 1.0, 1.0, 0.0, 0.0, 1.0, 1.0, 0.998, 0.0, 1.0, 0.0, 1.0, 0.0, 0.529, 1.0, 1.0, 0.0, 0.939, 0.0, 0.99, 0.998, 0.0, 0.0, 1.0, 0.0, 0.0, 1.0, 1.0, 0.0, 0.0, 0.927, 0.574, 0.0, 0.844, 0.555, 1.0, 0.0, 0.0, 1.0, 0.0, 0.0, 0.0, 0.0, 0.0, 0.0, 0.0, 0.0, 1.0, 0.0, 0.0, 0.0, 0.976, 0.606, 0.988, 0.516, 0.931, 0.0, 0.0, 1.0, 0.0, 0.0, 0.0, 1.0, 0.973, 0.563, 1.0, 1.0, 1.0, 0.951, 1.0, 1.0, 1.0, 0.965, 0.0, 1.0, 0.0, 1.0, 1.0, 1.0, 1.0, 0.572, 0.0, 1.0, 1.0, 0.0, 1.0, 0.956, 1.0, 0.983, 0.0, 0.0, 0.0, 1.0, 0.0, 0.981]\n",
      "overall average accuracy is 0.523561224489796\n",
      "for this dataset, noise is 0.00, transition_rate is 0.15\n",
      "traces are of shape:(95, 1000, 2)\n",
      "got 95 traces containing 2 features: DD, DA\n",
      "\n",
      "labels are of shape:(95, 1000)\n",
      "got labels for 95 traces\n",
      "\n"
     ]
    },
    {
     "data": {
      "application/json": {
       "ascii": false,
       "bar_format": null,
       "colour": null,
       "elapsed": 0.004998683929443359,
       "initial": 0,
       "n": 0,
       "ncols": null,
       "nrows": null,
       "postfix": null,
       "prefix": "",
       "rate": null,
       "total": 95,
       "unit": "it",
       "unit_divisor": 1000,
       "unit_scale": false
      },
      "application/vnd.jupyter.widget-view+json": {
       "model_id": "1e76c5cfb6e247b895cdb6cc0c4c219c",
       "version_major": 2,
       "version_minor": 0
      },
      "text/plain": [
       "  0%|          | 0/95 [00:00<?, ?it/s]"
      ]
     },
     "metadata": {},
     "output_type": "display_data"
    },
    {
     "name": "stdout",
     "output_type": "stream",
     "text": [
      "accuracy for individual traces is [1.0, 0.0, 0.971, 0.0, 0.0, 0.998, 0.985, 0.0, 0.535, 0.0, 0.798, 1.0, 0.0, 1.0, 1.0, 1.0, 1.0, 0.953, 0.0, 0.0, 1.0, 0.0, 0.0, 1.0, 1.0, 0.0, 0.922, 0.0, 0.0, 1.0, 1.0, 0.971, 1.0, 1.0, 1.0, 0.0, 0.0, 0.0, 0.996, 1.0, 1.0, 0.962, 0.0, 0.523, 0.0, 0.549, 1.0, 0.0, 1.0, 0.855, 1.0, 0.0, 0.998, 0.0, 0.634, 0.964, 0.0, 0.0, 1.0, 1.0, 0.0, 0.0, 0.0, 0.0, 0.748, 0.636, 1.0, 0.527, 1.0, 1.0, 0.0, 0.0, 0.979, 1.0, 0.526, 1.0, 0.0, 1.0, 1.0, 0.998, 0.995, 0.0, 0.805, 0.987, 0.0, 0.0, 0.0, 1.0, 1.0, 0.0, 0.0, 0.935, 0.872, 0.966, 0.527]\n",
      "overall average accuracy is 0.5696315789473685\n",
      "for this dataset, noise is 0.00, transition_rate is 0.20\n",
      "traces are of shape:(97, 1000, 2)\n",
      "got 97 traces containing 2 features: DD, DA\n",
      "\n",
      "labels are of shape:(97, 1000)\n",
      "got labels for 97 traces\n",
      "\n"
     ]
    },
    {
     "data": {
      "application/json": {
       "ascii": false,
       "bar_format": null,
       "colour": null,
       "elapsed": 0.004001140594482422,
       "initial": 0,
       "n": 0,
       "ncols": null,
       "nrows": null,
       "postfix": null,
       "prefix": "",
       "rate": null,
       "total": 97,
       "unit": "it",
       "unit_divisor": 1000,
       "unit_scale": false
      },
      "application/vnd.jupyter.widget-view+json": {
       "model_id": "843bb30d70714354bec2f76b073dc323",
       "version_major": 2,
       "version_minor": 0
      },
      "text/plain": [
       "  0%|          | 0/97 [00:00<?, ?it/s]"
      ]
     },
     "metadata": {},
     "output_type": "display_data"
    },
    {
     "name": "stdout",
     "output_type": "stream",
     "text": [
      "accuracy for individual traces is [0.994, 1.0, 0.0, 0.0, 1.0, 0.0, 0.0, 0.0, 1.0, 0.0, 1.0, 1.0, 0.564, 1.0, 1.0, 1.0, 1.0, 0.994, 0.797, 0.0, 1.0, 1.0, 1.0, 0.988, 0.0, 0.0, 1.0, 0.0, 0.0, 1.0, 1.0, 0.0, 1.0, 0.93, 0.0, 0.975, 1.0, 1.0, 0.0, 0.527, 0.0, 0.553, 0.0, 0.988, 1.0, 0.608, 0.0, 0.0, 0.0, 1.0, 1.0, 0.952, 0.0, 0.0, 0.0, 1.0, 1.0, 0.998, 0.0, 0.788, 1.0, 1.0, 1.0, 1.0, 0.989, 0.0, 0.0, 1.0, 0.0, 0.0, 1.0, 0.0, 1.0, 0.981, 1.0, 0.851, 0.0, 1.0, 0.0, 0.0, 0.531, 0.0, 1.0, 1.0, 0.892, 0.0, 1.0, 0.0, 0.0, 0.969, 0.0, 0.0, 1.0, 0.991, 0.735, 1.0, 1.0]\n",
      "overall average accuracy is 0.5834536082474227\n",
      "for this dataset, noise is 0.00, transition_rate is 0.25\n",
      "traces are of shape:(99, 1000, 2)\n",
      "got 99 traces containing 2 features: DD, DA\n",
      "\n",
      "labels are of shape:(99, 1000)\n",
      "got labels for 99 traces\n",
      "\n"
     ]
    },
    {
     "data": {
      "application/json": {
       "ascii": false,
       "bar_format": null,
       "colour": null,
       "elapsed": 0.0039997100830078125,
       "initial": 0,
       "n": 0,
       "ncols": null,
       "nrows": null,
       "postfix": null,
       "prefix": "",
       "rate": null,
       "total": 99,
       "unit": "it",
       "unit_divisor": 1000,
       "unit_scale": false
      },
      "application/vnd.jupyter.widget-view+json": {
       "model_id": "b45ff73849e24a8290ea0919a4d921a0",
       "version_major": 2,
       "version_minor": 0
      },
      "text/plain": [
       "  0%|          | 0/99 [00:00<?, ?it/s]"
      ]
     },
     "metadata": {},
     "output_type": "display_data"
    },
    {
     "name": "stdout",
     "output_type": "stream",
     "text": [
      "accuracy for individual traces is [1.0, 0.0, 0.0, 0.0, 1.0, 1.0, 1.0, 0.998, 1.0, 0.0, 0.976, 0.0, 1.0, 0.0, 1.0, 1.0, 0.0, 0.991, 0.0, 0.0, 0.0, 0.0, 1.0, 0.0, 0.899, 0.0, 0.999, 0.0, 0.0, 0.0, 0.0, 1.0, 0.556, 0.96, 1.0, 0.999, 1.0, 0.0, 0.999, 0.0, 1.0, 0.0, 0.0, 0.733, 1.0, 0.0, 0.0, 0.0, 1.0, 1.0, 0.553, 1.0, 0.0, 0.629, 0.999, 0.93, 0.0, 1.0, 1.0, 1.0, 0.929, 1.0, 0.953, 0.795, 0.945, 1.0, 1.0, 1.0, 0.0, 0.0, 0.0, 0.0, 1.0, 1.0, 1.0, 0.0, 0.999, 0.0, 0.832, 0.0, 0.0, 0.0, 1.0, 0.0, 0.0, 1.0, 0.842, 0.0, 0.568, 0.0, 0.0, 0.0, 1.0, 1.0, 0.0, 0.0, 0.0, 0.0, 0.0]\n",
      "overall average accuracy is 0.50589898989899\n",
      "for this dataset, noise is 0.00, transition_rate is 0.30\n",
      "traces are of shape:(95, 1000, 2)\n",
      "got 95 traces containing 2 features: DD, DA\n",
      "\n",
      "labels are of shape:(95, 1000)\n",
      "got labels for 95 traces\n",
      "\n"
     ]
    },
    {
     "data": {
      "application/json": {
       "ascii": false,
       "bar_format": null,
       "colour": null,
       "elapsed": 0.002995729446411133,
       "initial": 0,
       "n": 0,
       "ncols": null,
       "nrows": null,
       "postfix": null,
       "prefix": "",
       "rate": null,
       "total": 95,
       "unit": "it",
       "unit_divisor": 1000,
       "unit_scale": false
      },
      "application/vnd.jupyter.widget-view+json": {
       "model_id": "9cc4e242ead84316bfc92470f3319b14",
       "version_major": 2,
       "version_minor": 0
      },
      "text/plain": [
       "  0%|          | 0/95 [00:00<?, ?it/s]"
      ]
     },
     "metadata": {},
     "output_type": "display_data"
    },
    {
     "name": "stdout",
     "output_type": "stream",
     "text": [
      "accuracy for individual traces is [0.0, 1.0, 0.555, 0.0, 1.0, 0.547, 0.0, 1.0, 1.0, 1.0, 1.0, 0.965, 0.52, 0.0, 0.0, 0.0, 0.0, 1.0, 0.0, 0.0, 1.0, 0.999, 0.99, 0.0, 0.0, 0.0, 0.0, 0.0, 1.0, 0.0, 0.0, 0.966, 0.997, 0.984, 0.0, 0.0, 0.0, 1.0, 0.994, 0.0, 0.993, 1.0, 0.557, 0.795, 1.0, 1.0, 0.0, 1.0, 0.0, 0.0, 0.0, 1.0, 0.0, 0.0, 0.999, 1.0, 0.873, 1.0, 0.879, 0.0, 0.0, 0.993, 0.992, 0.996, 0.543, 0.532, 1.0, 0.0, 0.814, 0.88, 0.612, 0.0, 1.0, 0.995, 1.0, 0.918, 1.0, 1.0, 1.0, 0.0, 0.0, 1.0, 0.542, 0.641, 0.0, 1.0, 0.0, 0.699, 0.647, 1.0, 0.0, 0.0, 0.0, 1.0, 0.0]\n",
      "overall average accuracy is 0.5412315789473684\n",
      "for this dataset, noise is 0.00, transition_rate is 0.35\n",
      "traces are of shape:(96, 1000, 2)\n",
      "got 96 traces containing 2 features: DD, DA\n",
      "\n",
      "labels are of shape:(96, 1000)\n",
      "got labels for 96 traces\n",
      "\n"
     ]
    },
    {
     "data": {
      "application/json": {
       "ascii": false,
       "bar_format": null,
       "colour": null,
       "elapsed": 0.003000974655151367,
       "initial": 0,
       "n": 0,
       "ncols": null,
       "nrows": null,
       "postfix": null,
       "prefix": "",
       "rate": null,
       "total": 96,
       "unit": "it",
       "unit_divisor": 1000,
       "unit_scale": false
      },
      "application/vnd.jupyter.widget-view+json": {
       "model_id": "b13a9341d45d4f3689b434d803294f60",
       "version_major": 2,
       "version_minor": 0
      },
      "text/plain": [
       "  0%|          | 0/96 [00:00<?, ?it/s]"
      ]
     },
     "metadata": {},
     "output_type": "display_data"
    },
    {
     "name": "stdout",
     "output_type": "stream",
     "text": [
      "accuracy for individual traces is [1.0, 0.542, 0.569, 0.0, 1.0, 0.0, 0.0, 1.0, 0.999, 0.832, 0.916, 0.0, 0.995, 1.0, 1.0, 0.507, 0.975, 1.0, 1.0, 1.0, 0.0, 0.0, 0.0, 0.0, 1.0, 1.0, 1.0, 0.0, 1.0, 1.0, 1.0, 0.842, 0.715, 1.0, 1.0, 0.0, 0.515, 0.928, 0.0, 0.915, 1.0, 0.785, 1.0, 0.0, 1.0, 0.0, 0.0, 1.0, 0.0, 0.0, 1.0, 1.0, 1.0, 1.0, 0.0, 1.0, 1.0, 0.0, 0.0, 1.0, 0.0, 1.0, 0.0, 0.0, 1.0, 0.624, 0.984, 1.0, 1.0, 0.969, 0.545, 0.945, 0.72, 0.0, 0.99, 1.0, 0.0, 0.56, 0.0, 0.0, 0.997, 0.0, 0.632, 0.604, 0.0, 1.0, 0.974, 0.0, 0.0, 0.0, 1.0, 0.612, 0.0, 1.0, 0.0, 0.948]\n",
      "overall average accuracy is 0.5951979166666667\n",
      "for this dataset, noise is 0.00, transition_rate is 0.40\n",
      "traces are of shape:(96, 1000, 2)\n",
      "got 96 traces containing 2 features: DD, DA\n",
      "\n",
      "labels are of shape:(96, 1000)\n",
      "got labels for 96 traces\n",
      "\n"
     ]
    },
    {
     "data": {
      "application/json": {
       "ascii": false,
       "bar_format": null,
       "colour": null,
       "elapsed": 0.003996372222900391,
       "initial": 0,
       "n": 0,
       "ncols": null,
       "nrows": null,
       "postfix": null,
       "prefix": "",
       "rate": null,
       "total": 96,
       "unit": "it",
       "unit_divisor": 1000,
       "unit_scale": false
      },
      "application/vnd.jupyter.widget-view+json": {
       "model_id": "75da31297ab040d981b0901ee7ba67da",
       "version_major": 2,
       "version_minor": 0
      },
      "text/plain": [
       "  0%|          | 0/96 [00:00<?, ?it/s]"
      ]
     },
     "metadata": {},
     "output_type": "display_data"
    },
    {
     "name": "stdout",
     "output_type": "stream",
     "text": [
      "accuracy for individual traces is [0.0, 1.0, 0.0, 0.0, 1.0, 1.0, 1.0, 0.0, 0.0, 0.999, 0.0, 1.0, 0.0, 1.0, 0.845, 0.571, 1.0, 0.868, 0.0, 1.0, 1.0, 0.609, 0.996, 1.0, 0.528, 1.0, 1.0, 0.0, 1.0, 0.0, 1.0, 0.0, 0.0, 0.0, 0.0, 0.928, 0.0, 0.978, 0.0, 1.0, 0.0, 0.511, 0.0, 0.0, 0.0, 0.973, 0.526, 0.0, 0.552, 0.0, 1.0, 1.0, 0.0, 0.0, 0.755, 1.0, 0.0, 0.0, 0.0, 1.0, 1.0, 1.0, 0.896, 0.718, 0.584, 0.0, 1.0, 1.0, 0.0, 0.0, 0.0, 0.0, 1.0, 0.0, 1.0, 1.0, 1.0, 0.0, 0.607, 1.0, 0.825, 1.0, 1.0, 0.0, 0.0, 0.0, 0.815, 1.0, 0.0, 1.0, 0.963, 0.0, 0.995, 0.571, 1.0, 1.0]\n",
      "overall average accuracy is 0.5376354166666667\n",
      "for this dataset, noise is 0.00, transition_rate is 0.45\n",
      "traces are of shape:(97, 1000, 2)\n",
      "got 97 traces containing 2 features: DD, DA\n",
      "\n",
      "labels are of shape:(97, 1000)\n",
      "got labels for 97 traces\n",
      "\n"
     ]
    },
    {
     "data": {
      "application/json": {
       "ascii": false,
       "bar_format": null,
       "colour": null,
       "elapsed": 0.002994060516357422,
       "initial": 0,
       "n": 0,
       "ncols": null,
       "nrows": null,
       "postfix": null,
       "prefix": "",
       "rate": null,
       "total": 97,
       "unit": "it",
       "unit_divisor": 1000,
       "unit_scale": false
      },
      "application/vnd.jupyter.widget-view+json": {
       "model_id": "87dedce207234133908e52c3d72bd9d6",
       "version_major": 2,
       "version_minor": 0
      },
      "text/plain": [
       "  0%|          | 0/97 [00:00<?, ?it/s]"
      ]
     },
     "metadata": {},
     "output_type": "display_data"
    },
    {
     "name": "stdout",
     "output_type": "stream",
     "text": [
      "accuracy for individual traces is [0.999, 1.0, 1.0, 1.0, 1.0, 0.993, 0.989, 1.0, 0.977, 0.0, 0.942, 1.0, 0.535, 0.992, 1.0, 0.0, 0.839, 0.0, 0.542, 0.556, 0.583, 1.0, 1.0, 0.0, 0.832, 0.553, 0.999, 0.544, 0.0, 0.0, 1.0, 1.0, 0.0, 0.583, 0.594, 0.0, 0.991, 0.588, 0.0, 0.0, 1.0, 0.973, 0.0, 0.0, 1.0, 0.908, 1.0, 1.0, 1.0, 0.0, 0.638, 0.0, 0.0, 0.0, 1.0, 0.0, 1.0, 0.0, 0.764, 0.0, 1.0, 1.0, 0.0, 1.0, 0.0, 1.0, 0.0, 1.0, 0.0, 1.0, 1.0, 0.0, 0.613, 0.0, 1.0, 1.0, 1.0, 0.0, 1.0, 1.0, 1.0, 1.0, 0.0, 1.0, 0.997, 0.984, 1.0, 0.999, 1.0, 1.0, 1.0, 0.719, 0.0, 0.531, 0.0, 0.661, 0.999]\n",
      "overall average accuracy is 0.6331649484536084\n",
      "for this dataset, noise is 0.00, transition_rate is 0.50\n",
      "traces are of shape:(97, 1000, 2)\n",
      "got 97 traces containing 2 features: DD, DA\n",
      "\n",
      "labels are of shape:(97, 1000)\n",
      "got labels for 97 traces\n",
      "\n"
     ]
    },
    {
     "data": {
      "application/json": {
       "ascii": false,
       "bar_format": null,
       "colour": null,
       "elapsed": 0.003000020980834961,
       "initial": 0,
       "n": 0,
       "ncols": null,
       "nrows": null,
       "postfix": null,
       "prefix": "",
       "rate": null,
       "total": 97,
       "unit": "it",
       "unit_divisor": 1000,
       "unit_scale": false
      },
      "application/vnd.jupyter.widget-view+json": {
       "model_id": "fb36e7fa40f742cf868c1958f33fab67",
       "version_major": 2,
       "version_minor": 0
      },
      "text/plain": [
       "  0%|          | 0/97 [00:00<?, ?it/s]"
      ]
     },
     "metadata": {},
     "output_type": "display_data"
    },
    {
     "name": "stdout",
     "output_type": "stream",
     "text": [
      "accuracy for individual traces is [0.989, 1.0, 0.625, 0.0, 1.0, 0.529, 0.0, 1.0, 0.75, 1.0, 1.0, 0.983, 1.0, 1.0, 0.997, 0.0, 1.0, 1.0, 0.817, 1.0, 0.0, 0.0, 0.0, 0.0, 0.0, 1.0, 0.0, 0.953, 0.0, 1.0, 0.0, 1.0, 0.0, 0.0, 0.0, 1.0, 1.0, 0.0, 0.792, 0.958, 0.808, 1.0, 0.572, 1.0, 1.0, 0.0, 0.0, 0.995, 1.0, 0.939, 1.0, 0.996, 1.0, 1.0, 0.752, 1.0, 1.0, 1.0, 1.0, 0.0, 0.791, 0.987, 0.0, 0.0, 0.969, 0.591, 0.0, 0.975, 0.0, 0.0, 0.0, 1.0, 0.0, 1.0, 0.957, 0.0, 0.0, 1.0, 1.0, 0.0, 0.757, 0.997, 0.0, 0.0, 0.0, 1.0, 0.0, 0.0, 0.0, 0.773, 1.0, 1.0, 1.0, 0.0, 1.0, 0.744, 0.0]\n",
      "overall average accuracy is 0.5875876288659794\n",
      "for this dataset, noise is 0.05, transition_rate is 0.05\n",
      "traces are of shape:(98, 1000, 2)\n",
      "got 98 traces containing 2 features: DD, DA\n",
      "\n",
      "labels are of shape:(98, 1000)\n",
      "got labels for 98 traces\n",
      "\n"
     ]
    },
    {
     "data": {
      "application/json": {
       "ascii": false,
       "bar_format": null,
       "colour": null,
       "elapsed": 0.0029993057250976562,
       "initial": 0,
       "n": 0,
       "ncols": null,
       "nrows": null,
       "postfix": null,
       "prefix": "",
       "rate": null,
       "total": 98,
       "unit": "it",
       "unit_divisor": 1000,
       "unit_scale": false
      },
      "application/vnd.jupyter.widget-view+json": {
       "model_id": "b2091b93483b461ba8a3594820b8428f",
       "version_major": 2,
       "version_minor": 0
      },
      "text/plain": [
       "  0%|          | 0/98 [00:00<?, ?it/s]"
      ]
     },
     "metadata": {},
     "output_type": "display_data"
    },
    {
     "name": "stdout",
     "output_type": "stream",
     "text": [
      "accuracy for individual traces is [1.0, 1.0, 1.0, 1.0, 1.0, 1.0, 1.0, 0.903, 1.0, 1.0, 1.0, 1.0, 0.967, 1.0, 0.939, 1.0, 1.0, 1.0, 1.0, 0.999, 1.0, 1.0, 1.0, 1.0, 0.981, 1.0, 1.0, 0.973, 0.598, 1.0, 1.0, 1.0, 1.0, 1.0, 1.0, 1.0, 0.999, 1.0, 1.0, 1.0, 1.0, 1.0, 0.975, 1.0, 1.0, 1.0, 1.0, 1.0, 1.0, 1.0, 1.0, 1.0, 1.0, 1.0, 1.0, 1.0, 1.0, 1.0, 1.0, 1.0, 1.0, 1.0, 1.0, 1.0, 1.0, 0.993, 1.0, 1.0, 1.0, 0.985, 1.0, 1.0, 1.0, 1.0, 1.0, 0.999, 1.0, 0.977, 1.0, 1.0, 1.0, 1.0, 1.0, 0.999, 1.0, 1.0, 1.0, 1.0, 0.941, 0.98, 0.999, 1.0, 1.0, 1.0, 0.998, 1.0, 1.0, 0.885]\n",
      "overall average accuracy is 0.9907142857142858\n",
      "for this dataset, noise is 0.05, transition_rate is 0.10\n",
      "traces are of shape:(97, 1000, 2)\n",
      "got 97 traces containing 2 features: DD, DA\n",
      "\n",
      "labels are of shape:(97, 1000)\n",
      "got labels for 97 traces\n",
      "\n"
     ]
    },
    {
     "data": {
      "application/json": {
       "ascii": false,
       "bar_format": null,
       "colour": null,
       "elapsed": 0.003000020980834961,
       "initial": 0,
       "n": 0,
       "ncols": null,
       "nrows": null,
       "postfix": null,
       "prefix": "",
       "rate": null,
       "total": 97,
       "unit": "it",
       "unit_divisor": 1000,
       "unit_scale": false
      },
      "application/vnd.jupyter.widget-view+json": {
       "model_id": "9ab0ab6f7470417b9b5d6f0ddd32ec85",
       "version_major": 2,
       "version_minor": 0
      },
      "text/plain": [
       "  0%|          | 0/97 [00:00<?, ?it/s]"
      ]
     },
     "metadata": {},
     "output_type": "display_data"
    },
    {
     "name": "stdout",
     "output_type": "stream",
     "text": [
      "accuracy for individual traces is [1.0, 0.999, 1.0, 1.0, 0.985, 1.0, 1.0, 0.973, 0.996, 1.0, 0.998, 0.566, 0.514, 1.0, 0.593, 1.0, 1.0, 1.0, 1.0, 1.0, 0.906, 1.0, 1.0, 1.0, 1.0, 1.0, 1.0, 0.995, 1.0, 1.0, 1.0, 0.987, 0.554, 1.0, 1.0, 0.946, 0.998, 1.0, 0.993, 1.0, 1.0, 0.996, 0.821, 1.0, 1.0, 1.0, 1.0, 1.0, 0.989, 1.0, 1.0, 0.516, 1.0, 1.0, 1.0, 1.0, 1.0, 1.0, 1.0, 1.0, 0.95, 0.999, 0.581, 1.0, 1.0, 1.0, 0.958, 1.0, 0.549, 1.0, 0.991, 1.0, 1.0, 1.0, 1.0, 1.0, 0.992, 1.0, 1.0, 1.0, 1.0, 1.0, 1.0, 0.98, 1.0, 1.0, 0.991, 1.0, 0.988, 1.0, 0.968, 1.0, 1.0, 0.978, 1.0, 1.0, 1.0]\n",
      "overall average accuracy is 0.961340206185567\n",
      "for this dataset, noise is 0.05, transition_rate is 0.15\n",
      "traces are of shape:(100, 1000, 2)\n",
      "got 100 traces containing 2 features: DD, DA\n",
      "\n",
      "labels are of shape:(100, 1000)\n",
      "got labels for 100 traces\n",
      "\n"
     ]
    },
    {
     "data": {
      "application/json": {
       "ascii": false,
       "bar_format": null,
       "colour": null,
       "elapsed": 0.00399470329284668,
       "initial": 0,
       "n": 0,
       "ncols": null,
       "nrows": null,
       "postfix": null,
       "prefix": "",
       "rate": null,
       "total": 100,
       "unit": "it",
       "unit_divisor": 1000,
       "unit_scale": false
      },
      "application/vnd.jupyter.widget-view+json": {
       "model_id": "b086678e7ed04ee9aaf0497af33a5dd2",
       "version_major": 2,
       "version_minor": 0
      },
      "text/plain": [
       "  0%|          | 0/100 [00:00<?, ?it/s]"
      ]
     },
     "metadata": {},
     "output_type": "display_data"
    },
    {
     "name": "stdout",
     "output_type": "stream",
     "text": [
      "accuracy for individual traces is [0.95, 1.0, 0.541, 1.0, 1.0, 0.6, 1.0, 1.0, 1.0, 1.0, 1.0, 1.0, 0.54, 1.0, 1.0, 0.583, 1.0, 1.0, 1.0, 1.0, 0.999, 1.0, 0.957, 1.0, 0.555, 0.94, 1.0, 1.0, 1.0, 1.0, 1.0, 0.544, 1.0, 1.0, 1.0, 0.983, 0.859, 0.559, 1.0, 1.0, 1.0, 1.0, 1.0, 1.0, 1.0, 1.0, 1.0, 1.0, 1.0, 1.0, 0.595, 1.0, 1.0, 1.0, 1.0, 0.994, 1.0, 1.0, 0.691, 1.0, 1.0, 0.986, 1.0, 0.998, 1.0, 1.0, 0.751, 0.997, 0.999, 0.942, 1.0, 1.0, 0.593, 1.0, 1.0, 1.0, 1.0, 0.818, 1.0, 1.0, 0.999, 0.913, 1.0, 0.77, 1.0, 0.983, 0.602, 1.0, 1.0, 1.0, 1.0, 0.955, 1.0, 1.0, 0.778, 1.0, 0.978, 1.0, 1.0, 0.999]\n",
      "overall average accuracy is 0.9395099999999998\n",
      "for this dataset, noise is 0.05, transition_rate is 0.20\n",
      "traces are of shape:(95, 1000, 2)\n",
      "got 95 traces containing 2 features: DD, DA\n",
      "\n",
      "labels are of shape:(95, 1000)\n",
      "got labels for 95 traces\n",
      "\n"
     ]
    },
    {
     "data": {
      "application/json": {
       "ascii": false,
       "bar_format": null,
       "colour": null,
       "elapsed": 0.0030035972595214844,
       "initial": 0,
       "n": 0,
       "ncols": null,
       "nrows": null,
       "postfix": null,
       "prefix": "",
       "rate": null,
       "total": 95,
       "unit": "it",
       "unit_divisor": 1000,
       "unit_scale": false
      },
      "application/vnd.jupyter.widget-view+json": {
       "model_id": "3463ac48308841979d66afe285c65cae",
       "version_major": 2,
       "version_minor": 0
      },
      "text/plain": [
       "  0%|          | 0/95 [00:00<?, ?it/s]"
      ]
     },
     "metadata": {},
     "output_type": "display_data"
    },
    {
     "name": "stdout",
     "output_type": "stream",
     "text": [
      "accuracy for individual traces is [1.0, 1.0, 1.0, 1.0, 0.99, 1.0, 1.0, 0.993, 0.975, 1.0, 1.0, 1.0, 1.0, 1.0, 1.0, 0.561, 1.0, 0.546, 1.0, 0.577, 1.0, 1.0, 1.0, 0.995, 0.54, 1.0, 1.0, 1.0, 1.0, 0.997, 1.0, 1.0, 1.0, 0.999, 1.0, 1.0, 1.0, 0.987, 1.0, 1.0, 0.824, 1.0, 1.0, 1.0, 1.0, 1.0, 1.0, 1.0, 1.0, 1.0, 1.0, 0.722, 1.0, 0.688, 1.0, 0.993, 0.997, 1.0, 1.0, 1.0, 1.0, 1.0, 0.999, 0.949, 1.0, 0.993, 1.0, 1.0, 0.547, 1.0, 1.0, 1.0, 0.965, 1.0, 1.0, 1.0, 1.0, 0.551, 1.0, 1.0, 0.892, 1.0, 1.0, 1.0, 0.968, 0.572, 1.0, 1.0, 1.0, 1.0, 0.853, 1.0, 1.0, 1.0, 1.0]\n",
      "overall average accuracy is 0.9544526315789474\n",
      "for this dataset, noise is 0.05, transition_rate is 0.25\n",
      "traces are of shape:(96, 1000, 2)\n",
      "got 96 traces containing 2 features: DD, DA\n",
      "\n",
      "labels are of shape:(96, 1000)\n",
      "got labels for 96 traces\n",
      "\n"
     ]
    },
    {
     "data": {
      "application/json": {
       "ascii": false,
       "bar_format": null,
       "colour": null,
       "elapsed": 0.0029997825622558594,
       "initial": 0,
       "n": 0,
       "ncols": null,
       "nrows": null,
       "postfix": null,
       "prefix": "",
       "rate": null,
       "total": 96,
       "unit": "it",
       "unit_divisor": 1000,
       "unit_scale": false
      },
      "application/vnd.jupyter.widget-view+json": {
       "model_id": "bd274de2e73d473ab5806342ee5d1a8c",
       "version_major": 2,
       "version_minor": 0
      },
      "text/plain": [
       "  0%|          | 0/96 [00:00<?, ?it/s]"
      ]
     },
     "metadata": {},
     "output_type": "display_data"
    },
    {
     "name": "stdout",
     "output_type": "stream",
     "text": [
      "accuracy for individual traces is [0.588, 1.0, 1.0, 1.0, 0.573, 1.0, 1.0, 1.0, 1.0, 0.998, 1.0, 1.0, 1.0, 1.0, 1.0, 1.0, 1.0, 0.953, 0.583, 1.0, 1.0, 1.0, 1.0, 1.0, 1.0, 1.0, 1.0, 0.605, 1.0, 1.0, 1.0, 1.0, 0.977, 0.963, 1.0, 1.0, 1.0, 0.917, 1.0, 0.975, 1.0, 1.0, 1.0, 1.0, 1.0, 0.589, 0.993, 1.0, 1.0, 0.843, 1.0, 1.0, 1.0, 0.99, 1.0, 0.933, 0.852, 1.0, 0.997, 1.0, 0.866, 1.0, 1.0, 1.0, 0.568, 1.0, 1.0, 1.0, 1.0, 1.0, 0.563, 1.0, 1.0, 0.995, 1.0, 1.0, 0.539, 1.0, 0.999, 1.0, 1.0, 1.0, 0.997, 1.0, 0.998, 1.0, 1.0, 1.0, 0.918, 1.0, 1.0, 1.0, 0.634, 1.0, 0.559, 1.0]\n",
      "overall average accuracy is 0.9475520833333335\n",
      "for this dataset, noise is 0.05, transition_rate is 0.30\n",
      "traces are of shape:(97, 1000, 2)\n",
      "got 97 traces containing 2 features: DD, DA\n",
      "\n",
      "labels are of shape:(97, 1000)\n",
      "got labels for 97 traces\n",
      "\n"
     ]
    },
    {
     "data": {
      "application/json": {
       "ascii": false,
       "bar_format": null,
       "colour": null,
       "elapsed": 0.003988027572631836,
       "initial": 0,
       "n": 0,
       "ncols": null,
       "nrows": null,
       "postfix": null,
       "prefix": "",
       "rate": null,
       "total": 97,
       "unit": "it",
       "unit_divisor": 1000,
       "unit_scale": false
      },
      "application/vnd.jupyter.widget-view+json": {
       "model_id": "74e7bf71e0bd4725ada79a65ed75af8e",
       "version_major": 2,
       "version_minor": 0
      },
      "text/plain": [
       "  0%|          | 0/97 [00:00<?, ?it/s]"
      ]
     },
     "metadata": {},
     "output_type": "display_data"
    },
    {
     "name": "stdout",
     "output_type": "stream",
     "text": [
      "accuracy for individual traces is [1.0, 1.0, 1.0, 1.0, 1.0, 0.928, 1.0, 1.0, 1.0, 1.0, 0.612, 1.0, 0.885, 1.0, 1.0, 0.956, 0.56, 0.887, 1.0, 1.0, 0.955, 1.0, 1.0, 1.0, 0.998, 0.889, 1.0, 1.0, 1.0, 0.969, 0.938, 1.0, 1.0, 1.0, 1.0, 1.0, 1.0, 0.636, 1.0, 1.0, 0.525, 1.0, 0.993, 1.0, 1.0, 0.622, 1.0, 1.0, 1.0, 0.993, 1.0, 1.0, 1.0, 1.0, 1.0, 0.734, 1.0, 1.0, 1.0, 1.0, 1.0, 1.0, 0.817, 0.869, 1.0, 0.854, 0.607, 0.854, 1.0, 1.0, 1.0, 1.0, 1.0, 0.996, 1.0, 1.0, 0.906, 1.0, 1.0, 1.0, 1.0, 1.0, 0.998, 1.0, 0.559, 1.0, 1.0, 1.0, 1.0, 1.0, 1.0, 1.0, 1.0, 1.0, 0.999, 1.0, 1.0]\n",
      "overall average accuracy is 0.9540103092783505\n",
      "for this dataset, noise is 0.05, transition_rate is 0.35\n",
      "traces are of shape:(93, 1000, 2)\n",
      "got 93 traces containing 2 features: DD, DA\n",
      "\n",
      "labels are of shape:(93, 1000)\n",
      "got labels for 93 traces\n",
      "\n"
     ]
    },
    {
     "data": {
      "application/json": {
       "ascii": false,
       "bar_format": null,
       "colour": null,
       "elapsed": 0.0030002593994140625,
       "initial": 0,
       "n": 0,
       "ncols": null,
       "nrows": null,
       "postfix": null,
       "prefix": "",
       "rate": null,
       "total": 93,
       "unit": "it",
       "unit_divisor": 1000,
       "unit_scale": false
      },
      "application/vnd.jupyter.widget-view+json": {
       "model_id": "bc3e364e52404af1b12f982d511d4e19",
       "version_major": 2,
       "version_minor": 0
      },
      "text/plain": [
       "  0%|          | 0/93 [00:00<?, ?it/s]"
      ]
     },
     "metadata": {},
     "output_type": "display_data"
    },
    {
     "name": "stdout",
     "output_type": "stream",
     "text": [
      "accuracy for individual traces is [0.916, 1.0, 1.0, 0.97, 1.0, 1.0, 0.741, 0.576, 1.0, 1.0, 1.0, 1.0, 1.0, 1.0, 1.0, 1.0, 0.995, 0.807, 0.933, 0.968, 0.761, 1.0, 1.0, 0.998, 0.977, 1.0, 0.595, 0.806, 1.0, 1.0, 1.0, 1.0, 1.0, 0.996, 0.914, 1.0, 1.0, 0.932, 0.662, 1.0, 0.737, 1.0, 1.0, 0.984, 1.0, 1.0, 0.535, 1.0, 1.0, 0.757, 1.0, 1.0, 1.0, 1.0, 0.623, 0.901, 1.0, 1.0, 0.925, 1.0, 1.0, 1.0, 1.0, 1.0, 1.0, 1.0, 0.988, 1.0, 0.997, 1.0, 0.99, 0.932, 1.0, 1.0, 0.999, 1.0, 0.984, 1.0, 1.0, 0.803, 0.843, 0.558, 1.0, 1.0, 1.0, 1.0, 1.0, 1.0, 1.0, 1.0, 0.983, 1.0, 1.0]\n",
      "overall average accuracy is 0.9471612903225807\n",
      "for this dataset, noise is 0.05, transition_rate is 0.40\n",
      "traces are of shape:(95, 1000, 2)\n",
      "got 95 traces containing 2 features: DD, DA\n",
      "\n",
      "labels are of shape:(95, 1000)\n",
      "got labels for 95 traces\n",
      "\n"
     ]
    },
    {
     "data": {
      "application/json": {
       "ascii": false,
       "bar_format": null,
       "colour": null,
       "elapsed": 0.00400090217590332,
       "initial": 0,
       "n": 0,
       "ncols": null,
       "nrows": null,
       "postfix": null,
       "prefix": "",
       "rate": null,
       "total": 95,
       "unit": "it",
       "unit_divisor": 1000,
       "unit_scale": false
      },
      "application/vnd.jupyter.widget-view+json": {
       "model_id": "aeaaea04a8414940bd0e0cc9310133cf",
       "version_major": 2,
       "version_minor": 0
      },
      "text/plain": [
       "  0%|          | 0/95 [00:00<?, ?it/s]"
      ]
     },
     "metadata": {},
     "output_type": "display_data"
    },
    {
     "name": "stdout",
     "output_type": "stream",
     "text": [
      "accuracy for individual traces is [1.0, 1.0, 1.0, 1.0, 0.998, 1.0, 1.0, 0.986, 1.0, 0.599, 1.0, 1.0, 1.0, 1.0, 0.999, 1.0, 1.0, 0.928, 1.0, 1.0, 1.0, 1.0, 0.999, 1.0, 1.0, 1.0, 1.0, 1.0, 1.0, 0.994, 1.0, 0.588, 1.0, 1.0, 0.964, 1.0, 1.0, 1.0, 1.0, 0.822, 0.804, 0.784, 0.714, 0.774, 0.613, 0.923, 1.0, 1.0, 1.0, 1.0, 0.995, 1.0, 0.586, 1.0, 0.999, 1.0, 0.867, 1.0, 0.644, 1.0, 1.0, 1.0, 1.0, 1.0, 0.787, 1.0, 1.0, 1.0, 1.0, 0.572, 0.945, 1.0, 1.0, 1.0, 0.56, 1.0, 1.0, 1.0, 1.0, 1.0, 1.0, 1.0, 1.0, 0.561, 1.0, 1.0, 1.0, 0.999, 0.974, 0.796, 0.996, 1.0, 0.761, 1.0, 1.0]\n",
      "overall average accuracy is 0.9424315789473683\n",
      "for this dataset, noise is 0.05, transition_rate is 0.45\n",
      "traces are of shape:(98, 1000, 2)\n",
      "got 98 traces containing 2 features: DD, DA\n",
      "\n",
      "labels are of shape:(98, 1000)\n",
      "got labels for 98 traces\n",
      "\n"
     ]
    },
    {
     "data": {
      "application/json": {
       "ascii": false,
       "bar_format": null,
       "colour": null,
       "elapsed": 0.003000020980834961,
       "initial": 0,
       "n": 0,
       "ncols": null,
       "nrows": null,
       "postfix": null,
       "prefix": "",
       "rate": null,
       "total": 98,
       "unit": "it",
       "unit_divisor": 1000,
       "unit_scale": false
      },
      "application/vnd.jupyter.widget-view+json": {
       "model_id": "5af0859a7689495eaee9a7b055daf1d0",
       "version_major": 2,
       "version_minor": 0
      },
      "text/plain": [
       "  0%|          | 0/98 [00:00<?, ?it/s]"
      ]
     },
     "metadata": {},
     "output_type": "display_data"
    },
    {
     "name": "stdout",
     "output_type": "stream",
     "text": [
      "accuracy for individual traces is [1.0, 1.0, 0.999, 1.0, 1.0, 1.0, 1.0, 1.0, 0.622, 1.0, 1.0, 1.0, 0.94, 0.543, 1.0, 1.0, 0.861, 1.0, 0.939, 1.0, 1.0, 1.0, 1.0, 1.0, 0.604, 1.0, 1.0, 1.0, 1.0, 1.0, 0.982, 1.0, 1.0, 1.0, 1.0, 1.0, 1.0, 1.0, 1.0, 1.0, 1.0, 1.0, 1.0, 0.936, 0.575, 1.0, 1.0, 1.0, 1.0, 1.0, 1.0, 1.0, 0.533, 1.0, 1.0, 1.0, 1.0, 1.0, 0.637, 1.0, 0.995, 1.0, 1.0, 0.972, 1.0, 1.0, 1.0, 1.0, 1.0, 0.979, 1.0, 1.0, 0.949, 1.0, 1.0, 1.0, 1.0, 0.899, 1.0, 0.983, 0.969, 1.0, 0.949, 1.0, 1.0, 0.885, 1.0, 0.991, 1.0, 1.0, 1.0, 0.9, 1.0, 1.0, 1.0, 0.763, 1.0, 0.571]\n",
      "overall average accuracy is 0.9589387755102042\n",
      "for this dataset, noise is 0.05, transition_rate is 0.50\n",
      "traces are of shape:(99, 1000, 2)\n",
      "got 99 traces containing 2 features: DD, DA\n",
      "\n",
      "labels are of shape:(99, 1000)\n",
      "got labels for 99 traces\n",
      "\n"
     ]
    },
    {
     "data": {
      "application/json": {
       "ascii": false,
       "bar_format": null,
       "colour": null,
       "elapsed": 0.002997875213623047,
       "initial": 0,
       "n": 0,
       "ncols": null,
       "nrows": null,
       "postfix": null,
       "prefix": "",
       "rate": null,
       "total": 99,
       "unit": "it",
       "unit_divisor": 1000,
       "unit_scale": false
      },
      "application/vnd.jupyter.widget-view+json": {
       "model_id": "8460ff99c3c74cee934e55ce2d78719a",
       "version_major": 2,
       "version_minor": 0
      },
      "text/plain": [
       "  0%|          | 0/99 [00:00<?, ?it/s]"
      ]
     },
     "metadata": {},
     "output_type": "display_data"
    },
    {
     "name": "stdout",
     "output_type": "stream",
     "text": [
      "accuracy for individual traces is [1.0, 0.902, 1.0, 1.0, 1.0, 1.0, 1.0, 1.0, 1.0, 1.0, 0.635, 1.0, 0.808, 1.0, 1.0, 1.0, 1.0, 1.0, 1.0, 1.0, 1.0, 1.0, 1.0, 1.0, 1.0, 0.641, 1.0, 0.508, 1.0, 1.0, 1.0, 0.561, 1.0, 0.952, 1.0, 0.802, 1.0, 1.0, 0.895, 0.537, 0.985, 1.0, 0.996, 1.0, 1.0, 1.0, 1.0, 1.0, 1.0, 0.626, 0.605, 1.0, 0.572, 1.0, 0.792, 1.0, 0.562, 1.0, 0.534, 1.0, 0.999, 0.548, 1.0, 1.0, 1.0, 0.962, 1.0, 0.508, 1.0, 0.998, 1.0, 0.557, 1.0, 1.0, 1.0, 0.998, 0.62, 1.0, 0.95, 0.519, 1.0, 1.0, 1.0, 1.0, 1.0, 1.0, 0.699, 1.0, 0.548, 1.0, 1.0, 0.633, 0.808, 0.504, 0.924, 1.0, 0.554, 1.0, 1.0]\n",
      "overall average accuracy is 0.9014343434343438\n",
      "for this dataset, noise is 0.10, transition_rate is 0.05\n",
      "traces are of shape:(97, 1000, 2)\n",
      "got 97 traces containing 2 features: DD, DA\n",
      "\n",
      "labels are of shape:(97, 1000)\n",
      "got labels for 97 traces\n",
      "\n"
     ]
    },
    {
     "data": {
      "application/json": {
       "ascii": false,
       "bar_format": null,
       "colour": null,
       "elapsed": 0.004996061325073242,
       "initial": 0,
       "n": 0,
       "ncols": null,
       "nrows": null,
       "postfix": null,
       "prefix": "",
       "rate": null,
       "total": 97,
       "unit": "it",
       "unit_divisor": 1000,
       "unit_scale": false
      },
      "application/vnd.jupyter.widget-view+json": {
       "model_id": "731980cf95124e6f9cd00ca5b2cb5c70",
       "version_major": 2,
       "version_minor": 0
      },
      "text/plain": [
       "  0%|          | 0/97 [00:00<?, ?it/s]"
      ]
     },
     "metadata": {},
     "output_type": "display_data"
    },
    {
     "name": "stdout",
     "output_type": "stream",
     "text": [
      "accuracy for individual traces is [1.0, 0.994, 1.0, 0.99, 0.525, 1.0, 1.0, 0.54, 1.0, 1.0, 0.923, 1.0, 0.995, 1.0, 1.0, 1.0, 0.997, 1.0, 1.0, 0.99, 1.0, 1.0, 1.0, 0.972, 1.0, 1.0, 1.0, 1.0, 0.996, 1.0, 1.0, 0.999, 1.0, 0.996, 0.987, 1.0, 0.896, 0.959, 1.0, 0.996, 1.0, 0.999, 1.0, 1.0, 0.985, 1.0, 1.0, 1.0, 0.999, 0.997, 0.986, 1.0, 1.0, 0.924, 1.0, 0.993, 0.996, 1.0, 0.644, 1.0, 0.867, 1.0, 0.922, 1.0, 1.0, 1.0, 1.0, 1.0, 0.999, 1.0, 1.0, 1.0, 0.559, 1.0, 1.0, 1.0, 1.0, 0.536, 1.0, 1.0, 1.0, 1.0, 0.968, 0.949, 1.0, 0.985, 1.0, 1.0, 0.998, 1.0, 1.0, 1.0, 1.0, 1.0, 0.999, 1.0, 0.999]\n",
      "overall average accuracy is 0.969680412371134\n",
      "for this dataset, noise is 0.10, transition_rate is 0.10\n",
      "traces are of shape:(98, 1000, 2)\n",
      "got 98 traces containing 2 features: DD, DA\n",
      "\n",
      "labels are of shape:(98, 1000)\n",
      "got labels for 98 traces\n",
      "\n"
     ]
    },
    {
     "data": {
      "application/json": {
       "ascii": false,
       "bar_format": null,
       "colour": null,
       "elapsed": 0.0029969215393066406,
       "initial": 0,
       "n": 0,
       "ncols": null,
       "nrows": null,
       "postfix": null,
       "prefix": "",
       "rate": null,
       "total": 98,
       "unit": "it",
       "unit_divisor": 1000,
       "unit_scale": false
      },
      "application/vnd.jupyter.widget-view+json": {
       "model_id": "571027789621486eb05915b7dd639378",
       "version_major": 2,
       "version_minor": 0
      },
      "text/plain": [
       "  0%|          | 0/98 [00:00<?, ?it/s]"
      ]
     },
     "metadata": {},
     "output_type": "display_data"
    },
    {
     "name": "stdout",
     "output_type": "stream",
     "text": [
      "accuracy for individual traces is [0.547, 1.0, 0.994, 0.996, 0.997, 1.0, 0.503, 1.0, 0.997, 1.0, 1.0, 1.0, 0.939, 1.0, 0.973, 0.595, 0.993, 0.968, 0.986, 1.0, 0.999, 1.0, 0.981, 1.0, 1.0, 1.0, 1.0, 1.0, 0.525, 0.922, 1.0, 1.0, 0.969, 0.998, 1.0, 0.966, 0.999, 0.584, 1.0, 1.0, 1.0, 0.926, 1.0, 1.0, 0.542, 1.0, 1.0, 0.962, 0.98, 1.0, 0.987, 1.0, 0.891, 1.0, 1.0, 1.0, 1.0, 1.0, 1.0, 1.0, 0.985, 0.991, 0.91, 1.0, 0.996, 1.0, 0.997, 1.0, 1.0, 0.998, 1.0, 1.0, 0.992, 1.0, 0.544, 1.0, 0.997, 1.0, 0.982, 1.0, 1.0, 1.0, 1.0, 0.535, 0.975, 1.0, 1.0, 0.99, 1.0, 1.0, 0.996, 1.0, 1.0, 1.0, 0.892, 0.911, 0.917, 1.0]\n",
      "overall average accuracy is 0.9523163265306123\n",
      "for this dataset, noise is 0.10, transition_rate is 0.15\n",
      "traces are of shape:(99, 1000, 2)\n",
      "got 99 traces containing 2 features: DD, DA\n",
      "\n",
      "labels are of shape:(99, 1000)\n",
      "got labels for 99 traces\n",
      "\n"
     ]
    },
    {
     "data": {
      "application/json": {
       "ascii": false,
       "bar_format": null,
       "colour": null,
       "elapsed": 0.0029997825622558594,
       "initial": 0,
       "n": 0,
       "ncols": null,
       "nrows": null,
       "postfix": null,
       "prefix": "",
       "rate": null,
       "total": 99,
       "unit": "it",
       "unit_divisor": 1000,
       "unit_scale": false
      },
      "application/vnd.jupyter.widget-view+json": {
       "model_id": "e6a677173dc04863a34898906d065964",
       "version_major": 2,
       "version_minor": 0
      },
      "text/plain": [
       "  0%|          | 0/99 [00:00<?, ?it/s]"
      ]
     },
     "metadata": {},
     "output_type": "display_data"
    },
    {
     "name": "stdout",
     "output_type": "stream",
     "text": [
      "accuracy for individual traces is [0.992, 0.571, 1.0, 0.945, 0.982, 0.561, 1.0, 0.986, 0.903, 0.991, 0.998, 1.0, 1.0, 0.93, 0.606, 0.984, 0.995, 1.0, 0.976, 1.0, 1.0, 1.0, 1.0, 1.0, 1.0, 1.0, 0.567, 1.0, 1.0, 0.991, 0.871, 1.0, 1.0, 0.566, 1.0, 0.999, 1.0, 0.626, 0.989, 1.0, 1.0, 0.922, 0.969, 1.0, 0.999, 1.0, 1.0, 0.999, 1.0, 1.0, 0.997, 1.0, 1.0, 1.0, 1.0, 1.0, 1.0, 1.0, 1.0, 1.0, 1.0, 0.997, 1.0, 1.0, 1.0, 0.822, 1.0, 1.0, 0.83, 1.0, 1.0, 1.0, 0.593, 0.924, 0.973, 1.0, 0.974, 1.0, 0.942, 0.849, 1.0, 0.996, 1.0, 0.998, 1.0, 1.0, 1.0, 1.0, 0.909, 0.993, 1.0, 0.784, 1.0, 1.0, 0.995, 0.985, 0.869, 0.968, 0.989]\n",
      "overall average accuracy is 0.9525757575757577\n",
      "for this dataset, noise is 0.10, transition_rate is 0.20\n",
      "traces are of shape:(99, 1000, 2)\n",
      "got 99 traces containing 2 features: DD, DA\n",
      "\n",
      "labels are of shape:(99, 1000)\n",
      "got labels for 99 traces\n",
      "\n"
     ]
    },
    {
     "data": {
      "application/json": {
       "ascii": false,
       "bar_format": null,
       "colour": null,
       "elapsed": 0.009000539779663086,
       "initial": 0,
       "n": 0,
       "ncols": null,
       "nrows": null,
       "postfix": null,
       "prefix": "",
       "rate": null,
       "total": 99,
       "unit": "it",
       "unit_divisor": 1000,
       "unit_scale": false
      },
      "application/vnd.jupyter.widget-view+json": {
       "model_id": "1708d6dc8fc640e5bdef42e2592e96cf",
       "version_major": 2,
       "version_minor": 0
      },
      "text/plain": [
       "  0%|          | 0/99 [00:00<?, ?it/s]"
      ]
     },
     "metadata": {},
     "output_type": "display_data"
    },
    {
     "name": "stdout",
     "output_type": "stream",
     "text": [
      "accuracy for individual traces is [0.996, 1.0, 0.993, 1.0, 1.0, 1.0, 1.0, 0.508, 0.999, 0.977, 1.0, 1.0, 0.515, 1.0, 0.991, 1.0, 0.901, 0.982, 1.0, 0.544, 1.0, 1.0, 1.0, 1.0, 0.993, 1.0, 1.0, 1.0, 1.0, 1.0, 0.574, 1.0, 1.0, 0.999, 1.0, 1.0, 1.0, 1.0, 1.0, 1.0, 0.99, 0.566, 0.644, 1.0, 0.995, 1.0, 1.0, 0.977, 1.0, 0.973, 1.0, 0.989, 1.0, 0.95, 0.998, 0.941, 1.0, 1.0, 0.999, 0.99, 1.0, 0.956, 0.568, 0.77, 0.982, 0.995, 1.0, 1.0, 1.0, 0.999, 1.0, 0.988, 0.927, 1.0, 1.0, 1.0, 1.0, 1.0, 0.985, 0.997, 1.0, 1.0, 1.0, 1.0, 1.0, 1.0, 1.0, 1.0, 0.996, 1.0, 1.0, 0.541, 0.954, 0.993, 1.0, 0.999, 1.0, 1.0, 1.0]\n",
      "overall average accuracy is 0.9558989898989896\n",
      "for this dataset, noise is 0.10, transition_rate is 0.25\n",
      "traces are of shape:(97, 1000, 2)\n",
      "got 97 traces containing 2 features: DD, DA\n",
      "\n",
      "labels are of shape:(97, 1000)\n",
      "got labels for 97 traces\n",
      "\n"
     ]
    },
    {
     "data": {
      "application/json": {
       "ascii": false,
       "bar_format": null,
       "colour": null,
       "elapsed": 0.0030040740966796875,
       "initial": 0,
       "n": 0,
       "ncols": null,
       "nrows": null,
       "postfix": null,
       "prefix": "",
       "rate": null,
       "total": 97,
       "unit": "it",
       "unit_divisor": 1000,
       "unit_scale": false
      },
      "application/vnd.jupyter.widget-view+json": {
       "model_id": "2a4832962a3f49f2a02c22fb8563ea23",
       "version_major": 2,
       "version_minor": 0
      },
      "text/plain": [
       "  0%|          | 0/97 [00:00<?, ?it/s]"
      ]
     },
     "metadata": {},
     "output_type": "display_data"
    },
    {
     "name": "stdout",
     "output_type": "stream",
     "text": [
      "accuracy for individual traces is [1.0, 1.0, 1.0, 0.983, 0.998, 1.0, 0.576, 0.882, 0.986, 1.0, 1.0, 1.0, 0.79, 1.0, 1.0, 1.0, 1.0, 0.503, 0.999, 1.0, 0.999, 1.0, 1.0, 0.995, 0.625, 1.0, 0.985, 1.0, 1.0, 1.0, 0.943, 0.992, 1.0, 1.0, 1.0, 1.0, 0.912, 1.0, 0.991, 1.0, 0.754, 1.0, 1.0, 0.889, 0.814, 1.0, 1.0, 1.0, 1.0, 0.99, 0.587, 1.0, 0.62, 0.956, 1.0, 1.0, 1.0, 1.0, 0.543, 1.0, 0.996, 0.807, 0.994, 1.0, 0.998, 1.0, 1.0, 0.994, 0.996, 0.922, 1.0, 0.544, 1.0, 0.977, 0.994, 1.0, 1.0, 0.996, 0.973, 0.964, 0.932, 0.941, 1.0, 1.0, 1.0, 1.0, 1.0, 0.946, 1.0, 1.0, 1.0, 1.0, 1.0, 0.988, 1.0, 1.0, 0.898]\n",
      "overall average accuracy is 0.9502268041237113\n",
      "for this dataset, noise is 0.10, transition_rate is 0.30\n",
      "traces are of shape:(95, 1000, 2)\n",
      "got 95 traces containing 2 features: DD, DA\n",
      "\n",
      "labels are of shape:(95, 1000)\n",
      "got labels for 95 traces\n",
      "\n"
     ]
    },
    {
     "data": {
      "application/json": {
       "ascii": false,
       "bar_format": null,
       "colour": null,
       "elapsed": 0.0030002593994140625,
       "initial": 0,
       "n": 0,
       "ncols": null,
       "nrows": null,
       "postfix": null,
       "prefix": "",
       "rate": null,
       "total": 95,
       "unit": "it",
       "unit_divisor": 1000,
       "unit_scale": false
      },
      "application/vnd.jupyter.widget-view+json": {
       "model_id": "7053bbf3b20e449ab1641c4dee53f666",
       "version_major": 2,
       "version_minor": 0
      },
      "text/plain": [
       "  0%|          | 0/95 [00:00<?, ?it/s]"
      ]
     },
     "metadata": {},
     "output_type": "display_data"
    },
    {
     "name": "stdout",
     "output_type": "stream",
     "text": [
      "accuracy for individual traces is [0.536, 1.0, 1.0, 0.964, 1.0, 1.0, 1.0, 0.97, 0.948, 1.0, 1.0, 0.983, 1.0, 0.994, 1.0, 1.0, 0.969, 0.927, 0.554, 1.0, 0.989, 0.548, 0.584, 0.937, 0.964, 1.0, 1.0, 1.0, 1.0, 0.991, 0.875, 1.0, 0.51, 0.93, 0.984, 1.0, 1.0, 0.95, 1.0, 1.0, 0.546, 1.0, 1.0, 0.996, 0.964, 1.0, 0.753, 0.6, 1.0, 0.846, 1.0, 0.947, 0.643, 0.603, 0.588, 1.0, 1.0, 1.0, 1.0, 1.0, 0.929, 0.755, 0.993, 1.0, 0.999, 1.0, 1.0, 0.692, 0.794, 0.577, 1.0, 0.995, 1.0, 0.777, 1.0, 1.0, 1.0, 1.0, 0.572, 0.997, 0.998, 0.961, 1.0, 1.0, 0.993, 1.0, 0.893, 1.0, 1.0, 1.0, 1.0, 0.999, 0.853, 1.0, 1.0]\n",
      "overall average accuracy is 0.9196842105263159\n",
      "for this dataset, noise is 0.10, transition_rate is 0.35\n",
      "traces are of shape:(96, 1000, 2)\n",
      "got 96 traces containing 2 features: DD, DA\n",
      "\n",
      "labels are of shape:(96, 1000)\n",
      "got labels for 96 traces\n",
      "\n"
     ]
    },
    {
     "data": {
      "application/json": {
       "ascii": false,
       "bar_format": null,
       "colour": null,
       "elapsed": 0.004000425338745117,
       "initial": 0,
       "n": 0,
       "ncols": null,
       "nrows": null,
       "postfix": null,
       "prefix": "",
       "rate": null,
       "total": 96,
       "unit": "it",
       "unit_divisor": 1000,
       "unit_scale": false
      },
      "application/vnd.jupyter.widget-view+json": {
       "model_id": "8a432aab2763451e85e58b62e28764d8",
       "version_major": 2,
       "version_minor": 0
      },
      "text/plain": [
       "  0%|          | 0/96 [00:00<?, ?it/s]"
      ]
     },
     "metadata": {},
     "output_type": "display_data"
    },
    {
     "name": "stdout",
     "output_type": "stream",
     "text": [
      "accuracy for individual traces is [0.97, 1.0, 1.0, 1.0, 1.0, 0.625, 0.997, 0.785, 0.997, 1.0, 0.703, 0.999, 0.978, 0.972, 0.598, 0.999, 0.514, 0.998, 1.0, 0.998, 1.0, 0.758, 0.605, 1.0, 1.0, 0.938, 1.0, 1.0, 0.964, 0.857, 0.982, 1.0, 1.0, 1.0, 1.0, 0.998, 1.0, 1.0, 0.886, 0.546, 1.0, 0.988, 0.558, 0.987, 1.0, 1.0, 0.999, 1.0, 0.967, 1.0, 1.0, 0.999, 0.992, 1.0, 0.994, 1.0, 1.0, 1.0, 1.0, 1.0, 1.0, 1.0, 1.0, 0.913, 1.0, 1.0, 1.0, 1.0, 1.0, 0.916, 0.996, 1.0, 1.0, 1.0, 0.872, 0.992, 0.998, 0.57, 1.0, 1.0, 0.933, 1.0, 0.995, 1.0, 0.998, 1.0, 0.956, 1.0, 0.893, 1.0, 0.998, 1.0, 1.0, 1.0, 0.995, 0.974]\n",
      "overall average accuracy is 0.9494791666666669\n",
      "for this dataset, noise is 0.10, transition_rate is 0.40\n",
      "traces are of shape:(95, 1000, 2)\n",
      "got 95 traces containing 2 features: DD, DA\n",
      "\n",
      "labels are of shape:(95, 1000)\n",
      "got labels for 95 traces\n",
      "\n"
     ]
    },
    {
     "data": {
      "application/json": {
       "ascii": false,
       "bar_format": null,
       "colour": null,
       "elapsed": 0.0029997825622558594,
       "initial": 0,
       "n": 0,
       "ncols": null,
       "nrows": null,
       "postfix": null,
       "prefix": "",
       "rate": null,
       "total": 95,
       "unit": "it",
       "unit_divisor": 1000,
       "unit_scale": false
      },
      "application/vnd.jupyter.widget-view+json": {
       "model_id": "d4d78308f7a143bcba0264f574446a11",
       "version_major": 2,
       "version_minor": 0
      },
      "text/plain": [
       "  0%|          | 0/95 [00:00<?, ?it/s]"
      ]
     },
     "metadata": {},
     "output_type": "display_data"
    },
    {
     "name": "stdout",
     "output_type": "stream",
     "text": [
      "accuracy for individual traces is [0.975, 0.84, 0.959, 0.986, 1.0, 0.988, 0.976, 1.0, 1.0, 1.0, 0.905, 0.948, 0.55, 1.0, 1.0, 0.997, 0.992, 1.0, 0.548, 1.0, 0.568, 0.506, 0.857, 1.0, 0.535, 1.0, 1.0, 1.0, 1.0, 0.882, 0.984, 1.0, 1.0, 1.0, 1.0, 0.998, 0.673, 1.0, 0.995, 1.0, 1.0, 0.999, 0.794, 1.0, 1.0, 0.993, 1.0, 1.0, 1.0, 1.0, 0.937, 1.0, 0.588, 1.0, 0.55, 1.0, 0.999, 0.951, 0.999, 0.999, 1.0, 1.0, 0.941, 0.986, 0.55, 1.0, 1.0, 1.0, 0.998, 1.0, 0.922, 0.604, 1.0, 0.895, 0.999, 1.0, 0.998, 1.0, 0.947, 1.0, 1.0, 1.0, 1.0, 1.0, 0.502, 0.945, 1.0, 0.542, 0.999, 1.0, 0.504, 0.597, 1.0, 0.998, 1.0]\n",
      "overall average accuracy is 0.9199789473684209\n",
      "for this dataset, noise is 0.10, transition_rate is 0.45\n",
      "traces are of shape:(93, 1000, 2)\n",
      "got 93 traces containing 2 features: DD, DA\n",
      "\n",
      "labels are of shape:(93, 1000)\n",
      "got labels for 93 traces\n",
      "\n"
     ]
    },
    {
     "data": {
      "application/json": {
       "ascii": false,
       "bar_format": null,
       "colour": null,
       "elapsed": 0.004000186920166016,
       "initial": 0,
       "n": 0,
       "ncols": null,
       "nrows": null,
       "postfix": null,
       "prefix": "",
       "rate": null,
       "total": 93,
       "unit": "it",
       "unit_divisor": 1000,
       "unit_scale": false
      },
      "application/vnd.jupyter.widget-view+json": {
       "model_id": "d0cb14e0feb64aa7b09c28d48adaa3f8",
       "version_major": 2,
       "version_minor": 0
      },
      "text/plain": [
       "  0%|          | 0/93 [00:00<?, ?it/s]"
      ]
     },
     "metadata": {},
     "output_type": "display_data"
    },
    {
     "name": "stdout",
     "output_type": "stream",
     "text": [
      "accuracy for individual traces is [0.981, 1.0, 0.662, 1.0, 1.0, 1.0, 0.907, 0.838, 0.997, 0.926, 1.0, 1.0, 1.0, 0.934, 0.562, 1.0, 1.0, 0.994, 0.981, 1.0, 0.982, 1.0, 1.0, 0.741, 1.0, 0.998, 1.0, 1.0, 1.0, 1.0, 0.968, 0.895, 1.0, 1.0, 1.0, 1.0, 0.967, 1.0, 0.976, 1.0, 0.948, 1.0, 1.0, 0.604, 0.974, 1.0, 1.0, 1.0, 0.957, 0.986, 0.991, 1.0, 1.0, 0.74, 1.0, 1.0, 1.0, 1.0, 1.0, 0.814, 1.0, 1.0, 1.0, 0.887, 0.999, 0.929, 0.998, 1.0, 0.866, 0.983, 0.783, 0.894, 1.0, 1.0, 0.94, 0.856, 1.0, 1.0, 1.0, 1.0, 0.776, 0.897, 1.0, 1.0, 1.0, 1.0, 0.961, 1.0, 0.615, 0.955, 0.937, 1.0, 1.0]\n",
      "overall average accuracy is 0.9526774193548386\n",
      "for this dataset, noise is 0.10, transition_rate is 0.50\n",
      "traces are of shape:(95, 1000, 2)\n",
      "got 95 traces containing 2 features: DD, DA\n",
      "\n",
      "labels are of shape:(95, 1000)\n",
      "got labels for 95 traces\n",
      "\n"
     ]
    },
    {
     "data": {
      "application/json": {
       "ascii": false,
       "bar_format": null,
       "colour": null,
       "elapsed": 0.004000663757324219,
       "initial": 0,
       "n": 0,
       "ncols": null,
       "nrows": null,
       "postfix": null,
       "prefix": "",
       "rate": null,
       "total": 95,
       "unit": "it",
       "unit_divisor": 1000,
       "unit_scale": false
      },
      "application/vnd.jupyter.widget-view+json": {
       "model_id": "a5c7e5978fc44e538aecd7f3eea9da65",
       "version_major": 2,
       "version_minor": 0
      },
      "text/plain": [
       "  0%|          | 0/95 [00:00<?, ?it/s]"
      ]
     },
     "metadata": {},
     "output_type": "display_data"
    },
    {
     "name": "stdout",
     "output_type": "stream",
     "text": [
      "accuracy for individual traces is [0.996, 0.998, 0.843, 0.99, 1.0, 1.0, 1.0, 0.98, 0.923, 0.951, 0.978, 0.997, 1.0, 1.0, 1.0, 1.0, 1.0, 0.993, 1.0, 1.0, 0.822, 1.0, 0.964, 1.0, 1.0, 0.83, 1.0, 0.669, 1.0, 1.0, 1.0, 1.0, 1.0, 0.744, 1.0, 1.0, 1.0, 0.707, 0.986, 1.0, 0.886, 0.952, 1.0, 0.868, 0.979, 1.0, 1.0, 1.0, 1.0, 1.0, 1.0, 0.998, 0.988, 0.996, 0.991, 1.0, 1.0, 0.998, 0.766, 0.777, 1.0, 1.0, 0.975, 1.0, 1.0, 0.639, 0.998, 0.703, 0.557, 1.0, 0.675, 1.0, 0.885, 1.0, 0.771, 1.0, 0.997, 1.0, 0.91, 0.992, 1.0, 0.962, 1.0, 0.991, 0.982, 1.0, 1.0, 0.965, 0.997, 0.885, 0.731, 0.696, 1.0, 1.0, 1.0]\n",
      "overall average accuracy is 0.9461157894736844\n",
      "for this dataset, noise is 0.15, transition_rate is 0.05\n",
      "traces are of shape:(97, 1000, 2)\n",
      "got 97 traces containing 2 features: DD, DA\n",
      "\n",
      "labels are of shape:(97, 1000)\n",
      "got labels for 97 traces\n",
      "\n"
     ]
    },
    {
     "data": {
      "application/json": {
       "ascii": false,
       "bar_format": null,
       "colour": null,
       "elapsed": 0.003999233245849609,
       "initial": 0,
       "n": 0,
       "ncols": null,
       "nrows": null,
       "postfix": null,
       "prefix": "",
       "rate": null,
       "total": 97,
       "unit": "it",
       "unit_divisor": 1000,
       "unit_scale": false
      },
      "application/vnd.jupyter.widget-view+json": {
       "model_id": "0daa4d7789434bdd8eea653a530cb758",
       "version_major": 2,
       "version_minor": 0
      },
      "text/plain": [
       "  0%|          | 0/97 [00:00<?, ?it/s]"
      ]
     },
     "metadata": {},
     "output_type": "display_data"
    },
    {
     "name": "stdout",
     "output_type": "stream",
     "text": [
      "accuracy for individual traces is [0.987, 1.0, 0.995, 1.0, 1.0, 0.91, 1.0, 1.0, 0.997, 1.0, 1.0, 0.897, 0.87, 1.0, 0.996, 0.564, 1.0, 0.997, 1.0, 1.0, 0.987, 1.0, 1.0, 0.576, 0.995, 0.992, 0.978, 1.0, 0.996, 0.515, 0.513, 0.999, 0.944, 1.0, 1.0, 1.0, 1.0, 0.906, 0.995, 1.0, 1.0, 0.999, 1.0, 1.0, 1.0, 1.0, 0.998, 0.999, 0.994, 0.997, 1.0, 1.0, 0.577, 0.999, 1.0, 0.984, 0.971, 0.996, 1.0, 0.941, 1.0, 0.999, 0.983, 1.0, 1.0, 1.0, 0.616, 0.985, 0.995, 1.0, 1.0, 0.995, 1.0, 0.993, 0.989, 1.0, 0.998, 0.999, 1.0, 1.0, 1.0, 1.0, 1.0, 1.0, 1.0, 0.988, 1.0, 1.0, 0.998, 0.999, 0.962, 0.899, 0.991, 0.988, 0.503, 0.894, 1.0]\n",
      "overall average accuracy is 0.9570927835051549\n",
      "for this dataset, noise is 0.15, transition_rate is 0.10\n",
      "traces are of shape:(94, 1000, 2)\n",
      "got 94 traces containing 2 features: DD, DA\n",
      "\n",
      "labels are of shape:(94, 1000)\n",
      "got labels for 94 traces\n",
      "\n"
     ]
    },
    {
     "data": {
      "application/json": {
       "ascii": false,
       "bar_format": null,
       "colour": null,
       "elapsed": 0.0030002593994140625,
       "initial": 0,
       "n": 0,
       "ncols": null,
       "nrows": null,
       "postfix": null,
       "prefix": "",
       "rate": null,
       "total": 94,
       "unit": "it",
       "unit_divisor": 1000,
       "unit_scale": false
      },
      "application/vnd.jupyter.widget-view+json": {
       "model_id": "7206b2aa052845b38584cf68d3f6ebf7",
       "version_major": 2,
       "version_minor": 0
      },
      "text/plain": [
       "  0%|          | 0/94 [00:00<?, ?it/s]"
      ]
     },
     "metadata": {},
     "output_type": "display_data"
    },
    {
     "name": "stdout",
     "output_type": "stream",
     "text": [
      "accuracy for individual traces is [0.843, 0.953, 1.0, 1.0, 0.999, 1.0, 0.818, 1.0, 1.0, 0.52, 0.924, 0.999, 0.924, 0.833, 1.0, 1.0, 1.0, 1.0, 1.0, 1.0, 0.995, 0.992, 1.0, 0.998, 1.0, 1.0, 1.0, 0.55, 0.971, 0.501, 0.873, 1.0, 1.0, 1.0, 1.0, 1.0, 0.987, 0.95, 0.999, 1.0, 0.999, 1.0, 1.0, 1.0, 1.0, 0.501, 0.994, 1.0, 1.0, 0.989, 0.995, 1.0, 1.0, 1.0, 1.0, 0.998, 1.0, 1.0, 0.997, 0.993, 0.952, 0.999, 0.946, 1.0, 0.512, 1.0, 1.0, 0.646, 1.0, 0.962, 0.953, 1.0, 0.86, 0.982, 1.0, 0.985, 1.0, 0.998, 1.0, 1.0, 1.0, 0.998, 0.93, 1.0, 0.996, 0.988, 0.995, 0.895, 0.996, 1.0, 0.744, 1.0, 0.982, 1.0]\n",
      "overall average accuracy is 0.951212765957447\n",
      "for this dataset, noise is 0.15, transition_rate is 0.15\n",
      "traces are of shape:(97, 1000, 2)\n",
      "got 97 traces containing 2 features: DD, DA\n",
      "\n",
      "labels are of shape:(97, 1000)\n",
      "got labels for 97 traces\n",
      "\n"
     ]
    },
    {
     "data": {
      "application/json": {
       "ascii": false,
       "bar_format": null,
       "colour": null,
       "elapsed": 0.0029976367950439453,
       "initial": 0,
       "n": 0,
       "ncols": null,
       "nrows": null,
       "postfix": null,
       "prefix": "",
       "rate": null,
       "total": 97,
       "unit": "it",
       "unit_divisor": 1000,
       "unit_scale": false
      },
      "application/vnd.jupyter.widget-view+json": {
       "model_id": "56ac7cd4143e4ab29065aa523a813382",
       "version_major": 2,
       "version_minor": 0
      },
      "text/plain": [
       "  0%|          | 0/97 [00:00<?, ?it/s]"
      ]
     },
     "metadata": {},
     "output_type": "display_data"
    },
    {
     "name": "stdout",
     "output_type": "stream",
     "text": [
      "accuracy for individual traces is [0.938, 1.0, 0.931, 0.996, 1.0, 1.0, 0.993, 1.0, 0.985, 0.504, 0.957, 0.993, 0.997, 0.999, 1.0, 0.98, 1.0, 1.0, 0.503, 0.995, 0.929, 0.961, 1.0, 1.0, 0.549, 1.0, 0.593, 0.996, 1.0, 1.0, 0.97, 1.0, 0.993, 1.0, 1.0, 0.998, 0.961, 0.748, 0.811, 0.615, 0.999, 0.884, 1.0, 1.0, 1.0, 0.916, 0.543, 1.0, 0.996, 1.0, 1.0, 0.981, 1.0, 1.0, 1.0, 1.0, 0.992, 1.0, 1.0, 1.0, 0.995, 1.0, 1.0, 1.0, 0.911, 1.0, 0.998, 1.0, 0.997, 0.985, 1.0, 1.0, 1.0, 0.988, 0.991, 0.997, 0.993, 0.511, 0.999, 0.997, 0.988, 1.0, 0.56, 1.0, 1.0, 0.997, 0.523, 1.0, 0.989, 0.997, 1.0, 1.0, 0.931, 1.0, 0.998, 0.57, 0.94]\n",
      "overall average accuracy is 0.9387731958762883\n",
      "for this dataset, noise is 0.15, transition_rate is 0.20\n",
      "traces are of shape:(94, 1000, 2)\n",
      "got 94 traces containing 2 features: DD, DA\n",
      "\n",
      "labels are of shape:(94, 1000)\n",
      "got labels for 94 traces\n",
      "\n"
     ]
    },
    {
     "data": {
      "application/json": {
       "ascii": false,
       "bar_format": null,
       "colour": null,
       "elapsed": 0.0030019283294677734,
       "initial": 0,
       "n": 0,
       "ncols": null,
       "nrows": null,
       "postfix": null,
       "prefix": "",
       "rate": null,
       "total": 94,
       "unit": "it",
       "unit_divisor": 1000,
       "unit_scale": false
      },
      "application/vnd.jupyter.widget-view+json": {
       "model_id": "3f953382498a422bbd85e9f7814196dc",
       "version_major": 2,
       "version_minor": 0
      },
      "text/plain": [
       "  0%|          | 0/94 [00:00<?, ?it/s]"
      ]
     },
     "metadata": {},
     "output_type": "display_data"
    },
    {
     "name": "stdout",
     "output_type": "stream",
     "text": [
      "accuracy for individual traces is [1.0, 0.878, 0.998, 1.0, 0.986, 0.993, 0.998, 0.956, 1.0, 0.585, 1.0, 0.995, 1.0, 0.943, 1.0, 0.979, 1.0, 0.957, 1.0, 1.0, 1.0, 1.0, 0.999, 0.566, 1.0, 1.0, 0.999, 0.989, 0.975, 0.926, 1.0, 1.0, 0.928, 0.998, 0.947, 0.999, 0.999, 0.997, 0.989, 1.0, 1.0, 0.917, 1.0, 0.995, 0.962, 0.613, 0.782, 0.971, 0.974, 0.981, 1.0, 0.99, 0.98, 0.969, 0.985, 0.961, 0.983, 1.0, 1.0, 1.0, 1.0, 1.0, 0.927, 0.994, 0.779, 1.0, 0.998, 1.0, 0.986, 1.0, 0.568, 1.0, 1.0, 1.0, 0.962, 1.0, 1.0, 0.985, 0.946, 0.993, 1.0, 0.989, 0.86, 0.742, 0.978, 0.997, 0.507, 0.995, 0.967, 1.0, 1.0, 1.0, 0.991, 0.954]\n",
      "overall average accuracy is 0.9548936170212765\n",
      "for this dataset, noise is 0.15, transition_rate is 0.25\n",
      "traces are of shape:(95, 1000, 2)\n",
      "got 95 traces containing 2 features: DD, DA\n",
      "\n",
      "labels are of shape:(95, 1000)\n",
      "got labels for 95 traces\n",
      "\n"
     ]
    },
    {
     "data": {
      "application/json": {
       "ascii": false,
       "bar_format": null,
       "colour": null,
       "elapsed": 0.003003835678100586,
       "initial": 0,
       "n": 0,
       "ncols": null,
       "nrows": null,
       "postfix": null,
       "prefix": "",
       "rate": null,
       "total": 95,
       "unit": "it",
       "unit_divisor": 1000,
       "unit_scale": false
      },
      "application/vnd.jupyter.widget-view+json": {
       "model_id": "483bf3849b8140339311f98b1372098b",
       "version_major": 2,
       "version_minor": 0
      },
      "text/plain": [
       "  0%|          | 0/95 [00:00<?, ?it/s]"
      ]
     },
     "metadata": {},
     "output_type": "display_data"
    },
    {
     "name": "stdout",
     "output_type": "stream",
     "text": [
      "accuracy for individual traces is [1.0, 1.0, 1.0, 1.0, 1.0, 1.0, 0.991, 1.0, 0.984, 1.0, 1.0, 1.0, 1.0, 0.703, 1.0, 0.782, 1.0, 1.0, 1.0, 1.0, 0.552, 0.866, 0.998, 0.944, 1.0, 1.0, 0.839, 0.946, 1.0, 0.988, 1.0, 0.663, 0.929, 1.0, 1.0, 0.97, 1.0, 0.892, 1.0, 0.537, 0.999, 0.991, 0.907, 1.0, 0.885, 1.0, 0.999, 0.988, 0.951, 0.812, 1.0, 0.971, 0.919, 0.833, 0.907, 1.0, 0.975, 0.999, 1.0, 0.853, 1.0, 0.937, 1.0, 1.0, 0.989, 0.988, 0.525, 1.0, 1.0, 0.92, 1.0, 1.0, 1.0, 1.0, 0.952, 0.886, 1.0, 0.784, 0.997, 1.0, 1.0, 0.969, 1.0, 0.994, 0.995, 0.691, 0.524, 1.0, 0.955, 0.523, 1.0, 0.99, 1.0, 1.0, 1.0]\n",
      "overall average accuracy is 0.9388631578947367\n",
      "for this dataset, noise is 0.15, transition_rate is 0.30\n",
      "traces are of shape:(99, 1000, 2)\n",
      "got 99 traces containing 2 features: DD, DA\n",
      "\n",
      "labels are of shape:(99, 1000)\n",
      "got labels for 99 traces\n",
      "\n"
     ]
    },
    {
     "data": {
      "application/json": {
       "ascii": false,
       "bar_format": null,
       "colour": null,
       "elapsed": 0.0039958953857421875,
       "initial": 0,
       "n": 0,
       "ncols": null,
       "nrows": null,
       "postfix": null,
       "prefix": "",
       "rate": null,
       "total": 99,
       "unit": "it",
       "unit_divisor": 1000,
       "unit_scale": false
      },
      "application/vnd.jupyter.widget-view+json": {
       "model_id": "87111653739b4df09e49710c161c4341",
       "version_major": 2,
       "version_minor": 0
      },
      "text/plain": [
       "  0%|          | 0/99 [00:00<?, ?it/s]"
      ]
     },
     "metadata": {},
     "output_type": "display_data"
    },
    {
     "name": "stdout",
     "output_type": "stream",
     "text": [
      "accuracy for individual traces is [1.0, 1.0, 0.891, 1.0, 0.655, 1.0, 0.993, 0.581, 0.98, 0.95, 0.989, 1.0, 0.964, 0.579, 0.553, 1.0, 1.0, 0.888, 1.0, 1.0, 0.609, 1.0, 1.0, 0.533, 1.0, 1.0, 0.62, 0.991, 1.0, 0.796, 1.0, 0.997, 1.0, 0.991, 0.864, 0.53, 0.946, 0.978, 0.997, 1.0, 0.958, 0.965, 0.889, 0.99, 0.872, 0.986, 0.999, 1.0, 1.0, 0.999, 1.0, 1.0, 1.0, 0.94, 0.991, 1.0, 0.884, 1.0, 1.0, 0.811, 1.0, 1.0, 0.966, 0.672, 0.967, 0.801, 0.948, 0.999, 0.94, 1.0, 1.0, 1.0, 1.0, 0.999, 0.998, 1.0, 1.0, 1.0, 1.0, 0.967, 1.0, 0.93, 0.949, 0.992, 1.0, 1.0, 1.0, 1.0, 0.962, 0.864, 0.999, 0.965, 0.928, 0.986, 0.999, 1.0, 0.996, 1.0, 0.998]\n",
      "overall average accuracy is 0.9392323232323234\n",
      "for this dataset, noise is 0.15, transition_rate is 0.35\n",
      "traces are of shape:(98, 1000, 2)\n",
      "got 98 traces containing 2 features: DD, DA\n",
      "\n",
      "labels are of shape:(98, 1000)\n",
      "got labels for 98 traces\n",
      "\n"
     ]
    },
    {
     "data": {
      "application/json": {
       "ascii": false,
       "bar_format": null,
       "colour": null,
       "elapsed": 0.0030002593994140625,
       "initial": 0,
       "n": 0,
       "ncols": null,
       "nrows": null,
       "postfix": null,
       "prefix": "",
       "rate": null,
       "total": 98,
       "unit": "it",
       "unit_divisor": 1000,
       "unit_scale": false
      },
      "application/vnd.jupyter.widget-view+json": {
       "model_id": "9b5f0f8f93294a249feb264e54eabe05",
       "version_major": 2,
       "version_minor": 0
      },
      "text/plain": [
       "  0%|          | 0/98 [00:00<?, ?it/s]"
      ]
     },
     "metadata": {},
     "output_type": "display_data"
    },
    {
     "name": "stdout",
     "output_type": "stream",
     "text": [
      "accuracy for individual traces is [0.944, 0.549, 1.0, 0.952, 0.999, 1.0, 1.0, 0.993, 0.988, 0.574, 0.84, 1.0, 0.957, 0.969, 0.846, 0.995, 0.988, 0.976, 0.989, 1.0, 1.0, 1.0, 0.52, 1.0, 1.0, 1.0, 1.0, 0.559, 1.0, 1.0, 0.982, 1.0, 0.983, 0.911, 0.555, 1.0, 0.585, 0.878, 0.99, 1.0, 1.0, 1.0, 0.986, 0.695, 0.519, 1.0, 0.998, 0.985, 0.998, 0.99, 0.974, 0.979, 1.0, 0.971, 1.0, 1.0, 1.0, 1.0, 0.915, 1.0, 1.0, 0.999, 0.98, 1.0, 0.561, 0.958, 0.996, 0.575, 0.903, 0.973, 0.995, 1.0, 0.997, 1.0, 1.0, 0.965, 1.0, 1.0, 1.0, 0.896, 0.997, 0.987, 0.972, 1.0, 0.981, 1.0, 0.554, 0.999, 1.0, 1.0, 0.998, 1.0, 1.0, 0.942, 0.996, 1.0, 1.0, 0.995]\n",
      "overall average accuracy is 0.9362346938775508\n",
      "for this dataset, noise is 0.15, transition_rate is 0.40\n",
      "traces are of shape:(94, 1000, 2)\n",
      "got 94 traces containing 2 features: DD, DA\n",
      "\n",
      "labels are of shape:(94, 1000)\n",
      "got labels for 94 traces\n",
      "\n"
     ]
    },
    {
     "data": {
      "application/json": {
       "ascii": false,
       "bar_format": null,
       "colour": null,
       "elapsed": 0.0030014514923095703,
       "initial": 0,
       "n": 0,
       "ncols": null,
       "nrows": null,
       "postfix": null,
       "prefix": "",
       "rate": null,
       "total": 94,
       "unit": "it",
       "unit_divisor": 1000,
       "unit_scale": false
      },
      "application/vnd.jupyter.widget-view+json": {
       "model_id": "765c10d2831648d684040b11bcada376",
       "version_major": 2,
       "version_minor": 0
      },
      "text/plain": [
       "  0%|          | 0/94 [00:00<?, ?it/s]"
      ]
     },
     "metadata": {},
     "output_type": "display_data"
    },
    {
     "name": "stdout",
     "output_type": "stream",
     "text": [
      "accuracy for individual traces is [1.0, 0.998, 0.888, 0.771, 0.943, 0.996, 1.0, 0.981, 0.965, 1.0, 0.981, 0.999, 1.0, 0.969, 0.516, 1.0, 1.0, 1.0, 0.946, 0.998, 0.992, 0.77, 0.84, 1.0, 1.0, 0.999, 0.979, 1.0, 1.0, 0.951, 0.67, 0.541, 0.931, 1.0, 1.0, 0.976, 0.993, 1.0, 1.0, 0.637, 0.731, 1.0, 0.631, 0.999, 0.998, 0.951, 0.535, 0.896, 0.776, 1.0, 0.975, 1.0, 0.599, 1.0, 1.0, 0.909, 1.0, 0.936, 0.971, 0.606, 0.996, 1.0, 0.998, 1.0, 1.0, 0.999, 0.576, 1.0, 0.981, 0.985, 0.533, 1.0, 1.0, 1.0, 1.0, 1.0, 0.993, 0.743, 0.999, 0.999, 0.957, 0.745, 0.949, 1.0, 1.0, 1.0, 0.548, 0.996, 1.0, 1.0, 0.972, 0.993, 1.0, 1.0]\n",
      "overall average accuracy is 0.9223936170212763\n",
      "for this dataset, noise is 0.15, transition_rate is 0.45\n",
      "traces are of shape:(96, 1000, 2)\n",
      "got 96 traces containing 2 features: DD, DA\n",
      "\n",
      "labels are of shape:(96, 1000)\n",
      "got labels for 96 traces\n",
      "\n"
     ]
    },
    {
     "data": {
      "application/json": {
       "ascii": false,
       "bar_format": null,
       "colour": null,
       "elapsed": 0.0030002593994140625,
       "initial": 0,
       "n": 0,
       "ncols": null,
       "nrows": null,
       "postfix": null,
       "prefix": "",
       "rate": null,
       "total": 96,
       "unit": "it",
       "unit_divisor": 1000,
       "unit_scale": false
      },
      "application/vnd.jupyter.widget-view+json": {
       "model_id": "80c02ee5cb154eebb588b88ed27aed95",
       "version_major": 2,
       "version_minor": 0
      },
      "text/plain": [
       "  0%|          | 0/96 [00:00<?, ?it/s]"
      ]
     },
     "metadata": {},
     "output_type": "display_data"
    },
    {
     "name": "stdout",
     "output_type": "stream",
     "text": [
      "accuracy for individual traces is [0.591, 1.0, 1.0, 0.822, 1.0, 0.987, 0.997, 1.0, 0.987, 0.947, 0.57, 1.0, 1.0, 1.0, 0.992, 0.999, 1.0, 1.0, 1.0, 1.0, 0.803, 1.0, 0.909, 1.0, 0.959, 1.0, 0.605, 1.0, 1.0, 0.708, 0.535, 0.783, 1.0, 0.759, 0.958, 1.0, 0.987, 0.869, 1.0, 1.0, 1.0, 0.977, 0.993, 1.0, 0.836, 0.998, 0.515, 0.997, 1.0, 1.0, 0.762, 0.985, 0.973, 0.996, 1.0, 1.0, 0.961, 1.0, 0.876, 1.0, 1.0, 1.0, 0.533, 0.825, 1.0, 1.0, 0.957, 0.767, 0.997, 0.988, 1.0, 0.997, 0.99, 0.975, 0.783, 0.99, 1.0, 0.968, 0.996, 0.97, 0.984, 0.929, 1.0, 1.0, 0.987, 0.569, 0.831, 0.567, 1.0, 0.603, 1.0, 0.973, 0.535, 0.915, 0.655, 0.544]\n",
      "overall average accuracy is 0.911083333333333\n",
      "for this dataset, noise is 0.15, transition_rate is 0.50\n",
      "traces are of shape:(94, 1000, 2)\n",
      "got 94 traces containing 2 features: DD, DA\n",
      "\n",
      "labels are of shape:(94, 1000)\n",
      "got labels for 94 traces\n",
      "\n"
     ]
    },
    {
     "data": {
      "application/json": {
       "ascii": false,
       "bar_format": null,
       "colour": null,
       "elapsed": 0.003000020980834961,
       "initial": 0,
       "n": 0,
       "ncols": null,
       "nrows": null,
       "postfix": null,
       "prefix": "",
       "rate": null,
       "total": 94,
       "unit": "it",
       "unit_divisor": 1000,
       "unit_scale": false
      },
      "application/vnd.jupyter.widget-view+json": {
       "model_id": "b172c74cba9348b39a5e1c1df71736fc",
       "version_major": 2,
       "version_minor": 0
      },
      "text/plain": [
       "  0%|          | 0/94 [00:00<?, ?it/s]"
      ]
     },
     "metadata": {},
     "output_type": "display_data"
    },
    {
     "name": "stdout",
     "output_type": "stream",
     "text": [
      "accuracy for individual traces is [1.0, 1.0, 1.0, 1.0, 1.0, 1.0, 1.0, 0.858, 1.0, 1.0, 0.915, 1.0, 0.823, 0.966, 0.974, 0.997, 1.0, 0.971, 1.0, 1.0, 0.999, 0.963, 0.976, 0.964, 0.928, 0.993, 0.99, 0.998, 0.987, 0.962, 1.0, 0.982, 0.817, 0.98, 0.983, 0.984, 1.0, 1.0, 0.979, 0.995, 0.975, 1.0, 0.879, 0.527, 0.886, 0.987, 1.0, 0.501, 1.0, 0.578, 1.0, 0.932, 0.976, 1.0, 1.0, 1.0, 1.0, 1.0, 1.0, 1.0, 0.906, 0.995, 0.968, 0.917, 1.0, 0.999, 1.0, 0.939, 1.0, 1.0, 0.976, 1.0, 0.945, 1.0, 0.955, 1.0, 1.0, 1.0, 0.921, 0.995, 1.0, 0.976, 0.999, 0.998, 0.613, 0.998, 1.0, 1.0, 1.0, 1.0, 0.965, 0.9, 1.0, 0.974]\n",
      "overall average accuracy is 0.9591914893617022\n",
      "for this dataset, noise is 0.20, transition_rate is 0.05\n",
      "traces are of shape:(96, 1000, 2)\n",
      "got 96 traces containing 2 features: DD, DA\n",
      "\n",
      "labels are of shape:(96, 1000)\n",
      "got labels for 96 traces\n",
      "\n"
     ]
    },
    {
     "data": {
      "application/json": {
       "ascii": false,
       "bar_format": null,
       "colour": null,
       "elapsed": 0.0029985904693603516,
       "initial": 0,
       "n": 0,
       "ncols": null,
       "nrows": null,
       "postfix": null,
       "prefix": "",
       "rate": null,
       "total": 96,
       "unit": "it",
       "unit_divisor": 1000,
       "unit_scale": false
      },
      "application/vnd.jupyter.widget-view+json": {
       "model_id": "b55403632cf74c988471b7f71ebc2e2e",
       "version_major": 2,
       "version_minor": 0
      },
      "text/plain": [
       "  0%|          | 0/96 [00:00<?, ?it/s]"
      ]
     },
     "metadata": {},
     "output_type": "display_data"
    },
    {
     "name": "stdout",
     "output_type": "stream",
     "text": [
      "accuracy for individual traces is [1.0, 1.0, 1.0, 1.0, 1.0, 1.0, 0.631, 0.992, 1.0, 1.0, 1.0, 0.994, 0.999, 1.0, 0.999, 1.0, 0.984, 1.0, 0.962, 0.517, 0.978, 1.0, 1.0, 0.999, 0.996, 0.966, 0.969, 0.975, 1.0, 0.984, 0.593, 0.999, 1.0, 0.939, 1.0, 0.983, 1.0, 0.997, 0.983, 0.988, 1.0, 0.999, 0.994, 0.984, 0.993, 0.995, 1.0, 0.989, 0.884, 0.992, 0.987, 1.0, 0.998, 0.939, 1.0, 1.0, 1.0, 1.0, 0.986, 0.99, 1.0, 1.0, 0.997, 1.0, 0.873, 1.0, 1.0, 0.913, 0.997, 1.0, 1.0, 0.936, 0.976, 0.995, 1.0, 0.995, 0.995, 0.972, 0.998, 0.991, 0.999, 0.999, 0.543, 1.0, 1.0, 1.0, 1.0, 0.994, 0.998, 0.998, 0.999, 0.971, 1.0, 1.0, 1.0, 1.0]\n",
      "overall average accuracy is 0.9718333333333334\n",
      "for this dataset, noise is 0.20, transition_rate is 0.10\n",
      "traces are of shape:(94, 1000, 2)\n",
      "got 94 traces containing 2 features: DD, DA\n",
      "\n",
      "labels are of shape:(94, 1000)\n",
      "got labels for 94 traces\n",
      "\n"
     ]
    },
    {
     "data": {
      "application/json": {
       "ascii": false,
       "bar_format": null,
       "colour": null,
       "elapsed": 0.004000186920166016,
       "initial": 0,
       "n": 0,
       "ncols": null,
       "nrows": null,
       "postfix": null,
       "prefix": "",
       "rate": null,
       "total": 94,
       "unit": "it",
       "unit_divisor": 1000,
       "unit_scale": false
      },
      "application/vnd.jupyter.widget-view+json": {
       "model_id": "3ea5102bf957444ebd1504dbe5956c8b",
       "version_major": 2,
       "version_minor": 0
      },
      "text/plain": [
       "  0%|          | 0/94 [00:00<?, ?it/s]"
      ]
     },
     "metadata": {},
     "output_type": "display_data"
    },
    {
     "name": "stdout",
     "output_type": "stream",
     "text": [
      "accuracy for individual traces is [1.0, 0.953, 0.849, 0.978, 0.906, 0.985, 1.0, 0.979, 1.0, 0.94, 0.992, 0.982, 0.981, 0.874, 1.0, 0.999, 0.994, 1.0, 1.0, 0.998, 1.0, 1.0, 1.0, 0.89, 0.999, 1.0, 0.988, 0.922, 1.0, 1.0, 0.965, 0.985, 1.0, 0.991, 0.997, 0.992, 0.924, 0.847, 0.996, 0.967, 1.0, 1.0, 1.0, 0.978, 0.998, 0.577, 0.998, 0.628, 0.936, 1.0, 0.552, 0.975, 0.998, 0.911, 0.529, 1.0, 1.0, 0.546, 1.0, 1.0, 0.514, 0.993, 1.0, 0.984, 0.852, 1.0, 1.0, 0.983, 0.972, 1.0, 0.52, 0.955, 0.919, 1.0, 1.0, 1.0, 1.0, 1.0, 0.977, 0.986, 1.0, 0.995, 1.0, 0.543, 0.988, 0.512, 1.0, 0.978, 0.511, 0.996, 0.956, 1.0, 1.0, 0.933]\n",
      "overall average accuracy is 0.9315531914893618\n",
      "for this dataset, noise is 0.20, transition_rate is 0.15\n",
      "traces are of shape:(98, 1000, 2)\n",
      "got 98 traces containing 2 features: DD, DA\n",
      "\n",
      "labels are of shape:(98, 1000)\n",
      "got labels for 98 traces\n",
      "\n"
     ]
    },
    {
     "data": {
      "application/json": {
       "ascii": false,
       "bar_format": null,
       "colour": null,
       "elapsed": 0.0029985904693603516,
       "initial": 0,
       "n": 0,
       "ncols": null,
       "nrows": null,
       "postfix": null,
       "prefix": "",
       "rate": null,
       "total": 98,
       "unit": "it",
       "unit_divisor": 1000,
       "unit_scale": false
      },
      "application/vnd.jupyter.widget-view+json": {
       "model_id": "c2939b9c17dd49a89e0c277fab08bd88",
       "version_major": 2,
       "version_minor": 0
      },
      "text/plain": [
       "  0%|          | 0/98 [00:00<?, ?it/s]"
      ]
     },
     "metadata": {},
     "output_type": "display_data"
    },
    {
     "name": "stdout",
     "output_type": "stream",
     "text": [
      "accuracy for individual traces is [0.996, 0.971, 1.0, 0.979, 1.0, 0.989, 0.984, 0.624, 0.952, 0.976, 0.921, 1.0, 0.987, 0.792, 0.98, 0.997, 1.0, 0.91, 0.985, 0.997, 1.0, 0.933, 0.997, 0.95, 0.98, 1.0, 1.0, 1.0, 1.0, 0.527, 1.0, 0.921, 1.0, 0.965, 0.998, 0.986, 0.965, 1.0, 0.987, 0.971, 1.0, 0.502, 0.929, 0.989, 0.895, 0.993, 0.996, 0.964, 0.97, 0.996, 0.997, 1.0, 0.996, 0.565, 0.817, 1.0, 0.993, 0.891, 0.985, 1.0, 0.998, 1.0, 1.0, 0.51, 0.999, 1.0, 1.0, 0.986, 0.998, 0.982, 0.979, 0.945, 1.0, 0.995, 0.996, 0.916, 1.0, 1.0, 0.978, 0.555, 0.99, 0.999, 1.0, 1.0, 0.787, 1.0, 0.993, 1.0, 0.584, 1.0, 1.0, 1.0, 0.566, 1.0, 0.982, 0.985, 0.957, 0.986]\n",
      "overall average accuracy is 0.9424897959183672\n",
      "for this dataset, noise is 0.20, transition_rate is 0.20\n",
      "traces are of shape:(95, 1000, 2)\n",
      "got 95 traces containing 2 features: DD, DA\n",
      "\n",
      "labels are of shape:(95, 1000)\n",
      "got labels for 95 traces\n",
      "\n"
     ]
    },
    {
     "data": {
      "application/json": {
       "ascii": false,
       "bar_format": null,
       "colour": null,
       "elapsed": 0.003003358840942383,
       "initial": 0,
       "n": 0,
       "ncols": null,
       "nrows": null,
       "postfix": null,
       "prefix": "",
       "rate": null,
       "total": 95,
       "unit": "it",
       "unit_divisor": 1000,
       "unit_scale": false
      },
      "application/vnd.jupyter.widget-view+json": {
       "model_id": "01beee63f42b42bd92a29f36c6c9687f",
       "version_major": 2,
       "version_minor": 0
      },
      "text/plain": [
       "  0%|          | 0/95 [00:00<?, ?it/s]"
      ]
     },
     "metadata": {},
     "output_type": "display_data"
    },
    {
     "name": "stdout",
     "output_type": "stream",
     "text": [
      "accuracy for individual traces is [1.0, 0.997, 0.945, 1.0, 0.963, 0.894, 1.0, 1.0, 0.91, 1.0, 1.0, 0.923, 0.958, 1.0, 1.0, 1.0, 0.965, 0.561, 0.946, 0.925, 0.899, 0.956, 0.989, 1.0, 0.583, 0.544, 0.945, 0.772, 0.911, 0.994, 0.934, 0.563, 0.985, 1.0, 1.0, 1.0, 1.0, 1.0, 0.636, 0.99, 0.867, 0.847, 0.998, 0.919, 0.604, 0.585, 0.887, 1.0, 0.942, 0.913, 1.0, 0.546, 0.992, 0.967, 0.998, 0.996, 1.0, 0.983, 1.0, 0.987, 0.55, 0.999, 1.0, 0.831, 0.994, 1.0, 1.0, 0.938, 1.0, 1.0, 0.838, 1.0, 1.0, 0.995, 0.903, 0.988, 0.956, 0.964, 0.997, 0.566, 0.621, 0.996, 1.0, 0.91, 1.0, 1.0, 1.0, 1.0, 0.912, 1.0, 0.906, 0.983, 0.998, 0.962, 1.0]\n",
      "overall average accuracy is 0.9213263157894738\n",
      "for this dataset, noise is 0.20, transition_rate is 0.25\n",
      "traces are of shape:(97, 1000, 2)\n",
      "got 97 traces containing 2 features: DD, DA\n",
      "\n",
      "labels are of shape:(97, 1000)\n",
      "got labels for 97 traces\n",
      "\n"
     ]
    },
    {
     "data": {
      "application/json": {
       "ascii": false,
       "bar_format": null,
       "colour": null,
       "elapsed": 0.005000114440917969,
       "initial": 0,
       "n": 0,
       "ncols": null,
       "nrows": null,
       "postfix": null,
       "prefix": "",
       "rate": null,
       "total": 97,
       "unit": "it",
       "unit_divisor": 1000,
       "unit_scale": false
      },
      "application/vnd.jupyter.widget-view+json": {
       "model_id": "03d58023edcc4c87aa786705023ec15d",
       "version_major": 2,
       "version_minor": 0
      },
      "text/plain": [
       "  0%|          | 0/97 [00:00<?, ?it/s]"
      ]
     },
     "metadata": {},
     "output_type": "display_data"
    },
    {
     "name": "stdout",
     "output_type": "stream",
     "text": [
      "accuracy for individual traces is [0.995, 0.999, 1.0, 0.989, 0.865, 0.969, 0.986, 1.0, 0.997, 0.99, 0.928, 0.945, 0.969, 0.979, 1.0, 1.0, 1.0, 1.0, 0.984, 0.501, 0.962, 1.0, 0.993, 0.967, 1.0, 0.991, 1.0, 1.0, 0.869, 1.0, 0.94, 1.0, 1.0, 0.951, 0.979, 0.861, 0.772, 0.968, 1.0, 0.972, 0.664, 1.0, 0.997, 0.89, 0.96, 0.957, 0.977, 0.997, 0.999, 1.0, 0.977, 0.99, 1.0, 1.0, 1.0, 1.0, 0.987, 0.979, 1.0, 0.972, 1.0, 0.995, 0.568, 0.999, 0.562, 0.981, 0.977, 1.0, 1.0, 0.963, 0.973, 1.0, 1.0, 1.0, 0.985, 1.0, 0.993, 0.964, 0.669, 0.946, 0.992, 1.0, 0.532, 0.993, 1.0, 0.991, 0.577, 0.956, 0.895, 0.808, 0.949, 0.998, 0.999, 0.998, 0.979, 0.547, 0.962]\n",
      "overall average accuracy is 0.9424536082474224\n",
      "for this dataset, noise is 0.20, transition_rate is 0.30\n",
      "traces are of shape:(96, 1000, 2)\n",
      "got 96 traces containing 2 features: DD, DA\n",
      "\n",
      "labels are of shape:(96, 1000)\n",
      "got labels for 96 traces\n",
      "\n"
     ]
    },
    {
     "data": {
      "application/json": {
       "ascii": false,
       "bar_format": null,
       "colour": null,
       "elapsed": 0.004003286361694336,
       "initial": 0,
       "n": 0,
       "ncols": null,
       "nrows": null,
       "postfix": null,
       "prefix": "",
       "rate": null,
       "total": 96,
       "unit": "it",
       "unit_divisor": 1000,
       "unit_scale": false
      },
      "application/vnd.jupyter.widget-view+json": {
       "model_id": "5cbc3a98f36847e6873a1ac1dc76ba21",
       "version_major": 2,
       "version_minor": 0
      },
      "text/plain": [
       "  0%|          | 0/96 [00:00<?, ?it/s]"
      ]
     },
     "metadata": {},
     "output_type": "display_data"
    },
    {
     "name": "stdout",
     "output_type": "stream",
     "text": [
      "accuracy for individual traces is [0.999, 0.939, 0.983, 1.0, 0.929, 1.0, 1.0, 1.0, 0.936, 1.0, 0.892, 0.737, 0.626, 1.0, 0.96, 1.0, 1.0, 1.0, 1.0, 0.949, 0.981, 1.0, 0.536, 0.542, 0.809, 1.0, 1.0, 1.0, 0.994, 0.986, 1.0, 0.568, 1.0, 1.0, 0.96, 0.506, 0.893, 0.993, 0.948, 0.86, 0.777, 1.0, 1.0, 1.0, 0.602, 0.996, 1.0, 0.968, 0.607, 0.996, 1.0, 0.874, 1.0, 1.0, 0.993, 0.98, 1.0, 0.995, 0.916, 0.998, 0.995, 0.981, 0.994, 1.0, 0.981, 1.0, 1.0, 0.939, 1.0, 0.999, 0.967, 1.0, 0.89, 0.762, 0.891, 0.916, 0.894, 1.0, 0.932, 0.986, 1.0, 1.0, 0.984, 1.0, 0.998, 0.988, 0.994, 0.571, 1.0, 0.97, 1.0, 0.987, 0.533, 0.998, 1.0, 0.853]\n",
      "overall average accuracy is 0.9294895833333334\n",
      "for this dataset, noise is 0.20, transition_rate is 0.35\n",
      "traces are of shape:(92, 1000, 2)\n",
      "got 92 traces containing 2 features: DD, DA\n",
      "\n",
      "labels are of shape:(92, 1000)\n",
      "got labels for 92 traces\n",
      "\n"
     ]
    },
    {
     "data": {
      "application/json": {
       "ascii": false,
       "bar_format": null,
       "colour": null,
       "elapsed": 0.00400090217590332,
       "initial": 0,
       "n": 0,
       "ncols": null,
       "nrows": null,
       "postfix": null,
       "prefix": "",
       "rate": null,
       "total": 92,
       "unit": "it",
       "unit_divisor": 1000,
       "unit_scale": false
      },
      "application/vnd.jupyter.widget-view+json": {
       "model_id": "d23ef822a9ec4b70a76509f2aec67bda",
       "version_major": 2,
       "version_minor": 0
      },
      "text/plain": [
       "  0%|          | 0/92 [00:00<?, ?it/s]"
      ]
     },
     "metadata": {},
     "output_type": "display_data"
    },
    {
     "name": "stdout",
     "output_type": "stream",
     "text": [
      "accuracy for individual traces is [1.0, 0.644, 0.901, 0.958, 0.999, 0.896, 0.821, 0.619, 1.0, 0.955, 0.991, 0.881, 0.584, 0.865, 0.923, 0.825, 0.586, 0.963, 0.997, 1.0, 1.0, 0.896, 0.574, 1.0, 0.999, 0.997, 1.0, 1.0, 0.924, 0.987, 1.0, 0.73, 0.955, 0.87, 0.843, 0.544, 1.0, 0.997, 1.0, 1.0, 1.0, 1.0, 0.987, 0.955, 0.58, 1.0, 0.912, 0.779, 0.911, 0.863, 0.972, 0.952, 0.982, 1.0, 0.935, 0.971, 0.8, 0.605, 1.0, 0.998, 0.98, 1.0, 0.99, 0.843, 0.999, 0.569, 1.0, 0.912, 0.576, 1.0, 1.0, 0.555, 1.0, 0.988, 0.559, 0.961, 0.914, 0.831, 0.861, 1.0, 0.998, 0.532, 0.901, 1.0, 0.888, 1.0, 1.0, 1.0, 0.575, 0.596, 0.709, 1.0]\n",
      "overall average accuracy is 0.8876413043478262\n",
      "for this dataset, noise is 0.20, transition_rate is 0.40\n",
      "traces are of shape:(94, 1000, 2)\n",
      "got 94 traces containing 2 features: DD, DA\n",
      "\n",
      "labels are of shape:(94, 1000)\n",
      "got labels for 94 traces\n",
      "\n"
     ]
    },
    {
     "data": {
      "application/json": {
       "ascii": false,
       "bar_format": null,
       "colour": null,
       "elapsed": 0.004999876022338867,
       "initial": 0,
       "n": 0,
       "ncols": null,
       "nrows": null,
       "postfix": null,
       "prefix": "",
       "rate": null,
       "total": 94,
       "unit": "it",
       "unit_divisor": 1000,
       "unit_scale": false
      },
      "application/vnd.jupyter.widget-view+json": {
       "model_id": "0e0c28947eaa4abf92bf9bd0eba7bd68",
       "version_major": 2,
       "version_minor": 0
      },
      "text/plain": [
       "  0%|          | 0/94 [00:00<?, ?it/s]"
      ]
     },
     "metadata": {},
     "output_type": "display_data"
    },
    {
     "name": "stdout",
     "output_type": "stream",
     "text": [
      "accuracy for individual traces is [0.902, 1.0, 0.623, 1.0, 1.0, 0.94, 1.0, 0.976, 1.0, 0.891, 1.0, 1.0, 1.0, 1.0, 1.0, 0.996, 0.995, 1.0, 0.772, 0.528, 0.959, 1.0, 0.566, 0.721, 0.548, 0.836, 0.741, 0.969, 0.561, 1.0, 1.0, 0.94, 1.0, 0.999, 1.0, 0.924, 0.644, 1.0, 0.882, 0.877, 0.583, 0.908, 0.876, 0.57, 1.0, 0.997, 0.992, 0.606, 1.0, 1.0, 0.999, 0.801, 0.562, 1.0, 1.0, 1.0, 1.0, 1.0, 0.849, 0.884, 0.917, 1.0, 1.0, 0.984, 0.88, 0.994, 0.975, 0.991, 0.937, 1.0, 1.0, 1.0, 1.0, 0.998, 0.994, 1.0, 0.802, 0.935, 0.781, 1.0, 0.674, 0.815, 1.0, 0.941, 1.0, 1.0, 0.757, 1.0, 0.584, 1.0, 1.0, 0.996, 1.0, 0.981]\n",
      "overall average accuracy is 0.9080106382978725\n",
      "for this dataset, noise is 0.20, transition_rate is 0.45\n",
      "traces are of shape:(98, 1000, 2)\n",
      "got 98 traces containing 2 features: DD, DA\n",
      "\n",
      "labels are of shape:(98, 1000)\n",
      "got labels for 98 traces\n",
      "\n"
     ]
    },
    {
     "data": {
      "application/json": {
       "ascii": false,
       "bar_format": null,
       "colour": null,
       "elapsed": 0.0029954910278320312,
       "initial": 0,
       "n": 0,
       "ncols": null,
       "nrows": null,
       "postfix": null,
       "prefix": "",
       "rate": null,
       "total": 98,
       "unit": "it",
       "unit_divisor": 1000,
       "unit_scale": false
      },
      "application/vnd.jupyter.widget-view+json": {
       "model_id": "dffd2aab094d4b7f8d0b18f1629cc3f2",
       "version_major": 2,
       "version_minor": 0
      },
      "text/plain": [
       "  0%|          | 0/98 [00:00<?, ?it/s]"
      ]
     },
     "metadata": {},
     "output_type": "display_data"
    },
    {
     "name": "stdout",
     "output_type": "stream",
     "text": [
      "accuracy for individual traces is [0.996, 0.88, 0.987, 1.0, 0.847, 0.918, 0.98, 0.995, 0.969, 0.972, 0.969, 0.857, 0.92, 0.973, 0.643, 0.7, 0.993, 0.837, 1.0, 0.71, 0.926, 1.0, 0.963, 1.0, 1.0, 0.895, 1.0, 0.999, 0.988, 0.999, 0.996, 0.997, 0.558, 1.0, 1.0, 0.974, 0.96, 0.995, 1.0, 0.885, 0.844, 1.0, 0.82, 0.966, 1.0, 0.908, 0.99, 0.998, 0.986, 0.995, 0.991, 1.0, 0.993, 1.0, 1.0, 0.592, 1.0, 0.975, 0.521, 1.0, 0.804, 0.993, 0.653, 1.0, 0.554, 1.0, 0.919, 0.999, 0.997, 0.961, 0.997, 0.798, 0.959, 0.578, 1.0, 0.939, 1.0, 1.0, 0.52, 1.0, 0.994, 0.839, 0.987, 1.0, 0.981, 0.98, 0.942, 1.0, 0.875, 1.0, 1.0, 0.995, 1.0, 0.525, 0.898, 1.0, 0.964, 0.999]\n",
      "overall average accuracy is 0.9235714285714284\n",
      "for this dataset, noise is 0.20, transition_rate is 0.50\n",
      "traces are of shape:(95, 1000, 2)\n",
      "got 95 traces containing 2 features: DD, DA\n",
      "\n",
      "labels are of shape:(95, 1000)\n",
      "got labels for 95 traces\n",
      "\n"
     ]
    },
    {
     "data": {
      "application/json": {
       "ascii": false,
       "bar_format": null,
       "colour": null,
       "elapsed": 0.0030057430267333984,
       "initial": 0,
       "n": 0,
       "ncols": null,
       "nrows": null,
       "postfix": null,
       "prefix": "",
       "rate": null,
       "total": 95,
       "unit": "it",
       "unit_divisor": 1000,
       "unit_scale": false
      },
      "application/vnd.jupyter.widget-view+json": {
       "model_id": "338d126bfdbc4b95b824a70380b2bbae",
       "version_major": 2,
       "version_minor": 0
      },
      "text/plain": [
       "  0%|          | 0/95 [00:00<?, ?it/s]"
      ]
     },
     "metadata": {},
     "output_type": "display_data"
    },
    {
     "name": "stdout",
     "output_type": "stream",
     "text": [
      "accuracy for individual traces is [1.0, 1.0, 0.989, 1.0, 0.938, 1.0, 1.0, 0.947, 0.651, 0.841, 0.966, 0.962, 0.975, 0.995, 0.843, 1.0, 0.977, 1.0, 0.713, 0.999, 1.0, 1.0, 1.0, 0.969, 0.932, 1.0, 1.0, 1.0, 0.998, 0.965, 0.889, 0.953, 0.931, 1.0, 1.0, 0.944, 0.562, 0.996, 1.0, 0.628, 0.951, 1.0, 0.996, 1.0, 0.948, 0.977, 0.999, 0.989, 1.0, 0.836, 0.979, 0.969, 1.0, 1.0, 0.999, 0.992, 0.999, 1.0, 1.0, 0.985, 1.0, 0.865, 0.951, 0.928, 0.995, 0.519, 0.541, 0.993, 0.995, 1.0, 1.0, 1.0, 0.964, 0.851, 0.892, 1.0, 1.0, 0.971, 0.792, 0.688, 1.0, 0.609, 1.0, 1.0, 1.0, 1.0, 1.0, 1.0, 1.0, 0.939, 0.974, 0.785, 1.0, 0.892, 0.818]\n",
      "overall average accuracy is 0.9383578947368418\n",
      "for this dataset, noise is 0.25, transition_rate is 0.05\n",
      "traces are of shape:(95, 1000, 2)\n",
      "got 95 traces containing 2 features: DD, DA\n",
      "\n",
      "labels are of shape:(95, 1000)\n",
      "got labels for 95 traces\n",
      "\n"
     ]
    },
    {
     "data": {
      "application/json": {
       "ascii": false,
       "bar_format": null,
       "colour": null,
       "elapsed": 0.0029997825622558594,
       "initial": 0,
       "n": 0,
       "ncols": null,
       "nrows": null,
       "postfix": null,
       "prefix": "",
       "rate": null,
       "total": 95,
       "unit": "it",
       "unit_divisor": 1000,
       "unit_scale": false
      },
      "application/vnd.jupyter.widget-view+json": {
       "model_id": "aea30864d0e54c5db8d9943f00c193cd",
       "version_major": 2,
       "version_minor": 0
      },
      "text/plain": [
       "  0%|          | 0/95 [00:00<?, ?it/s]"
      ]
     },
     "metadata": {},
     "output_type": "display_data"
    },
    {
     "name": "stdout",
     "output_type": "stream",
     "text": [
      "accuracy for individual traces is [1.0, 1.0, 0.998, 0.999, 0.987, 0.992, 1.0, 1.0, 1.0, 0.992, 0.987, 0.966, 0.981, 0.948, 1.0, 0.962, 0.988, 1.0, 0.613, 0.987, 0.997, 0.99, 1.0, 1.0, 0.998, 0.969, 1.0, 1.0, 0.994, 0.998, 0.987, 0.517, 0.99, 0.89, 0.999, 1.0, 0.998, 0.98, 1.0, 0.531, 0.984, 0.999, 1.0, 1.0, 0.991, 0.99, 0.966, 0.962, 0.995, 1.0, 1.0, 1.0, 1.0, 0.996, 0.999, 0.756, 1.0, 0.996, 0.971, 1.0, 0.85, 1.0, 0.995, 0.985, 1.0, 1.0, 1.0, 0.996, 0.985, 0.988, 0.988, 1.0, 0.606, 1.0, 1.0, 1.0, 0.993, 0.527, 1.0, 0.999, 0.987, 0.979, 0.527, 0.972, 0.994, 0.999, 0.955, 0.713, 0.998, 1.0, 0.5, 0.998, 0.997, 1.0, 0.996]\n",
      "overall average accuracy is 0.9512631578947365\n",
      "for this dataset, noise is 0.25, transition_rate is 0.10\n",
      "traces are of shape:(92, 1000, 2)\n",
      "got 92 traces containing 2 features: DD, DA\n",
      "\n",
      "labels are of shape:(92, 1000)\n",
      "got labels for 92 traces\n",
      "\n"
     ]
    },
    {
     "data": {
      "application/json": {
       "ascii": false,
       "bar_format": null,
       "colour": null,
       "elapsed": 0.003996372222900391,
       "initial": 0,
       "n": 0,
       "ncols": null,
       "nrows": null,
       "postfix": null,
       "prefix": "",
       "rate": null,
       "total": 92,
       "unit": "it",
       "unit_divisor": 1000,
       "unit_scale": false
      },
      "application/vnd.jupyter.widget-view+json": {
       "model_id": "54a31ea1ba624fae956531d2f5a9d3e7",
       "version_major": 2,
       "version_minor": 0
      },
      "text/plain": [
       "  0%|          | 0/92 [00:00<?, ?it/s]"
      ]
     },
     "metadata": {},
     "output_type": "display_data"
    },
    {
     "name": "stdout",
     "output_type": "stream",
     "text": [
      "accuracy for individual traces is [0.99, 1.0, 0.91, 0.994, 0.983, 0.908, 1.0, 0.969, 1.0, 1.0, 1.0, 1.0, 0.995, 0.955, 1.0, 0.961, 1.0, 0.55, 0.936, 0.996, 0.993, 1.0, 0.843, 1.0, 0.541, 0.986, 0.972, 0.991, 0.997, 0.999, 0.999, 0.572, 0.946, 0.62, 0.901, 1.0, 1.0, 1.0, 0.999, 1.0, 0.956, 1.0, 1.0, 1.0, 0.948, 0.582, 0.518, 0.994, 0.946, 0.933, 0.984, 0.927, 1.0, 0.974, 0.527, 0.994, 1.0, 1.0, 0.545, 0.999, 1.0, 0.998, 0.992, 0.998, 0.989, 0.992, 0.974, 0.997, 0.999, 0.567, 0.991, 0.779, 0.996, 0.999, 0.986, 1.0, 0.998, 0.999, 1.0, 0.974, 0.999, 1.0, 0.535, 0.963, 0.68, 0.999, 0.856, 0.999, 1.0, 0.988, 0.949, 0.981]\n",
      "overall average accuracy is 0.9294565217391298\n",
      "for this dataset, noise is 0.25, transition_rate is 0.15\n",
      "traces are of shape:(93, 1000, 2)\n",
      "got 93 traces containing 2 features: DD, DA\n",
      "\n",
      "labels are of shape:(93, 1000)\n",
      "got labels for 93 traces\n",
      "\n"
     ]
    },
    {
     "data": {
      "application/json": {
       "ascii": false,
       "bar_format": null,
       "colour": null,
       "elapsed": 0.0029997825622558594,
       "initial": 0,
       "n": 0,
       "ncols": null,
       "nrows": null,
       "postfix": null,
       "prefix": "",
       "rate": null,
       "total": 93,
       "unit": "it",
       "unit_divisor": 1000,
       "unit_scale": false
      },
      "application/vnd.jupyter.widget-view+json": {
       "model_id": "170b967a3f14425a9d8420a662bfb26d",
       "version_major": 2,
       "version_minor": 0
      },
      "text/plain": [
       "  0%|          | 0/93 [00:00<?, ?it/s]"
      ]
     },
     "metadata": {},
     "output_type": "display_data"
    },
    {
     "name": "stdout",
     "output_type": "stream",
     "text": [
      "accuracy for individual traces is [0.997, 0.991, 0.962, 1.0, 0.993, 0.911, 0.918, 0.995, 0.98, 0.992, 1.0, 0.977, 0.995, 0.989, 0.893, 0.984, 0.777, 0.905, 0.923, 0.552, 1.0, 1.0, 0.882, 0.999, 1.0, 0.995, 0.997, 0.997, 0.999, 0.994, 0.999, 0.935, 0.552, 1.0, 1.0, 0.997, 1.0, 0.967, 0.97, 0.977, 0.871, 0.978, 0.973, 0.925, 0.599, 0.97, 1.0, 0.989, 0.989, 1.0, 1.0, 0.997, 1.0, 0.975, 0.973, 0.528, 0.949, 0.997, 1.0, 0.998, 1.0, 0.892, 0.999, 0.999, 0.998, 1.0, 0.996, 0.926, 0.883, 0.977, 0.972, 1.0, 0.999, 1.0, 1.0, 0.864, 0.968, 0.983, 1.0, 1.0, 0.906, 0.998, 0.899, 0.836, 0.885, 0.584, 0.877, 0.979, 0.998, 1.0, 0.995, 1.0, 0.791]\n",
      "overall average accuracy is 0.9452580645161291\n",
      "for this dataset, noise is 0.25, transition_rate is 0.20\n",
      "traces are of shape:(94, 1000, 2)\n",
      "got 94 traces containing 2 features: DD, DA\n",
      "\n",
      "labels are of shape:(94, 1000)\n",
      "got labels for 94 traces\n",
      "\n"
     ]
    },
    {
     "data": {
      "application/json": {
       "ascii": false,
       "bar_format": null,
       "colour": null,
       "elapsed": 0.003000020980834961,
       "initial": 0,
       "n": 0,
       "ncols": null,
       "nrows": null,
       "postfix": null,
       "prefix": "",
       "rate": null,
       "total": 94,
       "unit": "it",
       "unit_divisor": 1000,
       "unit_scale": false
      },
      "application/vnd.jupyter.widget-view+json": {
       "model_id": "1f3377d27de34f0caae40a0010882730",
       "version_major": 2,
       "version_minor": 0
      },
      "text/plain": [
       "  0%|          | 0/94 [00:00<?, ?it/s]"
      ]
     },
     "metadata": {},
     "output_type": "display_data"
    },
    {
     "name": "stdout",
     "output_type": "stream",
     "text": [
      "accuracy for individual traces is [0.823, 1.0, 0.981, 0.932, 1.0, 0.948, 0.998, 0.891, 0.864, 1.0, 0.92, 0.667, 0.789, 0.895, 0.986, 1.0, 0.992, 0.58, 0.999, 0.995, 1.0, 0.973, 0.999, 0.967, 0.957, 0.514, 0.529, 0.964, 1.0, 0.992, 0.882, 1.0, 0.994, 0.586, 0.92, 0.97, 0.538, 0.547, 0.983, 0.938, 0.916, 0.959, 0.926, 1.0, 1.0, 0.549, 0.935, 0.987, 0.945, 1.0, 0.984, 1.0, 0.693, 1.0, 0.886, 0.995, 0.988, 0.998, 0.935, 1.0, 0.987, 1.0, 0.961, 0.998, 0.837, 0.864, 0.914, 1.0, 1.0, 1.0, 1.0, 0.973, 1.0, 0.594, 0.933, 0.806, 1.0, 1.0, 0.73, 1.0, 1.0, 0.989, 1.0, 1.0, 0.96, 0.979, 0.913, 1.0, 0.922, 0.906, 0.975, 0.905, 0.996, 0.992]\n",
      "overall average accuracy is 0.9185425531914893\n",
      "for this dataset, noise is 0.25, transition_rate is 0.25\n",
      "traces are of shape:(96, 1000, 2)\n",
      "got 96 traces containing 2 features: DD, DA\n",
      "\n",
      "labels are of shape:(96, 1000)\n",
      "got labels for 96 traces\n",
      "\n"
     ]
    },
    {
     "data": {
      "application/json": {
       "ascii": false,
       "bar_format": null,
       "colour": null,
       "elapsed": 0.004000186920166016,
       "initial": 0,
       "n": 0,
       "ncols": null,
       "nrows": null,
       "postfix": null,
       "prefix": "",
       "rate": null,
       "total": 96,
       "unit": "it",
       "unit_divisor": 1000,
       "unit_scale": false
      },
      "application/vnd.jupyter.widget-view+json": {
       "model_id": "b54c0798b9ec4b5494e0001d9a1402cf",
       "version_major": 2,
       "version_minor": 0
      },
      "text/plain": [
       "  0%|          | 0/96 [00:00<?, ?it/s]"
      ]
     },
     "metadata": {},
     "output_type": "display_data"
    },
    {
     "name": "stdout",
     "output_type": "stream",
     "text": [
      "accuracy for individual traces is [1.0, 0.998, 0.993, 0.958, 1.0, 1.0, 1.0, 1.0, 0.991, 1.0, 1.0, 1.0, 0.924, 1.0, 1.0, 0.533, 0.939, 1.0, 1.0, 0.998, 0.964, 0.89, 0.993, 1.0, 1.0, 0.824, 0.849, 1.0, 0.995, 0.79, 0.985, 1.0, 1.0, 1.0, 1.0, 0.999, 0.907, 0.999, 0.955, 0.627, 0.992, 0.937, 0.849, 0.973, 0.702, 1.0, 1.0, 1.0, 1.0, 0.999, 1.0, 0.995, 0.985, 0.985, 0.931, 1.0, 0.928, 0.771, 0.969, 0.995, 0.999, 0.919, 1.0, 0.972, 0.906, 0.996, 0.974, 1.0, 0.94, 0.65, 0.855, 0.692, 0.54, 0.963, 0.999, 0.999, 0.944, 0.836, 1.0, 0.938, 0.546, 1.0, 0.932, 0.998, 1.0, 0.987, 1.0, 0.894, 0.91, 0.866, 1.0, 0.957, 0.885, 0.847, 1.0, 1.0]\n",
      "overall average accuracy is 0.9381874999999997\n",
      "for this dataset, noise is 0.25, transition_rate is 0.30\n",
      "traces are of shape:(95, 1000, 2)\n",
      "got 95 traces containing 2 features: DD, DA\n",
      "\n",
      "labels are of shape:(95, 1000)\n",
      "got labels for 95 traces\n",
      "\n"
     ]
    },
    {
     "data": {
      "application/json": {
       "ascii": false,
       "bar_format": null,
       "colour": null,
       "elapsed": 0.004004240036010742,
       "initial": 0,
       "n": 0,
       "ncols": null,
       "nrows": null,
       "postfix": null,
       "prefix": "",
       "rate": null,
       "total": 95,
       "unit": "it",
       "unit_divisor": 1000,
       "unit_scale": false
      },
      "application/vnd.jupyter.widget-view+json": {
       "model_id": "093085277ec345a99def41b9edf057dc",
       "version_major": 2,
       "version_minor": 0
      },
      "text/plain": [
       "  0%|          | 0/95 [00:00<?, ?it/s]"
      ]
     },
     "metadata": {},
     "output_type": "display_data"
    },
    {
     "name": "stdout",
     "output_type": "stream",
     "text": [
      "accuracy for individual traces is [0.97, 0.93, 0.975, 0.598, 0.528, 0.986, 0.876, 0.58, 0.984, 0.996, 0.986, 0.567, 0.824, 0.983, 0.624, 0.999, 0.979, 0.904, 0.898, 0.91, 0.998, 1.0, 0.936, 0.73, 0.865, 1.0, 1.0, 0.916, 1.0, 0.964, 1.0, 0.991, 0.998, 0.923, 0.947, 1.0, 0.942, 0.906, 0.881, 0.955, 1.0, 1.0, 0.999, 0.998, 0.997, 0.805, 0.999, 0.998, 0.999, 0.989, 0.932, 0.89, 0.515, 0.945, 1.0, 1.0, 1.0, 0.934, 0.99, 0.973, 0.542, 0.615, 1.0, 0.828, 0.775, 0.878, 1.0, 0.996, 0.899, 0.936, 0.817, 0.967, 0.994, 0.83, 1.0, 0.539, 0.98, 1.0, 0.932, 0.907, 0.903, 0.997, 0.939, 0.998, 1.0, 0.831, 0.532, 0.587, 0.972, 0.588, 1.0, 0.96, 0.999, 0.821, 1.0]\n",
      "overall average accuracy is 0.9007789473684209\n",
      "for this dataset, noise is 0.25, transition_rate is 0.35\n",
      "traces are of shape:(94, 1000, 2)\n",
      "got 94 traces containing 2 features: DD, DA\n",
      "\n",
      "labels are of shape:(94, 1000)\n",
      "got labels for 94 traces\n",
      "\n"
     ]
    },
    {
     "data": {
      "application/json": {
       "ascii": false,
       "bar_format": null,
       "colour": null,
       "elapsed": 0.004000425338745117,
       "initial": 0,
       "n": 0,
       "ncols": null,
       "nrows": null,
       "postfix": null,
       "prefix": "",
       "rate": null,
       "total": 94,
       "unit": "it",
       "unit_divisor": 1000,
       "unit_scale": false
      },
      "application/vnd.jupyter.widget-view+json": {
       "model_id": "d3c32747bbe54f7aa97effef0eb97adc",
       "version_major": 2,
       "version_minor": 0
      },
      "text/plain": [
       "  0%|          | 0/94 [00:00<?, ?it/s]"
      ]
     },
     "metadata": {},
     "output_type": "display_data"
    },
    {
     "name": "stdout",
     "output_type": "stream",
     "text": [
      "accuracy for individual traces is [0.788, 0.998, 0.559, 1.0, 0.943, 0.975, 0.76, 0.923, 0.769, 0.949, 0.925, 0.901, 1.0, 0.921, 1.0, 0.957, 0.931, 1.0, 0.84, 1.0, 0.917, 1.0, 0.989, 0.727, 0.981, 0.941, 0.93, 0.999, 0.996, 1.0, 0.995, 0.589, 1.0, 1.0, 0.755, 1.0, 0.998, 0.934, 1.0, 0.999, 0.997, 0.996, 0.992, 0.95, 0.974, 0.975, 1.0, 0.954, 1.0, 0.562, 0.976, 0.983, 0.769, 0.941, 0.665, 0.986, 0.974, 0.612, 0.993, 0.96, 0.947, 1.0, 0.989, 0.73, 0.936, 0.825, 0.905, 0.587, 1.0, 0.811, 0.99, 1.0, 0.993, 0.69, 0.734, 1.0, 0.994, 0.83, 0.999, 0.997, 0.822, 0.989, 1.0, 1.0, 0.991, 0.997, 0.986, 0.999, 0.851, 1.0, 1.0, 0.517, 0.997, 0.999]\n",
      "overall average accuracy is 0.9175851063829784\n",
      "for this dataset, noise is 0.25, transition_rate is 0.40\n",
      "traces are of shape:(93, 1000, 2)\n",
      "got 93 traces containing 2 features: DD, DA\n",
      "\n",
      "labels are of shape:(93, 1000)\n",
      "got labels for 93 traces\n",
      "\n"
     ]
    },
    {
     "data": {
      "application/json": {
       "ascii": false,
       "bar_format": null,
       "colour": null,
       "elapsed": 0.0039997100830078125,
       "initial": 0,
       "n": 0,
       "ncols": null,
       "nrows": null,
       "postfix": null,
       "prefix": "",
       "rate": null,
       "total": 93,
       "unit": "it",
       "unit_divisor": 1000,
       "unit_scale": false
      },
      "application/vnd.jupyter.widget-view+json": {
       "model_id": "6799894d7ee147d1a366b7dc54b9aacd",
       "version_major": 2,
       "version_minor": 0
      },
      "text/plain": [
       "  0%|          | 0/93 [00:00<?, ?it/s]"
      ]
     },
     "metadata": {},
     "output_type": "display_data"
    },
    {
     "name": "stdout",
     "output_type": "stream",
     "text": [
      "accuracy for individual traces is [0.927, 0.927, 0.999, 0.535, 1.0, 0.662, 0.972, 1.0, 0.997, 1.0, 0.944, 0.999, 0.98, 0.978, 0.927, 0.998, 0.96, 0.883, 0.571, 0.838, 0.994, 1.0, 0.854, 0.706, 0.999, 0.923, 0.971, 0.919, 0.997, 1.0, 1.0, 0.978, 1.0, 0.761, 1.0, 0.915, 0.587, 0.999, 0.773, 0.517, 0.774, 1.0, 0.501, 0.995, 1.0, 0.996, 0.968, 0.983, 0.986, 0.934, 0.999, 1.0, 0.929, 0.992, 0.953, 1.0, 1.0, 0.941, 0.998, 0.787, 1.0, 0.999, 0.727, 0.997, 0.982, 1.0, 0.999, 0.581, 1.0, 0.889, 0.957, 0.998, 0.535, 0.894, 1.0, 1.0, 0.963, 1.0, 0.98, 1.0, 1.0, 1.0, 1.0, 1.0, 0.958, 0.628, 0.724, 0.996, 1.0, 0.957, 0.57, 0.981, 0.949]\n",
      "overall average accuracy is 0.9138709677419353\n",
      "for this dataset, noise is 0.25, transition_rate is 0.45\n",
      "traces are of shape:(97, 1000, 2)\n",
      "got 97 traces containing 2 features: DD, DA\n",
      "\n",
      "labels are of shape:(97, 1000)\n",
      "got labels for 97 traces\n",
      "\n"
     ]
    },
    {
     "data": {
      "application/json": {
       "ascii": false,
       "bar_format": null,
       "colour": null,
       "elapsed": 0.0029997825622558594,
       "initial": 0,
       "n": 0,
       "ncols": null,
       "nrows": null,
       "postfix": null,
       "prefix": "",
       "rate": null,
       "total": 97,
       "unit": "it",
       "unit_divisor": 1000,
       "unit_scale": false
      },
      "application/vnd.jupyter.widget-view+json": {
       "model_id": "38172ba3c8ba471dad5b65598cce3225",
       "version_major": 2,
       "version_minor": 0
      },
      "text/plain": [
       "  0%|          | 0/97 [00:00<?, ?it/s]"
      ]
     },
     "metadata": {},
     "output_type": "display_data"
    },
    {
     "name": "stdout",
     "output_type": "stream",
     "text": [
      "accuracy for individual traces is [0.834, 0.861, 0.933, 0.998, 1.0, 1.0, 0.94, 0.878, 1.0, 0.994, 0.851, 0.996, 0.576, 0.983, 0.998, 0.817, 0.998, 0.994, 1.0, 1.0, 0.728, 0.836, 1.0, 0.975, 0.864, 0.631, 1.0, 0.985, 0.682, 0.682, 0.993, 0.994, 0.84, 0.841, 0.896, 0.956, 0.893, 0.996, 1.0, 0.971, 1.0, 0.852, 0.525, 1.0, 0.999, 0.881, 0.68, 0.841, 0.89, 0.988, 0.765, 1.0, 0.943, 0.936, 0.893, 0.606, 0.895, 1.0, 0.536, 0.954, 0.969, 0.57, 0.518, 0.782, 0.919, 1.0, 0.904, 0.542, 1.0, 0.737, 0.54, 0.992, 1.0, 0.994, 0.521, 1.0, 0.98, 1.0, 1.0, 1.0, 0.948, 1.0, 0.893, 0.986, 0.878, 0.544, 1.0, 1.0, 1.0, 0.757, 0.843, 0.987, 0.951, 0.602, 0.872, 0.998, 0.956]\n",
      "overall average accuracy is 0.8843402061855672\n",
      "for this dataset, noise is 0.25, transition_rate is 0.50\n",
      "traces are of shape:(95, 1000, 2)\n",
      "got 95 traces containing 2 features: DD, DA\n",
      "\n",
      "labels are of shape:(95, 1000)\n",
      "got labels for 95 traces\n",
      "\n"
     ]
    },
    {
     "data": {
      "application/json": {
       "ascii": false,
       "bar_format": null,
       "colour": null,
       "elapsed": 0.0039997100830078125,
       "initial": 0,
       "n": 0,
       "ncols": null,
       "nrows": null,
       "postfix": null,
       "prefix": "",
       "rate": null,
       "total": 95,
       "unit": "it",
       "unit_divisor": 1000,
       "unit_scale": false
      },
      "application/vnd.jupyter.widget-view+json": {
       "model_id": "551ae1166d684765bb1439518812fed6",
       "version_major": 2,
       "version_minor": 0
      },
      "text/plain": [
       "  0%|          | 0/95 [00:00<?, ?it/s]"
      ]
     },
     "metadata": {},
     "output_type": "display_data"
    },
    {
     "name": "stdout",
     "output_type": "stream",
     "text": [
      "accuracy for individual traces is [0.603, 1.0, 0.507, 0.995, 0.919, 0.751, 0.996, 1.0, 1.0, 0.778, 0.908, 0.984, 0.784, 0.557, 0.71, 1.0, 0.921, 0.994, 0.995, 0.989, 0.85, 0.567, 0.783, 0.971, 1.0, 0.561, 1.0, 0.598, 1.0, 0.956, 0.571, 0.847, 1.0, 0.984, 1.0, 1.0, 0.984, 1.0, 0.576, 0.809, 0.968, 0.859, 0.97, 0.962, 0.846, 1.0, 1.0, 0.758, 0.998, 0.926, 0.588, 1.0, 0.654, 1.0, 0.968, 0.994, 0.948, 0.892, 0.937, 0.554, 1.0, 0.938, 0.742, 0.51, 0.567, 0.975, 0.953, 0.866, 0.977, 0.646, 0.891, 0.609, 0.807, 0.996, 1.0, 0.998, 0.575, 0.795, 0.643, 0.795, 1.0, 0.906, 1.0, 0.814, 0.949, 0.893, 0.534, 1.0, 0.992, 1.0, 1.0, 0.552, 0.885, 1.0, 0.579]\n",
      "overall average accuracy is 0.8595473684210532\n",
      "for this dataset, noise is 0.30, transition_rate is 0.05\n",
      "traces are of shape:(91, 1000, 2)\n",
      "got 91 traces containing 2 features: DD, DA\n",
      "\n",
      "labels are of shape:(91, 1000)\n",
      "got labels for 91 traces\n",
      "\n"
     ]
    },
    {
     "data": {
      "application/json": {
       "ascii": false,
       "bar_format": null,
       "colour": null,
       "elapsed": 0.004999876022338867,
       "initial": 0,
       "n": 0,
       "ncols": null,
       "nrows": null,
       "postfix": null,
       "prefix": "",
       "rate": null,
       "total": 91,
       "unit": "it",
       "unit_divisor": 1000,
       "unit_scale": false
      },
      "application/vnd.jupyter.widget-view+json": {
       "model_id": "31d9313c412c4934b2adf96ccb61448b",
       "version_major": 2,
       "version_minor": 0
      },
      "text/plain": [
       "  0%|          | 0/91 [00:00<?, ?it/s]"
      ]
     },
     "metadata": {},
     "output_type": "display_data"
    },
    {
     "name": "stdout",
     "output_type": "stream",
     "text": [
      "accuracy for individual traces is [0.994, 0.998, 0.993, 0.998, 0.94, 0.981, 0.996, 0.507, 0.577, 0.994, 0.993, 0.957, 0.996, 0.999, 0.511, 0.998, 0.912, 0.852, 0.988, 0.991, 1.0, 1.0, 1.0, 0.584, 0.999, 1.0, 0.897, 0.905, 0.945, 0.995, 0.939, 0.994, 0.968, 0.947, 0.999, 1.0, 0.998, 0.736, 0.981, 1.0, 0.979, 0.984, 0.943, 0.936, 0.994, 1.0, 0.546, 0.953, 0.98, 0.994, 0.973, 1.0, 0.997, 0.991, 1.0, 0.997, 0.536, 0.988, 0.983, 1.0, 0.556, 1.0, 0.983, 0.997, 0.533, 0.997, 1.0, 0.624, 1.0, 0.965, 0.964, 0.995, 0.998, 0.996, 0.98, 1.0, 1.0, 0.988, 0.999, 0.974, 0.914, 1.0, 1.0, 0.999, 0.997, 0.996, 1.0, 0.958, 0.988, 0.979, 0.973]\n",
      "overall average accuracy is 0.9361428571428569\n",
      "for this dataset, noise is 0.30, transition_rate is 0.10\n",
      "traces are of shape:(92, 1000, 2)\n",
      "got 92 traces containing 2 features: DD, DA\n",
      "\n",
      "labels are of shape:(92, 1000)\n",
      "got labels for 92 traces\n",
      "\n"
     ]
    },
    {
     "data": {
      "application/json": {
       "ascii": false,
       "bar_format": null,
       "colour": null,
       "elapsed": 0.003000020980834961,
       "initial": 0,
       "n": 0,
       "ncols": null,
       "nrows": null,
       "postfix": null,
       "prefix": "",
       "rate": null,
       "total": 92,
       "unit": "it",
       "unit_divisor": 1000,
       "unit_scale": false
      },
      "application/vnd.jupyter.widget-view+json": {
       "model_id": "c12483d15f864d3d93e26e81ca16ec66",
       "version_major": 2,
       "version_minor": 0
      },
      "text/plain": [
       "  0%|          | 0/92 [00:00<?, ?it/s]"
      ]
     },
     "metadata": {},
     "output_type": "display_data"
    },
    {
     "name": "stdout",
     "output_type": "stream",
     "text": [
      "accuracy for individual traces is [0.537, 0.864, 0.959, 0.936, 0.999, 0.999, 0.994, 0.867, 0.8, 0.994, 0.909, 0.912, 0.567, 1.0, 1.0, 0.992, 1.0, 0.588, 0.999, 0.988, 0.999, 0.971, 0.907, 0.558, 0.942, 1.0, 0.989, 0.829, 0.983, 0.917, 1.0, 0.998, 0.75, 0.972, 0.639, 0.598, 0.997, 0.993, 0.868, 1.0, 0.998, 0.878, 0.908, 1.0, 0.926, 0.948, 0.879, 0.971, 0.967, 1.0, 0.992, 1.0, 1.0, 0.561, 0.965, 0.981, 0.992, 1.0, 0.99, 0.974, 0.998, 0.998, 0.997, 0.995, 0.997, 0.974, 1.0, 1.0, 0.998, 0.952, 0.719, 0.877, 0.999, 0.852, 0.962, 0.962, 0.996, 0.831, 0.957, 1.0, 0.997, 0.795, 0.911, 0.998, 0.999, 0.818, 0.984, 0.999, 1.0, 0.921, 0.95, 0.988]\n",
      "overall average accuracy is 0.9257391304347824\n",
      "for this dataset, noise is 0.30, transition_rate is 0.15\n",
      "traces are of shape:(93, 1000, 2)\n",
      "got 93 traces containing 2 features: DD, DA\n",
      "\n",
      "labels are of shape:(93, 1000)\n",
      "got labels for 93 traces\n",
      "\n"
     ]
    },
    {
     "data": {
      "application/json": {
       "ascii": false,
       "bar_format": null,
       "colour": null,
       "elapsed": 0.003996372222900391,
       "initial": 0,
       "n": 0,
       "ncols": null,
       "nrows": null,
       "postfix": null,
       "prefix": "",
       "rate": null,
       "total": 93,
       "unit": "it",
       "unit_divisor": 1000,
       "unit_scale": false
      },
      "application/vnd.jupyter.widget-view+json": {
       "model_id": "6bb23b68cc3b4eb8b7ec202aeca3f1d3",
       "version_major": 2,
       "version_minor": 0
      },
      "text/plain": [
       "  0%|          | 0/93 [00:00<?, ?it/s]"
      ]
     },
     "metadata": {},
     "output_type": "display_data"
    },
    {
     "name": "stdout",
     "output_type": "stream",
     "text": [
      "accuracy for individual traces is [0.988, 1.0, 0.997, 0.923, 0.988, 0.916, 0.998, 1.0, 0.952, 0.979, 0.975, 0.878, 0.998, 1.0, 1.0, 1.0, 0.999, 0.979, 0.928, 0.988, 0.874, 0.866, 0.988, 0.824, 0.942, 0.923, 1.0, 0.999, 0.972, 0.977, 0.955, 0.907, 0.962, 0.928, 0.854, 0.982, 0.936, 0.887, 0.962, 0.965, 0.911, 0.997, 1.0, 0.994, 0.997, 0.834, 0.913, 0.55, 0.752, 0.948, 0.925, 0.991, 0.989, 0.868, 0.999, 0.982, 0.993, 0.875, 0.98, 0.828, 0.997, 1.0, 0.542, 0.944, 0.928, 0.985, 1.0, 1.0, 0.996, 0.938, 0.96, 0.77, 0.983, 1.0, 0.999, 0.997, 0.984, 0.979, 0.999, 0.844, 0.985, 1.0, 0.968, 0.998, 0.977, 0.539, 0.999, 0.944, 0.828, 0.863, 1.0, 0.581, 0.968]\n",
      "overall average accuracy is 0.9355913978494622\n",
      "for this dataset, noise is 0.30, transition_rate is 0.20\n",
      "traces are of shape:(98, 1000, 2)\n",
      "got 98 traces containing 2 features: DD, DA\n",
      "\n",
      "labels are of shape:(98, 1000)\n",
      "got labels for 98 traces\n",
      "\n"
     ]
    },
    {
     "data": {
      "application/json": {
       "ascii": false,
       "bar_format": null,
       "colour": null,
       "elapsed": 0.002999544143676758,
       "initial": 0,
       "n": 0,
       "ncols": null,
       "nrows": null,
       "postfix": null,
       "prefix": "",
       "rate": null,
       "total": 98,
       "unit": "it",
       "unit_divisor": 1000,
       "unit_scale": false
      },
      "application/vnd.jupyter.widget-view+json": {
       "model_id": "6b98edfb39a74904b763c725730061e6",
       "version_major": 2,
       "version_minor": 0
      },
      "text/plain": [
       "  0%|          | 0/98 [00:00<?, ?it/s]"
      ]
     },
     "metadata": {},
     "output_type": "display_data"
    },
    {
     "name": "stdout",
     "output_type": "stream",
     "text": [
      "accuracy for individual traces is [0.998, 0.835, 0.88, 0.987, 1.0, 0.997, 0.998, 0.893, 0.998, 0.833, 0.979, 0.998, 0.953, 0.915, 0.951, 0.552, 0.591, 0.973, 0.993, 0.996, 0.993, 0.989, 0.575, 0.978, 0.857, 0.997, 0.996, 0.998, 0.992, 0.985, 0.856, 0.987, 0.898, 0.957, 0.985, 0.993, 0.993, 0.963, 0.718, 1.0, 0.732, 0.931, 1.0, 0.991, 0.992, 0.999, 0.977, 1.0, 0.884, 0.855, 0.974, 0.538, 0.858, 0.978, 0.785, 1.0, 0.999, 0.867, 0.565, 0.904, 0.995, 0.924, 0.984, 1.0, 0.949, 0.976, 0.988, 0.819, 0.993, 0.932, 0.875, 0.902, 0.994, 0.863, 0.594, 0.93, 1.0, 0.984, 0.892, 0.979, 0.993, 1.0, 0.995, 1.0, 0.961, 0.854, 0.998, 0.998, 0.95, 0.964, 0.539, 0.998, 0.933, 0.829, 1.0, 0.724, 0.925, 0.964]\n",
      "overall average accuracy is 0.9189489795918366\n",
      "for this dataset, noise is 0.30, transition_rate is 0.25\n",
      "traces are of shape:(96, 1000, 2)\n",
      "got 96 traces containing 2 features: DD, DA\n",
      "\n",
      "labels are of shape:(96, 1000)\n",
      "got labels for 96 traces\n",
      "\n"
     ]
    },
    {
     "data": {
      "application/json": {
       "ascii": false,
       "bar_format": null,
       "colour": null,
       "elapsed": 0.0029959678649902344,
       "initial": 0,
       "n": 0,
       "ncols": null,
       "nrows": null,
       "postfix": null,
       "prefix": "",
       "rate": null,
       "total": 96,
       "unit": "it",
       "unit_divisor": 1000,
       "unit_scale": false
      },
      "application/vnd.jupyter.widget-view+json": {
       "model_id": "016e630c3b6341e198cd99ba949ca8f3",
       "version_major": 2,
       "version_minor": 0
      },
      "text/plain": [
       "  0%|          | 0/96 [00:00<?, ?it/s]"
      ]
     },
     "metadata": {},
     "output_type": "display_data"
    },
    {
     "name": "stdout",
     "output_type": "stream",
     "text": [
      "accuracy for individual traces is [0.995, 0.894, 1.0, 0.984, 0.59, 0.949, 0.97, 0.822, 1.0, 0.996, 0.969, 0.985, 0.964, 0.99, 0.949, 0.871, 0.929, 0.922, 0.975, 0.995, 0.987, 1.0, 0.956, 0.922, 1.0, 1.0, 0.959, 0.715, 0.987, 0.852, 0.983, 0.99, 0.992, 1.0, 0.912, 0.971, 0.812, 0.546, 0.845, 1.0, 0.557, 0.957, 0.988, 0.962, 0.827, 0.991, 0.932, 1.0, 0.996, 1.0, 1.0, 0.8, 0.907, 0.907, 0.958, 0.958, 1.0, 0.955, 0.989, 1.0, 0.995, 0.815, 0.942, 1.0, 0.926, 0.99, 1.0, 0.816, 0.999, 1.0, 0.622, 0.534, 0.998, 0.552, 1.0, 0.999, 1.0, 0.645, 0.853, 0.869, 0.928, 0.926, 0.986, 0.557, 0.995, 0.591, 0.929, 0.994, 0.98, 0.977, 0.927, 0.889, 0.948, 0.988, 0.949, 0.773]\n",
      "overall average accuracy is 0.9141041666666666\n",
      "for this dataset, noise is 0.30, transition_rate is 0.30\n",
      "traces are of shape:(94, 1000, 2)\n",
      "got 94 traces containing 2 features: DD, DA\n",
      "\n",
      "labels are of shape:(94, 1000)\n",
      "got labels for 94 traces\n",
      "\n"
     ]
    },
    {
     "data": {
      "application/json": {
       "ascii": false,
       "bar_format": null,
       "colour": null,
       "elapsed": 0.003000020980834961,
       "initial": 0,
       "n": 0,
       "ncols": null,
       "nrows": null,
       "postfix": null,
       "prefix": "",
       "rate": null,
       "total": 94,
       "unit": "it",
       "unit_divisor": 1000,
       "unit_scale": false
      },
      "application/vnd.jupyter.widget-view+json": {
       "model_id": "3746b5b7acae403a858f62ecbb0e9147",
       "version_major": 2,
       "version_minor": 0
      },
      "text/plain": [
       "  0%|          | 0/94 [00:00<?, ?it/s]"
      ]
     },
     "metadata": {},
     "output_type": "display_data"
    },
    {
     "name": "stdout",
     "output_type": "stream",
     "text": [
      "accuracy for individual traces is [0.963, 0.943, 0.982, 0.992, 0.813, 0.825, 0.974, 0.993, 0.997, 1.0, 0.992, 0.975, 0.827, 0.994, 1.0, 0.988, 0.783, 1.0, 0.834, 1.0, 0.978, 0.732, 1.0, 0.911, 0.999, 0.935, 0.847, 0.86, 0.512, 0.996, 0.735, 0.912, 0.994, 0.535, 0.571, 0.748, 0.986, 0.526, 1.0, 1.0, 0.714, 0.905, 0.574, 0.808, 0.999, 0.984, 1.0, 1.0, 1.0, 1.0, 0.837, 0.945, 1.0, 0.913, 0.998, 0.823, 0.995, 0.997, 0.908, 0.806, 1.0, 0.71, 0.731, 1.0, 0.921, 0.977, 0.982, 0.995, 0.987, 1.0, 0.624, 0.993, 1.0, 0.943, 0.83, 0.957, 0.942, 0.587, 0.884, 0.952, 0.957, 0.902, 1.0, 1.0, 0.984, 0.94, 0.972, 0.952, 0.885, 0.931, 0.976, 0.816, 0.817, 1.0]\n",
      "overall average accuracy is 0.9043085106382974\n",
      "for this dataset, noise is 0.30, transition_rate is 0.35\n",
      "traces are of shape:(95, 1000, 2)\n",
      "got 95 traces containing 2 features: DD, DA\n",
      "\n",
      "labels are of shape:(95, 1000)\n",
      "got labels for 95 traces\n",
      "\n"
     ]
    },
    {
     "data": {
      "application/json": {
       "ascii": false,
       "bar_format": null,
       "colour": null,
       "elapsed": 0.0039997100830078125,
       "initial": 0,
       "n": 0,
       "ncols": null,
       "nrows": null,
       "postfix": null,
       "prefix": "",
       "rate": null,
       "total": 95,
       "unit": "it",
       "unit_divisor": 1000,
       "unit_scale": false
      },
      "application/vnd.jupyter.widget-view+json": {
       "model_id": "fde00e17b5c44993b322833820e8e5e6",
       "version_major": 2,
       "version_minor": 0
      },
      "text/plain": [
       "  0%|          | 0/95 [00:00<?, ?it/s]"
      ]
     },
     "metadata": {},
     "output_type": "display_data"
    },
    {
     "name": "stdout",
     "output_type": "stream",
     "text": [
      "accuracy for individual traces is [0.798, 0.647, 0.92, 0.847, 0.99, 0.941, 0.983, 0.93, 1.0, 0.957, 1.0, 1.0, 0.715, 0.899, 0.997, 0.997, 0.934, 0.799, 1.0, 0.577, 0.998, 0.525, 0.999, 0.987, 0.986, 0.558, 0.506, 0.941, 1.0, 0.932, 0.971, 0.988, 0.803, 0.815, 0.576, 0.997, 0.978, 0.866, 0.968, 0.946, 0.876, 0.881, 0.713, 1.0, 0.556, 0.986, 0.999, 0.759, 0.999, 0.865, 0.754, 0.879, 0.97, 0.898, 0.974, 0.997, 0.523, 0.866, 0.985, 0.769, 0.982, 0.568, 0.688, 0.766, 0.985, 0.752, 0.909, 0.851, 0.595, 0.923, 0.827, 0.995, 1.0, 0.951, 0.944, 0.993, 0.987, 0.925, 0.975, 0.623, 0.667, 0.932, 0.998, 0.855, 0.992, 0.85, 0.996, 0.963, 0.998, 1.0, 0.971, 0.539, 0.999, 0.882, 0.811]\n",
      "overall average accuracy is 0.875915789473684\n",
      "for this dataset, noise is 0.30, transition_rate is 0.40\n",
      "traces are of shape:(93, 1000, 2)\n",
      "got 93 traces containing 2 features: DD, DA\n",
      "\n",
      "labels are of shape:(93, 1000)\n",
      "got labels for 93 traces\n",
      "\n"
     ]
    },
    {
     "data": {
      "application/json": {
       "ascii": false,
       "bar_format": null,
       "colour": null,
       "elapsed": 0.004000425338745117,
       "initial": 0,
       "n": 0,
       "ncols": null,
       "nrows": null,
       "postfix": null,
       "prefix": "",
       "rate": null,
       "total": 93,
       "unit": "it",
       "unit_divisor": 1000,
       "unit_scale": false
      },
      "application/vnd.jupyter.widget-view+json": {
       "model_id": "69943a7af0e94a0296aecca0dd16e75b",
       "version_major": 2,
       "version_minor": 0
      },
      "text/plain": [
       "  0%|          | 0/93 [00:00<?, ?it/s]"
      ]
     },
     "metadata": {},
     "output_type": "display_data"
    },
    {
     "name": "stdout",
     "output_type": "stream",
     "text": [
      "accuracy for individual traces is [0.995, 1.0, 0.544, 0.659, 0.584, 0.601, 0.995, 0.823, 1.0, 0.574, 0.964, 0.675, 0.986, 0.969, 1.0, 0.861, 1.0, 0.889, 1.0, 0.537, 1.0, 0.995, 0.564, 0.99, 0.833, 0.849, 0.844, 0.953, 1.0, 0.9, 0.887, 0.994, 1.0, 0.917, 0.995, 0.996, 1.0, 0.565, 0.533, 0.908, 0.843, 0.896, 0.982, 0.693, 0.767, 0.555, 0.732, 0.686, 0.994, 0.895, 0.981, 0.587, 0.972, 1.0, 1.0, 1.0, 0.926, 1.0, 0.747, 0.969, 0.996, 0.972, 0.839, 0.861, 0.769, 0.938, 1.0, 0.961, 0.957, 1.0, 0.849, 0.91, 0.994, 0.808, 0.983, 0.728, 0.941, 1.0, 0.924, 0.934, 0.8, 0.974, 1.0, 0.895, 1.0, 0.672, 0.877, 0.906, 0.795, 0.908, 0.545, 1.0, 0.938]\n",
      "overall average accuracy is 0.8739569892473119\n",
      "for this dataset, noise is 0.30, transition_rate is 0.45\n",
      "traces are of shape:(94, 1000, 2)\n",
      "got 94 traces containing 2 features: DD, DA\n",
      "\n",
      "labels are of shape:(94, 1000)\n",
      "got labels for 94 traces\n",
      "\n"
     ]
    },
    {
     "data": {
      "application/json": {
       "ascii": false,
       "bar_format": null,
       "colour": null,
       "elapsed": 0.003998279571533203,
       "initial": 0,
       "n": 0,
       "ncols": null,
       "nrows": null,
       "postfix": null,
       "prefix": "",
       "rate": null,
       "total": 94,
       "unit": "it",
       "unit_divisor": 1000,
       "unit_scale": false
      },
      "application/vnd.jupyter.widget-view+json": {
       "model_id": "8d04e052f124482d992f57eb26734613",
       "version_major": 2,
       "version_minor": 0
      },
      "text/plain": [
       "  0%|          | 0/94 [00:00<?, ?it/s]"
      ]
     },
     "metadata": {},
     "output_type": "display_data"
    },
    {
     "name": "stdout",
     "output_type": "stream",
     "text": [
      "accuracy for individual traces is [0.526, 0.618, 1.0, 0.887, 0.653, 0.988, 0.845, 1.0, 1.0, 0.916, 0.521, 1.0, 1.0, 0.952, 0.989, 0.545, 0.915, 0.992, 0.997, 0.992, 1.0, 0.995, 0.97, 1.0, 0.947, 1.0, 1.0, 0.729, 1.0, 0.994, 0.664, 1.0, 0.999, 0.99, 0.988, 0.754, 0.998, 0.901, 1.0, 0.999, 1.0, 0.999, 0.982, 0.923, 1.0, 0.927, 1.0, 0.817, 0.807, 1.0, 1.0, 0.991, 0.538, 0.998, 1.0, 0.603, 1.0, 0.983, 1.0, 0.965, 0.985, 0.971, 0.984, 0.822, 0.999, 0.971, 0.997, 0.959, 0.997, 0.71, 0.613, 0.987, 0.616, 1.0, 0.883, 0.959, 1.0, 0.841, 0.983, 0.915, 1.0, 0.926, 0.999, 0.95, 1.0, 0.994, 1.0, 0.76, 1.0, 0.591, 0.884, 0.641, 0.719, 1.0]\n",
      "overall average accuracy is 0.9090744680851064\n",
      "for this dataset, noise is 0.30, transition_rate is 0.50\n",
      "traces are of shape:(94, 1000, 2)\n",
      "got 94 traces containing 2 features: DD, DA\n",
      "\n",
      "labels are of shape:(94, 1000)\n",
      "got labels for 94 traces\n",
      "\n"
     ]
    },
    {
     "data": {
      "application/json": {
       "ascii": false,
       "bar_format": null,
       "colour": null,
       "elapsed": 0.0030012130737304688,
       "initial": 0,
       "n": 0,
       "ncols": null,
       "nrows": null,
       "postfix": null,
       "prefix": "",
       "rate": null,
       "total": 94,
       "unit": "it",
       "unit_divisor": 1000,
       "unit_scale": false
      },
      "application/vnd.jupyter.widget-view+json": {
       "model_id": "7863fdd01fcf4b27a730ee3467db8f85",
       "version_major": 2,
       "version_minor": 0
      },
      "text/plain": [
       "  0%|          | 0/94 [00:00<?, ?it/s]"
      ]
     },
     "metadata": {},
     "output_type": "display_data"
    },
    {
     "name": "stdout",
     "output_type": "stream",
     "text": [
      "accuracy for individual traces is [0.515, 0.832, 0.595, 0.98, 0.85, 1.0, 0.933, 0.785, 1.0, 1.0, 0.864, 0.789, 1.0, 0.984, 0.625, 0.992, 0.805, 0.99, 0.976, 1.0, 0.999, 0.973, 0.843, 0.654, 0.882, 0.982, 1.0, 0.988, 0.533, 0.778, 0.705, 0.601, 1.0, 0.805, 1.0, 0.896, 1.0, 1.0, 0.962, 0.962, 0.869, 0.941, 0.973, 0.893, 0.715, 0.94, 0.865, 1.0, 0.908, 0.9, 0.622, 0.996, 0.998, 0.545, 0.884, 0.979, 0.997, 1.0, 0.963, 0.999, 0.756, 0.857, 0.889, 0.867, 0.775, 0.903, 1.0, 0.976, 0.979, 0.999, 0.999, 1.0, 0.865, 0.87, 0.992, 0.931, 0.998, 0.604, 0.974, 1.0, 0.999, 0.683, 0.993, 0.69, 0.52, 0.869, 0.987, 0.936, 1.0, 0.584, 0.832, 0.732, 0.526, 1.0]\n",
      "overall average accuracy is 0.8792553191489362\n",
      "for this dataset, noise is 0.35, transition_rate is 0.05\n",
      "traces are of shape:(88, 1000, 2)\n",
      "got 88 traces containing 2 features: DD, DA\n",
      "\n",
      "labels are of shape:(88, 1000)\n",
      "got labels for 88 traces\n",
      "\n"
     ]
    },
    {
     "data": {
      "application/json": {
       "ascii": false,
       "bar_format": null,
       "colour": null,
       "elapsed": 0.003995656967163086,
       "initial": 0,
       "n": 0,
       "ncols": null,
       "nrows": null,
       "postfix": null,
       "prefix": "",
       "rate": null,
       "total": 88,
       "unit": "it",
       "unit_divisor": 1000,
       "unit_scale": false
      },
      "application/vnd.jupyter.widget-view+json": {
       "model_id": "3ed10edec70a4728b79f0ae047900687",
       "version_major": 2,
       "version_minor": 0
      },
      "text/plain": [
       "  0%|          | 0/88 [00:00<?, ?it/s]"
      ]
     },
     "metadata": {},
     "output_type": "display_data"
    },
    {
     "name": "stdout",
     "output_type": "stream",
     "text": [
      "accuracy for individual traces is [1.0, 0.928, 0.992, 0.998, 0.958, 0.704, 0.934, 0.959, 1.0, 0.997, 0.965, 0.998, 0.996, 0.994, 1.0, 0.931, 0.971, 0.929, 1.0, 0.985, 0.978, 0.882, 0.904, 0.887, 0.988, 1.0, 0.948, 0.989, 1.0, 0.997, 0.974, 0.965, 1.0, 0.996, 0.991, 0.995, 0.996, 1.0, 0.522, 0.815, 0.982, 1.0, 0.994, 0.995, 0.977, 1.0, 1.0, 0.685, 0.936, 0.962, 0.977, 0.991, 0.969, 0.99, 0.965, 0.998, 0.993, 0.988, 0.961, 0.989, 0.953, 0.988, 0.971, 0.979, 0.994, 0.596, 1.0, 0.999, 0.998, 0.994, 0.568, 0.988, 0.972, 0.978, 0.999, 0.999, 0.975, 0.975, 0.999, 0.954, 0.806, 0.995, 0.618, 0.986, 1.0, 1.0, 0.987, 0.953]\n",
      "overall average accuracy is 0.950477272727272\n",
      "for this dataset, noise is 0.35, transition_rate is 0.10\n",
      "traces are of shape:(94, 1000, 2)\n",
      "got 94 traces containing 2 features: DD, DA\n",
      "\n",
      "labels are of shape:(94, 1000)\n",
      "got labels for 94 traces\n",
      "\n"
     ]
    },
    {
     "data": {
      "application/json": {
       "ascii": false,
       "bar_format": null,
       "colour": null,
       "elapsed": 0.003996849060058594,
       "initial": 0,
       "n": 0,
       "ncols": null,
       "nrows": null,
       "postfix": null,
       "prefix": "",
       "rate": null,
       "total": 94,
       "unit": "it",
       "unit_divisor": 1000,
       "unit_scale": false
      },
      "application/vnd.jupyter.widget-view+json": {
       "model_id": "3aa411af7a9a4584aecb271fc0c0f4c9",
       "version_major": 2,
       "version_minor": 0
      },
      "text/plain": [
       "  0%|          | 0/94 [00:00<?, ?it/s]"
      ]
     },
     "metadata": {},
     "output_type": "display_data"
    },
    {
     "name": "stdout",
     "output_type": "stream",
     "text": [
      "accuracy for individual traces is [0.974, 0.988, 1.0, 0.985, 0.964, 0.992, 1.0, 0.954, 1.0, 0.949, 0.816, 1.0, 0.862, 0.999, 0.997, 0.999, 0.98, 0.974, 0.998, 0.95, 0.583, 0.595, 1.0, 0.998, 1.0, 0.999, 1.0, 0.87, 0.91, 0.996, 0.979, 0.99, 0.958, 1.0, 0.976, 0.966, 0.977, 0.996, 0.606, 0.542, 1.0, 0.992, 0.969, 0.993, 0.975, 0.976, 1.0, 0.605, 0.999, 0.582, 0.984, 1.0, 0.979, 0.775, 1.0, 0.999, 1.0, 0.997, 0.987, 0.563, 0.998, 1.0, 0.991, 1.0, 0.975, 0.535, 0.963, 0.808, 0.906, 0.93, 0.992, 0.989, 0.998, 1.0, 0.988, 0.987, 0.947, 0.931, 1.0, 0.952, 1.0, 0.998, 1.0, 0.899, 0.885, 0.885, 0.847, 0.963, 1.0, 0.944, 0.898, 0.919, 0.98, 0.999]\n",
      "overall average accuracy is 0.9340851063829787\n",
      "for this dataset, noise is 0.35, transition_rate is 0.15\n",
      "traces are of shape:(93, 1000, 2)\n",
      "got 93 traces containing 2 features: DD, DA\n",
      "\n",
      "labels are of shape:(93, 1000)\n",
      "got labels for 93 traces\n",
      "\n"
     ]
    },
    {
     "data": {
      "application/json": {
       "ascii": false,
       "bar_format": null,
       "colour": null,
       "elapsed": 0.0029997825622558594,
       "initial": 0,
       "n": 0,
       "ncols": null,
       "nrows": null,
       "postfix": null,
       "prefix": "",
       "rate": null,
       "total": 93,
       "unit": "it",
       "unit_divisor": 1000,
       "unit_scale": false
      },
      "application/vnd.jupyter.widget-view+json": {
       "model_id": "a1b97eab7afd4f7eaec36bb95580c00f",
       "version_major": 2,
       "version_minor": 0
      },
      "text/plain": [
       "  0%|          | 0/93 [00:00<?, ?it/s]"
      ]
     },
     "metadata": {},
     "output_type": "display_data"
    },
    {
     "name": "stdout",
     "output_type": "stream",
     "text": [
      "accuracy for individual traces is [0.516, 0.985, 0.991, 0.965, 0.995, 0.959, 0.939, 0.871, 0.858, 0.999, 0.983, 0.987, 0.923, 0.984, 0.999, 1.0, 0.929, 0.892, 1.0, 0.561, 0.511, 0.91, 0.998, 0.994, 0.956, 0.932, 0.958, 0.959, 0.96, 0.994, 0.998, 1.0, 1.0, 0.986, 1.0, 0.842, 0.893, 0.978, 0.852, 0.989, 0.973, 0.856, 0.999, 0.945, 0.983, 0.951, 0.964, 1.0, 0.777, 0.99, 0.99, 0.941, 0.999, 0.938, 0.945, 0.942, 0.958, 0.995, 0.998, 0.835, 0.998, 0.967, 1.0, 0.863, 0.942, 1.0, 0.99, 0.996, 0.983, 0.911, 0.705, 0.862, 1.0, 1.0, 0.992, 0.756, 0.955, 0.984, 0.999, 0.883, 0.981, 0.974, 0.745, 0.989, 0.993, 0.997, 1.0, 0.938, 0.95, 0.972, 0.941, 1.0, 0.983]\n",
      "overall average accuracy is 0.9384301075268817\n",
      "for this dataset, noise is 0.35, transition_rate is 0.20\n",
      "traces are of shape:(94, 1000, 2)\n",
      "got 94 traces containing 2 features: DD, DA\n",
      "\n",
      "labels are of shape:(94, 1000)\n",
      "got labels for 94 traces\n",
      "\n"
     ]
    },
    {
     "data": {
      "application/json": {
       "ascii": false,
       "bar_format": null,
       "colour": null,
       "elapsed": 0.0029947757720947266,
       "initial": 0,
       "n": 0,
       "ncols": null,
       "nrows": null,
       "postfix": null,
       "prefix": "",
       "rate": null,
       "total": 94,
       "unit": "it",
       "unit_divisor": 1000,
       "unit_scale": false
      },
      "application/vnd.jupyter.widget-view+json": {
       "model_id": "bbbdd1c2039643dcaef0f6d4f2ed27fc",
       "version_major": 2,
       "version_minor": 0
      },
      "text/plain": [
       "  0%|          | 0/94 [00:00<?, ?it/s]"
      ]
     },
     "metadata": {},
     "output_type": "display_data"
    },
    {
     "name": "stdout",
     "output_type": "stream",
     "text": [
      "accuracy for individual traces is [1.0, 0.977, 0.841, 0.888, 0.997, 0.924, 0.999, 0.918, 0.592, 0.991, 0.994, 0.93, 0.545, 0.999, 0.734, 0.967, 0.545, 0.979, 1.0, 0.956, 0.975, 0.994, 0.983, 0.998, 0.966, 1.0, 0.9, 0.904, 0.959, 1.0, 0.766, 0.541, 0.983, 0.556, 0.99, 0.912, 0.865, 0.898, 0.964, 0.983, 0.981, 0.998, 0.962, 1.0, 1.0, 0.782, 0.531, 0.942, 0.853, 0.978, 1.0, 0.913, 0.527, 0.707, 1.0, 0.514, 0.948, 0.845, 0.893, 0.931, 0.985, 0.522, 0.983, 0.999, 0.835, 0.698, 0.805, 0.845, 0.753, 0.984, 0.832, 1.0, 0.821, 0.569, 0.912, 0.797, 0.995, 0.998, 0.924, 1.0, 0.736, 0.601, 0.754, 0.753, 0.997, 0.993, 0.763, 0.595, 0.926, 0.947, 0.772, 0.964, 0.867, 0.985]\n",
      "overall average accuracy is 0.8737021276595751\n",
      "for this dataset, noise is 0.35, transition_rate is 0.25\n",
      "traces are of shape:(93, 1000, 2)\n",
      "got 93 traces containing 2 features: DD, DA\n",
      "\n",
      "labels are of shape:(93, 1000)\n",
      "got labels for 93 traces\n",
      "\n"
     ]
    },
    {
     "data": {
      "application/json": {
       "ascii": false,
       "bar_format": null,
       "colour": null,
       "elapsed": 0.0060007572174072266,
       "initial": 0,
       "n": 0,
       "ncols": null,
       "nrows": null,
       "postfix": null,
       "prefix": "",
       "rate": null,
       "total": 93,
       "unit": "it",
       "unit_divisor": 1000,
       "unit_scale": false
      },
      "application/vnd.jupyter.widget-view+json": {
       "model_id": "25af022282dc47e9814bca0792175616",
       "version_major": 2,
       "version_minor": 0
      },
      "text/plain": [
       "  0%|          | 0/93 [00:00<?, ?it/s]"
      ]
     },
     "metadata": {},
     "output_type": "display_data"
    },
    {
     "name": "stdout",
     "output_type": "stream",
     "text": [
      "accuracy for individual traces is [0.999, 0.874, 0.991, 1.0, 0.998, 0.98, 0.889, 0.806, 0.512, 0.978, 0.971, 0.992, 0.973, 0.528, 0.591, 0.699, 0.803, 1.0, 0.978, 1.0, 0.918, 0.982, 0.92, 0.891, 0.935, 0.935, 0.912, 0.68, 0.967, 0.909, 0.59, 0.995, 0.953, 0.96, 0.913, 1.0, 0.871, 0.999, 0.964, 0.858, 0.996, 0.973, 0.862, 0.999, 0.806, 0.965, 0.963, 0.745, 0.826, 0.99, 0.959, 0.839, 1.0, 0.769, 1.0, 0.702, 0.888, 0.955, 0.898, 0.986, 0.999, 0.99, 0.996, 0.632, 0.995, 0.889, 1.0, 0.941, 1.0, 0.696, 0.996, 0.838, 0.761, 0.94, 0.971, 1.0, 0.999, 1.0, 0.812, 0.53, 1.0, 0.98, 0.764, 0.912, 0.945, 0.944, 1.0, 1.0, 0.692, 0.993, 1.0, 0.608, 0.991]\n",
      "overall average accuracy is 0.8994516129032256\n",
      "for this dataset, noise is 0.35, transition_rate is 0.30\n",
      "traces are of shape:(93, 1000, 2)\n",
      "got 93 traces containing 2 features: DD, DA\n",
      "\n",
      "labels are of shape:(93, 1000)\n",
      "got labels for 93 traces\n",
      "\n"
     ]
    },
    {
     "data": {
      "application/json": {
       "ascii": false,
       "bar_format": null,
       "colour": null,
       "elapsed": 0.003999471664428711,
       "initial": 0,
       "n": 0,
       "ncols": null,
       "nrows": null,
       "postfix": null,
       "prefix": "",
       "rate": null,
       "total": 93,
       "unit": "it",
       "unit_divisor": 1000,
       "unit_scale": false
      },
      "application/vnd.jupyter.widget-view+json": {
       "model_id": "4e0151ad728d47e0b84db0da1aca2a68",
       "version_major": 2,
       "version_minor": 0
      },
      "text/plain": [
       "  0%|          | 0/93 [00:00<?, ?it/s]"
      ]
     },
     "metadata": {},
     "output_type": "display_data"
    },
    {
     "name": "stdout",
     "output_type": "stream",
     "text": [
      "accuracy for individual traces is [0.997, 0.993, 0.571, 0.971, 1.0, 0.833, 0.921, 0.976, 1.0, 0.992, 0.992, 0.996, 0.976, 1.0, 0.799, 0.636, 0.957, 0.87, 0.548, 0.956, 0.999, 0.986, 0.908, 0.539, 0.822, 0.989, 0.977, 0.965, 0.92, 0.916, 0.993, 0.997, 1.0, 0.954, 0.59, 0.749, 1.0, 0.525, 0.93, 0.962, 0.966, 0.967, 0.8, 0.849, 0.996, 0.929, 0.913, 0.969, 0.877, 0.998, 0.952, 0.899, 0.992, 0.998, 0.987, 0.999, 0.771, 0.973, 0.539, 0.99, 1.0, 0.844, 0.878, 0.994, 1.0, 0.993, 1.0, 0.842, 0.994, 0.987, 0.999, 0.914, 0.992, 0.995, 0.981, 0.726, 0.999, 1.0, 0.944, 0.854, 0.869, 0.992, 0.765, 0.973, 0.998, 0.946, 0.951, 0.872, 0.9, 0.575, 1.0, 0.838, 0.995]\n",
      "overall average accuracy is 0.9105268817204303\n",
      "for this dataset, noise is 0.35, transition_rate is 0.35\n",
      "traces are of shape:(93, 1000, 2)\n",
      "got 93 traces containing 2 features: DD, DA\n",
      "\n",
      "labels are of shape:(93, 1000)\n",
      "got labels for 93 traces\n",
      "\n"
     ]
    },
    {
     "data": {
      "application/json": {
       "ascii": false,
       "bar_format": null,
       "colour": null,
       "elapsed": 0.003999233245849609,
       "initial": 0,
       "n": 0,
       "ncols": null,
       "nrows": null,
       "postfix": null,
       "prefix": "",
       "rate": null,
       "total": 93,
       "unit": "it",
       "unit_divisor": 1000,
       "unit_scale": false
      },
      "application/vnd.jupyter.widget-view+json": {
       "model_id": "24687cf1f5fc48139734f0c88d71d041",
       "version_major": 2,
       "version_minor": 0
      },
      "text/plain": [
       "  0%|          | 0/93 [00:00<?, ?it/s]"
      ]
     },
     "metadata": {},
     "output_type": "display_data"
    },
    {
     "name": "stdout",
     "output_type": "stream",
     "text": [
      "accuracy for individual traces is [0.659, 1.0, 0.957, 0.895, 0.648, 0.997, 0.992, 0.883, 0.972, 0.98, 0.981, 0.938, 0.909, 0.98, 0.972, 0.998, 0.862, 0.97, 0.601, 0.905, 0.998, 0.562, 0.804, 0.591, 0.587, 0.976, 1.0, 0.937, 0.889, 0.979, 0.995, 0.999, 1.0, 0.642, 0.84, 0.998, 0.999, 0.827, 0.779, 0.959, 0.792, 0.932, 0.903, 0.982, 1.0, 0.581, 0.517, 0.797, 0.961, 0.854, 1.0, 0.995, 0.583, 0.932, 0.896, 0.993, 0.99, 0.581, 0.865, 1.0, 0.942, 0.55, 0.989, 0.787, 0.983, 0.797, 0.862, 1.0, 0.979, 0.605, 0.988, 0.957, 0.832, 0.553, 0.967, 0.989, 0.973, 0.981, 1.0, 0.996, 0.716, 0.731, 0.947, 0.971, 0.987, 0.892, 0.88, 0.929, 0.95, 0.986, 0.572, 0.988, 0.896]\n",
      "overall average accuracy is 0.8794516129032257\n",
      "for this dataset, noise is 0.35, transition_rate is 0.40\n",
      "traces are of shape:(93, 1000, 2)\n",
      "got 93 traces containing 2 features: DD, DA\n",
      "\n",
      "labels are of shape:(93, 1000)\n",
      "got labels for 93 traces\n",
      "\n"
     ]
    },
    {
     "data": {
      "application/json": {
       "ascii": false,
       "bar_format": null,
       "colour": null,
       "elapsed": 0.0070002079010009766,
       "initial": 0,
       "n": 0,
       "ncols": null,
       "nrows": null,
       "postfix": null,
       "prefix": "",
       "rate": null,
       "total": 93,
       "unit": "it",
       "unit_divisor": 1000,
       "unit_scale": false
      },
      "application/vnd.jupyter.widget-view+json": {
       "model_id": "85307604b51e4d27871fdb8d4bc9492f",
       "version_major": 2,
       "version_minor": 0
      },
      "text/plain": [
       "  0%|          | 0/93 [00:00<?, ?it/s]"
      ]
     },
     "metadata": {},
     "output_type": "display_data"
    },
    {
     "name": "stdout",
     "output_type": "stream",
     "text": [
      "accuracy for individual traces is [0.923, 0.921, 0.947, 0.979, 0.983, 0.956, 0.995, 0.639, 0.866, 0.53, 0.975, 0.634, 0.998, 1.0, 1.0, 0.961, 0.994, 0.99, 0.926, 0.986, 0.64, 0.942, 0.955, 0.745, 0.924, 0.909, 0.999, 0.995, 0.979, 0.539, 0.981, 0.992, 0.983, 0.999, 0.922, 0.994, 0.967, 1.0, 0.998, 0.993, 0.788, 0.999, 0.766, 0.972, 0.972, 0.991, 0.997, 0.997, 0.836, 1.0, 0.984, 0.983, 0.972, 0.824, 0.886, 0.543, 0.871, 0.949, 0.985, 0.979, 0.533, 1.0, 0.874, 0.909, 1.0, 0.983, 0.999, 1.0, 0.913, 1.0, 0.526, 0.996, 0.943, 0.575, 0.982, 0.992, 0.941, 0.998, 0.891, 0.869, 1.0, 0.891, 0.97, 0.892, 0.611, 0.99, 0.972, 1.0, 0.83, 0.656, 0.927, 0.92, 0.526]\n",
      "overall average accuracy is 0.9038924731182796\n",
      "for this dataset, noise is 0.35, transition_rate is 0.45\n",
      "traces are of shape:(90, 1000, 2)\n",
      "got 90 traces containing 2 features: DD, DA\n",
      "\n",
      "labels are of shape:(90, 1000)\n",
      "got labels for 90 traces\n",
      "\n"
     ]
    },
    {
     "data": {
      "application/json": {
       "ascii": false,
       "bar_format": null,
       "colour": null,
       "elapsed": 0.004999637603759766,
       "initial": 0,
       "n": 0,
       "ncols": null,
       "nrows": null,
       "postfix": null,
       "prefix": "",
       "rate": null,
       "total": 90,
       "unit": "it",
       "unit_divisor": 1000,
       "unit_scale": false
      },
      "application/vnd.jupyter.widget-view+json": {
       "model_id": "fbfb1906119f47fd90538f370a3dec84",
       "version_major": 2,
       "version_minor": 0
      },
      "text/plain": [
       "  0%|          | 0/90 [00:00<?, ?it/s]"
      ]
     },
     "metadata": {},
     "output_type": "display_data"
    },
    {
     "name": "stdout",
     "output_type": "stream",
     "text": [
      "accuracy for individual traces is [0.971, 0.84, 0.55, 0.534, 0.927, 0.82, 0.689, 0.56, 0.644, 1.0, 0.747, 0.996, 0.501, 0.902, 0.687, 0.965, 0.584, 0.549, 0.644, 0.977, 0.561, 0.653, 0.568, 0.548, 0.576, 0.966, 0.778, 0.988, 0.689, 0.858, 0.995, 0.853, 0.802, 0.535, 0.516, 0.981, 0.524, 0.953, 0.668, 0.998, 0.889, 0.717, 0.775, 0.721, 0.956, 0.976, 0.866, 1.0, 1.0, 0.6, 1.0, 0.853, 0.563, 0.609, 0.601, 0.973, 0.873, 1.0, 0.916, 0.848, 0.935, 0.988, 0.99, 0.982, 1.0, 0.903, 0.963, 0.999, 0.509, 0.795, 0.652, 0.829, 0.945, 0.875, 0.856, 0.5, 0.941, 1.0, 0.539, 1.0, 0.81, 0.987, 0.994, 1.0, 0.8, 0.869, 0.711, 0.996, 0.989, 0.605]\n",
      "overall average accuracy is 0.8088333333333335\n",
      "for this dataset, noise is 0.35, transition_rate is 0.50\n",
      "traces are of shape:(93, 1000, 2)\n",
      "got 93 traces containing 2 features: DD, DA\n",
      "\n",
      "labels are of shape:(93, 1000)\n",
      "got labels for 93 traces\n",
      "\n"
     ]
    },
    {
     "data": {
      "application/json": {
       "ascii": false,
       "bar_format": null,
       "colour": null,
       "elapsed": 0.003000020980834961,
       "initial": 0,
       "n": 0,
       "ncols": null,
       "nrows": null,
       "postfix": null,
       "prefix": "",
       "rate": null,
       "total": 93,
       "unit": "it",
       "unit_divisor": 1000,
       "unit_scale": false
      },
      "application/vnd.jupyter.widget-view+json": {
       "model_id": "184d80a22006489f895c4aef2c5bead0",
       "version_major": 2,
       "version_minor": 0
      },
      "text/plain": [
       "  0%|          | 0/93 [00:00<?, ?it/s]"
      ]
     },
     "metadata": {},
     "output_type": "display_data"
    },
    {
     "name": "stdout",
     "output_type": "stream",
     "text": [
      "accuracy for individual traces is [0.519, 0.925, 0.809, 0.95, 0.991, 0.987, 0.826, 0.676, 1.0, 0.774, 0.847, 0.973, 0.82, 0.922, 1.0, 0.841, 0.59, 0.909, 0.839, 0.999, 0.979, 0.815, 0.991, 1.0, 0.81, 1.0, 1.0, 0.605, 0.683, 0.566, 1.0, 0.974, 0.944, 1.0, 0.736, 0.896, 0.917, 0.545, 0.561, 0.679, 0.541, 0.541, 0.99, 0.999, 0.954, 0.926, 1.0, 0.841, 0.945, 0.779, 0.995, 0.996, 0.996, 0.94, 0.934, 0.625, 0.981, 0.521, 0.55, 0.973, 0.739, 0.943, 1.0, 0.998, 1.0, 0.862, 0.998, 0.571, 0.969, 1.0, 0.995, 1.0, 0.722, 0.815, 0.749, 0.892, 0.96, 0.952, 0.545, 0.528, 0.852, 0.997, 1.0, 0.681, 0.932, 0.755, 0.999, 1.0, 1.0, 0.769, 0.827, 0.848, 0.998]\n",
      "overall average accuracy is 0.858290322580645\n",
      "for this dataset, noise is 0.40, transition_rate is 0.05\n",
      "traces are of shape:(90, 1000, 2)\n",
      "got 90 traces containing 2 features: DD, DA\n",
      "\n",
      "labels are of shape:(90, 1000)\n",
      "got labels for 90 traces\n",
      "\n"
     ]
    },
    {
     "data": {
      "application/json": {
       "ascii": false,
       "bar_format": null,
       "colour": null,
       "elapsed": 0.0029997825622558594,
       "initial": 0,
       "n": 0,
       "ncols": null,
       "nrows": null,
       "postfix": null,
       "prefix": "",
       "rate": null,
       "total": 90,
       "unit": "it",
       "unit_divisor": 1000,
       "unit_scale": false
      },
      "application/vnd.jupyter.widget-view+json": {
       "model_id": "e63d0954e395432380ee468034c33d07",
       "version_major": 2,
       "version_minor": 0
      },
      "text/plain": [
       "  0%|          | 0/90 [00:00<?, ?it/s]"
      ]
     },
     "metadata": {},
     "output_type": "display_data"
    },
    {
     "name": "stdout",
     "output_type": "stream",
     "text": [
      "accuracy for individual traces is [1.0, 0.999, 0.988, 0.934, 0.863, 0.947, 0.991, 0.897, 1.0, 0.502, 1.0, 1.0, 0.993, 0.949, 0.968, 0.518, 0.577, 0.97, 0.992, 0.999, 0.991, 0.938, 0.997, 1.0, 0.994, 1.0, 0.911, 0.896, 1.0, 0.521, 0.955, 0.75, 0.994, 0.98, 0.944, 1.0, 0.998, 0.988, 0.999, 0.995, 1.0, 0.957, 0.935, 0.971, 0.999, 0.995, 0.873, 0.978, 0.997, 1.0, 0.993, 0.982, 0.995, 1.0, 0.993, 1.0, 0.896, 0.886, 0.99, 1.0, 0.824, 0.991, 0.936, 0.996, 0.998, 1.0, 0.983, 0.992, 0.892, 0.961, 0.94, 0.992, 0.826, 0.994, 0.994, 1.0, 0.983, 0.987, 0.924, 1.0, 0.998, 0.992, 0.912, 0.996, 0.58, 0.527, 0.951, 0.99, 1.0, 1.0]\n",
      "overall average accuracy is 0.9392999999999999\n",
      "for this dataset, noise is 0.40, transition_rate is 0.10\n",
      "traces are of shape:(91, 1000, 2)\n",
      "got 91 traces containing 2 features: DD, DA\n",
      "\n",
      "labels are of shape:(91, 1000)\n",
      "got labels for 91 traces\n",
      "\n"
     ]
    },
    {
     "data": {
      "application/json": {
       "ascii": false,
       "bar_format": null,
       "colour": null,
       "elapsed": 0.0038347244262695312,
       "initial": 0,
       "n": 0,
       "ncols": null,
       "nrows": null,
       "postfix": null,
       "prefix": "",
       "rate": null,
       "total": 91,
       "unit": "it",
       "unit_divisor": 1000,
       "unit_scale": false
      },
      "application/vnd.jupyter.widget-view+json": {
       "model_id": "3c371028828c48df8b8cad8fd82b1244",
       "version_major": 2,
       "version_minor": 0
      },
      "text/plain": [
       "  0%|          | 0/91 [00:00<?, ?it/s]"
      ]
     },
     "metadata": {},
     "output_type": "display_data"
    },
    {
     "name": "stdout",
     "output_type": "stream",
     "text": [
      "accuracy for individual traces is [0.999, 0.925, 0.999, 0.895, 0.996, 0.954, 0.837, 0.593, 1.0, 0.948, 0.507, 0.977, 0.947, 0.738, 0.99, 0.861, 0.962, 0.879, 0.991, 0.935, 0.992, 0.517, 0.808, 0.979, 0.84, 0.98, 0.982, 0.902, 0.574, 0.999, 0.969, 1.0, 0.892, 0.998, 0.933, 0.949, 0.983, 0.976, 0.952, 0.877, 0.979, 1.0, 0.846, 0.501, 0.958, 0.94, 0.968, 0.999, 0.992, 0.958, 0.988, 0.926, 0.91, 0.997, 0.797, 0.986, 1.0, 0.999, 0.998, 0.819, 0.982, 0.932, 0.524, 1.0, 0.981, 0.971, 1.0, 0.532, 0.995, 0.867, 0.983, 0.926, 0.994, 0.999, 0.987, 0.927, 0.906, 0.523, 0.861, 0.994, 0.996, 0.952, 0.984, 0.98, 0.996, 0.546, 1.0, 0.982, 1.0, 0.92, 0.998]\n",
      "overall average accuracy is 0.9102637362637361\n",
      "for this dataset, noise is 0.40, transition_rate is 0.15\n",
      "traces are of shape:(93, 1000, 2)\n",
      "got 93 traces containing 2 features: DD, DA\n",
      "\n",
      "labels are of shape:(93, 1000)\n",
      "got labels for 93 traces\n",
      "\n"
     ]
    },
    {
     "data": {
      "application/json": {
       "ascii": false,
       "bar_format": null,
       "colour": null,
       "elapsed": 0.004002094268798828,
       "initial": 0,
       "n": 0,
       "ncols": null,
       "nrows": null,
       "postfix": null,
       "prefix": "",
       "rate": null,
       "total": 93,
       "unit": "it",
       "unit_divisor": 1000,
       "unit_scale": false
      },
      "application/vnd.jupyter.widget-view+json": {
       "model_id": "63e5f2dc7a1849db854b98a08691d52c",
       "version_major": 2,
       "version_minor": 0
      },
      "text/plain": [
       "  0%|          | 0/93 [00:00<?, ?it/s]"
      ]
     },
     "metadata": {},
     "output_type": "display_data"
    },
    {
     "name": "stdout",
     "output_type": "stream",
     "text": [
      "accuracy for individual traces is [0.997, 0.516, 0.954, 0.825, 0.819, 0.997, 0.994, 0.785, 0.834, 0.946, 0.998, 0.528, 0.551, 0.538, 0.821, 0.995, 0.842, 0.915, 0.854, 0.998, 0.998, 0.95, 0.838, 0.862, 0.999, 0.926, 1.0, 0.751, 0.871, 1.0, 0.984, 0.814, 0.991, 0.574, 0.92, 0.966, 0.552, 0.986, 0.96, 0.886, 0.989, 0.97, 0.876, 0.983, 0.994, 0.998, 0.974, 0.502, 0.787, 0.99, 0.991, 0.939, 0.789, 0.882, 0.572, 0.708, 1.0, 0.972, 0.937, 0.996, 0.96, 1.0, 0.593, 0.926, 0.824, 0.914, 0.999, 0.672, 0.994, 0.955, 0.999, 1.0, 0.944, 0.979, 0.751, 0.955, 0.952, 0.957, 1.0, 0.883, 1.0, 0.968, 0.567, 1.0, 0.636, 0.981, 0.983, 0.986, 0.999, 1.0, 0.995, 0.915, 0.911]\n",
      "overall average accuracy is 0.8879784946236559\n",
      "for this dataset, noise is 0.40, transition_rate is 0.20\n",
      "traces are of shape:(89, 1000, 2)\n",
      "got 89 traces containing 2 features: DD, DA\n",
      "\n",
      "labels are of shape:(89, 1000)\n",
      "got labels for 89 traces\n",
      "\n"
     ]
    },
    {
     "data": {
      "application/json": {
       "ascii": false,
       "bar_format": null,
       "colour": null,
       "elapsed": 0.0029969215393066406,
       "initial": 0,
       "n": 0,
       "ncols": null,
       "nrows": null,
       "postfix": null,
       "prefix": "",
       "rate": null,
       "total": 89,
       "unit": "it",
       "unit_divisor": 1000,
       "unit_scale": false
      },
      "application/vnd.jupyter.widget-view+json": {
       "model_id": "0569634b309c438dbc6f6ba107ae53e0",
       "version_major": 2,
       "version_minor": 0
      },
      "text/plain": [
       "  0%|          | 0/89 [00:00<?, ?it/s]"
      ]
     },
     "metadata": {},
     "output_type": "display_data"
    },
    {
     "name": "stdout",
     "output_type": "stream",
     "text": [
      "accuracy for individual traces is [0.875, 0.939, 0.931, 0.999, 0.95, 0.998, 0.978, 0.998, 0.733, 0.998, 0.997, 1.0, 0.948, 0.69, 0.51, 0.761, 0.79, 0.999, 0.9, 1.0, 1.0, 1.0, 0.999, 0.968, 0.991, 0.584, 0.838, 0.815, 0.774, 0.903, 0.802, 0.952, 0.595, 0.915, 0.908, 0.973, 0.953, 0.932, 0.968, 0.999, 1.0, 0.999, 0.994, 0.89, 0.724, 0.906, 0.936, 0.872, 0.879, 0.993, 0.86, 0.933, 0.72, 0.866, 0.975, 0.995, 0.998, 0.997, 0.554, 0.991, 0.933, 0.957, 0.765, 0.834, 0.959, 0.91, 0.875, 0.872, 0.775, 0.921, 0.986, 0.879, 0.988, 0.922, 1.0, 0.821, 0.94, 0.523, 0.67, 0.848, 0.952, 0.943, 0.969, 0.991, 0.516, 0.83, 0.997, 0.993, 0.9]\n",
      "overall average accuracy is 0.8922921348314605\n",
      "for this dataset, noise is 0.40, transition_rate is 0.25\n",
      "traces are of shape:(89, 1000, 2)\n",
      "got 89 traces containing 2 features: DD, DA\n",
      "\n",
      "labels are of shape:(89, 1000)\n",
      "got labels for 89 traces\n",
      "\n"
     ]
    },
    {
     "data": {
      "application/json": {
       "ascii": false,
       "bar_format": null,
       "colour": null,
       "elapsed": 0.00499415397644043,
       "initial": 0,
       "n": 0,
       "ncols": null,
       "nrows": null,
       "postfix": null,
       "prefix": "",
       "rate": null,
       "total": 89,
       "unit": "it",
       "unit_divisor": 1000,
       "unit_scale": false
      },
      "application/vnd.jupyter.widget-view+json": {
       "model_id": "5a656121a24b49cea71eb3b65fe70b93",
       "version_major": 2,
       "version_minor": 0
      },
      "text/plain": [
       "  0%|          | 0/89 [00:00<?, ?it/s]"
      ]
     },
     "metadata": {},
     "output_type": "display_data"
    },
    {
     "name": "stdout",
     "output_type": "stream",
     "text": [
      "accuracy for individual traces is [0.821, 1.0, 0.525, 0.936, 0.996, 1.0, 0.534, 0.845, 0.995, 0.995, 0.96, 1.0, 0.821, 0.988, 0.925, 1.0, 0.991, 0.945, 0.927, 1.0, 0.798, 0.953, 0.97, 0.842, 0.878, 0.807, 0.983, 0.944, 0.965, 0.815, 1.0, 0.539, 1.0, 0.979, 0.682, 0.982, 1.0, 0.998, 0.547, 0.929, 0.64, 0.989, 1.0, 0.98, 0.97, 0.552, 0.988, 0.897, 0.996, 0.837, 0.897, 0.918, 0.992, 0.999, 0.998, 0.599, 0.977, 0.693, 0.937, 0.965, 0.989, 0.948, 0.972, 0.796, 0.996, 0.962, 0.838, 0.998, 0.996, 0.805, 0.603, 1.0, 0.955, 0.766, 0.988, 0.968, 0.6, 0.945, 0.976, 0.977, 0.946, 0.935, 0.972, 0.868, 0.745, 0.991, 0.585, 0.847, 0.959]\n",
      "overall average accuracy is 0.8939887640449433\n",
      "for this dataset, noise is 0.40, transition_rate is 0.30\n",
      "traces are of shape:(91, 1000, 2)\n",
      "got 91 traces containing 2 features: DD, DA\n",
      "\n",
      "labels are of shape:(91, 1000)\n",
      "got labels for 91 traces\n",
      "\n"
     ]
    },
    {
     "data": {
      "application/json": {
       "ascii": false,
       "bar_format": null,
       "colour": null,
       "elapsed": 0.004000663757324219,
       "initial": 0,
       "n": 0,
       "ncols": null,
       "nrows": null,
       "postfix": null,
       "prefix": "",
       "rate": null,
       "total": 91,
       "unit": "it",
       "unit_divisor": 1000,
       "unit_scale": false
      },
      "application/vnd.jupyter.widget-view+json": {
       "model_id": "0259433af3394deeb3b59e0ce131fa50",
       "version_major": 2,
       "version_minor": 0
      },
      "text/plain": [
       "  0%|          | 0/91 [00:00<?, ?it/s]"
      ]
     },
     "metadata": {},
     "output_type": "display_data"
    },
    {
     "name": "stdout",
     "output_type": "stream",
     "text": [
      "accuracy for individual traces is [1.0, 0.89, 0.873, 0.986, 0.641, 0.961, 0.504, 0.605, 0.913, 0.796, 0.999, 0.99, 0.617, 0.99, 0.584, 0.798, 1.0, 0.984, 0.886, 0.842, 0.998, 0.997, 0.523, 0.992, 1.0, 0.912, 0.91, 0.918, 0.937, 0.997, 0.927, 0.928, 0.918, 0.945, 0.623, 0.855, 1.0, 0.764, 0.883, 0.964, 0.565, 0.904, 0.908, 0.624, 0.554, 0.916, 0.664, 0.999, 1.0, 0.944, 0.962, 0.801, 0.934, 0.99, 0.857, 0.998, 1.0, 0.55, 1.0, 0.87, 0.998, 0.984, 0.508, 0.968, 0.995, 0.999, 0.997, 0.795, 0.729, 0.963, 0.727, 0.944, 1.0, 0.811, 0.961, 0.996, 0.996, 0.607, 0.623, 0.548, 1.0, 0.966, 0.999, 0.954, 0.54, 0.947, 0.534, 0.732, 0.584, 0.727, 0.989]\n",
      "overall average accuracy is 0.8572637362637365\n",
      "for this dataset, noise is 0.40, transition_rate is 0.35\n",
      "traces are of shape:(89, 1000, 2)\n",
      "got 89 traces containing 2 features: DD, DA\n",
      "\n",
      "labels are of shape:(89, 1000)\n",
      "got labels for 89 traces\n",
      "\n"
     ]
    },
    {
     "data": {
      "application/json": {
       "ascii": false,
       "bar_format": null,
       "colour": null,
       "elapsed": 0.004998922348022461,
       "initial": 0,
       "n": 0,
       "ncols": null,
       "nrows": null,
       "postfix": null,
       "prefix": "",
       "rate": null,
       "total": 89,
       "unit": "it",
       "unit_divisor": 1000,
       "unit_scale": false
      },
      "application/vnd.jupyter.widget-view+json": {
       "model_id": "d82f4c0bea704d1fba00ec1108cbd76d",
       "version_major": 2,
       "version_minor": 0
      },
      "text/plain": [
       "  0%|          | 0/89 [00:00<?, ?it/s]"
      ]
     },
     "metadata": {},
     "output_type": "display_data"
    },
    {
     "name": "stdout",
     "output_type": "stream",
     "text": [
      "accuracy for individual traces is [0.985, 0.906, 0.973, 0.544, 0.608, 0.603, 0.534, 0.998, 0.957, 0.829, 0.729, 1.0, 0.991, 1.0, 0.88, 0.994, 0.985, 0.978, 0.527, 0.535, 0.928, 0.903, 0.705, 0.942, 1.0, 0.794, 0.94, 1.0, 0.999, 0.85, 0.807, 0.962, 1.0, 0.944, 0.951, 0.955, 0.924, 0.906, 0.794, 0.97, 0.963, 0.595, 0.509, 0.581, 0.89, 0.89, 0.984, 0.954, 0.923, 0.877, 1.0, 0.732, 0.691, 0.992, 0.953, 0.985, 0.998, 0.517, 0.859, 0.935, 0.998, 0.828, 0.797, 0.703, 0.926, 0.945, 0.996, 0.964, 0.91, 0.989, 0.901, 0.986, 0.9, 0.839, 0.531, 0.846, 0.983, 0.95, 0.976, 0.551, 0.581, 0.876, 1.0, 0.991, 0.637, 0.725, 0.989, 0.83, 0.845]\n",
      "overall average accuracy is 0.8612471910112363\n",
      "for this dataset, noise is 0.40, transition_rate is 0.40\n",
      "traces are of shape:(90, 1000, 2)\n",
      "got 90 traces containing 2 features: DD, DA\n",
      "\n",
      "labels are of shape:(90, 1000)\n",
      "got labels for 90 traces\n",
      "\n"
     ]
    },
    {
     "data": {
      "application/json": {
       "ascii": false,
       "bar_format": null,
       "colour": null,
       "elapsed": 0.004003763198852539,
       "initial": 0,
       "n": 0,
       "ncols": null,
       "nrows": null,
       "postfix": null,
       "prefix": "",
       "rate": null,
       "total": 90,
       "unit": "it",
       "unit_divisor": 1000,
       "unit_scale": false
      },
      "application/vnd.jupyter.widget-view+json": {
       "model_id": "72f9fc6f59b0418ab94e675e00435654",
       "version_major": 2,
       "version_minor": 0
      },
      "text/plain": [
       "  0%|          | 0/90 [00:00<?, ?it/s]"
      ]
     },
     "metadata": {},
     "output_type": "display_data"
    },
    {
     "name": "stdout",
     "output_type": "stream",
     "text": [
      "accuracy for individual traces is [0.789, 0.835, 0.989, 0.568, 0.581, 0.528, 0.802, 0.933, 0.661, 0.536, 0.996, 1.0, 0.737, 0.592, 0.993, 0.768, 0.898, 0.993, 0.913, 1.0, 0.999, 0.727, 0.713, 0.998, 0.877, 0.986, 0.785, 0.962, 0.752, 0.889, 0.991, 0.984, 1.0, 0.881, 0.793, 0.713, 0.939, 0.816, 0.523, 0.956, 0.995, 0.859, 0.992, 0.944, 0.6, 0.71, 0.997, 0.783, 0.655, 1.0, 0.535, 0.97, 0.997, 0.969, 1.0, 0.851, 0.989, 0.958, 0.998, 0.948, 0.921, 0.541, 0.934, 0.522, 0.725, 0.889, 0.589, 0.97, 0.999, 0.875, 0.886, 0.922, 0.999, 0.921, 0.884, 0.909, 0.85, 0.998, 0.977, 0.998, 0.767, 0.511, 0.945, 0.509, 0.968, 0.968, 0.997, 0.999, 0.976, 0.996]\n",
      "overall average accuracy is 0.8565666666666665\n",
      "for this dataset, noise is 0.40, transition_rate is 0.45\n",
      "traces are of shape:(94, 1000, 2)\n",
      "got 94 traces containing 2 features: DD, DA\n",
      "\n",
      "labels are of shape:(94, 1000)\n",
      "got labels for 94 traces\n",
      "\n"
     ]
    },
    {
     "data": {
      "application/json": {
       "ascii": false,
       "bar_format": null,
       "colour": null,
       "elapsed": 0.003999233245849609,
       "initial": 0,
       "n": 0,
       "ncols": null,
       "nrows": null,
       "postfix": null,
       "prefix": "",
       "rate": null,
       "total": 94,
       "unit": "it",
       "unit_divisor": 1000,
       "unit_scale": false
      },
      "application/vnd.jupyter.widget-view+json": {
       "model_id": "cd2bd47c18d746a0a4f4a743094db753",
       "version_major": 2,
       "version_minor": 0
      },
      "text/plain": [
       "  0%|          | 0/94 [00:00<?, ?it/s]"
      ]
     },
     "metadata": {},
     "output_type": "display_data"
    },
    {
     "name": "stdout",
     "output_type": "stream",
     "text": [
      "accuracy for individual traces is [0.973, 0.578, 0.842, 0.985, 0.685, 0.755, 0.905, 1.0, 1.0, 0.876, 0.882, 0.962, 0.979, 0.706, 0.986, 0.969, 0.977, 0.927, 0.915, 0.969, 0.99, 0.759, 0.728, 0.956, 0.898, 0.549, 0.998, 0.935, 0.865, 0.867, 0.859, 0.878, 0.621, 0.978, 0.997, 0.553, 0.546, 0.549, 0.876, 0.859, 0.982, 1.0, 0.863, 0.831, 0.85, 0.997, 0.999, 0.585, 0.848, 1.0, 0.656, 0.997, 0.63, 0.99, 0.838, 0.868, 0.762, 0.981, 0.948, 0.947, 0.799, 0.784, 0.85, 0.948, 0.999, 0.947, 0.977, 1.0, 0.974, 0.993, 0.879, 0.765, 0.974, 1.0, 1.0, 0.504, 0.55, 0.923, 0.946, 0.985, 0.889, 0.809, 0.996, 0.996, 0.765, 0.985, 0.841, 1.0, 0.847, 0.944, 0.813, 0.951, 0.897, 0.979]\n",
      "overall average accuracy is 0.8746063829787233\n",
      "for this dataset, noise is 0.40, transition_rate is 0.50\n",
      "traces are of shape:(88, 1000, 2)\n",
      "got 88 traces containing 2 features: DD, DA\n",
      "\n",
      "labels are of shape:(88, 1000)\n",
      "got labels for 88 traces\n",
      "\n"
     ]
    },
    {
     "data": {
      "application/json": {
       "ascii": false,
       "bar_format": null,
       "colour": null,
       "elapsed": 0.0049932003021240234,
       "initial": 0,
       "n": 0,
       "ncols": null,
       "nrows": null,
       "postfix": null,
       "prefix": "",
       "rate": null,
       "total": 88,
       "unit": "it",
       "unit_divisor": 1000,
       "unit_scale": false
      },
      "application/vnd.jupyter.widget-view+json": {
       "model_id": "a5c77783050f4b69bfb9608ec23dabf2",
       "version_major": 2,
       "version_minor": 0
      },
      "text/plain": [
       "  0%|          | 0/88 [00:00<?, ?it/s]"
      ]
     },
     "metadata": {},
     "output_type": "display_data"
    },
    {
     "name": "stdout",
     "output_type": "stream",
     "text": [
      "accuracy for individual traces is [0.997, 1.0, 0.98, 0.924, 0.532, 1.0, 0.921, 0.996, 0.991, 0.713, 0.986, 0.967, 0.947, 1.0, 0.99, 0.977, 0.97, 0.957, 0.834, 0.975, 0.915, 0.614, 0.993, 1.0, 0.667, 1.0, 0.944, 0.679, 0.789, 0.737, 0.998, 0.997, 0.995, 0.978, 0.661, 0.761, 0.853, 0.999, 0.689, 0.67, 0.967, 0.986, 0.877, 0.846, 0.625, 1.0, 0.871, 1.0, 0.907, 0.89, 0.999, 0.962, 0.997, 0.866, 0.979, 0.898, 0.886, 0.999, 0.94, 0.881, 0.98, 1.0, 0.562, 0.707, 0.893, 0.958, 0.747, 0.997, 0.908, 0.942, 0.992, 1.0, 0.811, 0.588, 0.978, 0.56, 0.87, 0.775, 0.835, 0.805, 0.939, 0.998, 0.898, 0.779, 0.994, 0.992, 0.913, 0.913]\n",
      "overall average accuracy is 0.8898409090909092\n",
      "for this dataset, noise is 0.45, transition_rate is 0.05\n",
      "traces are of shape:(92, 1000, 2)\n",
      "got 92 traces containing 2 features: DD, DA\n",
      "\n",
      "labels are of shape:(92, 1000)\n",
      "got labels for 92 traces\n",
      "\n"
     ]
    },
    {
     "data": {
      "application/json": {
       "ascii": false,
       "bar_format": null,
       "colour": null,
       "elapsed": 0.004999876022338867,
       "initial": 0,
       "n": 0,
       "ncols": null,
       "nrows": null,
       "postfix": null,
       "prefix": "",
       "rate": null,
       "total": 92,
       "unit": "it",
       "unit_divisor": 1000,
       "unit_scale": false
      },
      "application/vnd.jupyter.widget-view+json": {
       "model_id": "eb5fd6aebb0447978d6cca3dae15ea51",
       "version_major": 2,
       "version_minor": 0
      },
      "text/plain": [
       "  0%|          | 0/92 [00:00<?, ?it/s]"
      ]
     },
     "metadata": {},
     "output_type": "display_data"
    },
    {
     "name": "stdout",
     "output_type": "stream",
     "text": [
      "accuracy for individual traces is [0.967, 0.956, 0.981, 1.0, 1.0, 0.996, 0.878, 0.946, 1.0, 0.959, 0.922, 0.952, 0.518, 0.999, 0.996, 0.997, 0.563, 0.622, 0.889, 0.679, 0.923, 0.881, 0.999, 0.978, 0.994, 1.0, 0.504, 1.0, 0.998, 0.997, 1.0, 0.898, 0.85, 0.975, 0.953, 0.983, 0.987, 1.0, 0.937, 0.944, 0.973, 0.977, 0.991, 0.996, 0.999, 0.946, 0.983, 0.985, 0.997, 1.0, 0.949, 0.969, 0.964, 0.989, 0.996, 1.0, 0.905, 0.823, 0.937, 0.994, 0.947, 0.793, 0.531, 0.981, 0.982, 0.997, 1.0, 0.968, 0.998, 0.824, 0.94, 0.978, 0.973, 0.988, 0.936, 1.0, 0.995, 0.931, 0.98, 0.872, 0.895, 0.993, 0.865, 0.994, 0.887, 1.0, 1.0, 0.629, 0.946, 0.976, 0.927, 1.0]\n",
      "overall average accuracy is 0.9317391304347826\n",
      "for this dataset, noise is 0.45, transition_rate is 0.10\n",
      "traces are of shape:(92, 1000, 2)\n",
      "got 92 traces containing 2 features: DD, DA\n",
      "\n",
      "labels are of shape:(92, 1000)\n",
      "got labels for 92 traces\n",
      "\n"
     ]
    },
    {
     "data": {
      "application/json": {
       "ascii": false,
       "bar_format": null,
       "colour": null,
       "elapsed": 0.003988981246948242,
       "initial": 0,
       "n": 0,
       "ncols": null,
       "nrows": null,
       "postfix": null,
       "prefix": "",
       "rate": null,
       "total": 92,
       "unit": "it",
       "unit_divisor": 1000,
       "unit_scale": false
      },
      "application/vnd.jupyter.widget-view+json": {
       "model_id": "d4f82791921b42948b405f99645cea75",
       "version_major": 2,
       "version_minor": 0
      },
      "text/plain": [
       "  0%|          | 0/92 [00:00<?, ?it/s]"
      ]
     },
     "metadata": {},
     "output_type": "display_data"
    },
    {
     "name": "stdout",
     "output_type": "stream",
     "text": [
      "accuracy for individual traces is [0.974, 0.918, 0.539, 0.981, 0.98, 0.991, 0.954, 0.983, 0.879, 0.965, 0.919, 0.952, 1.0, 0.966, 0.973, 1.0, 0.973, 0.927, 0.98, 0.976, 1.0, 0.922, 0.85, 0.517, 0.999, 0.92, 0.986, 0.784, 0.997, 0.994, 0.994, 0.997, 0.999, 0.998, 0.919, 0.601, 0.984, 0.897, 0.995, 0.857, 0.97, 0.916, 0.989, 0.902, 0.994, 0.886, 1.0, 0.775, 1.0, 0.872, 0.766, 0.946, 0.991, 0.997, 0.977, 1.0, 0.993, 0.955, 0.976, 0.986, 0.987, 1.0, 0.985, 0.974, 1.0, 0.557, 1.0, 0.959, 0.979, 0.848, 0.954, 0.973, 1.0, 0.934, 0.98, 0.903, 0.776, 0.95, 0.698, 0.555, 0.59, 0.945, 0.948, 0.988, 0.978, 0.985, 0.579, 1.0, 0.984, 0.823, 0.948, 0.998]\n",
      "overall average accuracy is 0.9207499999999994\n",
      "for this dataset, noise is 0.45, transition_rate is 0.15\n",
      "traces are of shape:(87, 1000, 2)\n",
      "got 87 traces containing 2 features: DD, DA\n",
      "\n",
      "labels are of shape:(87, 1000)\n",
      "got labels for 87 traces\n",
      "\n"
     ]
    },
    {
     "data": {
      "application/json": {
       "ascii": false,
       "bar_format": null,
       "colour": null,
       "elapsed": 0.004003763198852539,
       "initial": 0,
       "n": 0,
       "ncols": null,
       "nrows": null,
       "postfix": null,
       "prefix": "",
       "rate": null,
       "total": 87,
       "unit": "it",
       "unit_divisor": 1000,
       "unit_scale": false
      },
      "application/vnd.jupyter.widget-view+json": {
       "model_id": "6ca8cdc4b9d74ddfb20280089d9fc3b8",
       "version_major": 2,
       "version_minor": 0
      },
      "text/plain": [
       "  0%|          | 0/87 [00:00<?, ?it/s]"
      ]
     },
     "metadata": {},
     "output_type": "display_data"
    },
    {
     "name": "stdout",
     "output_type": "stream",
     "text": [
      "accuracy for individual traces is [0.987, 0.82, 0.887, 0.931, 0.985, 1.0, 0.992, 0.954, 0.968, 0.934, 0.972, 0.929, 1.0, 0.509, 0.781, 0.938, 0.792, 0.834, 0.945, 0.894, 0.95, 0.997, 0.995, 0.792, 0.99, 0.933, 0.942, 0.892, 0.596, 0.748, 0.94, 0.938, 1.0, 0.929, 0.978, 0.969, 0.816, 0.961, 0.999, 0.904, 0.982, 0.906, 0.998, 0.871, 0.962, 0.749, 0.855, 0.973, 0.919, 0.961, 1.0, 0.996, 0.892, 0.767, 0.842, 0.971, 0.779, 0.999, 0.996, 0.974, 0.773, 0.846, 1.0, 0.929, 0.563, 0.878, 0.918, 0.971, 0.97, 0.982, 0.958, 0.941, 0.905, 0.93, 0.651, 0.993, 0.983, 0.953, 0.956, 0.998, 0.999, 0.86, 0.999, 0.735, 0.587, 0.992, 0.56]\n",
      "overall average accuracy is 0.9027931034482761\n",
      "for this dataset, noise is 0.45, transition_rate is 0.20\n",
      "traces are of shape:(83, 1000, 2)\n",
      "got 83 traces containing 2 features: DD, DA\n",
      "\n",
      "labels are of shape:(83, 1000)\n",
      "got labels for 83 traces\n",
      "\n"
     ]
    },
    {
     "data": {
      "application/json": {
       "ascii": false,
       "bar_format": null,
       "colour": null,
       "elapsed": 0.003998756408691406,
       "initial": 0,
       "n": 0,
       "ncols": null,
       "nrows": null,
       "postfix": null,
       "prefix": "",
       "rate": null,
       "total": 83,
       "unit": "it",
       "unit_divisor": 1000,
       "unit_scale": false
      },
      "application/vnd.jupyter.widget-view+json": {
       "model_id": "cd9756202f18405588315a35e501cbda",
       "version_major": 2,
       "version_minor": 0
      },
      "text/plain": [
       "  0%|          | 0/83 [00:00<?, ?it/s]"
      ]
     },
     "metadata": {},
     "output_type": "display_data"
    },
    {
     "name": "stdout",
     "output_type": "stream",
     "text": [
      "accuracy for individual traces is [0.8, 0.875, 0.869, 0.54, 0.96, 0.818, 0.811, 0.977, 0.982, 0.923, 0.819, 0.943, 0.99, 0.686, 0.745, 0.899, 0.994, 0.965, 0.893, 0.998, 0.975, 0.827, 0.535, 0.787, 0.991, 0.849, 0.745, 1.0, 0.795, 0.984, 0.961, 0.975, 0.992, 0.588, 0.945, 0.859, 0.922, 1.0, 0.872, 0.847, 0.861, 0.796, 0.863, 0.81, 0.984, 0.879, 0.967, 0.8, 0.996, 0.728, 1.0, 0.952, 0.982, 0.96, 0.937, 0.867, 0.931, 0.973, 0.681, 0.986, 0.99, 0.669, 0.504, 0.885, 0.567, 0.801, 0.979, 0.942, 0.971, 0.986, 0.544, 0.99, 0.948, 0.901, 0.822, 0.999, 0.911, 0.877, 0.999, 0.51, 0.54, 0.958, 0.999]\n",
      "overall average accuracy is 0.8696506024096382\n",
      "for this dataset, noise is 0.45, transition_rate is 0.25\n",
      "traces are of shape:(93, 1000, 2)\n",
      "got 93 traces containing 2 features: DD, DA\n",
      "\n",
      "labels are of shape:(93, 1000)\n",
      "got labels for 93 traces\n",
      "\n"
     ]
    },
    {
     "data": {
      "application/json": {
       "ascii": false,
       "bar_format": null,
       "colour": null,
       "elapsed": 0.002995729446411133,
       "initial": 0,
       "n": 0,
       "ncols": null,
       "nrows": null,
       "postfix": null,
       "prefix": "",
       "rate": null,
       "total": 93,
       "unit": "it",
       "unit_divisor": 1000,
       "unit_scale": false
      },
      "application/vnd.jupyter.widget-view+json": {
       "model_id": "66d5737fa2e9424b9a588c1e1c74a05d",
       "version_major": 2,
       "version_minor": 0
      },
      "text/plain": [
       "  0%|          | 0/93 [00:00<?, ?it/s]"
      ]
     },
     "metadata": {},
     "output_type": "display_data"
    },
    {
     "name": "stdout",
     "output_type": "stream",
     "text": [
      "accuracy for individual traces is [0.993, 0.761, 0.928, 0.9, 0.989, 0.659, 0.773, 0.89, 0.918, 0.979, 0.899, 0.886, 0.957, 0.972, 0.86, 0.591, 0.668, 0.846, 0.984, 0.993, 0.914, 0.73, 0.722, 0.928, 0.995, 0.62, 0.968, 0.912, 0.732, 1.0, 0.577, 0.739, 0.882, 0.695, 0.983, 0.771, 0.918, 0.683, 1.0, 0.571, 0.647, 0.983, 0.944, 0.724, 0.939, 0.845, 0.516, 0.64, 0.999, 0.985, 0.91, 0.762, 0.517, 0.72, 0.999, 0.757, 0.793, 0.907, 0.973, 0.992, 0.989, 0.991, 0.654, 0.894, 0.593, 0.611, 0.925, 0.882, 1.0, 0.926, 0.575, 0.541, 0.968, 0.547, 0.926, 0.655, 0.763, 0.988, 0.954, 1.0, 0.825, 0.98, 0.959, 0.967, 0.845, 0.557, 0.84, 0.894, 0.996, 0.959, 0.997, 0.596, 0.932]\n",
      "overall average accuracy is 0.8394301075268819\n",
      "for this dataset, noise is 0.45, transition_rate is 0.30\n",
      "traces are of shape:(90, 1000, 2)\n",
      "got 90 traces containing 2 features: DD, DA\n",
      "\n",
      "labels are of shape:(90, 1000)\n",
      "got labels for 90 traces\n",
      "\n"
     ]
    },
    {
     "data": {
      "application/json": {
       "ascii": false,
       "bar_format": null,
       "colour": null,
       "elapsed": 0.004998922348022461,
       "initial": 0,
       "n": 0,
       "ncols": null,
       "nrows": null,
       "postfix": null,
       "prefix": "",
       "rate": null,
       "total": 90,
       "unit": "it",
       "unit_divisor": 1000,
       "unit_scale": false
      },
      "application/vnd.jupyter.widget-view+json": {
       "model_id": "f9ca659a5e714ce5bb21670319b613dc",
       "version_major": 2,
       "version_minor": 0
      },
      "text/plain": [
       "  0%|          | 0/90 [00:00<?, ?it/s]"
      ]
     },
     "metadata": {},
     "output_type": "display_data"
    },
    {
     "name": "stdout",
     "output_type": "stream",
     "text": [
      "accuracy for individual traces is [0.9, 0.972, 0.787, 0.882, 0.555, 0.997, 0.924, 0.817, 0.653, 0.554, 0.613, 0.799, 0.844, 0.976, 0.791, 0.978, 0.987, 0.97, 0.9, 0.98, 0.993, 0.839, 0.998, 0.951, 0.971, 0.569, 1.0, 0.761, 0.521, 0.993, 0.915, 0.574, 0.956, 0.723, 0.993, 0.999, 0.905, 0.851, 0.733, 1.0, 0.853, 0.932, 0.896, 0.625, 0.839, 0.921, 0.875, 0.969, 0.553, 0.848, 0.849, 0.819, 0.554, 0.993, 0.942, 0.678, 0.864, 0.512, 0.776, 0.976, 0.805, 0.8, 0.528, 0.92, 0.993, 0.898, 0.847, 0.914, 0.944, 0.958, 0.988, 0.671, 0.993, 0.538, 0.559, 0.814, 0.883, 0.896, 0.505, 0.585, 0.99, 0.997, 0.689, 0.76, 0.936, 0.958, 0.555, 0.988, 0.99, 0.986]\n",
      "overall average accuracy is 0.836511111111111\n",
      "for this dataset, noise is 0.45, transition_rate is 0.35\n",
      "traces are of shape:(86, 1000, 2)\n",
      "got 86 traces containing 2 features: DD, DA\n",
      "\n",
      "labels are of shape:(86, 1000)\n",
      "got labels for 86 traces\n",
      "\n"
     ]
    },
    {
     "data": {
      "application/json": {
       "ascii": false,
       "bar_format": null,
       "colour": null,
       "elapsed": 0.004000425338745117,
       "initial": 0,
       "n": 0,
       "ncols": null,
       "nrows": null,
       "postfix": null,
       "prefix": "",
       "rate": null,
       "total": 86,
       "unit": "it",
       "unit_divisor": 1000,
       "unit_scale": false
      },
      "application/vnd.jupyter.widget-view+json": {
       "model_id": "1479d77712c641d181286324fd936e4a",
       "version_major": 2,
       "version_minor": 0
      },
      "text/plain": [
       "  0%|          | 0/86 [00:00<?, ?it/s]"
      ]
     },
     "metadata": {},
     "output_type": "display_data"
    },
    {
     "name": "stdout",
     "output_type": "stream",
     "text": [
      "accuracy for individual traces is [0.987, 0.767, 0.793, 0.967, 0.999, 0.926, 0.913, 0.86, 0.576, 0.676, 0.999, 0.754, 0.999, 0.675, 0.823, 0.833, 0.94, 0.868, 0.933, 0.986, 0.537, 0.955, 0.969, 0.785, 0.651, 0.835, 0.925, 0.899, 0.982, 0.733, 0.523, 0.987, 0.965, 0.636, 1.0, 0.905, 0.951, 1.0, 0.966, 0.556, 0.536, 0.762, 0.984, 1.0, 0.969, 0.773, 0.869, 0.712, 0.914, 0.982, 0.992, 0.959, 0.999, 0.992, 0.989, 0.602, 0.89, 0.913, 0.565, 0.949, 0.603, 0.963, 0.83, 0.709, 0.991, 0.534, 0.714, 0.76, 0.867, 0.979, 0.921, 0.728, 0.771, 0.812, 0.526, 0.999, 0.993, 0.999, 0.992, 0.931, 0.973, 0.994, 0.927, 0.992, 0.792, 0.996]\n",
      "overall average accuracy is 0.8567558139534883\n",
      "for this dataset, noise is 0.45, transition_rate is 0.40\n",
      "traces are of shape:(86, 1000, 2)\n",
      "got 86 traces containing 2 features: DD, DA\n",
      "\n",
      "labels are of shape:(86, 1000)\n",
      "got labels for 86 traces\n",
      "\n"
     ]
    },
    {
     "data": {
      "application/json": {
       "ascii": false,
       "bar_format": null,
       "colour": null,
       "elapsed": 0.003994941711425781,
       "initial": 0,
       "n": 0,
       "ncols": null,
       "nrows": null,
       "postfix": null,
       "prefix": "",
       "rate": null,
       "total": 86,
       "unit": "it",
       "unit_divisor": 1000,
       "unit_scale": false
      },
      "application/vnd.jupyter.widget-view+json": {
       "model_id": "ca6436eca4a54a10a769e089bb39b1d6",
       "version_major": 2,
       "version_minor": 0
      },
      "text/plain": [
       "  0%|          | 0/86 [00:00<?, ?it/s]"
      ]
     },
     "metadata": {},
     "output_type": "display_data"
    },
    {
     "name": "stdout",
     "output_type": "stream",
     "text": [
      "accuracy for individual traces is [0.637, 0.939, 0.859, 1.0, 0.999, 0.975, 0.985, 0.936, 1.0, 0.777, 0.959, 0.724, 0.911, 0.591, 0.933, 0.974, 0.997, 0.932, 0.869, 0.918, 0.968, 1.0, 0.902, 1.0, 0.852, 0.926, 0.947, 0.536, 1.0, 0.986, 0.961, 0.817, 0.848, 0.718, 0.907, 0.627, 0.737, 0.901, 0.552, 0.823, 0.997, 0.866, 0.524, 0.928, 0.714, 0.84, 0.944, 0.979, 0.579, 0.826, 0.971, 0.595, 0.983, 0.887, 0.563, 0.873, 0.927, 0.89, 0.749, 0.853, 0.948, 0.697, 0.959, 0.817, 0.806, 0.983, 0.862, 0.952, 0.854, 0.98, 0.783, 0.983, 0.658, 0.799, 0.527, 0.89, 0.754, 0.982, 0.861, 0.961, 0.843, 0.583, 0.556, 0.838, 0.557, 0.57]\n",
      "overall average accuracy is 0.8420232558139533\n",
      "for this dataset, noise is 0.45, transition_rate is 0.45\n",
      "traces are of shape:(86, 1000, 2)\n",
      "got 86 traces containing 2 features: DD, DA\n",
      "\n",
      "labels are of shape:(86, 1000)\n",
      "got labels for 86 traces\n",
      "\n"
     ]
    },
    {
     "data": {
      "application/json": {
       "ascii": false,
       "bar_format": null,
       "colour": null,
       "elapsed": 0.006012916564941406,
       "initial": 0,
       "n": 0,
       "ncols": null,
       "nrows": null,
       "postfix": null,
       "prefix": "",
       "rate": null,
       "total": 86,
       "unit": "it",
       "unit_divisor": 1000,
       "unit_scale": false
      },
      "application/vnd.jupyter.widget-view+json": {
       "model_id": "0347aaab702042c3a423bd0594bbe6c5",
       "version_major": 2,
       "version_minor": 0
      },
      "text/plain": [
       "  0%|          | 0/86 [00:00<?, ?it/s]"
      ]
     },
     "metadata": {},
     "output_type": "display_data"
    },
    {
     "name": "stdout",
     "output_type": "stream",
     "text": [
      "accuracy for individual traces is [0.595, 0.88, 0.506, 0.747, 0.677, 0.964, 0.897, 0.592, 0.526, 0.998, 1.0, 0.825, 0.924, 1.0, 0.946, 1.0, 0.997, 0.56, 1.0, 0.991, 0.882, 0.832, 0.999, 0.847, 0.941, 0.838, 0.998, 1.0, 0.805, 0.961, 1.0, 0.94, 0.516, 0.94, 0.957, 0.551, 0.534, 0.57, 0.995, 0.753, 0.908, 0.879, 0.96, 0.742, 0.959, 0.659, 0.883, 0.513, 0.676, 1.0, 0.822, 0.793, 0.932, 0.656, 0.572, 0.991, 0.521, 0.536, 0.949, 0.958, 0.575, 0.922, 0.72, 0.963, 0.626, 0.592, 0.951, 0.72, 0.549, 1.0, 0.977, 0.861, 0.95, 0.728, 0.986, 0.941, 0.976, 0.962, 0.945, 1.0, 0.729, 0.911, 0.653, 0.505, 0.674, 0.905]\n",
      "overall average accuracy is 0.8222558139534883\n",
      "for this dataset, noise is 0.45, transition_rate is 0.50\n",
      "traces are of shape:(85, 1000, 2)\n",
      "got 85 traces containing 2 features: DD, DA\n",
      "\n",
      "labels are of shape:(85, 1000)\n",
      "got labels for 85 traces\n",
      "\n"
     ]
    },
    {
     "data": {
      "application/json": {
       "ascii": false,
       "bar_format": null,
       "colour": null,
       "elapsed": 0.004004240036010742,
       "initial": 0,
       "n": 0,
       "ncols": null,
       "nrows": null,
       "postfix": null,
       "prefix": "",
       "rate": null,
       "total": 85,
       "unit": "it",
       "unit_divisor": 1000,
       "unit_scale": false
      },
      "application/vnd.jupyter.widget-view+json": {
       "model_id": "b66c60be46224a77ab9ffa021898e319",
       "version_major": 2,
       "version_minor": 0
      },
      "text/plain": [
       "  0%|          | 0/85 [00:00<?, ?it/s]"
      ]
     },
     "metadata": {},
     "output_type": "display_data"
    },
    {
     "name": "stdout",
     "output_type": "stream",
     "text": [
      "accuracy for individual traces is [0.996, 0.9, 0.968, 0.928, 0.56, 0.513, 0.937, 0.889, 0.93, 0.979, 0.524, 0.959, 0.773, 0.977, 1.0, 0.998, 0.999, 1.0, 0.998, 0.992, 0.998, 0.981, 0.624, 0.963, 0.604, 0.543, 0.939, 0.989, 0.851, 0.996, 0.831, 0.786, 1.0, 0.936, 0.831, 0.987, 0.983, 0.939, 0.951, 0.987, 0.895, 0.999, 0.984, 0.591, 0.955, 0.998, 0.98, 0.842, 0.988, 0.979, 0.95, 0.973, 0.913, 1.0, 0.998, 0.777, 0.991, 0.821, 0.575, 0.972, 0.952, 0.991, 0.987, 0.891, 0.6, 0.991, 0.974, 0.911, 0.972, 0.881, 0.944, 0.85, 0.995, 0.961, 0.966, 0.747, 0.753, 0.983, 0.984, 0.554, 0.969, 0.988, 0.837, 0.574, 0.715]\n",
      "overall average accuracy is 0.8904705882352941\n",
      "for this dataset, noise is 0.50, transition_rate is 0.05\n",
      "traces are of shape:(81, 1000, 2)\n",
      "got 81 traces containing 2 features: DD, DA\n",
      "\n",
      "labels are of shape:(81, 1000)\n",
      "got labels for 81 traces\n",
      "\n"
     ]
    },
    {
     "data": {
      "application/json": {
       "ascii": false,
       "bar_format": null,
       "colour": null,
       "elapsed": 0.005995273590087891,
       "initial": 0,
       "n": 0,
       "ncols": null,
       "nrows": null,
       "postfix": null,
       "prefix": "",
       "rate": null,
       "total": 81,
       "unit": "it",
       "unit_divisor": 1000,
       "unit_scale": false
      },
      "application/vnd.jupyter.widget-view+json": {
       "model_id": "672b1a83646b4a0989a6308d58359e45",
       "version_major": 2,
       "version_minor": 0
      },
      "text/plain": [
       "  0%|          | 0/81 [00:00<?, ?it/s]"
      ]
     },
     "metadata": {},
     "output_type": "display_data"
    },
    {
     "name": "stdout",
     "output_type": "stream",
     "text": [
      "accuracy for individual traces is [0.959, 0.851, 0.975, 0.988, 0.569, 0.999, 0.538, 0.961, 0.961, 0.965, 0.973, 0.979, 0.948, 0.99, 0.948, 0.975, 0.558, 0.991, 1.0, 0.997, 0.862, 0.992, 0.902, 0.996, 0.962, 0.987, 1.0, 0.998, 0.999, 0.982, 0.947, 0.995, 0.993, 0.996, 0.997, 0.983, 0.997, 0.997, 0.956, 0.988, 0.984, 0.98, 0.989, 0.979, 0.98, 0.968, 0.874, 0.92, 0.994, 0.86, 0.953, 0.994, 0.954, 0.981, 0.899, 0.996, 1.0, 0.972, 0.971, 0.992, 0.979, 0.946, 0.996, 0.997, 0.995, 0.999, 0.992, 0.992, 0.502, 0.759, 0.992, 0.997, 0.918, 0.977, 1.0, 0.958, 0.519, 0.992, 0.998, 0.962, 1.0]\n",
      "overall average accuracy is 0.9427654320987656\n",
      "for this dataset, noise is 0.50, transition_rate is 0.10\n",
      "traces are of shape:(87, 1000, 2)\n",
      "got 87 traces containing 2 features: DD, DA\n",
      "\n",
      "labels are of shape:(87, 1000)\n",
      "got labels for 87 traces\n",
      "\n"
     ]
    },
    {
     "data": {
      "application/json": {
       "ascii": false,
       "bar_format": null,
       "colour": null,
       "elapsed": 0.0039997100830078125,
       "initial": 0,
       "n": 0,
       "ncols": null,
       "nrows": null,
       "postfix": null,
       "prefix": "",
       "rate": null,
       "total": 87,
       "unit": "it",
       "unit_divisor": 1000,
       "unit_scale": false
      },
      "application/vnd.jupyter.widget-view+json": {
       "model_id": "0dbc124525ec4fcfa02d9516868924ce",
       "version_major": 2,
       "version_minor": 0
      },
      "text/plain": [
       "  0%|          | 0/87 [00:00<?, ?it/s]"
      ]
     },
     "metadata": {},
     "output_type": "display_data"
    },
    {
     "name": "stdout",
     "output_type": "stream",
     "text": [
      "accuracy for individual traces is [0.783, 1.0, 0.992, 0.93, 0.982, 1.0, 0.791, 0.978, 0.785, 0.977, 1.0, 0.846, 0.949, 0.844, 0.834, 0.785, 0.977, 0.963, 1.0, 0.981, 0.827, 0.923, 0.602, 0.93, 1.0, 0.943, 0.814, 0.964, 1.0, 0.993, 0.952, 0.924, 0.927, 0.995, 0.556, 0.866, 0.969, 0.907, 0.969, 0.962, 0.992, 0.984, 0.987, 0.916, 0.755, 0.8, 0.833, 0.763, 0.888, 0.822, 0.96, 0.984, 0.898, 0.873, 0.954, 0.984, 0.928, 0.953, 0.828, 0.561, 0.993, 0.823, 0.998, 0.947, 0.959, 0.98, 0.91, 0.89, 0.681, 0.978, 0.998, 0.769, 0.574, 0.996, 0.939, 1.0, 0.977, 0.974, 0.943, 0.968, 0.958, 0.987, 0.515, 0.953, 0.984, 1.0, 0.995]\n",
      "overall average accuracy is 0.9054252873563219\n",
      "for this dataset, noise is 0.50, transition_rate is 0.15\n",
      "traces are of shape:(81, 1000, 2)\n",
      "got 81 traces containing 2 features: DD, DA\n",
      "\n",
      "labels are of shape:(81, 1000)\n",
      "got labels for 81 traces\n",
      "\n"
     ]
    },
    {
     "data": {
      "application/json": {
       "ascii": false,
       "bar_format": null,
       "colour": null,
       "elapsed": 0.004003047943115234,
       "initial": 0,
       "n": 0,
       "ncols": null,
       "nrows": null,
       "postfix": null,
       "prefix": "",
       "rate": null,
       "total": 81,
       "unit": "it",
       "unit_divisor": 1000,
       "unit_scale": false
      },
      "application/vnd.jupyter.widget-view+json": {
       "model_id": "f7c8a5feb5b14f61a215d46143204887",
       "version_major": 2,
       "version_minor": 0
      },
      "text/plain": [
       "  0%|          | 0/81 [00:00<?, ?it/s]"
      ]
     },
     "metadata": {},
     "output_type": "display_data"
    },
    {
     "name": "stdout",
     "output_type": "stream",
     "text": [
      "accuracy for individual traces is [0.988, 0.96, 0.89, 0.977, 0.965, 0.901, 0.863, 0.678, 0.989, 0.821, 0.511, 1.0, 0.851, 1.0, 0.955, 0.878, 0.542, 0.966, 0.989, 0.965, 0.823, 0.788, 0.995, 0.54, 0.958, 0.501, 0.947, 0.994, 1.0, 0.912, 0.95, 0.834, 0.972, 0.929, 0.952, 0.986, 0.996, 0.912, 0.876, 0.981, 0.966, 0.998, 0.879, 0.722, 0.993, 0.942, 0.983, 0.968, 0.879, 0.923, 0.992, 0.812, 0.907, 0.886, 0.921, 0.804, 0.884, 0.816, 0.515, 0.574, 0.829, 1.0, 0.966, 0.877, 0.941, 0.861, 0.952, 0.545, 0.932, 0.944, 0.9, 1.0, 0.521, 0.999, 0.846, 0.661, 0.994, 0.957, 0.846, 0.928, 0.936]\n",
      "overall average accuracy is 0.8806666666666665\n",
      "for this dataset, noise is 0.50, transition_rate is 0.20\n",
      "traces are of shape:(83, 1000, 2)\n",
      "got 83 traces containing 2 features: DD, DA\n",
      "\n",
      "labels are of shape:(83, 1000)\n",
      "got labels for 83 traces\n",
      "\n"
     ]
    },
    {
     "data": {
      "application/json": {
       "ascii": false,
       "bar_format": null,
       "colour": null,
       "elapsed": 0.003999233245849609,
       "initial": 0,
       "n": 0,
       "ncols": null,
       "nrows": null,
       "postfix": null,
       "prefix": "",
       "rate": null,
       "total": 83,
       "unit": "it",
       "unit_divisor": 1000,
       "unit_scale": false
      },
      "application/vnd.jupyter.widget-view+json": {
       "model_id": "fe81b8e6c0674fc9a02a81492c45cf54",
       "version_major": 2,
       "version_minor": 0
      },
      "text/plain": [
       "  0%|          | 0/83 [00:00<?, ?it/s]"
      ]
     },
     "metadata": {},
     "output_type": "display_data"
    },
    {
     "name": "stdout",
     "output_type": "stream",
     "text": [
      "accuracy for individual traces is [0.998, 0.996, 0.958, 0.616, 0.957, 0.955, 0.925, 0.647, 0.996, 0.936, 0.759, 0.817, 0.799, 0.806, 0.991, 0.898, 0.803, 0.828, 1.0, 0.913, 0.877, 0.876, 0.986, 0.941, 0.952, 0.844, 0.999, 0.881, 0.98, 0.964, 0.988, 0.995, 0.963, 0.992, 0.998, 0.866, 0.565, 0.963, 0.948, 0.995, 0.97, 0.954, 0.991, 0.983, 0.981, 0.531, 0.988, 0.994, 0.8, 0.989, 0.88, 0.845, 0.983, 0.716, 0.536, 0.638, 0.697, 1.0, 1.0, 0.767, 0.977, 0.765, 0.97, 0.768, 0.968, 0.99, 0.977, 0.652, 0.927, 0.96, 0.925, 0.807, 0.651, 0.837, 0.541, 0.989, 0.95, 0.846, 0.991, 0.986, 0.792, 0.715, 0.847]\n",
      "overall average accuracy is 0.8824698795180723\n",
      "for this dataset, noise is 0.50, transition_rate is 0.25\n",
      "traces are of shape:(91, 1000, 2)\n",
      "got 91 traces containing 2 features: DD, DA\n",
      "\n",
      "labels are of shape:(91, 1000)\n",
      "got labels for 91 traces\n",
      "\n"
     ]
    },
    {
     "data": {
      "application/json": {
       "ascii": false,
       "bar_format": null,
       "colour": null,
       "elapsed": 0.004999876022338867,
       "initial": 0,
       "n": 0,
       "ncols": null,
       "nrows": null,
       "postfix": null,
       "prefix": "",
       "rate": null,
       "total": 91,
       "unit": "it",
       "unit_divisor": 1000,
       "unit_scale": false
      },
      "application/vnd.jupyter.widget-view+json": {
       "model_id": "9b00b10743a5455a8da6f3e4f64003d5",
       "version_major": 2,
       "version_minor": 0
      },
      "text/plain": [
       "  0%|          | 0/91 [00:00<?, ?it/s]"
      ]
     },
     "metadata": {},
     "output_type": "display_data"
    },
    {
     "name": "stdout",
     "output_type": "stream",
     "text": [
      "accuracy for individual traces is [0.789, 0.893, 0.999, 0.67, 0.523, 0.78, 0.599, 0.911, 0.92, 0.879, 0.994, 0.943, 0.57, 0.988, 0.797, 0.992, 0.618, 0.914, 0.557, 0.856, 1.0, 0.946, 0.71, 0.846, 0.846, 0.733, 0.898, 0.536, 0.998, 1.0, 0.984, 0.99, 0.976, 0.984, 0.982, 0.616, 1.0, 0.817, 0.765, 0.929, 1.0, 0.883, 0.961, 0.501, 0.99, 0.983, 0.972, 0.981, 0.72, 0.818, 0.781, 0.851, 0.954, 0.99, 0.676, 0.972, 0.902, 0.971, 0.914, 0.975, 0.951, 0.849, 0.555, 0.543, 0.804, 0.925, 0.632, 0.826, 0.917, 0.992, 0.997, 0.813, 0.804, 1.0, 0.994, 0.949, 0.827, 0.995, 0.944, 0.647, 0.938, 0.941, 0.973, 0.811, 0.974, 0.749, 0.629, 0.881, 0.89, 0.913, 0.757]\n",
      "overall average accuracy is 0.8567362637362641\n",
      "for this dataset, noise is 0.50, transition_rate is 0.30\n",
      "traces are of shape:(85, 1000, 2)\n",
      "got 85 traces containing 2 features: DD, DA\n",
      "\n",
      "labels are of shape:(85, 1000)\n",
      "got labels for 85 traces\n",
      "\n"
     ]
    },
    {
     "data": {
      "application/json": {
       "ascii": false,
       "bar_format": null,
       "colour": null,
       "elapsed": 0.003996372222900391,
       "initial": 0,
       "n": 0,
       "ncols": null,
       "nrows": null,
       "postfix": null,
       "prefix": "",
       "rate": null,
       "total": 85,
       "unit": "it",
       "unit_divisor": 1000,
       "unit_scale": false
      },
      "application/vnd.jupyter.widget-view+json": {
       "model_id": "d5b5c7e615f34aec9906070076fd4cbd",
       "version_major": 2,
       "version_minor": 0
      },
      "text/plain": [
       "  0%|          | 0/85 [00:00<?, ?it/s]"
      ]
     },
     "metadata": {},
     "output_type": "display_data"
    },
    {
     "name": "stdout",
     "output_type": "stream",
     "text": [
      "accuracy for individual traces is [0.956, 0.627, 0.883, 0.727, 0.984, 0.961, 0.808, 0.552, 0.87, 0.976, 0.545, 0.757, 0.863, 0.984, 0.986, 0.968, 0.933, 0.617, 0.942, 0.993, 0.999, 0.993, 0.983, 0.824, 0.955, 0.655, 0.869, 0.97, 0.869, 0.861, 0.504, 0.89, 0.895, 0.988, 0.755, 0.805, 0.896, 0.99, 0.769, 0.717, 0.923, 0.998, 0.667, 0.895, 0.918, 0.849, 0.883, 0.857, 0.938, 0.584, 0.986, 0.919, 0.821, 0.668, 0.956, 0.867, 0.554, 0.856, 0.838, 0.946, 0.98, 0.936, 0.853, 0.565, 0.785, 0.846, 0.973, 0.978, 0.514, 0.895, 0.837, 0.862, 0.739, 0.99, 0.996, 0.995, 0.891, 0.973, 0.954, 0.527, 0.989, 0.541, 0.886, 0.871, 0.984]\n",
      "overall average accuracy is 0.8517882352941175\n",
      "for this dataset, noise is 0.50, transition_rate is 0.35\n",
      "traces are of shape:(89, 1000, 2)\n",
      "got 89 traces containing 2 features: DD, DA\n",
      "\n",
      "labels are of shape:(89, 1000)\n",
      "got labels for 89 traces\n",
      "\n"
     ]
    },
    {
     "data": {
      "application/json": {
       "ascii": false,
       "bar_format": null,
       "colour": null,
       "elapsed": 0.00500941276550293,
       "initial": 0,
       "n": 0,
       "ncols": null,
       "nrows": null,
       "postfix": null,
       "prefix": "",
       "rate": null,
       "total": 89,
       "unit": "it",
       "unit_divisor": 1000,
       "unit_scale": false
      },
      "application/vnd.jupyter.widget-view+json": {
       "model_id": "27179846c96a43a9ae5da1d7efed7bd9",
       "version_major": 2,
       "version_minor": 0
      },
      "text/plain": [
       "  0%|          | 0/89 [00:00<?, ?it/s]"
      ]
     },
     "metadata": {},
     "output_type": "display_data"
    },
    {
     "name": "stdout",
     "output_type": "stream",
     "text": [
      "accuracy for individual traces is [0.57, 0.536, 1.0, 1.0, 0.983, 0.751, 0.858, 0.898, 0.537, 0.795, 0.556, 0.952, 0.904, 0.981, 0.629, 0.585, 0.867, 0.523, 0.998, 0.626, 1.0, 0.872, 0.624, 0.873, 0.838, 0.985, 0.992, 0.96, 0.571, 0.964, 0.921, 0.779, 0.995, 0.945, 0.514, 0.916, 0.529, 0.595, 0.992, 1.0, 0.506, 0.963, 0.743, 0.899, 0.946, 0.99, 0.852, 0.879, 0.851, 1.0, 0.859, 0.877, 0.973, 0.694, 0.863, 0.851, 0.977, 0.871, 0.794, 0.679, 0.773, 0.997, 0.776, 1.0, 0.734, 0.634, 0.907, 0.895, 0.968, 0.836, 0.867, 0.926, 0.575, 0.941, 0.992, 0.815, 0.894, 0.927, 0.977, 0.997, 0.894, 1.0, 0.679, 0.968, 0.51, 0.855, 0.528, 0.898, 0.551]\n",
      "overall average accuracy is 0.829157303370787\n",
      "for this dataset, noise is 0.50, transition_rate is 0.40\n",
      "traces are of shape:(81, 1000, 2)\n",
      "got 81 traces containing 2 features: DD, DA\n",
      "\n",
      "labels are of shape:(81, 1000)\n",
      "got labels for 81 traces\n",
      "\n"
     ]
    },
    {
     "data": {
      "application/json": {
       "ascii": false,
       "bar_format": null,
       "colour": null,
       "elapsed": 0.004998683929443359,
       "initial": 0,
       "n": 0,
       "ncols": null,
       "nrows": null,
       "postfix": null,
       "prefix": "",
       "rate": null,
       "total": 81,
       "unit": "it",
       "unit_divisor": 1000,
       "unit_scale": false
      },
      "application/vnd.jupyter.widget-view+json": {
       "model_id": "69fa042f0996446a87f74df6e1d248d9",
       "version_major": 2,
       "version_minor": 0
      },
      "text/plain": [
       "  0%|          | 0/81 [00:00<?, ?it/s]"
      ]
     },
     "metadata": {},
     "output_type": "display_data"
    },
    {
     "name": "stdout",
     "output_type": "stream",
     "text": [
      "accuracy for individual traces is [0.922, 0.943, 0.847, 1.0, 0.882, 0.835, 0.831, 0.747, 0.993, 0.955, 0.765, 0.918, 0.994, 0.91, 0.917, 0.664, 0.944, 0.574, 0.789, 0.531, 0.551, 0.792, 0.684, 0.969, 0.867, 0.996, 0.873, 0.582, 0.552, 0.962, 0.947, 0.565, 0.844, 0.891, 0.922, 0.819, 0.73, 0.879, 1.0, 1.0, 0.835, 0.742, 0.962, 0.835, 0.514, 0.702, 0.978, 0.585, 0.911, 0.883, 0.799, 0.949, 0.512, 0.518, 0.653, 0.795, 0.885, 0.771, 0.737, 0.567, 0.626, 0.639, 0.53, 0.514, 0.718, 0.937, 0.988, 0.993, 0.543, 0.938, 0.678, 0.988, 0.55, 0.839, 0.857, 0.866, 1.0, 0.986, 0.533, 0.573, 0.808]\n",
      "overall average accuracy is 0.7978148148148151\n",
      "for this dataset, noise is 0.50, transition_rate is 0.45\n",
      "traces are of shape:(83, 1000, 2)\n",
      "got 83 traces containing 2 features: DD, DA\n",
      "\n",
      "labels are of shape:(83, 1000)\n",
      "got labels for 83 traces\n",
      "\n"
     ]
    },
    {
     "data": {
      "application/json": {
       "ascii": false,
       "bar_format": null,
       "colour": null,
       "elapsed": 0.002995729446411133,
       "initial": 0,
       "n": 0,
       "ncols": null,
       "nrows": null,
       "postfix": null,
       "prefix": "",
       "rate": null,
       "total": 83,
       "unit": "it",
       "unit_divisor": 1000,
       "unit_scale": false
      },
      "application/vnd.jupyter.widget-view+json": {
       "model_id": "32799d74c1004d8ab4e821c5403ffda6",
       "version_major": 2,
       "version_minor": 0
      },
      "text/plain": [
       "  0%|          | 0/83 [00:00<?, ?it/s]"
      ]
     },
     "metadata": {},
     "output_type": "display_data"
    },
    {
     "name": "stdout",
     "output_type": "stream",
     "text": [
      "accuracy for individual traces is [0.905, 0.974, 0.949, 0.943, 0.542, 0.736, 1.0, 0.998, 0.907, 0.59, 0.911, 0.784, 0.973, 0.628, 0.987, 1.0, 0.999, 0.849, 0.866, 0.964, 0.618, 0.748, 0.841, 0.97, 0.957, 0.859, 0.774, 0.726, 0.919, 0.706, 0.523, 0.563, 0.504, 0.998, 0.565, 0.919, 0.835, 0.994, 0.69, 0.572, 0.995, 0.992, 0.686, 0.919, 0.988, 0.59, 0.853, 0.92, 0.809, 0.804, 0.931, 0.791, 0.741, 0.933, 0.844, 0.978, 0.833, 0.6, 0.989, 0.983, 0.998, 0.55, 0.631, 0.801, 0.534, 0.998, 0.82, 0.973, 1.0, 0.99, 0.595, 0.713, 0.785, 0.968, 0.596, 0.99, 0.974, 0.903, 0.802, 0.983, 0.924, 0.776, 0.998]\n",
      "overall average accuracy is 0.8345421686746988\n",
      "for this dataset, noise is 0.50, transition_rate is 0.50\n",
      "traces are of shape:(87, 1000, 2)\n",
      "got 87 traces containing 2 features: DD, DA\n",
      "\n",
      "labels are of shape:(87, 1000)\n",
      "got labels for 87 traces\n",
      "\n"
     ]
    },
    {
     "data": {
      "application/json": {
       "ascii": false,
       "bar_format": null,
       "colour": null,
       "elapsed": 0.004004955291748047,
       "initial": 0,
       "n": 0,
       "ncols": null,
       "nrows": null,
       "postfix": null,
       "prefix": "",
       "rate": null,
       "total": 87,
       "unit": "it",
       "unit_divisor": 1000,
       "unit_scale": false
      },
      "application/vnd.jupyter.widget-view+json": {
       "model_id": "9cd67a880f5c4daba2d3b12fe3ebc194",
       "version_major": 2,
       "version_minor": 0
      },
      "text/plain": [
       "  0%|          | 0/87 [00:00<?, ?it/s]"
      ]
     },
     "metadata": {},
     "output_type": "display_data"
    },
    {
     "name": "stdout",
     "output_type": "stream",
     "text": [
      "accuracy for individual traces is [0.979, 0.883, 0.766, 1.0, 0.734, 0.899, 0.995, 0.998, 0.765, 0.684, 0.96, 1.0, 0.999, 0.965, 0.691, 0.964, 0.9, 0.943, 0.93, 0.932, 0.983, 0.759, 0.818, 0.854, 0.96, 0.846, 0.826, 0.953, 0.989, 0.98, 0.549, 0.728, 0.716, 0.542, 0.902, 0.811, 0.666, 0.975, 0.573, 0.802, 0.966, 0.78, 0.518, 0.985, 0.93, 0.968, 0.835, 0.735, 0.982, 0.519, 0.67, 0.993, 0.94, 0.898, 0.987, 0.923, 0.655, 0.666, 0.537, 0.973, 0.928, 0.993, 0.672, 0.763, 0.97, 0.995, 0.749, 0.921, 0.705, 0.848, 0.76, 0.913, 0.769, 0.782, 0.827, 0.638, 0.865, 0.816, 0.501, 0.933, 0.69, 0.912, 0.935, 0.8, 0.741, 0.977, 0.863]\n",
      "overall average accuracy is 0.8384482758620692\n",
      "for this dataset, noise is 0.55, transition_rate is 0.05\n",
      "traces are of shape:(92, 1000, 2)\n",
      "got 92 traces containing 2 features: DD, DA\n",
      "\n",
      "labels are of shape:(92, 1000)\n",
      "got labels for 92 traces\n",
      "\n"
     ]
    },
    {
     "data": {
      "application/json": {
       "ascii": false,
       "bar_format": null,
       "colour": null,
       "elapsed": 0.0039997100830078125,
       "initial": 0,
       "n": 0,
       "ncols": null,
       "nrows": null,
       "postfix": null,
       "prefix": "",
       "rate": null,
       "total": 92,
       "unit": "it",
       "unit_divisor": 1000,
       "unit_scale": false
      },
      "application/vnd.jupyter.widget-view+json": {
       "model_id": "3d6601439e0a4d6b904fb2e94d0199cc",
       "version_major": 2,
       "version_minor": 0
      },
      "text/plain": [
       "  0%|          | 0/92 [00:00<?, ?it/s]"
      ]
     },
     "metadata": {},
     "output_type": "display_data"
    },
    {
     "name": "stdout",
     "output_type": "stream",
     "text": [
      "accuracy for individual traces is [0.944, 0.97, 0.973, 0.836, 0.996, 0.543, 0.895, 0.921, 0.998, 1.0, 0.958, 0.857, 0.965, 0.981, 0.996, 0.952, 0.972, 0.866, 0.903, 0.985, 0.985, 0.578, 0.942, 0.979, 0.99, 0.757, 0.999, 0.932, 0.999, 0.829, 0.927, 0.981, 0.991, 0.956, 0.98, 0.979, 0.988, 0.674, 0.988, 1.0, 0.814, 0.935, 0.988, 0.528, 0.998, 0.951, 0.5, 0.946, 0.974, 0.994, 0.916, 0.948, 0.969, 0.985, 0.933, 0.979, 0.954, 0.937, 0.995, 1.0, 0.976, 0.978, 0.999, 0.907, 0.808, 0.974, 0.969, 0.988, 0.871, 0.986, 0.959, 0.885, 0.974, 1.0, 0.994, 0.896, 0.969, 0.974, 0.988, 0.61, 0.857, 0.986, 0.999, 0.957, 0.934, 0.98, 1.0, 0.996, 0.985, 0.987, 0.889, 0.996]\n",
      "overall average accuracy is 0.9291304347826083\n",
      "for this dataset, noise is 0.55, transition_rate is 0.10\n",
      "traces are of shape:(81, 1000, 2)\n",
      "got 81 traces containing 2 features: DD, DA\n",
      "\n",
      "labels are of shape:(81, 1000)\n",
      "got labels for 81 traces\n",
      "\n"
     ]
    },
    {
     "data": {
      "application/json": {
       "ascii": false,
       "bar_format": null,
       "colour": null,
       "elapsed": 0.005000114440917969,
       "initial": 0,
       "n": 0,
       "ncols": null,
       "nrows": null,
       "postfix": null,
       "prefix": "",
       "rate": null,
       "total": 81,
       "unit": "it",
       "unit_divisor": 1000,
       "unit_scale": false
      },
      "application/vnd.jupyter.widget-view+json": {
       "model_id": "69dca82d1b804cba9efc544c6ce9aa36",
       "version_major": 2,
       "version_minor": 0
      },
      "text/plain": [
       "  0%|          | 0/81 [00:00<?, ?it/s]"
      ]
     },
     "metadata": {},
     "output_type": "display_data"
    },
    {
     "name": "stdout",
     "output_type": "stream",
     "text": [
      "accuracy for individual traces is [0.971, 0.963, 0.999, 0.894, 0.612, 0.816, 0.991, 0.991, 0.993, 0.771, 0.836, 0.97, 0.84, 0.721, 0.918, 0.974, 0.89, 0.925, 0.529, 0.523, 0.945, 0.983, 0.995, 0.94, 0.985, 0.996, 0.996, 0.844, 0.832, 0.994, 0.587, 0.972, 0.541, 0.839, 0.955, 0.52, 0.998, 0.942, 0.956, 0.971, 0.981, 0.999, 0.945, 1.0, 0.783, 0.993, 0.532, 0.882, 0.942, 0.869, 0.996, 0.991, 0.848, 1.0, 1.0, 0.968, 0.873, 0.944, 0.592, 0.949, 0.887, 0.948, 0.962, 0.712, 0.605, 0.92, 0.763, 0.954, 0.963, 0.947, 0.802, 0.944, 0.991, 0.681, 0.507, 0.96, 0.851, 0.648, 0.996, 0.989, 0.742]\n",
      "overall average accuracy is 0.8737901234567903\n",
      "for this dataset, noise is 0.55, transition_rate is 0.15\n",
      "traces are of shape:(86, 1000, 2)\n",
      "got 86 traces containing 2 features: DD, DA\n",
      "\n",
      "labels are of shape:(86, 1000)\n",
      "got labels for 86 traces\n",
      "\n"
     ]
    },
    {
     "data": {
      "application/json": {
       "ascii": false,
       "bar_format": null,
       "colour": null,
       "elapsed": 0.004499912261962891,
       "initial": 0,
       "n": 0,
       "ncols": null,
       "nrows": null,
       "postfix": null,
       "prefix": "",
       "rate": null,
       "total": 86,
       "unit": "it",
       "unit_divisor": 1000,
       "unit_scale": false
      },
      "application/vnd.jupyter.widget-view+json": {
       "model_id": "ba05e9c501614bb3ac0128149cd4bacb",
       "version_major": 2,
       "version_minor": 0
      },
      "text/plain": [
       "  0%|          | 0/86 [00:00<?, ?it/s]"
      ]
     },
     "metadata": {},
     "output_type": "display_data"
    },
    {
     "name": "stdout",
     "output_type": "stream",
     "text": [
      "accuracy for individual traces is [0.905, 0.926, 0.563, 0.95, 0.822, 0.765, 0.943, 0.919, 0.996, 0.841, 0.883, 0.539, 0.914, 0.913, 0.969, 0.981, 0.986, 0.962, 0.788, 0.948, 0.709, 0.981, 0.804, 0.967, 0.993, 0.837, 0.873, 0.819, 0.586, 0.831, 0.798, 0.769, 0.957, 1.0, 0.91, 0.772, 0.554, 0.972, 0.56, 0.995, 0.893, 0.828, 0.988, 0.933, 0.918, 0.964, 0.873, 0.934, 0.82, 0.99, 0.668, 1.0, 0.993, 0.972, 0.981, 0.532, 0.785, 0.985, 0.875, 0.888, 0.767, 0.923, 0.535, 0.849, 0.889, 0.833, 0.875, 0.996, 0.97, 0.657, 0.964, 0.986, 0.996, 0.869, 0.877, 0.933, 0.932, 0.999, 1.0, 0.969, 0.945, 0.928, 0.992, 0.999, 0.837, 0.507]\n",
      "overall average accuracy is 0.8726395348837207\n",
      "for this dataset, noise is 0.55, transition_rate is 0.20\n",
      "traces are of shape:(71, 1000, 2)\n",
      "got 71 traces containing 2 features: DD, DA\n",
      "\n",
      "labels are of shape:(71, 1000)\n",
      "got labels for 71 traces\n",
      "\n"
     ]
    },
    {
     "data": {
      "application/json": {
       "ascii": false,
       "bar_format": null,
       "colour": null,
       "elapsed": 0.004996061325073242,
       "initial": 0,
       "n": 0,
       "ncols": null,
       "nrows": null,
       "postfix": null,
       "prefix": "",
       "rate": null,
       "total": 71,
       "unit": "it",
       "unit_divisor": 1000,
       "unit_scale": false
      },
      "application/vnd.jupyter.widget-view+json": {
       "model_id": "30c01ff84ba94dd7b706043d33cca249",
       "version_major": 2,
       "version_minor": 0
      },
      "text/plain": [
       "  0%|          | 0/71 [00:00<?, ?it/s]"
      ]
     },
     "metadata": {},
     "output_type": "display_data"
    },
    {
     "name": "stdout",
     "output_type": "stream",
     "text": [
      "accuracy for individual traces is [0.905, 0.986, 0.788, 0.956, 0.964, 0.986, 0.576, 0.895, 0.993, 0.503, 0.979, 0.899, 0.808, 0.97, 0.934, 0.981, 0.644, 0.818, 0.818, 0.958, 0.936, 0.814, 0.719, 0.712, 0.734, 0.701, 0.944, 1.0, 0.574, 0.74, 0.906, 0.807, 0.803, 0.999, 0.524, 0.971, 0.994, 0.866, 0.984, 0.883, 0.993, 0.923, 0.843, 0.96, 0.94, 0.533, 0.702, 0.852, 0.857, 0.749, 0.721, 0.91, 0.988, 0.807, 0.809, 0.877, 0.734, 0.892, 0.979, 0.822, 0.83, 0.987, 0.57, 0.847, 0.786, 0.959, 0.775, 0.883, 0.994, 0.991, 0.885]\n",
      "overall average accuracy is 0.8502816901408452\n",
      "for this dataset, noise is 0.55, transition_rate is 0.25\n",
      "traces are of shape:(77, 1000, 2)\n",
      "got 77 traces containing 2 features: DD, DA\n",
      "\n",
      "labels are of shape:(77, 1000)\n",
      "got labels for 77 traces\n",
      "\n"
     ]
    },
    {
     "data": {
      "application/json": {
       "ascii": false,
       "bar_format": null,
       "colour": null,
       "elapsed": 0.009000062942504883,
       "initial": 0,
       "n": 0,
       "ncols": null,
       "nrows": null,
       "postfix": null,
       "prefix": "",
       "rate": null,
       "total": 77,
       "unit": "it",
       "unit_divisor": 1000,
       "unit_scale": false
      },
      "application/vnd.jupyter.widget-view+json": {
       "model_id": "65d5f335d1c84dc68728d5c943c6d47c",
       "version_major": 2,
       "version_minor": 0
      },
      "text/plain": [
       "  0%|          | 0/77 [00:00<?, ?it/s]"
      ]
     },
     "metadata": {},
     "output_type": "display_data"
    },
    {
     "name": "stdout",
     "output_type": "stream",
     "text": [
      "accuracy for individual traces is [0.81, 0.953, 0.925, 1.0, 0.889, 0.934, 0.952, 1.0, 0.806, 0.66, 0.934, 0.89, 0.962, 0.955, 0.968, 0.564, 0.997, 0.968, 0.937, 0.932, 0.844, 0.855, 0.64, 0.866, 0.995, 0.892, 0.853, 0.853, 0.779, 0.992, 0.637, 0.917, 0.533, 0.935, 0.931, 0.807, 0.949, 0.685, 0.933, 0.982, 0.681, 0.816, 0.577, 0.958, 0.857, 0.944, 0.921, 0.845, 0.832, 0.931, 0.976, 0.786, 0.896, 0.983, 0.514, 0.933, 0.976, 0.996, 0.849, 0.923, 0.975, 0.873, 0.928, 0.815, 0.719, 0.79, 0.94, 0.758, 0.91, 0.556, 0.699, 0.972, 0.905, 0.944, 0.724, 0.964, 0.936]\n",
      "overall average accuracy is 0.8638441558441559\n",
      "for this dataset, noise is 0.55, transition_rate is 0.30\n",
      "traces are of shape:(87, 1000, 2)\n",
      "got 87 traces containing 2 features: DD, DA\n",
      "\n",
      "labels are of shape:(87, 1000)\n",
      "got labels for 87 traces\n",
      "\n"
     ]
    },
    {
     "data": {
      "application/json": {
       "ascii": false,
       "bar_format": null,
       "colour": null,
       "elapsed": 0.0039975643157958984,
       "initial": 0,
       "n": 0,
       "ncols": null,
       "nrows": null,
       "postfix": null,
       "prefix": "",
       "rate": null,
       "total": 87,
       "unit": "it",
       "unit_divisor": 1000,
       "unit_scale": false
      },
      "application/vnd.jupyter.widget-view+json": {
       "model_id": "2dc607493f5148f7b6ab51053b4452e0",
       "version_major": 2,
       "version_minor": 0
      },
      "text/plain": [
       "  0%|          | 0/87 [00:00<?, ?it/s]"
      ]
     },
     "metadata": {},
     "output_type": "display_data"
    },
    {
     "name": "stdout",
     "output_type": "stream",
     "text": [
      "accuracy for individual traces is [0.792, 0.962, 0.898, 0.994, 0.717, 0.872, 0.988, 0.89, 0.588, 0.936, 0.967, 0.568, 0.774, 0.879, 0.976, 0.7, 1.0, 0.514, 0.878, 0.847, 0.872, 0.522, 0.672, 0.684, 0.757, 0.958, 0.971, 0.863, 0.931, 0.991, 0.969, 0.992, 0.952, 0.9, 1.0, 0.899, 0.857, 0.944, 0.946, 0.786, 0.956, 0.929, 0.747, 0.816, 0.856, 0.966, 0.927, 0.904, 0.983, 0.506, 0.933, 0.964, 0.928, 0.515, 0.903, 0.655, 0.867, 0.957, 1.0, 0.871, 0.869, 0.935, 0.717, 0.882, 0.895, 0.814, 0.869, 0.776, 0.966, 0.59, 0.976, 0.66, 0.785, 0.777, 0.874, 0.902, 0.951, 0.965, 0.998, 0.997, 0.974, 0.842, 0.631, 0.659, 0.93, 0.881, 0.951]\n",
      "overall average accuracy is 0.8558045977011497\n",
      "for this dataset, noise is 0.55, transition_rate is 0.35\n",
      "traces are of shape:(86, 1000, 2)\n",
      "got 86 traces containing 2 features: DD, DA\n",
      "\n",
      "labels are of shape:(86, 1000)\n",
      "got labels for 86 traces\n",
      "\n"
     ]
    },
    {
     "data": {
      "application/json": {
       "ascii": false,
       "bar_format": null,
       "colour": null,
       "elapsed": 0.003999948501586914,
       "initial": 0,
       "n": 0,
       "ncols": null,
       "nrows": null,
       "postfix": null,
       "prefix": "",
       "rate": null,
       "total": 86,
       "unit": "it",
       "unit_divisor": 1000,
       "unit_scale": false
      },
      "application/vnd.jupyter.widget-view+json": {
       "model_id": "439a7d14753d472cbab16ba5b84d2899",
       "version_major": 2,
       "version_minor": 0
      },
      "text/plain": [
       "  0%|          | 0/86 [00:00<?, ?it/s]"
      ]
     },
     "metadata": {},
     "output_type": "display_data"
    },
    {
     "name": "stdout",
     "output_type": "stream",
     "text": [
      "accuracy for individual traces is [0.549, 0.897, 0.997, 0.847, 1.0, 0.969, 0.62, 0.613, 1.0, 0.893, 0.761, 0.687, 0.577, 0.996, 0.851, 0.955, 0.905, 0.888, 0.86, 0.843, 0.884, 0.723, 0.997, 0.697, 0.653, 0.976, 0.918, 0.958, 0.854, 0.998, 0.948, 0.972, 0.747, 0.966, 0.677, 0.854, 0.968, 0.507, 0.915, 0.563, 0.926, 0.552, 0.547, 0.771, 0.96, 0.523, 0.589, 0.956, 0.518, 0.712, 1.0, 0.685, 0.734, 0.981, 0.946, 0.614, 0.727, 0.954, 0.848, 0.981, 0.902, 0.54, 0.91, 0.902, 0.989, 0.932, 0.911, 0.963, 0.542, 0.983, 0.953, 0.521, 0.527, 0.725, 0.874, 0.82, 0.707, 0.925, 0.807, 0.549, 0.983, 0.752, 0.975, 0.793, 0.531, 0.589]\n",
      "overall average accuracy is 0.8094418604651166\n",
      "for this dataset, noise is 0.55, transition_rate is 0.40\n",
      "traces are of shape:(82, 1000, 2)\n",
      "got 82 traces containing 2 features: DD, DA\n",
      "\n",
      "labels are of shape:(82, 1000)\n",
      "got labels for 82 traces\n",
      "\n"
     ]
    },
    {
     "data": {
      "application/json": {
       "ascii": false,
       "bar_format": null,
       "colour": null,
       "elapsed": 0.006998777389526367,
       "initial": 0,
       "n": 0,
       "ncols": null,
       "nrows": null,
       "postfix": null,
       "prefix": "",
       "rate": null,
       "total": 82,
       "unit": "it",
       "unit_divisor": 1000,
       "unit_scale": false
      },
      "application/vnd.jupyter.widget-view+json": {
       "model_id": "1d6bc7b1afa14d0fafe0e36b15204af6",
       "version_major": 2,
       "version_minor": 0
      },
      "text/plain": [
       "  0%|          | 0/82 [00:00<?, ?it/s]"
      ]
     },
     "metadata": {},
     "output_type": "display_data"
    },
    {
     "name": "stdout",
     "output_type": "stream",
     "text": [
      "accuracy for individual traces is [0.677, 0.634, 0.796, 0.989, 0.776, 0.806, 0.984, 0.998, 0.951, 0.976, 0.55, 1.0, 0.994, 0.971, 0.779, 0.889, 0.985, 0.865, 0.96, 0.796, 0.992, 0.537, 0.54, 0.776, 0.965, 0.986, 0.617, 0.982, 0.842, 0.684, 0.934, 0.645, 0.786, 1.0, 0.988, 0.941, 0.772, 1.0, 0.598, 0.985, 0.9, 0.705, 0.939, 0.841, 0.838, 0.869, 0.671, 0.851, 0.966, 0.73, 0.599, 0.998, 0.835, 0.753, 0.989, 0.87, 0.878, 0.587, 0.521, 0.796, 0.883, 0.976, 0.774, 0.888, 0.904, 0.997, 0.967, 0.883, 0.823, 0.545, 0.96, 0.672, 0.896, 0.951, 0.612, 0.801, 0.685, 1.0, 0.851, 0.502, 0.526, 0.898]\n",
      "overall average accuracy is 0.8301951219512193\n",
      "for this dataset, noise is 0.55, transition_rate is 0.45\n",
      "traces are of shape:(82, 1000, 2)\n",
      "got 82 traces containing 2 features: DD, DA\n",
      "\n",
      "labels are of shape:(82, 1000)\n",
      "got labels for 82 traces\n",
      "\n"
     ]
    },
    {
     "data": {
      "application/json": {
       "ascii": false,
       "bar_format": null,
       "colour": null,
       "elapsed": 0.0058896541595458984,
       "initial": 0,
       "n": 0,
       "ncols": null,
       "nrows": null,
       "postfix": null,
       "prefix": "",
       "rate": null,
       "total": 82,
       "unit": "it",
       "unit_divisor": 1000,
       "unit_scale": false
      },
      "application/vnd.jupyter.widget-view+json": {
       "model_id": "06163352833f483cb3d6f0e990f4b200",
       "version_major": 2,
       "version_minor": 0
      },
      "text/plain": [
       "  0%|          | 0/82 [00:00<?, ?it/s]"
      ]
     },
     "metadata": {},
     "output_type": "display_data"
    },
    {
     "name": "stdout",
     "output_type": "stream",
     "text": [
      "accuracy for individual traces is [0.698, 0.516, 0.973, 0.915, 0.935, 0.839, 0.712, 0.993, 0.645, 0.752, 0.861, 0.662, 0.989, 0.779, 0.996, 0.799, 0.933, 0.901, 0.852, 0.501, 0.872, 0.987, 0.926, 0.705, 0.673, 0.956, 1.0, 0.952, 0.666, 0.994, 0.521, 0.885, 0.968, 0.817, 0.999, 0.933, 0.537, 0.512, 0.971, 0.961, 0.784, 0.953, 0.924, 0.945, 0.947, 0.878, 0.839, 0.903, 0.995, 0.636, 0.661, 0.774, 0.854, 0.628, 0.5, 0.829, 0.602, 0.856, 0.61, 0.592, 0.913, 0.977, 0.937, 0.856, 0.597, 0.94, 0.989, 0.837, 0.881, 0.901, 0.962, 0.909, 0.655, 0.504, 0.974, 0.523, 0.616, 0.644, 0.956, 0.896, 0.994, 0.506]\n",
      "overall average accuracy is 0.8141829268292682\n",
      "for this dataset, noise is 0.55, transition_rate is 0.50\n",
      "traces are of shape:(85, 1000, 2)\n",
      "got 85 traces containing 2 features: DD, DA\n",
      "\n",
      "labels are of shape:(85, 1000)\n",
      "got labels for 85 traces\n",
      "\n"
     ]
    },
    {
     "data": {
      "application/json": {
       "ascii": false,
       "bar_format": null,
       "colour": null,
       "elapsed": 0.007079362869262695,
       "initial": 0,
       "n": 0,
       "ncols": null,
       "nrows": null,
       "postfix": null,
       "prefix": "",
       "rate": null,
       "total": 85,
       "unit": "it",
       "unit_divisor": 1000,
       "unit_scale": false
      },
      "application/vnd.jupyter.widget-view+json": {
       "model_id": "b664ad9186d249d5990844600e56f361",
       "version_major": 2,
       "version_minor": 0
      },
      "text/plain": [
       "  0%|          | 0/85 [00:00<?, ?it/s]"
      ]
     },
     "metadata": {},
     "output_type": "display_data"
    },
    {
     "name": "stdout",
     "output_type": "stream",
     "text": [
      "accuracy for individual traces is [0.788, 0.926, 0.875, 0.992, 0.896, 0.725, 0.653, 0.889, 0.711, 0.574, 0.967, 0.676, 0.943, 0.869, 0.578, 0.982, 0.614, 0.984, 0.621, 0.871, 0.991, 0.531, 0.548, 0.696, 0.785, 0.982, 0.999, 1.0, 0.998, 0.982, 0.957, 0.848, 0.56, 0.851, 0.998, 0.88, 0.94, 0.981, 0.894, 0.997, 0.971, 0.923, 0.633, 0.786, 0.919, 0.96, 0.811, 0.709, 0.555, 0.535, 0.889, 0.957, 0.945, 0.949, 0.999, 0.562, 0.915, 0.909, 0.943, 0.98, 0.868, 0.946, 0.966, 0.657, 0.9, 0.703, 0.939, 0.713, 0.626, 0.934, 0.898, 0.946, 0.525, 0.989, 0.582, 0.955, 0.881, 0.914, 0.853, 0.625, 0.867, 0.923, 0.971, 0.556, 0.985]\n",
      "overall average accuracy is 0.8367529411764705\n",
      "for this dataset, noise is 0.60, transition_rate is 0.05\n",
      "traces are of shape:(84, 1000, 2)\n",
      "got 84 traces containing 2 features: DD, DA\n",
      "\n",
      "labels are of shape:(84, 1000)\n",
      "got labels for 84 traces\n",
      "\n"
     ]
    },
    {
     "data": {
      "application/json": {
       "ascii": false,
       "bar_format": null,
       "colour": null,
       "elapsed": 0.007688760757446289,
       "initial": 0,
       "n": 0,
       "ncols": null,
       "nrows": null,
       "postfix": null,
       "prefix": "",
       "rate": null,
       "total": 84,
       "unit": "it",
       "unit_divisor": 1000,
       "unit_scale": false
      },
      "application/vnd.jupyter.widget-view+json": {
       "model_id": "f3f20be13a56402a842ce52ffd13d358",
       "version_major": 2,
       "version_minor": 0
      },
      "text/plain": [
       "  0%|          | 0/84 [00:00<?, ?it/s]"
      ]
     },
     "metadata": {},
     "output_type": "display_data"
    },
    {
     "name": "stdout",
     "output_type": "stream",
     "text": [
      "accuracy for individual traces is [0.852, 0.99, 0.987, 0.981, 1.0, 0.995, 0.903, 0.983, 1.0, 0.953, 0.982, 0.957, 0.603, 0.996, 0.999, 0.997, 0.945, 0.976, 0.985, 0.929, 0.982, 0.993, 0.897, 0.982, 0.993, 0.999, 0.984, 0.94, 0.998, 0.966, 0.975, 0.886, 0.647, 0.997, 0.882, 0.995, 0.995, 0.913, 0.988, 0.994, 0.998, 0.972, 0.992, 0.996, 0.98, 0.922, 0.865, 0.995, 0.765, 0.997, 0.997, 0.99, 0.984, 0.916, 0.997, 0.954, 1.0, 0.501, 0.875, 0.978, 1.0, 1.0, 0.995, 0.988, 0.902, 0.996, 0.701, 0.975, 0.916, 1.0, 0.895, 0.873, 0.986, 0.977, 0.509, 0.963, 0.958, 0.994, 0.916, 0.98, 0.983, 0.786, 0.859, 0.885]\n",
      "overall average accuracy is 0.9372619047619045\n",
      "for this dataset, noise is 0.60, transition_rate is 0.10\n",
      "traces are of shape:(74, 1000, 2)\n",
      "got 74 traces containing 2 features: DD, DA\n",
      "\n",
      "labels are of shape:(74, 1000)\n",
      "got labels for 74 traces\n",
      "\n"
     ]
    },
    {
     "data": {
      "application/json": {
       "ascii": false,
       "bar_format": null,
       "colour": null,
       "elapsed": 0.011522769927978516,
       "initial": 0,
       "n": 0,
       "ncols": null,
       "nrows": null,
       "postfix": null,
       "prefix": "",
       "rate": null,
       "total": 74,
       "unit": "it",
       "unit_divisor": 1000,
       "unit_scale": false
      },
      "application/vnd.jupyter.widget-view+json": {
       "model_id": "e024548e484e435895f379d9c1428fbe",
       "version_major": 2,
       "version_minor": 0
      },
      "text/plain": [
       "  0%|          | 0/74 [00:00<?, ?it/s]"
      ]
     },
     "metadata": {},
     "output_type": "display_data"
    },
    {
     "name": "stdout",
     "output_type": "stream",
     "text": [
      "accuracy for individual traces is [0.943, 0.89, 0.562, 0.562, 0.995, 0.901, 0.926, 0.911, 0.909, 0.836, 0.84, 0.99, 0.991, 0.821, 0.987, 0.947, 0.999, 0.771, 0.963, 0.883, 0.896, 0.997, 0.864, 0.793, 0.776, 0.92, 0.569, 0.972, 0.939, 0.985, 0.901, 0.837, 0.986, 0.834, 0.823, 0.941, 0.964, 0.982, 0.836, 0.566, 0.53, 0.789, 0.962, 0.54, 0.893, 0.996, 0.998, 0.771, 0.54, 0.742, 0.961, 0.963, 0.824, 1.0, 0.899, 0.901, 0.974, 0.617, 0.974, 0.811, 0.996, 1.0, 0.705, 0.997, 0.997, 0.996, 0.793, 0.904, 0.935, 1.0, 0.744, 0.85, 0.629, 0.968]\n",
      "overall average accuracy is 0.8676621621621623\n",
      "for this dataset, noise is 0.60, transition_rate is 0.15\n",
      "traces are of shape:(82, 1000, 2)\n",
      "got 82 traces containing 2 features: DD, DA\n",
      "\n",
      "labels are of shape:(82, 1000)\n",
      "got labels for 82 traces\n",
      "\n"
     ]
    },
    {
     "data": {
      "application/json": {
       "ascii": false,
       "bar_format": null,
       "colour": null,
       "elapsed": 0.006000041961669922,
       "initial": 0,
       "n": 0,
       "ncols": null,
       "nrows": null,
       "postfix": null,
       "prefix": "",
       "rate": null,
       "total": 82,
       "unit": "it",
       "unit_divisor": 1000,
       "unit_scale": false
      },
      "application/vnd.jupyter.widget-view+json": {
       "model_id": "90b2a6ac6d1d42208640040b17535f14",
       "version_major": 2,
       "version_minor": 0
      },
      "text/plain": [
       "  0%|          | 0/82 [00:00<?, ?it/s]"
      ]
     },
     "metadata": {},
     "output_type": "display_data"
    },
    {
     "name": "stdout",
     "output_type": "stream",
     "text": [
      "accuracy for individual traces is [0.768, 0.796, 0.86, 0.891, 0.996, 0.758, 0.875, 0.553, 0.959, 0.968, 0.926, 0.758, 0.959, 0.859, 0.907, 0.987, 0.929, 0.727, 0.908, 0.941, 0.61, 0.994, 0.885, 0.998, 0.996, 0.762, 0.982, 0.742, 0.945, 0.974, 0.753, 0.883, 0.998, 0.551, 0.524, 0.935, 0.966, 0.911, 1.0, 0.616, 0.692, 0.63, 0.758, 0.999, 0.803, 0.92, 0.986, 1.0, 0.937, 0.898, 0.972, 0.897, 0.791, 0.992, 0.938, 0.867, 0.828, 0.573, 0.777, 0.796, 0.947, 0.868, 0.54, 0.845, 0.661, 0.955, 0.793, 0.97, 0.55, 0.547, 0.91, 0.879, 0.983, 0.949, 0.88, 0.892, 0.905, 0.998, 0.975, 0.85, 0.956, 0.556]\n",
      "overall average accuracy is 0.8513780487804876\n",
      "for this dataset, noise is 0.60, transition_rate is 0.20\n",
      "traces are of shape:(75, 1000, 2)\n",
      "got 75 traces containing 2 features: DD, DA\n",
      "\n",
      "labels are of shape:(75, 1000)\n",
      "got labels for 75 traces\n",
      "\n"
     ]
    },
    {
     "data": {
      "application/json": {
       "ascii": false,
       "bar_format": null,
       "colour": null,
       "elapsed": 0.007000446319580078,
       "initial": 0,
       "n": 0,
       "ncols": null,
       "nrows": null,
       "postfix": null,
       "prefix": "",
       "rate": null,
       "total": 75,
       "unit": "it",
       "unit_divisor": 1000,
       "unit_scale": false
      },
      "application/vnd.jupyter.widget-view+json": {
       "model_id": "b6420c85ce7a416aabd4999afbb971f4",
       "version_major": 2,
       "version_minor": 0
      },
      "text/plain": [
       "  0%|          | 0/75 [00:00<?, ?it/s]"
      ]
     },
     "metadata": {},
     "output_type": "display_data"
    },
    {
     "name": "stdout",
     "output_type": "stream",
     "text": [
      "accuracy for individual traces is [1.0, 0.995, 0.989, 0.965, 0.83, 0.952, 0.983, 0.996, 0.963, 0.518, 0.95, 0.985, 0.861, 0.994, 0.557, 0.841, 0.581, 0.955, 0.878, 0.997, 0.633, 0.987, 0.87, 0.928, 0.958, 0.532, 0.939, 0.723, 0.93, 0.971, 0.902, 0.77, 0.999, 0.787, 0.832, 0.903, 0.997, 0.981, 0.91, 0.519, 0.56, 0.66, 0.91, 0.875, 0.923, 0.963, 0.571, 0.882, 0.876, 0.947, 0.546, 0.948, 0.504, 0.506, 0.988, 0.813, 0.987, 0.995, 0.979, 0.909, 0.693, 0.777, 0.865, 0.859, 0.991, 0.95, 0.991, 0.999, 0.93, 0.952, 0.894, 0.865, 0.929, 0.98, 0.993]\n",
      "overall average accuracy is 0.8649466666666664\n",
      "for this dataset, noise is 0.60, transition_rate is 0.25\n",
      "traces are of shape:(72, 1000, 2)\n",
      "got 72 traces containing 2 features: DD, DA\n",
      "\n",
      "labels are of shape:(72, 1000)\n",
      "got labels for 72 traces\n",
      "\n"
     ]
    },
    {
     "data": {
      "application/json": {
       "ascii": false,
       "bar_format": null,
       "colour": null,
       "elapsed": 0.006000041961669922,
       "initial": 0,
       "n": 0,
       "ncols": null,
       "nrows": null,
       "postfix": null,
       "prefix": "",
       "rate": null,
       "total": 72,
       "unit": "it",
       "unit_divisor": 1000,
       "unit_scale": false
      },
      "application/vnd.jupyter.widget-view+json": {
       "model_id": "ef65f12ac5404e9b9db9bee1a0032e20",
       "version_major": 2,
       "version_minor": 0
      },
      "text/plain": [
       "  0%|          | 0/72 [00:00<?, ?it/s]"
      ]
     },
     "metadata": {},
     "output_type": "display_data"
    },
    {
     "name": "stdout",
     "output_type": "stream",
     "text": [
      "accuracy for individual traces is [0.722, 0.814, 0.582, 0.816, 0.913, 0.519, 0.72, 0.991, 0.613, 0.6, 0.758, 0.862, 0.511, 0.995, 0.982, 0.979, 0.855, 0.629, 0.965, 0.957, 0.982, 0.721, 0.684, 0.969, 0.876, 0.998, 0.924, 0.998, 0.814, 1.0, 0.958, 0.883, 0.897, 0.992, 0.998, 0.805, 0.996, 0.946, 0.959, 0.667, 0.628, 0.976, 0.923, 0.748, 0.931, 0.662, 1.0, 0.821, 0.924, 0.993, 0.895, 0.551, 0.987, 0.966, 0.892, 0.904, 0.972, 0.714, 0.993, 0.545, 0.733, 0.57, 0.981, 0.543, 0.54, 0.965, 0.873, 1.0, 0.53, 0.993, 0.901, 0.799]\n",
      "overall average accuracy is 0.837541666666667\n",
      "for this dataset, noise is 0.60, transition_rate is 0.30\n",
      "traces are of shape:(72, 1000, 2)\n",
      "got 72 traces containing 2 features: DD, DA\n",
      "\n",
      "labels are of shape:(72, 1000)\n",
      "got labels for 72 traces\n",
      "\n"
     ]
    },
    {
     "data": {
      "application/json": {
       "ascii": false,
       "bar_format": null,
       "colour": null,
       "elapsed": 0.0029997825622558594,
       "initial": 0,
       "n": 0,
       "ncols": null,
       "nrows": null,
       "postfix": null,
       "prefix": "",
       "rate": null,
       "total": 72,
       "unit": "it",
       "unit_divisor": 1000,
       "unit_scale": false
      },
      "application/vnd.jupyter.widget-view+json": {
       "model_id": "7de930bf57e2458ea854da436de6fda5",
       "version_major": 2,
       "version_minor": 0
      },
      "text/plain": [
       "  0%|          | 0/72 [00:00<?, ?it/s]"
      ]
     },
     "metadata": {},
     "output_type": "display_data"
    },
    {
     "name": "stdout",
     "output_type": "stream",
     "text": [
      "accuracy for individual traces is [0.933, 0.951, 0.966, 0.962, 0.836, 0.962, 0.535, 0.893, 0.944, 0.907, 0.554, 0.586, 0.541, 0.987, 0.548, 0.604, 0.885, 0.857, 0.957, 0.803, 0.944, 0.727, 0.883, 0.508, 0.916, 0.95, 0.622, 0.907, 0.936, 0.957, 0.994, 0.735, 0.985, 0.869, 0.988, 0.786, 0.965, 0.955, 0.879, 0.807, 0.517, 0.901, 0.849, 0.889, 0.809, 0.951, 0.597, 0.936, 0.541, 0.728, 0.903, 0.962, 0.514, 0.857, 0.838, 0.762, 0.957, 0.872, 0.959, 0.501, 0.93, 0.649, 0.537, 0.639, 0.592, 0.894, 0.936, 0.509, 0.515, 0.917, 0.961, 0.631]\n",
      "overall average accuracy is 0.806625\n",
      "for this dataset, noise is 0.60, transition_rate is 0.35\n",
      "traces are of shape:(74, 1000, 2)\n",
      "got 74 traces containing 2 features: DD, DA\n",
      "\n",
      "labels are of shape:(74, 1000)\n",
      "got labels for 74 traces\n",
      "\n"
     ]
    },
    {
     "data": {
      "application/json": {
       "ascii": false,
       "bar_format": null,
       "colour": null,
       "elapsed": 0.005932331085205078,
       "initial": 0,
       "n": 0,
       "ncols": null,
       "nrows": null,
       "postfix": null,
       "prefix": "",
       "rate": null,
       "total": 74,
       "unit": "it",
       "unit_divisor": 1000,
       "unit_scale": false
      },
      "application/vnd.jupyter.widget-view+json": {
       "model_id": "82f5c6fa8fe94dd3a7d428ba86fd0018",
       "version_major": 2,
       "version_minor": 0
      },
      "text/plain": [
       "  0%|          | 0/74 [00:00<?, ?it/s]"
      ]
     },
     "metadata": {},
     "output_type": "display_data"
    },
    {
     "name": "stdout",
     "output_type": "stream",
     "text": [
      "accuracy for individual traces is [0.909, 0.737, 0.725, 0.988, 0.964, 0.977, 0.933, 0.777, 0.992, 0.996, 0.898, 0.989, 0.804, 0.529, 0.897, 0.994, 0.823, 0.916, 0.961, 0.921, 0.794, 0.882, 0.848, 0.976, 0.786, 0.975, 0.979, 0.973, 0.923, 0.676, 0.951, 0.759, 0.6, 0.518, 0.556, 0.994, 0.6, 0.947, 0.53, 0.984, 0.972, 0.947, 0.964, 0.9, 0.754, 0.847, 0.99, 0.577, 0.994, 0.996, 0.867, 0.602, 1.0, 0.667, 0.995, 0.502, 0.971, 0.697, 0.903, 0.92, 0.973, 0.736, 0.969, 0.743, 1.0, 0.863, 0.759, 0.572, 0.736, 0.903, 0.793, 0.693, 0.719, 0.95]\n",
      "overall average accuracy is 0.8439864864864866\n",
      "for this dataset, noise is 0.60, transition_rate is 0.40\n",
      "traces are of shape:(77, 1000, 2)\n",
      "got 77 traces containing 2 features: DD, DA\n",
      "\n",
      "labels are of shape:(77, 1000)\n",
      "got labels for 77 traces\n",
      "\n"
     ]
    },
    {
     "data": {
      "application/json": {
       "ascii": false,
       "bar_format": null,
       "colour": null,
       "elapsed": 0.003000020980834961,
       "initial": 0,
       "n": 0,
       "ncols": null,
       "nrows": null,
       "postfix": null,
       "prefix": "",
       "rate": null,
       "total": 77,
       "unit": "it",
       "unit_divisor": 1000,
       "unit_scale": false
      },
      "application/vnd.jupyter.widget-view+json": {
       "model_id": "af288b1573c9462db9bb34878b88ca94",
       "version_major": 2,
       "version_minor": 0
      },
      "text/plain": [
       "  0%|          | 0/77 [00:00<?, ?it/s]"
      ]
     },
     "metadata": {},
     "output_type": "display_data"
    },
    {
     "name": "stdout",
     "output_type": "stream",
     "text": [
      "accuracy for individual traces is [0.96, 0.897, 0.666, 0.721, 0.848, 0.821, 0.994, 0.705, 0.856, 0.927, 0.974, 0.996, 0.526, 0.992, 0.916, 1.0, 0.515, 0.994, 0.663, 0.512, 0.573, 0.944, 0.74, 0.837, 0.932, 0.716, 0.752, 0.874, 0.553, 0.819, 0.832, 0.559, 0.915, 1.0, 0.5, 0.651, 0.705, 0.644, 0.708, 0.53, 0.979, 0.845, 0.977, 0.925, 0.675, 0.979, 1.0, 0.928, 0.812, 0.994, 0.728, 0.905, 0.879, 0.995, 0.698, 0.934, 0.998, 0.955, 0.591, 0.57, 0.938, 0.803, 0.956, 0.87, 0.981, 0.673, 0.991, 0.566, 0.932, 0.527, 0.592, 0.7, 0.954, 0.591, 0.813, 0.648, 0.79]\n",
      "overall average accuracy is 0.8046623376623375\n",
      "for this dataset, noise is 0.60, transition_rate is 0.45\n",
      "traces are of shape:(78, 1000, 2)\n",
      "got 78 traces containing 2 features: DD, DA\n",
      "\n",
      "labels are of shape:(78, 1000)\n",
      "got labels for 78 traces\n",
      "\n"
     ]
    },
    {
     "data": {
      "application/json": {
       "ascii": false,
       "bar_format": null,
       "colour": null,
       "elapsed": 0.005999088287353516,
       "initial": 0,
       "n": 0,
       "ncols": null,
       "nrows": null,
       "postfix": null,
       "prefix": "",
       "rate": null,
       "total": 78,
       "unit": "it",
       "unit_divisor": 1000,
       "unit_scale": false
      },
      "application/vnd.jupyter.widget-view+json": {
       "model_id": "e1d10ac31bac4b11884b6ebfccee17bf",
       "version_major": 2,
       "version_minor": 0
      },
      "text/plain": [
       "  0%|          | 0/78 [00:00<?, ?it/s]"
      ]
     },
     "metadata": {},
     "output_type": "display_data"
    },
    {
     "name": "stdout",
     "output_type": "stream",
     "text": [
      "accuracy for individual traces is [0.902, 0.648, 0.943, 0.708, 0.883, 0.659, 0.536, 0.517, 0.631, 0.937, 0.549, 0.533, 0.927, 0.91, 0.633, 0.951, 0.815, 0.655, 0.925, 0.86, 0.669, 0.543, 0.778, 0.796, 0.754, 0.539, 0.975, 0.723, 0.902, 0.988, 0.874, 0.645, 0.576, 0.557, 0.975, 0.582, 0.93, 0.962, 0.659, 0.914, 0.926, 0.976, 0.769, 0.985, 0.965, 0.597, 0.937, 0.974, 0.998, 0.693, 0.873, 0.842, 0.96, 0.651, 0.741, 0.904, 0.535, 0.915, 0.525, 0.977, 0.963, 0.996, 0.798, 0.981, 0.558, 0.98, 0.962, 0.732, 0.918, 0.786, 0.53, 0.54, 0.974, 0.974, 0.934, 0.574, 0.881, 0.999]\n",
      "overall average accuracy is 0.7985384615384614\n",
      "for this dataset, noise is 0.60, transition_rate is 0.50\n",
      "traces are of shape:(80, 1000, 2)\n",
      "got 80 traces containing 2 features: DD, DA\n",
      "\n",
      "labels are of shape:(80, 1000)\n",
      "got labels for 80 traces\n",
      "\n"
     ]
    },
    {
     "data": {
      "application/json": {
       "ascii": false,
       "bar_format": null,
       "colour": null,
       "elapsed": 0.004999399185180664,
       "initial": 0,
       "n": 0,
       "ncols": null,
       "nrows": null,
       "postfix": null,
       "prefix": "",
       "rate": null,
       "total": 80,
       "unit": "it",
       "unit_divisor": 1000,
       "unit_scale": false
      },
      "application/vnd.jupyter.widget-view+json": {
       "model_id": "e9b880731aa5438db93ff97dce432e90",
       "version_major": 2,
       "version_minor": 0
      },
      "text/plain": [
       "  0%|          | 0/80 [00:00<?, ?it/s]"
      ]
     },
     "metadata": {},
     "output_type": "display_data"
    },
    {
     "name": "stdout",
     "output_type": "stream",
     "text": [
      "accuracy for individual traces is [0.791, 0.817, 0.992, 0.782, 0.996, 0.575, 1.0, 0.555, 0.527, 0.947, 0.729, 0.967, 0.968, 0.913, 0.541, 0.968, 0.604, 0.993, 0.983, 0.864, 0.53, 0.92, 0.794, 0.765, 0.775, 0.974, 0.954, 0.901, 0.722, 0.909, 0.92, 0.635, 0.594, 0.982, 0.86, 0.999, 0.906, 0.691, 0.887, 0.513, 0.898, 0.822, 0.963, 0.889, 0.775, 0.802, 0.657, 0.955, 0.945, 0.899, 0.508, 0.593, 0.874, 0.594, 0.729, 0.588, 0.932, 0.528, 0.802, 0.546, 0.788, 0.726, 0.747, 0.953, 0.914, 0.708, 0.991, 0.97, 0.562, 0.592, 0.53, 0.803, 0.686, 0.557, 0.975, 0.686, 0.784, 0.895, 0.865, 1.0]\n",
      "overall average accuracy is 0.7971750000000002\n",
      "for this dataset, noise is 0.65, transition_rate is 0.05\n",
      "traces are of shape:(76, 1000, 2)\n",
      "got 76 traces containing 2 features: DD, DA\n",
      "\n",
      "labels are of shape:(76, 1000)\n",
      "got labels for 76 traces\n",
      "\n"
     ]
    },
    {
     "data": {
      "application/json": {
       "ascii": false,
       "bar_format": null,
       "colour": null,
       "elapsed": 0.0029997825622558594,
       "initial": 0,
       "n": 0,
       "ncols": null,
       "nrows": null,
       "postfix": null,
       "prefix": "",
       "rate": null,
       "total": 76,
       "unit": "it",
       "unit_divisor": 1000,
       "unit_scale": false
      },
      "application/vnd.jupyter.widget-view+json": {
       "model_id": "6a6c9942e4294627bf8d5916c4e6f157",
       "version_major": 2,
       "version_minor": 0
      },
      "text/plain": [
       "  0%|          | 0/76 [00:00<?, ?it/s]"
      ]
     },
     "metadata": {},
     "output_type": "display_data"
    },
    {
     "name": "stdout",
     "output_type": "stream",
     "text": [
      "accuracy for individual traces is [0.993, 0.899, 0.89, 0.501, 0.604, 0.946, 0.996, 0.997, 0.919, 0.94, 0.95, 0.954, 0.987, 0.978, 0.544, 0.725, 0.9, 1.0, 0.815, 0.87, 0.957, 0.998, 0.931, 0.999, 0.957, 0.944, 0.528, 0.983, 1.0, 0.996, 0.778, 1.0, 0.968, 0.894, 0.788, 0.545, 0.902, 0.974, 0.861, 0.953, 0.999, 0.978, 0.997, 0.958, 0.926, 0.885, 1.0, 0.972, 0.548, 0.949, 0.526, 0.989, 0.969, 0.897, 0.905, 0.97, 0.948, 0.991, 0.969, 0.964, 0.976, 0.996, 1.0, 0.503, 0.997, 0.937, 0.971, 0.891, 0.959, 0.778, 0.976, 0.934, 0.851, 0.533, 0.935, 0.998]\n",
      "overall average accuracy is 0.8939342105263158\n",
      "for this dataset, noise is 0.65, transition_rate is 0.10\n",
      "traces are of shape:(77, 1000, 2)\n",
      "got 77 traces containing 2 features: DD, DA\n",
      "\n",
      "labels are of shape:(77, 1000)\n",
      "got labels for 77 traces\n",
      "\n"
     ]
    },
    {
     "data": {
      "application/json": {
       "ascii": false,
       "bar_format": null,
       "colour": null,
       "elapsed": 0.003994464874267578,
       "initial": 0,
       "n": 0,
       "ncols": null,
       "nrows": null,
       "postfix": null,
       "prefix": "",
       "rate": null,
       "total": 77,
       "unit": "it",
       "unit_divisor": 1000,
       "unit_scale": false
      },
      "application/vnd.jupyter.widget-view+json": {
       "model_id": "a1cdd3ece089404b8d441bef4ebd3de0",
       "version_major": 2,
       "version_minor": 0
      },
      "text/plain": [
       "  0%|          | 0/77 [00:00<?, ?it/s]"
      ]
     },
     "metadata": {},
     "output_type": "display_data"
    },
    {
     "name": "stdout",
     "output_type": "stream",
     "text": [
      "accuracy for individual traces is [0.882, 1.0, 0.819, 0.567, 0.911, 0.995, 0.997, 0.904, 0.985, 0.911, 0.952, 0.816, 0.996, 0.837, 0.889, 0.823, 0.524, 0.873, 0.888, 0.991, 0.938, 0.929, 0.824, 0.873, 0.541, 0.951, 0.898, 0.956, 0.789, 0.773, 0.886, 1.0, 0.802, 0.806, 0.991, 0.962, 0.992, 0.554, 0.995, 0.969, 0.95, 0.833, 0.911, 0.721, 0.97, 0.528, 0.987, 0.87, 0.922, 0.531, 0.818, 0.961, 0.735, 0.998, 0.806, 0.915, 0.982, 0.686, 0.894, 0.895, 0.859, 0.872, 0.997, 0.85, 0.865, 0.751, 0.724, 0.527, 0.99, 0.984, 0.998, 0.671, 0.985, 0.781, 0.982, 0.971, 0.937]\n",
      "overall average accuracy is 0.8655324675324674\n",
      "for this dataset, noise is 0.65, transition_rate is 0.15\n",
      "traces are of shape:(71, 1000, 2)\n",
      "got 71 traces containing 2 features: DD, DA\n",
      "\n",
      "labels are of shape:(71, 1000)\n",
      "got labels for 71 traces\n",
      "\n"
     ]
    },
    {
     "data": {
      "application/json": {
       "ascii": false,
       "bar_format": null,
       "colour": null,
       "elapsed": 0.003999948501586914,
       "initial": 0,
       "n": 0,
       "ncols": null,
       "nrows": null,
       "postfix": null,
       "prefix": "",
       "rate": null,
       "total": 71,
       "unit": "it",
       "unit_divisor": 1000,
       "unit_scale": false
      },
      "application/vnd.jupyter.widget-view+json": {
       "model_id": "f5ee1550357d45e0a3a6a84b0094463c",
       "version_major": 2,
       "version_minor": 0
      },
      "text/plain": [
       "  0%|          | 0/71 [00:00<?, ?it/s]"
      ]
     },
     "metadata": {},
     "output_type": "display_data"
    },
    {
     "name": "stdout",
     "output_type": "stream",
     "text": [
      "accuracy for individual traces is [0.98, 0.995, 0.802, 0.908, 0.996, 0.989, 0.973, 0.748, 0.564, 0.722, 0.867, 0.745, 0.838, 0.91, 0.537, 0.537, 1.0, 0.978, 0.996, 0.914, 0.819, 0.884, 0.922, 0.927, 0.958, 0.944, 0.988, 0.998, 0.914, 0.753, 0.957, 0.939, 0.994, 0.954, 0.908, 0.902, 0.875, 0.904, 0.979, 0.869, 0.966, 0.941, 0.977, 0.931, 0.984, 0.955, 0.731, 0.911, 0.976, 0.986, 0.71, 0.771, 0.691, 0.873, 0.876, 0.996, 0.984, 0.929, 0.995, 0.736, 0.964, 0.931, 0.832, 0.939, 0.774, 0.554, 0.943, 0.617, 0.867, 0.976, 0.911]\n",
      "overall average accuracy is 0.881887323943662\n",
      "for this dataset, noise is 0.65, transition_rate is 0.20\n",
      "traces are of shape:(76, 1000, 2)\n",
      "got 76 traces containing 2 features: DD, DA\n",
      "\n",
      "labels are of shape:(76, 1000)\n",
      "got labels for 76 traces\n",
      "\n"
     ]
    },
    {
     "data": {
      "application/json": {
       "ascii": false,
       "bar_format": null,
       "colour": null,
       "elapsed": 0.004998445510864258,
       "initial": 0,
       "n": 0,
       "ncols": null,
       "nrows": null,
       "postfix": null,
       "prefix": "",
       "rate": null,
       "total": 76,
       "unit": "it",
       "unit_divisor": 1000,
       "unit_scale": false
      },
      "application/vnd.jupyter.widget-view+json": {
       "model_id": "aa96ed0bdfb84953967e50ce7093bef8",
       "version_major": 2,
       "version_minor": 0
      },
      "text/plain": [
       "  0%|          | 0/76 [00:00<?, ?it/s]"
      ]
     },
     "metadata": {},
     "output_type": "display_data"
    },
    {
     "name": "stdout",
     "output_type": "stream",
     "text": [
      "accuracy for individual traces is [0.992, 0.769, 0.978, 0.801, 0.85, 0.985, 0.966, 0.839, 0.858, 0.958, 0.813, 0.965, 0.52, 0.802, 0.541, 0.934, 0.711, 0.982, 0.844, 0.807, 0.903, 0.955, 0.941, 0.984, 0.854, 0.841, 0.749, 0.867, 0.828, 0.881, 0.514, 0.974, 0.926, 0.803, 0.863, 0.971, 0.785, 0.985, 0.87, 0.956, 0.687, 0.697, 0.794, 0.967, 0.933, 0.853, 0.925, 0.963, 0.734, 0.867, 0.989, 0.907, 0.996, 0.791, 0.819, 0.864, 0.536, 0.906, 0.853, 0.976, 0.872, 0.514, 0.843, 0.59, 0.94, 0.998, 0.8, 0.551, 0.932, 0.953, 0.982, 0.978, 1.0, 0.506, 0.956, 0.879]\n",
      "overall average accuracy is 0.8515263157894736\n",
      "for this dataset, noise is 0.65, transition_rate is 0.25\n",
      "traces are of shape:(78, 1000, 2)\n",
      "got 78 traces containing 2 features: DD, DA\n",
      "\n",
      "labels are of shape:(78, 1000)\n",
      "got labels for 78 traces\n",
      "\n"
     ]
    },
    {
     "data": {
      "application/json": {
       "ascii": false,
       "bar_format": null,
       "colour": null,
       "elapsed": 0.004000663757324219,
       "initial": 0,
       "n": 0,
       "ncols": null,
       "nrows": null,
       "postfix": null,
       "prefix": "",
       "rate": null,
       "total": 78,
       "unit": "it",
       "unit_divisor": 1000,
       "unit_scale": false
      },
      "application/vnd.jupyter.widget-view+json": {
       "model_id": "71ef7f5d13bb428ea946b3558a52e61b",
       "version_major": 2,
       "version_minor": 0
      },
      "text/plain": [
       "  0%|          | 0/78 [00:00<?, ?it/s]"
      ]
     },
     "metadata": {},
     "output_type": "display_data"
    },
    {
     "name": "stdout",
     "output_type": "stream",
     "text": [
      "accuracy for individual traces is [0.741, 0.544, 0.839, 0.907, 0.51, 0.951, 0.786, 0.963, 0.937, 0.508, 0.805, 0.922, 0.839, 0.874, 0.963, 0.937, 0.98, 0.75, 0.954, 0.76, 0.608, 0.963, 0.972, 0.906, 0.905, 0.97, 0.996, 0.951, 0.872, 0.997, 0.636, 0.763, 0.865, 0.997, 0.992, 0.663, 0.849, 0.523, 0.55, 0.993, 0.61, 0.926, 0.902, 0.7, 0.626, 0.954, 0.717, 0.953, 0.945, 0.734, 0.816, 0.805, 0.997, 0.989, 0.88, 0.809, 0.751, 0.851, 0.978, 0.993, 0.875, 0.683, 0.534, 0.966, 0.988, 0.837, 0.57, 0.865, 1.0, 0.983, 0.993, 0.971, 0.592, 0.811, 0.977, 0.708, 0.858, 0.706]\n",
      "overall average accuracy is 0.8371025641025642\n",
      "for this dataset, noise is 0.65, transition_rate is 0.30\n",
      "traces are of shape:(69, 1000, 2)\n",
      "got 69 traces containing 2 features: DD, DA\n",
      "\n",
      "labels are of shape:(69, 1000)\n",
      "got labels for 69 traces\n",
      "\n"
     ]
    },
    {
     "data": {
      "application/json": {
       "ascii": false,
       "bar_format": null,
       "colour": null,
       "elapsed": 0.004996776580810547,
       "initial": 0,
       "n": 0,
       "ncols": null,
       "nrows": null,
       "postfix": null,
       "prefix": "",
       "rate": null,
       "total": 69,
       "unit": "it",
       "unit_divisor": 1000,
       "unit_scale": false
      },
      "application/vnd.jupyter.widget-view+json": {
       "model_id": "7d086cd0137145f5bb9fe059c8496bd9",
       "version_major": 2,
       "version_minor": 0
      },
      "text/plain": [
       "  0%|          | 0/69 [00:00<?, ?it/s]"
      ]
     },
     "metadata": {},
     "output_type": "display_data"
    },
    {
     "name": "stdout",
     "output_type": "stream",
     "text": [
      "accuracy for individual traces is [0.657, 0.968, 0.918, 0.631, 0.501, 0.809, 0.773, 0.853, 0.814, 0.923, 0.991, 0.9, 0.981, 0.594, 0.845, 0.544, 0.996, 0.992, 0.995, 0.905, 0.998, 0.802, 0.955, 0.845, 0.955, 0.967, 0.509, 0.951, 0.515, 0.829, 0.969, 0.552, 0.648, 0.736, 0.749, 0.977, 0.752, 0.954, 0.953, 0.747, 0.604, 0.597, 0.951, 0.564, 0.941, 0.501, 0.54, 0.77, 0.531, 0.962, 0.846, 0.867, 0.894, 0.815, 0.901, 0.879, 0.861, 0.977, 0.826, 0.653, 0.864, 0.945, 0.945, 0.694, 0.991, 0.697, 0.898, 1.0, 0.938]\n",
      "overall average accuracy is 0.8174637681159419\n",
      "for this dataset, noise is 0.65, transition_rate is 0.35\n",
      "traces are of shape:(72, 1000, 2)\n",
      "got 72 traces containing 2 features: DD, DA\n",
      "\n",
      "labels are of shape:(72, 1000)\n",
      "got labels for 72 traces\n",
      "\n"
     ]
    },
    {
     "data": {
      "application/json": {
       "ascii": false,
       "bar_format": null,
       "colour": null,
       "elapsed": 0.003003835678100586,
       "initial": 0,
       "n": 0,
       "ncols": null,
       "nrows": null,
       "postfix": null,
       "prefix": "",
       "rate": null,
       "total": 72,
       "unit": "it",
       "unit_divisor": 1000,
       "unit_scale": false
      },
      "application/vnd.jupyter.widget-view+json": {
       "model_id": "b4bdc0e9cdf74ad188fe42bf9746cb00",
       "version_major": 2,
       "version_minor": 0
      },
      "text/plain": [
       "  0%|          | 0/72 [00:00<?, ?it/s]"
      ]
     },
     "metadata": {},
     "output_type": "display_data"
    },
    {
     "name": "stdout",
     "output_type": "stream",
     "text": [
      "accuracy for individual traces is [0.767, 0.875, 0.667, 0.814, 0.841, 0.885, 0.97, 0.579, 0.965, 0.86, 0.691, 0.942, 0.728, 0.506, 1.0, 0.686, 0.973, 0.923, 0.767, 0.953, 0.877, 0.888, 0.975, 0.691, 0.996, 0.836, 0.667, 0.664, 0.897, 0.996, 0.93, 0.857, 0.627, 0.891, 0.578, 0.729, 0.857, 0.786, 0.666, 0.881, 0.948, 0.629, 0.815, 0.928, 0.856, 0.964, 0.814, 0.852, 0.913, 0.975, 0.87, 0.963, 0.958, 0.861, 0.931, 0.723, 0.998, 0.915, 0.796, 0.646, 0.964, 0.887, 0.62, 0.908, 0.877, 0.732, 0.979, 0.874, 0.662, 0.8, 0.862, 0.827]\n",
      "overall average accuracy is 0.8337222222222218\n",
      "for this dataset, noise is 0.65, transition_rate is 0.40\n",
      "traces are of shape:(66, 1000, 2)\n",
      "got 66 traces containing 2 features: DD, DA\n",
      "\n",
      "labels are of shape:(66, 1000)\n",
      "got labels for 66 traces\n",
      "\n"
     ]
    },
    {
     "data": {
      "application/json": {
       "ascii": false,
       "bar_format": null,
       "colour": null,
       "elapsed": 0.003999948501586914,
       "initial": 0,
       "n": 0,
       "ncols": null,
       "nrows": null,
       "postfix": null,
       "prefix": "",
       "rate": null,
       "total": 66,
       "unit": "it",
       "unit_divisor": 1000,
       "unit_scale": false
      },
      "application/vnd.jupyter.widget-view+json": {
       "model_id": "24c40c48c3c84b22bd155ba6ee306079",
       "version_major": 2,
       "version_minor": 0
      },
      "text/plain": [
       "  0%|          | 0/66 [00:00<?, ?it/s]"
      ]
     },
     "metadata": {},
     "output_type": "display_data"
    },
    {
     "name": "stdout",
     "output_type": "stream",
     "text": [
      "accuracy for individual traces is [0.999, 0.996, 0.722, 0.948, 0.693, 0.752, 0.957, 0.887, 0.684, 0.826, 0.886, 0.855, 0.946, 0.663, 0.951, 0.852, 0.814, 0.883, 0.831, 0.959, 0.764, 0.814, 0.989, 0.917, 0.963, 0.865, 0.867, 0.813, 0.97, 0.997, 0.9, 0.861, 0.921, 0.873, 0.999, 0.542, 0.845, 0.954, 0.799, 0.547, 0.84, 0.54, 0.8, 0.647, 0.577, 0.781, 0.816, 0.694, 0.739, 0.511, 0.85, 0.539, 0.82, 0.659, 0.98, 0.508, 0.609, 0.877, 0.906, 0.893, 0.553, 0.831, 0.562, 0.641, 0.767, 0.994]\n",
      "overall average accuracy is 0.8066363636363636\n",
      "for this dataset, noise is 0.65, transition_rate is 0.45\n",
      "traces are of shape:(69, 1000, 2)\n",
      "got 69 traces containing 2 features: DD, DA\n",
      "\n",
      "labels are of shape:(69, 1000)\n",
      "got labels for 69 traces\n",
      "\n"
     ]
    },
    {
     "data": {
      "application/json": {
       "ascii": false,
       "bar_format": null,
       "colour": null,
       "elapsed": 0.004003763198852539,
       "initial": 0,
       "n": 0,
       "ncols": null,
       "nrows": null,
       "postfix": null,
       "prefix": "",
       "rate": null,
       "total": 69,
       "unit": "it",
       "unit_divisor": 1000,
       "unit_scale": false
      },
      "application/vnd.jupyter.widget-view+json": {
       "model_id": "804d36796db44303bdc782d0392116c5",
       "version_major": 2,
       "version_minor": 0
      },
      "text/plain": [
       "  0%|          | 0/69 [00:00<?, ?it/s]"
      ]
     },
     "metadata": {},
     "output_type": "display_data"
    },
    {
     "name": "stdout",
     "output_type": "stream",
     "text": [
      "accuracy for individual traces is [0.549, 0.669, 0.833, 0.576, 0.522, 0.879, 0.972, 0.846, 0.755, 0.835, 0.542, 0.778, 0.971, 0.729, 0.848, 0.698, 0.989, 0.501, 0.916, 0.74, 0.745, 0.698, 0.622, 0.813, 0.721, 0.844, 0.822, 1.0, 0.871, 0.906, 0.791, 0.502, 0.585, 0.736, 0.966, 0.97, 0.984, 0.537, 0.659, 0.888, 0.93, 0.881, 0.682, 0.934, 0.896, 0.526, 0.712, 0.513, 0.839, 0.996, 0.979, 0.906, 0.831, 0.88, 0.804, 0.586, 0.95, 0.509, 0.993, 0.903, 0.66, 0.897, 0.655, 0.963, 0.564, 0.732, 0.507, 0.779, 0.922]\n",
      "overall average accuracy is 0.7787971014492754\n",
      "for this dataset, noise is 0.65, transition_rate is 0.50\n",
      "traces are of shape:(69, 1000, 2)\n",
      "got 69 traces containing 2 features: DD, DA\n",
      "\n",
      "labels are of shape:(69, 1000)\n",
      "got labels for 69 traces\n",
      "\n"
     ]
    },
    {
     "data": {
      "application/json": {
       "ascii": false,
       "bar_format": null,
       "colour": null,
       "elapsed": 0.004000425338745117,
       "initial": 0,
       "n": 0,
       "ncols": null,
       "nrows": null,
       "postfix": null,
       "prefix": "",
       "rate": null,
       "total": 69,
       "unit": "it",
       "unit_divisor": 1000,
       "unit_scale": false
      },
      "application/vnd.jupyter.widget-view+json": {
       "model_id": "b6f34a02b7a341e89dba9853c49214fb",
       "version_major": 2,
       "version_minor": 0
      },
      "text/plain": [
       "  0%|          | 0/69 [00:00<?, ?it/s]"
      ]
     },
     "metadata": {},
     "output_type": "display_data"
    },
    {
     "name": "stdout",
     "output_type": "stream",
     "text": [
      "accuracy for individual traces is [0.853, 0.729, 0.937, 0.581, 0.846, 0.863, 0.691, 0.807, 0.978, 0.524, 0.51, 0.955, 0.809, 0.847, 0.763, 0.941, 0.969, 0.551, 0.775, 0.606, 0.625, 0.501, 0.515, 0.961, 0.856, 0.803, 0.931, 0.848, 0.877, 0.927, 0.897, 0.781, 0.86, 0.847, 0.845, 0.807, 0.547, 0.97, 0.837, 0.532, 0.554, 0.826, 0.569, 0.84, 0.722, 0.823, 1.0, 0.997, 0.958, 0.812, 0.861, 0.867, 0.551, 0.989, 0.998, 0.901, 0.845, 0.886, 0.995, 0.715, 0.665, 0.986, 0.947, 0.971, 0.992, 0.886, 0.911, 0.983, 0.775]\n",
      "overall average accuracy is 0.8134347826086955\n",
      "for this dataset, noise is 0.70, transition_rate is 0.05\n",
      "traces are of shape:(63, 1000, 2)\n",
      "got 63 traces containing 2 features: DD, DA\n",
      "\n",
      "labels are of shape:(63, 1000)\n",
      "got labels for 63 traces\n",
      "\n"
     ]
    },
    {
     "data": {
      "application/json": {
       "ascii": false,
       "bar_format": null,
       "colour": null,
       "elapsed": 0.005001544952392578,
       "initial": 0,
       "n": 0,
       "ncols": null,
       "nrows": null,
       "postfix": null,
       "prefix": "",
       "rate": null,
       "total": 63,
       "unit": "it",
       "unit_divisor": 1000,
       "unit_scale": false
      },
      "application/vnd.jupyter.widget-view+json": {
       "model_id": "a5269b833e054f178896c1cd09cab822",
       "version_major": 2,
       "version_minor": 0
      },
      "text/plain": [
       "  0%|          | 0/63 [00:00<?, ?it/s]"
      ]
     },
     "metadata": {},
     "output_type": "display_data"
    },
    {
     "name": "stdout",
     "output_type": "stream",
     "text": [
      "accuracy for individual traces is [0.991, 0.973, 0.985, 0.998, 0.995, 0.924, 0.982, 0.759, 0.972, 0.912, 0.819, 0.97, 1.0, 0.994, 1.0, 0.985, 0.96, 0.993, 0.964, 0.974, 0.975, 0.998, 0.996, 0.998, 0.996, 0.963, 0.932, 0.939, 0.839, 0.837, 0.981, 0.924, 0.94, 0.964, 0.994, 0.997, 0.937, 0.956, 0.974, 0.938, 0.99, 0.572, 0.853, 0.976, 0.908, 0.96, 0.876, 0.959, 0.941, 0.948, 0.996, 0.989, 0.949, 0.965, 1.0, 1.0, 0.896, 0.996, 0.814, 0.999, 0.963, 0.987, 0.992]\n",
      "overall average accuracy is 0.9485238095238099\n",
      "for this dataset, noise is 0.70, transition_rate is 0.10\n",
      "traces are of shape:(70, 1000, 2)\n",
      "got 70 traces containing 2 features: DD, DA\n",
      "\n",
      "labels are of shape:(70, 1000)\n",
      "got labels for 70 traces\n",
      "\n"
     ]
    },
    {
     "data": {
      "application/json": {
       "ascii": false,
       "bar_format": null,
       "colour": null,
       "elapsed": 0.0030045509338378906,
       "initial": 0,
       "n": 0,
       "ncols": null,
       "nrows": null,
       "postfix": null,
       "prefix": "",
       "rate": null,
       "total": 70,
       "unit": "it",
       "unit_divisor": 1000,
       "unit_scale": false
      },
      "application/vnd.jupyter.widget-view+json": {
       "model_id": "09659812f6884f4dbc13a3c760c11012",
       "version_major": 2,
       "version_minor": 0
      },
      "text/plain": [
       "  0%|          | 0/70 [00:00<?, ?it/s]"
      ]
     },
     "metadata": {},
     "output_type": "display_data"
    },
    {
     "name": "stdout",
     "output_type": "stream",
     "text": [
      "accuracy for individual traces is [0.972, 0.922, 0.775, 0.995, 0.864, 0.995, 0.751, 0.739, 0.991, 0.984, 0.976, 0.893, 0.862, 0.743, 0.556, 0.814, 0.962, 0.991, 0.547, 0.537, 0.892, 0.971, 0.998, 0.991, 0.869, 0.953, 0.972, 0.924, 0.956, 0.998, 0.947, 0.956, 0.995, 0.978, 0.518, 0.547, 0.889, 0.886, 0.942, 0.926, 0.924, 0.893, 0.916, 0.971, 0.906, 0.689, 0.807, 0.945, 0.814, 0.795, 0.995, 0.996, 0.954, 0.981, 0.949, 0.943, 0.996, 0.901, 0.735, 0.771, 0.984, 0.901, 0.887, 0.95, 0.79, 0.944, 0.972, 0.989, 0.977, 0.97]\n",
      "overall average accuracy is 0.8888857142857145\n",
      "for this dataset, noise is 0.70, transition_rate is 0.15\n",
      "traces are of shape:(65, 1000, 2)\n",
      "got 65 traces containing 2 features: DD, DA\n",
      "\n",
      "labels are of shape:(65, 1000)\n",
      "got labels for 65 traces\n",
      "\n"
     ]
    },
    {
     "data": {
      "application/json": {
       "ascii": false,
       "bar_format": null,
       "colour": null,
       "elapsed": 0.007995843887329102,
       "initial": 0,
       "n": 0,
       "ncols": null,
       "nrows": null,
       "postfix": null,
       "prefix": "",
       "rate": null,
       "total": 65,
       "unit": "it",
       "unit_divisor": 1000,
       "unit_scale": false
      },
      "application/vnd.jupyter.widget-view+json": {
       "model_id": "591c4033ddc843c99871e81916b427a3",
       "version_major": 2,
       "version_minor": 0
      },
      "text/plain": [
       "  0%|          | 0/65 [00:00<?, ?it/s]"
      ]
     },
     "metadata": {},
     "output_type": "display_data"
    },
    {
     "name": "stdout",
     "output_type": "stream",
     "text": [
      "accuracy for individual traces is [0.997, 0.978, 0.903, 0.926, 0.911, 0.75, 0.757, 0.82, 0.969, 0.993, 0.912, 0.996, 0.888, 0.988, 0.53, 0.875, 0.986, 0.896, 0.533, 0.999, 0.829, 0.824, 0.748, 0.897, 0.941, 0.896, 0.942, 0.989, 0.974, 0.964, 0.954, 0.981, 0.961, 0.943, 0.937, 0.937, 0.733, 0.906, 0.958, 0.87, 0.978, 0.96, 0.889, 0.88, 0.99, 0.875, 0.904, 0.631, 0.694, 0.949, 0.96, 0.819, 0.995, 0.906, 0.944, 0.56, 0.951, 0.593, 0.856, 0.944, 0.769, 0.986, 0.841, 0.881, 0.848]\n",
      "overall average accuracy is 0.8829846153846157\n",
      "for this dataset, noise is 0.70, transition_rate is 0.20\n",
      "traces are of shape:(68, 1000, 2)\n",
      "got 68 traces containing 2 features: DD, DA\n",
      "\n",
      "labels are of shape:(68, 1000)\n",
      "got labels for 68 traces\n",
      "\n"
     ]
    },
    {
     "data": {
      "application/json": {
       "ascii": false,
       "bar_format": null,
       "colour": null,
       "elapsed": 0.005002260208129883,
       "initial": 0,
       "n": 0,
       "ncols": null,
       "nrows": null,
       "postfix": null,
       "prefix": "",
       "rate": null,
       "total": 68,
       "unit": "it",
       "unit_divisor": 1000,
       "unit_scale": false
      },
      "application/vnd.jupyter.widget-view+json": {
       "model_id": "e72bb9fce86d4a88b976757b809d18b7",
       "version_major": 2,
       "version_minor": 0
      },
      "text/plain": [
       "  0%|          | 0/68 [00:00<?, ?it/s]"
      ]
     },
     "metadata": {},
     "output_type": "display_data"
    },
    {
     "name": "stdout",
     "output_type": "stream",
     "text": [
      "accuracy for individual traces is [0.814, 0.832, 0.809, 0.864, 0.938, 0.954, 0.953, 0.767, 0.802, 0.836, 0.998, 0.955, 0.833, 0.711, 0.926, 0.837, 0.591, 0.943, 0.687, 0.887, 0.898, 0.974, 0.999, 0.886, 0.818, 0.948, 0.972, 0.741, 0.712, 0.516, 0.912, 0.997, 0.821, 0.919, 0.998, 0.909, 0.949, 0.876, 0.921, 0.69, 0.745, 0.978, 0.983, 0.743, 0.766, 0.61, 0.975, 0.791, 0.985, 0.944, 0.968, 0.949, 0.979, 0.981, 0.511, 0.869, 0.891, 0.893, 0.934, 0.858, 0.999, 0.928, 0.995, 0.547, 0.91, 0.782, 0.866, 0.546]\n",
      "overall average accuracy is 0.8576323529411762\n",
      "for this dataset, noise is 0.70, transition_rate is 0.25\n",
      "traces are of shape:(61, 1000, 2)\n",
      "got 61 traces containing 2 features: DD, DA\n",
      "\n",
      "labels are of shape:(61, 1000)\n",
      "got labels for 61 traces\n",
      "\n"
     ]
    },
    {
     "data": {
      "application/json": {
       "ascii": false,
       "bar_format": null,
       "colour": null,
       "elapsed": 0.0030002593994140625,
       "initial": 0,
       "n": 0,
       "ncols": null,
       "nrows": null,
       "postfix": null,
       "prefix": "",
       "rate": null,
       "total": 61,
       "unit": "it",
       "unit_divisor": 1000,
       "unit_scale": false
      },
      "application/vnd.jupyter.widget-view+json": {
       "model_id": "ac250a07107a4aa6bceac39bca8338a1",
       "version_major": 2,
       "version_minor": 0
      },
      "text/plain": [
       "  0%|          | 0/61 [00:00<?, ?it/s]"
      ]
     },
     "metadata": {},
     "output_type": "display_data"
    },
    {
     "name": "stdout",
     "output_type": "stream",
     "text": [
      "accuracy for individual traces is [0.97, 0.525, 0.994, 0.964, 0.98, 0.976, 0.923, 0.863, 0.831, 0.839, 0.627, 0.875, 0.926, 0.986, 0.946, 0.894, 0.998, 0.71, 0.536, 0.513, 0.803, 0.895, 0.991, 0.926, 0.998, 0.678, 0.65, 0.604, 0.935, 0.827, 0.833, 0.905, 0.982, 0.824, 0.566, 0.555, 0.927, 0.781, 0.526, 0.934, 0.887, 0.854, 0.982, 0.95, 0.983, 0.748, 0.959, 0.941, 0.812, 0.753, 0.994, 0.524, 0.755, 0.881, 0.971, 0.867, 0.756, 0.633, 0.777, 0.908, 1.0]\n",
      "overall average accuracy is 0.8352622950819673\n",
      "for this dataset, noise is 0.70, transition_rate is 0.30\n",
      "traces are of shape:(69, 1000, 2)\n",
      "got 69 traces containing 2 features: DD, DA\n",
      "\n",
      "labels are of shape:(69, 1000)\n",
      "got labels for 69 traces\n",
      "\n"
     ]
    },
    {
     "data": {
      "application/json": {
       "ascii": false,
       "bar_format": null,
       "colour": null,
       "elapsed": 0.0029997825622558594,
       "initial": 0,
       "n": 0,
       "ncols": null,
       "nrows": null,
       "postfix": null,
       "prefix": "",
       "rate": null,
       "total": 69,
       "unit": "it",
       "unit_divisor": 1000,
       "unit_scale": false
      },
      "application/vnd.jupyter.widget-view+json": {
       "model_id": "11c829267fe143709a49af95ebed08a4",
       "version_major": 2,
       "version_minor": 0
      },
      "text/plain": [
       "  0%|          | 0/69 [00:00<?, ?it/s]"
      ]
     },
     "metadata": {},
     "output_type": "display_data"
    },
    {
     "name": "stdout",
     "output_type": "stream",
     "text": [
      "accuracy for individual traces is [0.517, 0.994, 0.832, 0.871, 0.726, 0.92, 0.819, 0.729, 0.618, 0.995, 0.782, 0.89, 0.812, 0.976, 0.757, 0.574, 0.92, 0.938, 0.952, 0.97, 0.7, 0.862, 0.58, 0.83, 0.54, 0.708, 0.543, 0.557, 0.795, 0.648, 0.876, 0.985, 0.56, 0.505, 0.707, 0.812, 0.542, 0.885, 0.528, 0.997, 0.721, 0.983, 0.927, 0.993, 0.934, 0.681, 0.966, 0.601, 0.71, 0.844, 0.571, 0.58, 0.953, 0.826, 0.897, 0.769, 0.992, 0.709, 0.986, 0.979, 0.841, 0.636, 0.743, 0.954, 0.952, 0.797, 0.611, 0.995, 0.941]\n",
      "overall average accuracy is 0.7948405797101448\n",
      "for this dataset, noise is 0.70, transition_rate is 0.35\n",
      "traces are of shape:(63, 1000, 2)\n",
      "got 63 traces containing 2 features: DD, DA\n",
      "\n",
      "labels are of shape:(63, 1000)\n",
      "got labels for 63 traces\n",
      "\n"
     ]
    },
    {
     "data": {
      "application/json": {
       "ascii": false,
       "bar_format": null,
       "colour": null,
       "elapsed": 0.003000497817993164,
       "initial": 0,
       "n": 0,
       "ncols": null,
       "nrows": null,
       "postfix": null,
       "prefix": "",
       "rate": null,
       "total": 63,
       "unit": "it",
       "unit_divisor": 1000,
       "unit_scale": false
      },
      "application/vnd.jupyter.widget-view+json": {
       "model_id": "7134492190f341dbb5e9208bdb9f64d1",
       "version_major": 2,
       "version_minor": 0
      },
      "text/plain": [
       "  0%|          | 0/63 [00:00<?, ?it/s]"
      ]
     },
     "metadata": {},
     "output_type": "display_data"
    },
    {
     "name": "stdout",
     "output_type": "stream",
     "text": [
      "accuracy for individual traces is [0.695, 0.925, 0.547, 0.848, 0.893, 0.841, 0.894, 0.502, 0.912, 0.858, 0.504, 0.553, 0.659, 0.888, 0.863, 0.861, 0.783, 0.836, 0.569, 0.697, 0.538, 0.943, 0.594, 0.588, 0.524, 0.671, 0.914, 0.547, 0.974, 1.0, 0.998, 0.865, 0.973, 0.686, 0.994, 0.577, 0.875, 0.553, 0.54, 0.675, 0.771, 0.99, 0.834, 0.936, 0.812, 0.738, 0.522, 0.88, 0.847, 0.519, 0.903, 0.821, 0.788, 0.877, 0.925, 0.972, 1.0, 0.788, 0.805, 0.83, 0.841, 0.92, 0.82]\n",
      "overall average accuracy is 0.7824761904761903\n",
      "for this dataset, noise is 0.70, transition_rate is 0.40\n",
      "traces are of shape:(60, 1000, 2)\n",
      "got 60 traces containing 2 features: DD, DA\n",
      "\n",
      "labels are of shape:(60, 1000)\n",
      "got labels for 60 traces\n",
      "\n"
     ]
    },
    {
     "data": {
      "application/json": {
       "ascii": false,
       "bar_format": null,
       "colour": null,
       "elapsed": 0.008996009826660156,
       "initial": 0,
       "n": 0,
       "ncols": null,
       "nrows": null,
       "postfix": null,
       "prefix": "",
       "rate": null,
       "total": 60,
       "unit": "it",
       "unit_divisor": 1000,
       "unit_scale": false
      },
      "application/vnd.jupyter.widget-view+json": {
       "model_id": "86f3fa9650a24ef5bf00f65635509041",
       "version_major": 2,
       "version_minor": 0
      },
      "text/plain": [
       "  0%|          | 0/60 [00:00<?, ?it/s]"
      ]
     },
     "metadata": {},
     "output_type": "display_data"
    },
    {
     "name": "stdout",
     "output_type": "stream",
     "text": [
      "accuracy for individual traces is [0.836, 0.835, 0.956, 0.944, 0.731, 0.862, 0.794, 0.506, 0.962, 0.527, 0.99, 0.873, 0.989, 0.98, 0.976, 0.94, 0.881, 0.559, 0.873, 0.85, 0.845, 0.511, 0.706, 0.717, 0.957, 0.99, 0.85, 0.971, 0.611, 0.89, 0.672, 0.52, 0.54, 0.606, 0.946, 0.567, 0.98, 0.754, 0.643, 0.986, 0.92, 0.536, 0.868, 0.904, 0.89, 0.934, 0.525, 0.529, 0.956, 0.569, 0.985, 0.654, 0.708, 0.962, 0.968, 0.922, 0.512, 0.8, 0.983, 0.68]\n",
      "overall average accuracy is 0.7988500000000002\n",
      "for this dataset, noise is 0.70, transition_rate is 0.45\n",
      "traces are of shape:(68, 1000, 2)\n",
      "got 68 traces containing 2 features: DD, DA\n",
      "\n",
      "labels are of shape:(68, 1000)\n",
      "got labels for 68 traces\n",
      "\n"
     ]
    },
    {
     "data": {
      "application/json": {
       "ascii": false,
       "bar_format": null,
       "colour": null,
       "elapsed": 0.021443605422973633,
       "initial": 0,
       "n": 0,
       "ncols": null,
       "nrows": null,
       "postfix": null,
       "prefix": "",
       "rate": null,
       "total": 68,
       "unit": "it",
       "unit_divisor": 1000,
       "unit_scale": false
      },
      "application/vnd.jupyter.widget-view+json": {
       "model_id": "9c1eba528bdf48b2b45b08f9c00a0fd1",
       "version_major": 2,
       "version_minor": 0
      },
      "text/plain": [
       "  0%|          | 0/68 [00:00<?, ?it/s]"
      ]
     },
     "metadata": {},
     "output_type": "display_data"
    },
    {
     "name": "stdout",
     "output_type": "stream",
     "text": [
      "accuracy for individual traces is [0.922, 0.784, 0.791, 0.546, 0.957, 0.796, 0.871, 0.952, 0.719, 0.97, 0.978, 0.776, 0.503, 0.857, 0.989, 0.836, 0.508, 0.756, 0.964, 0.524, 0.593, 0.512, 0.671, 0.848, 0.976, 0.65, 0.888, 0.526, 0.87, 0.561, 0.924, 0.855, 0.792, 0.972, 0.763, 0.7, 0.704, 0.519, 0.84, 0.816, 0.981, 0.972, 0.856, 0.95, 0.833, 0.947, 0.502, 0.907, 0.999, 0.827, 0.885, 0.795, 0.749, 0.961, 0.739, 0.989, 0.994, 0.897, 0.773, 0.513, 0.74, 0.799, 0.995, 0.827, 0.955, 0.737, 0.832, 0.71]\n",
      "overall average accuracy is 0.8035735294117647\n",
      "for this dataset, noise is 0.70, transition_rate is 0.50\n",
      "traces are of shape:(69, 1000, 2)\n",
      "got 69 traces containing 2 features: DD, DA\n",
      "\n",
      "labels are of shape:(69, 1000)\n",
      "got labels for 69 traces\n",
      "\n"
     ]
    },
    {
     "data": {
      "application/json": {
       "ascii": false,
       "bar_format": null,
       "colour": null,
       "elapsed": 0.004000663757324219,
       "initial": 0,
       "n": 0,
       "ncols": null,
       "nrows": null,
       "postfix": null,
       "prefix": "",
       "rate": null,
       "total": 69,
       "unit": "it",
       "unit_divisor": 1000,
       "unit_scale": false
      },
      "application/vnd.jupyter.widget-view+json": {
       "model_id": "039ad01a33064cf18ced5ee8524f6906",
       "version_major": 2,
       "version_minor": 0
      },
      "text/plain": [
       "  0%|          | 0/69 [00:00<?, ?it/s]"
      ]
     },
     "metadata": {},
     "output_type": "display_data"
    },
    {
     "name": "stdout",
     "output_type": "stream",
     "text": [
      "accuracy for individual traces is [0.834, 0.927, 0.634, 0.71, 0.75, 0.753, 0.501, 0.508, 0.84, 0.644, 0.851, 0.54, 0.926, 0.942, 0.713, 0.529, 0.798, 0.9, 0.882, 0.903, 0.917, 0.852, 0.533, 0.821, 0.952, 0.904, 0.742, 0.971, 0.508, 0.763, 0.9, 0.545, 0.56, 0.94, 0.678, 0.747, 0.505, 0.856, 0.614, 0.971, 0.518, 0.973, 0.819, 0.745, 0.968, 0.998, 0.957, 0.57, 0.673, 0.705, 0.962, 0.815, 0.582, 0.998, 0.861, 0.947, 0.949, 0.506, 0.799, 0.601, 0.964, 0.648, 0.647, 0.975, 0.708, 0.896, 0.869, 0.854, 0.859]\n",
      "overall average accuracy is 0.778695652173913\n",
      "for this dataset, noise is 0.75, transition_rate is 0.05\n",
      "traces are of shape:(62, 1000, 2)\n",
      "got 62 traces containing 2 features: DD, DA\n",
      "\n",
      "labels are of shape:(62, 1000)\n",
      "got labels for 62 traces\n",
      "\n"
     ]
    },
    {
     "data": {
      "application/json": {
       "ascii": false,
       "bar_format": null,
       "colour": null,
       "elapsed": 0.017695188522338867,
       "initial": 0,
       "n": 0,
       "ncols": null,
       "nrows": null,
       "postfix": null,
       "prefix": "",
       "rate": null,
       "total": 62,
       "unit": "it",
       "unit_divisor": 1000,
       "unit_scale": false
      },
      "application/vnd.jupyter.widget-view+json": {
       "model_id": "d632c8c419854cbe82cd71de7b89d9b7",
       "version_major": 2,
       "version_minor": 0
      },
      "text/plain": [
       "  0%|          | 0/62 [00:00<?, ?it/s]"
      ]
     },
     "metadata": {},
     "output_type": "display_data"
    },
    {
     "name": "stdout",
     "output_type": "stream",
     "text": [
      "accuracy for individual traces is [0.998, 0.962, 0.877, 1.0, 0.968, 0.923, 0.95, 0.988, 0.866, 0.978, 0.532, 0.969, 0.979, 0.996, 0.88, 0.994, 0.783, 0.947, 0.991, 0.993, 0.972, 0.962, 0.775, 0.979, 0.983, 0.971, 0.97, 0.916, 0.766, 0.944, 0.974, 0.814, 0.934, 0.862, 0.975, 0.972, 0.981, 0.927, 0.987, 0.933, 0.998, 0.975, 0.976, 0.972, 0.993, 0.894, 0.997, 0.988, 0.998, 0.988, 0.746, 0.945, 0.979, 0.987, 0.917, 0.923, 0.982, 0.995, 1.0, 0.974, 0.967, 0.957]\n",
      "overall average accuracy is 0.9406774193548386\n",
      "for this dataset, noise is 0.75, transition_rate is 0.10\n",
      "traces are of shape:(51, 1000, 2)\n",
      "got 51 traces containing 2 features: DD, DA\n",
      "\n",
      "labels are of shape:(51, 1000)\n",
      "got labels for 51 traces\n",
      "\n"
     ]
    },
    {
     "data": {
      "application/json": {
       "ascii": false,
       "bar_format": null,
       "colour": null,
       "elapsed": 0.02071094512939453,
       "initial": 0,
       "n": 0,
       "ncols": null,
       "nrows": null,
       "postfix": null,
       "prefix": "",
       "rate": null,
       "total": 51,
       "unit": "it",
       "unit_divisor": 1000,
       "unit_scale": false
      },
      "application/vnd.jupyter.widget-view+json": {
       "model_id": "f51171b7f6e24a0ba6f80b7f2ada102b",
       "version_major": 2,
       "version_minor": 0
      },
      "text/plain": [
       "  0%|          | 0/51 [00:00<?, ?it/s]"
      ]
     },
     "metadata": {},
     "output_type": "display_data"
    },
    {
     "name": "stdout",
     "output_type": "stream",
     "text": [
      "accuracy for individual traces is [0.969, 0.83, 0.99, 0.798, 0.924, 0.981, 0.881, 0.979, 0.793, 0.648, 0.507, 0.998, 0.889, 0.997, 0.988, 0.941, 0.956, 0.915, 0.783, 0.917, 0.829, 0.902, 0.946, 0.934, 0.659, 0.575, 0.988, 0.913, 0.946, 0.992, 0.978, 0.955, 0.955, 0.979, 0.692, 0.979, 0.964, 0.974, 0.989, 0.957, 0.996, 0.982, 0.74, 0.931, 0.964, 0.951, 0.783, 0.939, 0.966, 0.683, 0.766]\n",
      "overall average accuracy is 0.8919803921568628\n",
      "for this dataset, noise is 0.75, transition_rate is 0.15\n",
      "traces are of shape:(55, 1000, 2)\n",
      "got 55 traces containing 2 features: DD, DA\n",
      "\n",
      "labels are of shape:(55, 1000)\n",
      "got labels for 55 traces\n",
      "\n"
     ]
    },
    {
     "data": {
      "application/json": {
       "ascii": false,
       "bar_format": null,
       "colour": null,
       "elapsed": 0.004999399185180664,
       "initial": 0,
       "n": 0,
       "ncols": null,
       "nrows": null,
       "postfix": null,
       "prefix": "",
       "rate": null,
       "total": 55,
       "unit": "it",
       "unit_divisor": 1000,
       "unit_scale": false
      },
      "application/vnd.jupyter.widget-view+json": {
       "model_id": "86985e147ff44945b80d9082e108f962",
       "version_major": 2,
       "version_minor": 0
      },
      "text/plain": [
       "  0%|          | 0/55 [00:00<?, ?it/s]"
      ]
     },
     "metadata": {},
     "output_type": "display_data"
    },
    {
     "name": "stdout",
     "output_type": "stream",
     "text": [
      "accuracy for individual traces is [0.839, 0.843, 0.789, 0.826, 0.864, 0.89, 0.973, 0.689, 0.938, 0.952, 0.583, 0.799, 0.789, 0.969, 0.986, 0.861, 0.996, 0.966, 0.92, 0.911, 0.783, 0.975, 0.962, 0.881, 0.992, 0.973, 0.967, 0.98, 0.76, 0.989, 0.918, 0.804, 0.631, 0.843, 0.823, 0.54, 0.858, 0.71, 0.981, 0.887, 0.957, 0.96, 0.888, 0.746, 0.881, 0.991, 0.838, 0.932, 0.784, 0.947, 0.947, 0.99, 0.837, 0.941, 0.557]\n",
      "overall average accuracy is 0.869745454545455\n",
      "for this dataset, noise is 0.75, transition_rate is 0.20\n",
      "traces are of shape:(56, 1000, 2)\n",
      "got 56 traces containing 2 features: DD, DA\n",
      "\n",
      "labels are of shape:(56, 1000)\n",
      "got labels for 56 traces\n",
      "\n"
     ]
    },
    {
     "data": {
      "application/json": {
       "ascii": false,
       "bar_format": null,
       "colour": null,
       "elapsed": 0.004004478454589844,
       "initial": 0,
       "n": 0,
       "ncols": null,
       "nrows": null,
       "postfix": null,
       "prefix": "",
       "rate": null,
       "total": 56,
       "unit": "it",
       "unit_divisor": 1000,
       "unit_scale": false
      },
      "application/vnd.jupyter.widget-view+json": {
       "model_id": "46e44675c15c4e4e92a80d4ead9c1df0",
       "version_major": 2,
       "version_minor": 0
      },
      "text/plain": [
       "  0%|          | 0/56 [00:00<?, ?it/s]"
      ]
     },
     "metadata": {},
     "output_type": "display_data"
    },
    {
     "name": "stdout",
     "output_type": "stream",
     "text": [
      "accuracy for individual traces is [0.929, 0.675, 0.839, 0.834, 0.764, 0.896, 0.893, 0.861, 0.839, 0.979, 0.841, 0.781, 0.736, 0.941, 0.87, 0.727, 0.827, 0.548, 0.884, 0.852, 0.554, 0.974, 0.871, 0.898, 0.958, 0.669, 0.639, 0.964, 0.932, 0.741, 0.939, 0.537, 0.788, 0.969, 0.916, 0.734, 0.687, 0.813, 0.653, 0.757, 0.69, 0.502, 0.984, 0.944, 0.875, 0.639, 0.874, 0.634, 0.915, 0.894, 0.937, 0.856, 0.997, 0.839, 0.874, 0.514]\n",
      "overall average accuracy is 0.8120892857142856\n",
      "for this dataset, noise is 0.75, transition_rate is 0.25\n",
      "traces are of shape:(47, 1000, 2)\n",
      "got 47 traces containing 2 features: DD, DA\n",
      "\n",
      "labels are of shape:(47, 1000)\n",
      "got labels for 47 traces\n",
      "\n"
     ]
    },
    {
     "data": {
      "application/json": {
       "ascii": false,
       "bar_format": null,
       "colour": null,
       "elapsed": 0.005000114440917969,
       "initial": 0,
       "n": 0,
       "ncols": null,
       "nrows": null,
       "postfix": null,
       "prefix": "",
       "rate": null,
       "total": 47,
       "unit": "it",
       "unit_divisor": 1000,
       "unit_scale": false
      },
      "application/vnd.jupyter.widget-view+json": {
       "model_id": "734578ee048b4cdc9f3c07f90407b43c",
       "version_major": 2,
       "version_minor": 0
      },
      "text/plain": [
       "  0%|          | 0/47 [00:00<?, ?it/s]"
      ]
     },
     "metadata": {},
     "output_type": "display_data"
    },
    {
     "name": "stdout",
     "output_type": "stream",
     "text": [
      "accuracy for individual traces is [0.89, 0.94, 0.943, 0.647, 0.853, 0.941, 0.821, 0.989, 0.591, 0.853, 0.818, 0.757, 0.881, 0.824, 0.95, 0.575, 0.904, 0.752, 0.528, 0.941, 0.873, 0.802, 0.73, 0.89, 0.859, 0.9, 0.956, 0.842, 0.857, 0.507, 0.839, 0.761, 0.818, 0.967, 0.962, 0.9, 0.893, 0.753, 0.771, 0.867, 0.969, 0.579, 0.971, 0.643, 0.975, 0.648, 0.789]\n",
      "overall average accuracy is 0.8238085106382977\n",
      "for this dataset, noise is 0.75, transition_rate is 0.30\n",
      "traces are of shape:(45, 1000, 2)\n",
      "got 45 traces containing 2 features: DD, DA\n",
      "\n",
      "labels are of shape:(45, 1000)\n",
      "got labels for 45 traces\n",
      "\n"
     ]
    },
    {
     "data": {
      "application/json": {
       "ascii": false,
       "bar_format": null,
       "colour": null,
       "elapsed": 0.003918886184692383,
       "initial": 0,
       "n": 0,
       "ncols": null,
       "nrows": null,
       "postfix": null,
       "prefix": "",
       "rate": null,
       "total": 45,
       "unit": "it",
       "unit_divisor": 1000,
       "unit_scale": false
      },
      "application/vnd.jupyter.widget-view+json": {
       "model_id": "b2f7fa017ba441fca74dfc72e0095694",
       "version_major": 2,
       "version_minor": 0
      },
      "text/plain": [
       "  0%|          | 0/45 [00:00<?, ?it/s]"
      ]
     },
     "metadata": {},
     "output_type": "display_data"
    },
    {
     "name": "stdout",
     "output_type": "stream",
     "text": [
      "accuracy for individual traces is [0.619, 0.56, 0.921, 0.813, 0.512, 0.531, 0.902, 0.978, 0.537, 0.686, 0.868, 0.773, 0.926, 0.841, 0.661, 0.528, 0.926, 0.821, 0.794, 0.971, 0.927, 0.975, 0.591, 0.946, 0.995, 0.505, 0.915, 0.628, 0.643, 0.964, 0.964, 0.953, 0.923, 0.574, 0.857, 0.887, 0.992, 0.995, 0.619, 0.843, 0.932, 0.756, 0.708, 0.984, 0.924]\n",
      "overall average accuracy is 0.8037333333333335\n",
      "for this dataset, noise is 0.75, transition_rate is 0.35\n",
      "traces are of shape:(49, 1000, 2)\n",
      "got 49 traces containing 2 features: DD, DA\n",
      "\n",
      "labels are of shape:(49, 1000)\n",
      "got labels for 49 traces\n",
      "\n"
     ]
    },
    {
     "data": {
      "application/json": {
       "ascii": false,
       "bar_format": null,
       "colour": null,
       "elapsed": 0.0030508041381835938,
       "initial": 0,
       "n": 0,
       "ncols": null,
       "nrows": null,
       "postfix": null,
       "prefix": "",
       "rate": null,
       "total": 49,
       "unit": "it",
       "unit_divisor": 1000,
       "unit_scale": false
      },
      "application/vnd.jupyter.widget-view+json": {
       "model_id": "30ffd347d40f40e7aaf6b1c268b53a91",
       "version_major": 2,
       "version_minor": 0
      },
      "text/plain": [
       "  0%|          | 0/49 [00:00<?, ?it/s]"
      ]
     },
     "metadata": {},
     "output_type": "display_data"
    },
    {
     "name": "stdout",
     "output_type": "stream",
     "text": [
      "accuracy for individual traces is [0.917, 0.793, 0.856, 0.502, 0.741, 0.502, 0.707, 0.626, 0.838, 0.918, 0.994, 0.569, 0.502, 0.891, 0.792, 0.958, 0.569, 0.502, 0.673, 0.855, 0.57, 0.981, 0.977, 0.961, 0.933, 0.511, 0.877, 0.62, 0.854, 0.747, 0.641, 0.565, 0.884, 0.713, 0.98, 0.969, 0.536, 0.763, 0.918, 0.961, 0.734, 0.926, 0.943, 0.571, 0.633, 0.83, 0.515, 0.693, 0.908]\n",
      "overall average accuracy is 0.7636530612244898\n",
      "for this dataset, noise is 0.75, transition_rate is 0.40\n",
      "traces are of shape:(55, 1000, 2)\n",
      "got 55 traces containing 2 features: DD, DA\n",
      "\n",
      "labels are of shape:(55, 1000)\n",
      "got labels for 55 traces\n",
      "\n"
     ]
    },
    {
     "data": {
      "application/json": {
       "ascii": false,
       "bar_format": null,
       "colour": null,
       "elapsed": 0.024605751037597656,
       "initial": 0,
       "n": 0,
       "ncols": null,
       "nrows": null,
       "postfix": null,
       "prefix": "",
       "rate": null,
       "total": 55,
       "unit": "it",
       "unit_divisor": 1000,
       "unit_scale": false
      },
      "application/vnd.jupyter.widget-view+json": {
       "model_id": "865f91f897d34ad59345272971739b04",
       "version_major": 2,
       "version_minor": 0
      },
      "text/plain": [
       "  0%|          | 0/55 [00:00<?, ?it/s]"
      ]
     },
     "metadata": {},
     "output_type": "display_data"
    },
    {
     "name": "stdout",
     "output_type": "stream",
     "text": [
      "accuracy for individual traces is [0.788, 0.795, 0.806, 0.75, 0.741, 0.895, 0.517, 0.683, 0.972, 0.959, 0.522, 0.85, 0.612, 0.914, 0.77, 0.547, 0.936, 0.811, 0.998, 0.711, 0.661, 0.946, 0.576, 0.855, 0.887, 0.855, 0.866, 0.802, 0.937, 0.801, 0.859, 0.979, 0.781, 0.859, 0.79, 0.549, 0.518, 0.579, 0.954, 0.879, 0.835, 0.98, 0.741, 0.849, 0.58, 0.623, 0.508, 0.801, 0.603, 0.994, 0.502, 0.823, 0.846, 0.876, 0.522]\n",
      "overall average accuracy is 0.7744181818181817\n",
      "for this dataset, noise is 0.75, transition_rate is 0.45\n",
      "traces are of shape:(54, 1000, 2)\n",
      "got 54 traces containing 2 features: DD, DA\n",
      "\n",
      "labels are of shape:(54, 1000)\n",
      "got labels for 54 traces\n",
      "\n"
     ]
    },
    {
     "data": {
      "application/json": {
       "ascii": false,
       "bar_format": null,
       "colour": null,
       "elapsed": 0.006005048751831055,
       "initial": 0,
       "n": 0,
       "ncols": null,
       "nrows": null,
       "postfix": null,
       "prefix": "",
       "rate": null,
       "total": 54,
       "unit": "it",
       "unit_divisor": 1000,
       "unit_scale": false
      },
      "application/vnd.jupyter.widget-view+json": {
       "model_id": "a48a1a2309d94c99b41da673db46aec0",
       "version_major": 2,
       "version_minor": 0
      },
      "text/plain": [
       "  0%|          | 0/54 [00:00<?, ?it/s]"
      ]
     },
     "metadata": {},
     "output_type": "display_data"
    },
    {
     "name": "stdout",
     "output_type": "stream",
     "text": [
      "accuracy for individual traces is [0.712, 0.93, 0.594, 0.981, 0.5, 0.91, 0.679, 0.973, 0.966, 0.805, 0.602, 0.728, 0.848, 0.813, 0.604, 0.526, 0.505, 0.646, 0.786, 0.847, 0.839, 0.909, 0.98, 0.962, 0.817, 0.834, 0.741, 0.875, 0.634, 0.548, 0.995, 0.664, 0.544, 0.649, 0.719, 0.778, 0.98, 0.901, 0.763, 0.814, 0.693, 0.828, 0.887, 0.778, 0.503, 0.913, 0.996, 0.716, 0.697, 0.837, 0.818, 0.911, 0.553, 0.671]\n",
      "overall average accuracy is 0.7722592592592595\n",
      "for this dataset, noise is 0.75, transition_rate is 0.50\n",
      "traces are of shape:(63, 1000, 2)\n",
      "got 63 traces containing 2 features: DD, DA\n",
      "\n",
      "labels are of shape:(63, 1000)\n",
      "got labels for 63 traces\n",
      "\n"
     ]
    },
    {
     "data": {
      "application/json": {
       "ascii": false,
       "bar_format": null,
       "colour": null,
       "elapsed": 0.0040013790130615234,
       "initial": 0,
       "n": 0,
       "ncols": null,
       "nrows": null,
       "postfix": null,
       "prefix": "",
       "rate": null,
       "total": 63,
       "unit": "it",
       "unit_divisor": 1000,
       "unit_scale": false
      },
      "application/vnd.jupyter.widget-view+json": {
       "model_id": "c29b385c76d94c8eada5deaac8abdf53",
       "version_major": 2,
       "version_minor": 0
      },
      "text/plain": [
       "  0%|          | 0/63 [00:00<?, ?it/s]"
      ]
     },
     "metadata": {},
     "output_type": "display_data"
    },
    {
     "name": "stdout",
     "output_type": "stream",
     "text": [
      "accuracy for individual traces is [0.968, 0.999, 0.948, 0.731, 0.957, 0.691, 0.627, 0.761, 0.858, 0.504, 0.97, 0.765, 0.764, 0.91, 0.863, 0.878, 0.898, 0.865, 0.997, 0.795, 0.821, 0.57, 0.975, 0.985, 0.961, 0.769, 0.522, 0.803, 0.904, 0.998, 0.803, 0.847, 0.963, 0.818, 0.869, 0.917, 0.526, 0.571, 0.938, 0.767, 0.861, 0.519, 0.98, 0.783, 0.619, 0.825, 0.661, 0.574, 0.746, 0.542, 0.64, 0.899, 0.713, 0.782, 0.929, 0.55, 0.861, 0.632, 0.574, 0.543, 0.853, 0.991, 0.939]\n",
      "overall average accuracy is 0.7951111111111112\n",
      "for this dataset, noise is 0.80, transition_rate is 0.05\n",
      "traces are of shape:(35, 1000, 2)\n",
      "got 35 traces containing 2 features: DD, DA\n",
      "\n",
      "labels are of shape:(35, 1000)\n",
      "got labels for 35 traces\n",
      "\n"
     ]
    },
    {
     "data": {
      "application/json": {
       "ascii": false,
       "bar_format": null,
       "colour": null,
       "elapsed": 0.0030002593994140625,
       "initial": 0,
       "n": 0,
       "ncols": null,
       "nrows": null,
       "postfix": null,
       "prefix": "",
       "rate": null,
       "total": 35,
       "unit": "it",
       "unit_divisor": 1000,
       "unit_scale": false
      },
      "application/vnd.jupyter.widget-view+json": {
       "model_id": "e111cf9862de4c6ca437dc85c837421e",
       "version_major": 2,
       "version_minor": 0
      },
      "text/plain": [
       "  0%|          | 0/35 [00:00<?, ?it/s]"
      ]
     },
     "metadata": {},
     "output_type": "display_data"
    },
    {
     "name": "stdout",
     "output_type": "stream",
     "text": [
      "accuracy for individual traces is [0.936, 0.941, 0.966, 0.648, 0.771, 0.943, 0.958, 0.887, 0.965, 0.593, 0.856, 0.863, 0.999, 0.989, 0.79, 0.873, 0.981, 0.661, 0.83, 0.909, 0.803, 0.982, 0.653, 0.879, 0.895, 0.928, 0.898, 0.976, 0.888, 0.998, 0.95, 0.977, 0.962, 0.988, 0.766]\n",
      "overall average accuracy is 0.8829142857142858\n",
      "for this dataset, noise is 0.80, transition_rate is 0.10\n",
      "traces are of shape:(46, 1000, 2)\n",
      "got 46 traces containing 2 features: DD, DA\n",
      "\n",
      "labels are of shape:(46, 1000)\n",
      "got labels for 46 traces\n",
      "\n"
     ]
    },
    {
     "data": {
      "application/json": {
       "ascii": false,
       "bar_format": null,
       "colour": null,
       "elapsed": 0.004005908966064453,
       "initial": 0,
       "n": 0,
       "ncols": null,
       "nrows": null,
       "postfix": null,
       "prefix": "",
       "rate": null,
       "total": 46,
       "unit": "it",
       "unit_divisor": 1000,
       "unit_scale": false
      },
      "application/vnd.jupyter.widget-view+json": {
       "model_id": "e9ab0bdc820f4ee7a4640709cd3b083f",
       "version_major": 2,
       "version_minor": 0
      },
      "text/plain": [
       "  0%|          | 0/46 [00:00<?, ?it/s]"
      ]
     },
     "metadata": {},
     "output_type": "display_data"
    },
    {
     "name": "stdout",
     "output_type": "stream",
     "text": [
      "accuracy for individual traces is [0.706, 0.841, 0.926, 0.951, 0.935, 0.943, 0.872, 0.693, 0.987, 0.883, 0.952, 0.998, 0.968, 0.893, 0.983, 0.934, 0.891, 0.967, 0.951, 0.901, 1.0, 0.972, 0.96, 0.936, 0.932, 0.813, 0.665, 0.9, 0.988, 0.955, 0.898, 0.958, 0.864, 0.954, 0.874, 0.875, 0.985, 0.556, 0.718, 0.582, 0.568, 0.728, 0.855, 0.892, 0.987, 0.969]\n",
      "overall average accuracy is 0.8817173913043478\n",
      "for this dataset, noise is 0.80, transition_rate is 0.15\n",
      "traces are of shape:(44, 1000, 2)\n",
      "got 44 traces containing 2 features: DD, DA\n",
      "\n",
      "labels are of shape:(44, 1000)\n",
      "got labels for 44 traces\n",
      "\n"
     ]
    },
    {
     "data": {
      "application/json": {
       "ascii": false,
       "bar_format": null,
       "colour": null,
       "elapsed": 0.0030012130737304688,
       "initial": 0,
       "n": 0,
       "ncols": null,
       "nrows": null,
       "postfix": null,
       "prefix": "",
       "rate": null,
       "total": 44,
       "unit": "it",
       "unit_divisor": 1000,
       "unit_scale": false
      },
      "application/vnd.jupyter.widget-view+json": {
       "model_id": "04f5bd4421d8498b8bf79b56f09053f6",
       "version_major": 2,
       "version_minor": 0
      },
      "text/plain": [
       "  0%|          | 0/44 [00:00<?, ?it/s]"
      ]
     },
     "metadata": {},
     "output_type": "display_data"
    },
    {
     "name": "stdout",
     "output_type": "stream",
     "text": [
      "accuracy for individual traces is [0.889, 0.539, 0.736, 0.677, 0.782, 0.837, 0.916, 0.953, 0.975, 0.982, 0.831, 0.812, 0.571, 0.882, 0.856, 0.991, 0.952, 0.791, 0.514, 0.759, 0.945, 0.801, 0.546, 0.565, 0.84, 0.794, 0.903, 0.827, 0.928, 0.794, 0.935, 0.753, 0.921, 0.854, 0.989, 0.507, 0.987, 0.919, 0.944, 0.866, 0.723, 0.91, 0.994, 0.869]\n",
      "overall average accuracy is 0.8263409090909088\n",
      "for this dataset, noise is 0.80, transition_rate is 0.20\n",
      "traces are of shape:(42, 1000, 2)\n",
      "got 42 traces containing 2 features: DD, DA\n",
      "\n",
      "labels are of shape:(42, 1000)\n",
      "got labels for 42 traces\n",
      "\n"
     ]
    },
    {
     "data": {
      "application/json": {
       "ascii": false,
       "bar_format": null,
       "colour": null,
       "elapsed": 0.0060007572174072266,
       "initial": 0,
       "n": 0,
       "ncols": null,
       "nrows": null,
       "postfix": null,
       "prefix": "",
       "rate": null,
       "total": 42,
       "unit": "it",
       "unit_divisor": 1000,
       "unit_scale": false
      },
      "application/vnd.jupyter.widget-view+json": {
       "model_id": "09f778083f5a4518a1e88f21cc864ce7",
       "version_major": 2,
       "version_minor": 0
      },
      "text/plain": [
       "  0%|          | 0/42 [00:00<?, ?it/s]"
      ]
     },
     "metadata": {},
     "output_type": "display_data"
    },
    {
     "name": "stdout",
     "output_type": "stream",
     "text": [
      "accuracy for individual traces is [0.853, 0.618, 0.916, 0.711, 0.931, 0.936, 0.971, 0.525, 1.0, 0.834, 0.964, 0.876, 0.891, 0.659, 0.754, 0.928, 0.774, 0.983, 0.925, 0.903, 0.988, 0.55, 0.992, 0.899, 0.528, 0.523, 0.852, 0.531, 0.769, 0.821, 0.891, 0.534, 0.956, 0.9, 0.944, 0.949, 0.97, 0.847, 0.919, 0.727, 0.635, 0.756]\n",
      "overall average accuracy is 0.8198333333333332\n",
      "for this dataset, noise is 0.80, transition_rate is 0.25\n",
      "traces are of shape:(45, 1000, 2)\n",
      "got 45 traces containing 2 features: DD, DA\n",
      "\n",
      "labels are of shape:(45, 1000)\n",
      "got labels for 45 traces\n",
      "\n"
     ]
    },
    {
     "data": {
      "application/json": {
       "ascii": false,
       "bar_format": null,
       "colour": null,
       "elapsed": 0.006000041961669922,
       "initial": 0,
       "n": 0,
       "ncols": null,
       "nrows": null,
       "postfix": null,
       "prefix": "",
       "rate": null,
       "total": 45,
       "unit": "it",
       "unit_divisor": 1000,
       "unit_scale": false
      },
      "application/vnd.jupyter.widget-view+json": {
       "model_id": "520be7a03b3e44758ed279b28d524787",
       "version_major": 2,
       "version_minor": 0
      },
      "text/plain": [
       "  0%|          | 0/45 [00:00<?, ?it/s]"
      ]
     },
     "metadata": {},
     "output_type": "display_data"
    },
    {
     "name": "stdout",
     "output_type": "stream",
     "text": [
      "accuracy for individual traces is [0.538, 0.977, 0.703, 0.82, 0.849, 0.95, 0.703, 0.914, 0.876, 0.777, 0.696, 0.671, 0.55, 0.938, 0.953, 0.951, 0.759, 0.916, 0.856, 0.862, 0.551, 0.847, 0.932, 0.934, 0.852, 0.666, 0.723, 0.914, 0.989, 0.917, 0.81, 0.83, 0.915, 0.626, 0.913, 0.819, 0.993, 0.846, 0.876, 0.994, 0.885, 0.828, 0.991, 0.715, 0.909]\n",
      "overall average accuracy is 0.8340888888888889\n",
      "for this dataset, noise is 0.80, transition_rate is 0.30\n",
      "traces are of shape:(46, 1000, 2)\n",
      "got 46 traces containing 2 features: DD, DA\n",
      "\n",
      "labels are of shape:(46, 1000)\n",
      "got labels for 46 traces\n",
      "\n"
     ]
    },
    {
     "data": {
      "application/json": {
       "ascii": false,
       "bar_format": null,
       "colour": null,
       "elapsed": 0.008002758026123047,
       "initial": 0,
       "n": 0,
       "ncols": null,
       "nrows": null,
       "postfix": null,
       "prefix": "",
       "rate": null,
       "total": 46,
       "unit": "it",
       "unit_divisor": 1000,
       "unit_scale": false
      },
      "application/vnd.jupyter.widget-view+json": {
       "model_id": "571e1f8a37224cb8a9c35ed2d94d9c84",
       "version_major": 2,
       "version_minor": 0
      },
      "text/plain": [
       "  0%|          | 0/46 [00:00<?, ?it/s]"
      ]
     },
     "metadata": {},
     "output_type": "display_data"
    },
    {
     "name": "stdout",
     "output_type": "stream",
     "text": [
      "accuracy for individual traces is [0.998, 0.941, 0.689, 0.697, 0.83, 0.831, 0.895, 0.863, 0.9, 0.524, 0.547, 0.855, 0.806, 0.955, 0.935, 0.761, 0.88, 0.784, 0.958, 0.974, 0.795, 0.916, 0.501, 0.648, 0.963, 0.788, 0.673, 0.637, 0.659, 0.644, 0.886, 0.899, 0.625, 0.532, 0.826, 0.82, 0.634, 0.842, 0.838, 0.591, 0.721, 0.897, 0.543, 0.987, 0.874, 0.835]\n",
      "overall average accuracy is 0.7868913043478262\n",
      "for this dataset, noise is 0.80, transition_rate is 0.35\n",
      "traces are of shape:(47, 1000, 2)\n",
      "got 47 traces containing 2 features: DD, DA\n",
      "\n",
      "labels are of shape:(47, 1000)\n",
      "got labels for 47 traces\n",
      "\n"
     ]
    },
    {
     "data": {
      "application/json": {
       "ascii": false,
       "bar_format": null,
       "colour": null,
       "elapsed": 0.004000186920166016,
       "initial": 0,
       "n": 0,
       "ncols": null,
       "nrows": null,
       "postfix": null,
       "prefix": "",
       "rate": null,
       "total": 47,
       "unit": "it",
       "unit_divisor": 1000,
       "unit_scale": false
      },
      "application/vnd.jupyter.widget-view+json": {
       "model_id": "972f19f66bef40628fbedea5059bfa0b",
       "version_major": 2,
       "version_minor": 0
      },
      "text/plain": [
       "  0%|          | 0/47 [00:00<?, ?it/s]"
      ]
     },
     "metadata": {},
     "output_type": "display_data"
    },
    {
     "name": "stdout",
     "output_type": "stream",
     "text": [
      "accuracy for individual traces is [0.735, 0.785, 0.665, 0.827, 0.888, 0.707, 0.664, 0.863, 0.598, 0.835, 0.921, 0.586, 0.704, 0.985, 0.824, 0.786, 0.967, 0.872, 0.763, 0.528, 0.788, 0.902, 0.775, 0.936, 0.953, 0.53, 0.501, 0.813, 0.532, 0.84, 0.846, 0.709, 0.858, 0.898, 0.744, 0.882, 0.954, 0.852, 0.586, 0.958, 0.852, 0.929, 0.858, 0.755, 0.634, 0.944, 0.722]\n",
      "overall average accuracy is 0.7883829787234043\n",
      "for this dataset, noise is 0.80, transition_rate is 0.40\n",
      "traces are of shape:(36, 1000, 2)\n",
      "got 36 traces containing 2 features: DD, DA\n",
      "\n",
      "labels are of shape:(36, 1000)\n",
      "got labels for 36 traces\n",
      "\n"
     ]
    },
    {
     "data": {
      "application/json": {
       "ascii": false,
       "bar_format": null,
       "colour": null,
       "elapsed": 0.004998445510864258,
       "initial": 0,
       "n": 0,
       "ncols": null,
       "nrows": null,
       "postfix": null,
       "prefix": "",
       "rate": null,
       "total": 36,
       "unit": "it",
       "unit_divisor": 1000,
       "unit_scale": false
      },
      "application/vnd.jupyter.widget-view+json": {
       "model_id": "9e5bce30c0694a91bb1003f7e84834db",
       "version_major": 2,
       "version_minor": 0
      },
      "text/plain": [
       "  0%|          | 0/36 [00:00<?, ?it/s]"
      ]
     },
     "metadata": {},
     "output_type": "display_data"
    },
    {
     "name": "stdout",
     "output_type": "stream",
     "text": [
      "accuracy for individual traces is [0.519, 0.861, 0.591, 0.896, 0.636, 0.512, 0.972, 0.95, 0.923, 0.773, 0.955, 0.635, 0.511, 0.966, 0.804, 0.718, 0.8, 0.95, 0.795, 0.895, 0.783, 0.795, 0.936, 0.845, 0.761, 0.884, 0.914, 0.977, 0.514, 0.638, 0.914, 0.885, 0.824, 0.912, 0.531, 0.977]\n",
      "overall average accuracy is 0.7986666666666667\n",
      "for this dataset, noise is 0.80, transition_rate is 0.45\n",
      "traces are of shape:(53, 1000, 2)\n",
      "got 53 traces containing 2 features: DD, DA\n",
      "\n",
      "labels are of shape:(53, 1000)\n",
      "got labels for 53 traces\n",
      "\n"
     ]
    },
    {
     "data": {
      "application/json": {
       "ascii": false,
       "bar_format": null,
       "colour": null,
       "elapsed": 0.003999948501586914,
       "initial": 0,
       "n": 0,
       "ncols": null,
       "nrows": null,
       "postfix": null,
       "prefix": "",
       "rate": null,
       "total": 53,
       "unit": "it",
       "unit_divisor": 1000,
       "unit_scale": false
      },
      "application/vnd.jupyter.widget-view+json": {
       "model_id": "70bf227b8e504287a1d7ff94dfd6c3db",
       "version_major": 2,
       "version_minor": 0
      },
      "text/plain": [
       "  0%|          | 0/53 [00:00<?, ?it/s]"
      ]
     },
     "metadata": {},
     "output_type": "display_data"
    },
    {
     "name": "stdout",
     "output_type": "stream",
     "text": [
      "accuracy for individual traces is [0.615, 0.805, 0.749, 0.764, 0.546, 0.926, 0.643, 0.971, 0.962, 0.702, 0.569, 0.622, 0.977, 0.51, 0.731, 0.508, 0.985, 1.0, 0.943, 0.759, 0.887, 0.922, 0.587, 0.905, 0.838, 0.899, 0.854, 0.503, 0.52, 0.854, 0.938, 0.859, 0.7, 0.938, 0.593, 0.62, 0.904, 0.892, 0.695, 0.502, 0.525, 0.7, 0.879, 0.53, 0.884, 0.626, 0.781, 0.588, 0.688, 0.798, 0.825, 0.795, 0.848]\n",
      "overall average accuracy is 0.7578113207547169\n",
      "for this dataset, noise is 0.80, transition_rate is 0.50\n",
      "traces are of shape:(45, 1000, 2)\n",
      "got 45 traces containing 2 features: DD, DA\n",
      "\n",
      "labels are of shape:(45, 1000)\n",
      "got labels for 45 traces\n",
      "\n"
     ]
    },
    {
     "data": {
      "application/json": {
       "ascii": false,
       "bar_format": null,
       "colour": null,
       "elapsed": 0.00701141357421875,
       "initial": 0,
       "n": 0,
       "ncols": null,
       "nrows": null,
       "postfix": null,
       "prefix": "",
       "rate": null,
       "total": 45,
       "unit": "it",
       "unit_divisor": 1000,
       "unit_scale": false
      },
      "application/vnd.jupyter.widget-view+json": {
       "model_id": "e1d75dc90d0746d5bdd4831d5277e8af",
       "version_major": 2,
       "version_minor": 0
      },
      "text/plain": [
       "  0%|          | 0/45 [00:00<?, ?it/s]"
      ]
     },
     "metadata": {},
     "output_type": "display_data"
    },
    {
     "name": "stdout",
     "output_type": "stream",
     "text": [
      "accuracy for individual traces is [0.51, 0.518, 0.536, 0.926, 0.759, 0.503, 0.873, 0.959, 0.511, 0.827, 0.509, 0.813, 0.625, 0.907, 0.968, 0.999, 0.994, 0.812, 0.889, 0.923, 0.511, 0.861, 0.984, 0.869, 0.65, 0.911, 0.656, 0.647, 0.879, 0.61, 0.593, 0.764, 0.813, 0.755, 0.94, 0.818, 0.889, 0.957, 0.713, 0.699, 0.89, 0.618, 0.668, 0.795, 0.56]\n",
      "overall average accuracy is 0.764688888888889\n",
      "for this dataset, noise is 0.85, transition_rate is 0.05\n",
      "traces are of shape:(36, 1000, 2)\n",
      "got 36 traces containing 2 features: DD, DA\n",
      "\n",
      "labels are of shape:(36, 1000)\n",
      "got labels for 36 traces\n",
      "\n"
     ]
    },
    {
     "data": {
      "application/json": {
       "ascii": false,
       "bar_format": null,
       "colour": null,
       "elapsed": 0.007999420166015625,
       "initial": 0,
       "n": 0,
       "ncols": null,
       "nrows": null,
       "postfix": null,
       "prefix": "",
       "rate": null,
       "total": 36,
       "unit": "it",
       "unit_divisor": 1000,
       "unit_scale": false
      },
      "application/vnd.jupyter.widget-view+json": {
       "model_id": "21b85bbd33fa412fbc9ef61d0c5ca366",
       "version_major": 2,
       "version_minor": 0
      },
      "text/plain": [
       "  0%|          | 0/36 [00:00<?, ?it/s]"
      ]
     },
     "metadata": {},
     "output_type": "display_data"
    },
    {
     "name": "stdout",
     "output_type": "stream",
     "text": [
      "accuracy for individual traces is [0.988, 0.999, 0.99, 0.993, 0.918, 0.913, 0.543, 0.938, 0.977, 0.769, 0.922, 0.808, 0.974, 0.975, 0.997, 0.953, 0.597, 0.979, 0.986, 0.949, 0.981, 0.899, 0.984, 0.513, 0.972, 0.999, 0.98, 0.916, 0.955, 0.983, 0.996, 0.983, 0.916, 0.972, 0.539, 0.994]\n",
      "overall average accuracy is 0.9097222222222224\n",
      "for this dataset, noise is 0.85, transition_rate is 0.10\n",
      "traces are of shape:(31, 1000, 2)\n",
      "got 31 traces containing 2 features: DD, DA\n",
      "\n",
      "labels are of shape:(31, 1000)\n",
      "got labels for 31 traces\n",
      "\n"
     ]
    },
    {
     "data": {
      "application/json": {
       "ascii": false,
       "bar_format": null,
       "colour": null,
       "elapsed": 0.005001544952392578,
       "initial": 0,
       "n": 0,
       "ncols": null,
       "nrows": null,
       "postfix": null,
       "prefix": "",
       "rate": null,
       "total": 31,
       "unit": "it",
       "unit_divisor": 1000,
       "unit_scale": false
      },
      "application/vnd.jupyter.widget-view+json": {
       "model_id": "9f258266f8a240abadec85c67b2a5792",
       "version_major": 2,
       "version_minor": 0
      },
      "text/plain": [
       "  0%|          | 0/31 [00:00<?, ?it/s]"
      ]
     },
     "metadata": {},
     "output_type": "display_data"
    },
    {
     "name": "stdout",
     "output_type": "stream",
     "text": [
      "accuracy for individual traces is [0.811, 0.998, 0.851, 0.941, 0.955, 0.963, 0.986, 0.968, 0.96, 0.91, 0.998, 0.821, 0.521, 0.856, 0.96, 0.973, 0.806, 0.973, 0.896, 0.991, 0.531, 0.89, 0.899, 1.0, 0.925, 0.938, 0.794, 0.982, 0.83, 0.914, 0.992]\n",
      "overall average accuracy is 0.8978387096774193\n",
      "for this dataset, noise is 0.85, transition_rate is 0.15\n",
      "traces are of shape:(32, 1000, 2)\n",
      "got 32 traces containing 2 features: DD, DA\n",
      "\n",
      "labels are of shape:(32, 1000)\n",
      "got labels for 32 traces\n",
      "\n"
     ]
    },
    {
     "data": {
      "application/json": {
       "ascii": false,
       "bar_format": null,
       "colour": null,
       "elapsed": 0.00599980354309082,
       "initial": 0,
       "n": 0,
       "ncols": null,
       "nrows": null,
       "postfix": null,
       "prefix": "",
       "rate": null,
       "total": 32,
       "unit": "it",
       "unit_divisor": 1000,
       "unit_scale": false
      },
      "application/vnd.jupyter.widget-view+json": {
       "model_id": "2f10deaf60a24d06b6a802b1a02f1fa7",
       "version_major": 2,
       "version_minor": 0
      },
      "text/plain": [
       "  0%|          | 0/32 [00:00<?, ?it/s]"
      ]
     },
     "metadata": {},
     "output_type": "display_data"
    },
    {
     "name": "stdout",
     "output_type": "stream",
     "text": [
      "accuracy for individual traces is [0.962, 0.989, 0.729, 0.749, 0.973, 0.704, 0.97, 0.975, 0.954, 0.909, 0.978, 0.778, 0.975, 0.767, 0.943, 0.517, 0.984, 0.975, 0.933, 0.979, 0.845, 0.981, 0.88, 0.775, 0.648, 0.745, 0.838, 0.971, 0.854, 0.807, 0.936, 0.861]\n",
      "overall average accuracy is 0.8713749999999999\n",
      "for this dataset, noise is 0.85, transition_rate is 0.20\n",
      "traces are of shape:(46, 1000, 2)\n",
      "got 46 traces containing 2 features: DD, DA\n",
      "\n",
      "labels are of shape:(46, 1000)\n",
      "got labels for 46 traces\n",
      "\n"
     ]
    },
    {
     "data": {
      "application/json": {
       "ascii": false,
       "bar_format": null,
       "colour": null,
       "elapsed": 0.007980108261108398,
       "initial": 0,
       "n": 0,
       "ncols": null,
       "nrows": null,
       "postfix": null,
       "prefix": "",
       "rate": null,
       "total": 46,
       "unit": "it",
       "unit_divisor": 1000,
       "unit_scale": false
      },
      "application/vnd.jupyter.widget-view+json": {
       "model_id": "9f1fa1631418422fab96a2ef6f8d69ab",
       "version_major": 2,
       "version_minor": 0
      },
      "text/plain": [
       "  0%|          | 0/46 [00:00<?, ?it/s]"
      ]
     },
     "metadata": {},
     "output_type": "display_data"
    },
    {
     "name": "stdout",
     "output_type": "stream",
     "text": [
      "accuracy for individual traces is [0.79, 0.958, 0.819, 0.961, 0.929, 0.653, 0.837, 0.87, 0.79, 0.713, 0.957, 0.817, 0.907, 0.586, 0.878, 0.818, 0.979, 0.88, 0.985, 0.983, 0.789, 0.942, 0.97, 0.824, 0.693, 0.754, 0.793, 0.897, 0.896, 0.83, 0.829, 0.55, 0.713, 0.916, 0.742, 0.702, 0.776, 0.621, 0.822, 0.76, 0.818, 0.736, 0.507, 0.656, 0.98, 0.949]\n",
      "overall average accuracy is 0.8168478260869563\n",
      "for this dataset, noise is 0.85, transition_rate is 0.25\n",
      "traces are of shape:(25, 1000, 2)\n",
      "got 25 traces containing 2 features: DD, DA\n",
      "\n",
      "labels are of shape:(25, 1000)\n",
      "got labels for 25 traces\n",
      "\n"
     ]
    },
    {
     "data": {
      "application/json": {
       "ascii": false,
       "bar_format": null,
       "colour": null,
       "elapsed": 0.0060002803802490234,
       "initial": 0,
       "n": 0,
       "ncols": null,
       "nrows": null,
       "postfix": null,
       "prefix": "",
       "rate": null,
       "total": 25,
       "unit": "it",
       "unit_divisor": 1000,
       "unit_scale": false
      },
      "application/vnd.jupyter.widget-view+json": {
       "model_id": "7a980b33704b4fca9f2a47e5e62b7a69",
       "version_major": 2,
       "version_minor": 0
      },
      "text/plain": [
       "  0%|          | 0/25 [00:00<?, ?it/s]"
      ]
     },
     "metadata": {},
     "output_type": "display_data"
    },
    {
     "name": "stdout",
     "output_type": "stream",
     "text": [
      "accuracy for individual traces is [0.871, 0.808, 0.708, 0.86, 0.808, 0.681, 0.551, 0.731, 0.729, 0.875, 0.812, 0.959, 0.562, 0.811, 0.786, 0.549, 0.806, 0.588, 0.816, 0.806, 0.653, 0.888, 0.967, 0.977, 0.886]\n",
      "overall average accuracy is 0.7795199999999999\n",
      "for this dataset, noise is 0.85, transition_rate is 0.30\n",
      "traces are of shape:(40, 1000, 2)\n",
      "got 40 traces containing 2 features: DD, DA\n",
      "\n",
      "labels are of shape:(40, 1000)\n",
      "got labels for 40 traces\n",
      "\n"
     ]
    },
    {
     "data": {
      "application/json": {
       "ascii": false,
       "bar_format": null,
       "colour": null,
       "elapsed": 0.0029997825622558594,
       "initial": 0,
       "n": 0,
       "ncols": null,
       "nrows": null,
       "postfix": null,
       "prefix": "",
       "rate": null,
       "total": 40,
       "unit": "it",
       "unit_divisor": 1000,
       "unit_scale": false
      },
      "application/vnd.jupyter.widget-view+json": {
       "model_id": "df812253d8b14a6f90e16dbf7aedb344",
       "version_major": 2,
       "version_minor": 0
      },
      "text/plain": [
       "  0%|          | 0/40 [00:00<?, ?it/s]"
      ]
     },
     "metadata": {},
     "output_type": "display_data"
    },
    {
     "name": "stdout",
     "output_type": "stream",
     "text": [
      "accuracy for individual traces is [0.785, 0.795, 0.745, 0.6, 0.701, 0.693, 0.955, 0.548, 0.601, 0.701, 0.537, 0.533, 0.719, 0.717, 0.898, 0.84, 0.873, 0.509, 0.671, 0.636, 0.909, 0.81, 0.618, 0.555, 0.667, 0.981, 0.986, 0.915, 0.871, 0.52, 0.779, 0.978, 0.802, 0.742, 0.525, 0.858, 0.539, 0.574, 0.97, 0.976]\n",
      "overall average accuracy is 0.7408\n",
      "for this dataset, noise is 0.85, transition_rate is 0.35\n",
      "traces are of shape:(48, 1000, 2)\n",
      "got 48 traces containing 2 features: DD, DA\n",
      "\n",
      "labels are of shape:(48, 1000)\n",
      "got labels for 48 traces\n",
      "\n"
     ]
    },
    {
     "data": {
      "application/json": {
       "ascii": false,
       "bar_format": null,
       "colour": null,
       "elapsed": 0.003999471664428711,
       "initial": 0,
       "n": 0,
       "ncols": null,
       "nrows": null,
       "postfix": null,
       "prefix": "",
       "rate": null,
       "total": 48,
       "unit": "it",
       "unit_divisor": 1000,
       "unit_scale": false
      },
      "application/vnd.jupyter.widget-view+json": {
       "model_id": "a09e2bf82fe542db86c995d0d46d25b0",
       "version_major": 2,
       "version_minor": 0
      },
      "text/plain": [
       "  0%|          | 0/48 [00:00<?, ?it/s]"
      ]
     },
     "metadata": {},
     "output_type": "display_data"
    },
    {
     "name": "stdout",
     "output_type": "stream",
     "text": [
      "accuracy for individual traces is [0.656, 0.866, 0.767, 0.799, 0.866, 0.564, 0.683, 0.946, 0.823, 0.779, 0.523, 0.995, 0.862, 0.884, 0.538, 0.903, 0.966, 0.868, 0.981, 0.711, 0.792, 0.768, 0.892, 0.942, 0.762, 0.805, 0.86, 0.695, 0.666, 0.877, 0.579, 0.55, 0.743, 0.707, 0.827, 0.608, 0.722, 0.972, 0.877, 0.985, 0.644, 0.809, 0.567, 0.56, 0.944, 0.726, 0.929, 0.511]\n",
      "overall average accuracy is 0.7770625000000001\n",
      "for this dataset, noise is 0.85, transition_rate is 0.40\n",
      "traces are of shape:(24, 1000, 2)\n",
      "got 24 traces containing 2 features: DD, DA\n",
      "\n",
      "labels are of shape:(24, 1000)\n",
      "got labels for 24 traces\n",
      "\n"
     ]
    },
    {
     "data": {
      "application/json": {
       "ascii": false,
       "bar_format": null,
       "colour": null,
       "elapsed": 0.01199197769165039,
       "initial": 0,
       "n": 0,
       "ncols": null,
       "nrows": null,
       "postfix": null,
       "prefix": "",
       "rate": null,
       "total": 24,
       "unit": "it",
       "unit_divisor": 1000,
       "unit_scale": false
      },
      "application/vnd.jupyter.widget-view+json": {
       "model_id": "f2aa187d786d4774ae85bf1efea6df2a",
       "version_major": 2,
       "version_minor": 0
      },
      "text/plain": [
       "  0%|          | 0/24 [00:00<?, ?it/s]"
      ]
     },
     "metadata": {},
     "output_type": "display_data"
    },
    {
     "name": "stdout",
     "output_type": "stream",
     "text": [
      "accuracy for individual traces is [0.522, 0.829, 0.808, 0.84, 0.538, 0.694, 0.811, 0.808, 0.68, 0.973, 0.921, 0.973, 0.914, 0.894, 0.737, 0.603, 0.649, 0.845, 0.753, 0.778, 0.863, 0.744, 0.553, 0.548]\n",
      "overall average accuracy is 0.7615833333333333\n",
      "for this dataset, noise is 0.85, transition_rate is 0.45\n",
      "traces are of shape:(43, 1000, 2)\n",
      "got 43 traces containing 2 features: DD, DA\n",
      "\n",
      "labels are of shape:(43, 1000)\n",
      "got labels for 43 traces\n",
      "\n"
     ]
    },
    {
     "data": {
      "application/json": {
       "ascii": false,
       "bar_format": null,
       "colour": null,
       "elapsed": 0.004999637603759766,
       "initial": 0,
       "n": 0,
       "ncols": null,
       "nrows": null,
       "postfix": null,
       "prefix": "",
       "rate": null,
       "total": 43,
       "unit": "it",
       "unit_divisor": 1000,
       "unit_scale": false
      },
      "application/vnd.jupyter.widget-view+json": {
       "model_id": "f5c9b507dc6146e1ac1f75cb9e7431a3",
       "version_major": 2,
       "version_minor": 0
      },
      "text/plain": [
       "  0%|          | 0/43 [00:00<?, ?it/s]"
      ]
     },
     "metadata": {},
     "output_type": "display_data"
    },
    {
     "name": "stdout",
     "output_type": "stream",
     "text": [
      "accuracy for individual traces is [0.971, 0.534, 0.562, 0.96, 0.803, 0.898, 0.811, 0.918, 0.523, 0.702, 0.565, 0.938, 0.944, 0.813, 0.747, 0.53, 0.963, 0.972, 0.926, 0.81, 0.693, 0.782, 0.959, 0.619, 0.566, 0.95, 0.929, 0.836, 0.604, 0.508, 0.821, 0.794, 0.504, 0.881, 0.895, 0.605, 0.62, 0.845, 0.57, 0.513, 0.976, 0.714, 0.822]\n",
      "overall average accuracy is 0.7650232558139535\n",
      "for this dataset, noise is 0.85, transition_rate is 0.50\n",
      "traces are of shape:(34, 1000, 2)\n",
      "got 34 traces containing 2 features: DD, DA\n",
      "\n",
      "labels are of shape:(34, 1000)\n",
      "got labels for 34 traces\n",
      "\n"
     ]
    },
    {
     "data": {
      "application/json": {
       "ascii": false,
       "bar_format": null,
       "colour": null,
       "elapsed": 0.0030012130737304688,
       "initial": 0,
       "n": 0,
       "ncols": null,
       "nrows": null,
       "postfix": null,
       "prefix": "",
       "rate": null,
       "total": 34,
       "unit": "it",
       "unit_divisor": 1000,
       "unit_scale": false
      },
      "application/vnd.jupyter.widget-view+json": {
       "model_id": "f96805dc76c04f14bb5942d7eafe7404",
       "version_major": 2,
       "version_minor": 0
      },
      "text/plain": [
       "  0%|          | 0/34 [00:00<?, ?it/s]"
      ]
     },
     "metadata": {},
     "output_type": "display_data"
    },
    {
     "name": "stdout",
     "output_type": "stream",
     "text": [
      "accuracy for individual traces is [0.527, 0.571, 0.87, 0.937, 0.518, 0.939, 0.927, 0.647, 0.71, 0.911, 0.881, 0.512, 0.584, 0.756, 0.912, 0.95, 0.925, 0.976, 0.953, 0.732, 0.842, 0.921, 0.772, 0.935, 0.991, 0.501, 0.992, 0.835, 0.774, 0.541, 0.982, 0.502, 0.887, 0.809]\n",
      "overall average accuracy is 0.7947647058823529\n",
      "for this dataset, noise is 0.90, transition_rate is 0.05\n",
      "traces are of shape:(32, 1000, 2)\n",
      "got 32 traces containing 2 features: DD, DA\n",
      "\n",
      "labels are of shape:(32, 1000)\n",
      "got labels for 32 traces\n",
      "\n"
     ]
    },
    {
     "data": {
      "application/json": {
       "ascii": false,
       "bar_format": null,
       "colour": null,
       "elapsed": 0.017119169235229492,
       "initial": 0,
       "n": 0,
       "ncols": null,
       "nrows": null,
       "postfix": null,
       "prefix": "",
       "rate": null,
       "total": 32,
       "unit": "it",
       "unit_divisor": 1000,
       "unit_scale": false
      },
      "application/vnd.jupyter.widget-view+json": {
       "model_id": "cc214a1007cb4739a2556632298f1b40",
       "version_major": 2,
       "version_minor": 0
      },
      "text/plain": [
       "  0%|          | 0/32 [00:00<?, ?it/s]"
      ]
     },
     "metadata": {},
     "output_type": "display_data"
    },
    {
     "name": "stdout",
     "output_type": "stream",
     "text": [
      "accuracy for individual traces is [0.984, 0.51, 0.985, 0.957, 0.989, 0.878, 0.972, 0.995, 0.962, 0.976, 0.54, 0.872, 0.946, 0.997, 0.94, 0.954, 1.0, 0.954, 0.995, 0.846, 0.971, 0.972, 0.884, 0.999, 0.929, 0.881, 0.965, 0.948, 0.957, 0.98, 0.985, 0.797]\n",
      "overall average accuracy is 0.9225000000000001\n",
      "for this dataset, noise is 0.90, transition_rate is 0.10\n",
      "traces are of shape:(25, 1000, 2)\n",
      "got 25 traces containing 2 features: DD, DA\n",
      "\n",
      "labels are of shape:(25, 1000)\n",
      "got labels for 25 traces\n",
      "\n"
     ]
    },
    {
     "data": {
      "application/json": {
       "ascii": false,
       "bar_format": null,
       "colour": null,
       "elapsed": 0.017528772354125977,
       "initial": 0,
       "n": 0,
       "ncols": null,
       "nrows": null,
       "postfix": null,
       "prefix": "",
       "rate": null,
       "total": 25,
       "unit": "it",
       "unit_divisor": 1000,
       "unit_scale": false
      },
      "application/vnd.jupyter.widget-view+json": {
       "model_id": "5cc0215d1a9944449bfb8d6f934cd163",
       "version_major": 2,
       "version_minor": 0
      },
      "text/plain": [
       "  0%|          | 0/25 [00:00<?, ?it/s]"
      ]
     },
     "metadata": {},
     "output_type": "display_data"
    },
    {
     "name": "stdout",
     "output_type": "stream",
     "text": [
      "accuracy for individual traces is [0.952, 0.954, 0.969, 0.73, 0.749, 0.931, 0.983, 0.801, 0.928, 0.815, 0.531, 0.89, 0.925, 0.97, 0.985, 0.857, 0.911, 0.575, 0.931, 0.894, 0.924, 0.788, 0.765, 0.944, 0.904]\n",
      "overall average accuracy is 0.8642399999999999\n",
      "for this dataset, noise is 0.90, transition_rate is 0.15\n",
      "traces are of shape:(25, 1000, 2)\n",
      "got 25 traces containing 2 features: DD, DA\n",
      "\n",
      "labels are of shape:(25, 1000)\n",
      "got labels for 25 traces\n",
      "\n"
     ]
    },
    {
     "data": {
      "application/json": {
       "ascii": false,
       "bar_format": null,
       "colour": null,
       "elapsed": 0.0050008296966552734,
       "initial": 0,
       "n": 0,
       "ncols": null,
       "nrows": null,
       "postfix": null,
       "prefix": "",
       "rate": null,
       "total": 25,
       "unit": "it",
       "unit_divisor": 1000,
       "unit_scale": false
      },
      "application/vnd.jupyter.widget-view+json": {
       "model_id": "a4e5d717ad3844cf90e70e769f57b8d0",
       "version_major": 2,
       "version_minor": 0
      },
      "text/plain": [
       "  0%|          | 0/25 [00:00<?, ?it/s]"
      ]
     },
     "metadata": {},
     "output_type": "display_data"
    },
    {
     "name": "stdout",
     "output_type": "stream",
     "text": [
      "accuracy for individual traces is [0.903, 0.901, 0.676, 0.762, 0.967, 0.934, 0.963, 0.546, 0.521, 0.706, 0.902, 0.929, 0.502, 0.638, 0.945, 0.781, 0.716, 0.975, 0.943, 0.913, 0.913, 0.922, 0.927, 0.939, 0.908]\n",
      "overall average accuracy is 0.82928\n",
      "for this dataset, noise is 0.90, transition_rate is 0.20\n",
      "traces are of shape:(31, 1000, 2)\n",
      "got 31 traces containing 2 features: DD, DA\n",
      "\n",
      "labels are of shape:(31, 1000)\n",
      "got labels for 31 traces\n",
      "\n"
     ]
    },
    {
     "data": {
      "application/json": {
       "ascii": false,
       "bar_format": null,
       "colour": null,
       "elapsed": 0.00500178337097168,
       "initial": 0,
       "n": 0,
       "ncols": null,
       "nrows": null,
       "postfix": null,
       "prefix": "",
       "rate": null,
       "total": 31,
       "unit": "it",
       "unit_divisor": 1000,
       "unit_scale": false
      },
      "application/vnd.jupyter.widget-view+json": {
       "model_id": "82ee1304995144049e6f35605aa0b6ad",
       "version_major": 2,
       "version_minor": 0
      },
      "text/plain": [
       "  0%|          | 0/31 [00:00<?, ?it/s]"
      ]
     },
     "metadata": {},
     "output_type": "display_data"
    },
    {
     "name": "stdout",
     "output_type": "stream",
     "text": [
      "accuracy for individual traces is [0.966, 0.818, 0.616, 0.909, 0.627, 0.971, 0.977, 0.881, 0.617, 0.948, 0.776, 0.793, 0.955, 0.983, 0.982, 0.567, 0.944, 0.835, 0.949, 0.924, 0.805, 0.841, 0.976, 0.93, 0.892, 0.755, 0.89, 0.985, 0.622, 0.695, 0.887]\n",
      "overall average accuracy is 0.8489032258064516\n",
      "for this dataset, noise is 0.90, transition_rate is 0.25\n",
      "traces are of shape:(27, 1000, 2)\n",
      "got 27 traces containing 2 features: DD, DA\n",
      "\n",
      "labels are of shape:(27, 1000)\n",
      "got labels for 27 traces\n",
      "\n"
     ]
    },
    {
     "data": {
      "application/json": {
       "ascii": false,
       "bar_format": null,
       "colour": null,
       "elapsed": 0.003997802734375,
       "initial": 0,
       "n": 0,
       "ncols": null,
       "nrows": null,
       "postfix": null,
       "prefix": "",
       "rate": null,
       "total": 27,
       "unit": "it",
       "unit_divisor": 1000,
       "unit_scale": false
      },
      "application/vnd.jupyter.widget-view+json": {
       "model_id": "4c7b78767ea14d479000cab7e73be2bb",
       "version_major": 2,
       "version_minor": 0
      },
      "text/plain": [
       "  0%|          | 0/27 [00:00<?, ?it/s]"
      ]
     },
     "metadata": {},
     "output_type": "display_data"
    },
    {
     "name": "stdout",
     "output_type": "stream",
     "text": [
      "accuracy for individual traces is [0.929, 0.551, 0.913, 0.729, 0.554, 0.804, 0.925, 0.983, 0.642, 0.796, 0.678, 0.765, 0.652, 0.52, 0.948, 0.799, 0.792, 0.74, 0.939, 0.945, 0.973, 0.958, 0.884, 0.79, 0.508, 0.689, 0.642]\n",
      "overall average accuracy is 0.7795555555555554\n",
      "for this dataset, noise is 0.90, transition_rate is 0.30\n",
      "traces are of shape:(32, 1000, 2)\n",
      "got 32 traces containing 2 features: DD, DA\n",
      "\n",
      "labels are of shape:(32, 1000)\n",
      "got labels for 32 traces\n",
      "\n"
     ]
    },
    {
     "data": {
      "application/json": {
       "ascii": false,
       "bar_format": null,
       "colour": null,
       "elapsed": 0.004000425338745117,
       "initial": 0,
       "n": 0,
       "ncols": null,
       "nrows": null,
       "postfix": null,
       "prefix": "",
       "rate": null,
       "total": 32,
       "unit": "it",
       "unit_divisor": 1000,
       "unit_scale": false
      },
      "application/vnd.jupyter.widget-view+json": {
       "model_id": "fbf090506bc8491b8d5957433939f608",
       "version_major": 2,
       "version_minor": 0
      },
      "text/plain": [
       "  0%|          | 0/32 [00:00<?, ?it/s]"
      ]
     },
     "metadata": {},
     "output_type": "display_data"
    },
    {
     "name": "stdout",
     "output_type": "stream",
     "text": [
      "accuracy for individual traces is [0.746, 0.745, 0.995, 0.563, 0.794, 0.727, 0.995, 0.681, 0.962, 0.605, 0.848, 0.986, 0.887, 0.968, 0.629, 0.901, 0.786, 0.818, 0.502, 0.749, 0.645, 0.853, 0.722, 0.771, 0.87, 0.954, 0.993, 0.563, 0.529, 0.677, 0.871, 0.95]\n",
      "overall average accuracy is 0.7901562500000001\n",
      "for this dataset, noise is 0.90, transition_rate is 0.35\n",
      "traces are of shape:(30, 1000, 2)\n",
      "got 30 traces containing 2 features: DD, DA\n",
      "\n",
      "labels are of shape:(30, 1000)\n",
      "got labels for 30 traces\n",
      "\n"
     ]
    },
    {
     "data": {
      "application/json": {
       "ascii": false,
       "bar_format": null,
       "colour": null,
       "elapsed": 0.004000663757324219,
       "initial": 0,
       "n": 0,
       "ncols": null,
       "nrows": null,
       "postfix": null,
       "prefix": "",
       "rate": null,
       "total": 30,
       "unit": "it",
       "unit_divisor": 1000,
       "unit_scale": false
      },
      "application/vnd.jupyter.widget-view+json": {
       "model_id": "f7bb64d0fb5e481caf3247d3366f5ffb",
       "version_major": 2,
       "version_minor": 0
      },
      "text/plain": [
       "  0%|          | 0/30 [00:00<?, ?it/s]"
      ]
     },
     "metadata": {},
     "output_type": "display_data"
    },
    {
     "name": "stdout",
     "output_type": "stream",
     "text": [
      "accuracy for individual traces is [0.816, 0.556, 0.902, 0.846, 0.518, 0.962, 0.706, 0.805, 0.784, 0.907, 0.736, 0.875, 0.532, 0.915, 0.975, 0.908, 0.553, 0.533, 0.503, 0.845, 0.608, 0.707, 0.51, 0.816, 0.633, 0.574, 0.953, 0.807, 0.968, 0.837]\n",
      "overall average accuracy is 0.753\n",
      "for this dataset, noise is 0.90, transition_rate is 0.40\n",
      "traces are of shape:(30, 1000, 2)\n",
      "got 30 traces containing 2 features: DD, DA\n",
      "\n",
      "labels are of shape:(30, 1000)\n",
      "got labels for 30 traces\n",
      "\n"
     ]
    },
    {
     "data": {
      "application/json": {
       "ascii": false,
       "bar_format": null,
       "colour": null,
       "elapsed": 0.004004240036010742,
       "initial": 0,
       "n": 0,
       "ncols": null,
       "nrows": null,
       "postfix": null,
       "prefix": "",
       "rate": null,
       "total": 30,
       "unit": "it",
       "unit_divisor": 1000,
       "unit_scale": false
      },
      "application/vnd.jupyter.widget-view+json": {
       "model_id": "a44ec0d38f984526b84f0e65461bd60a",
       "version_major": 2,
       "version_minor": 0
      },
      "text/plain": [
       "  0%|          | 0/30 [00:00<?, ?it/s]"
      ]
     },
     "metadata": {},
     "output_type": "display_data"
    },
    {
     "name": "stdout",
     "output_type": "stream",
     "text": [
      "accuracy for individual traces is [0.82, 0.662, 0.658, 0.648, 0.981, 0.8, 0.937, 0.504, 0.714, 0.945, 0.557, 0.511, 0.625, 0.922, 0.961, 0.9, 0.527, 0.871, 0.571, 0.862, 0.757, 0.706, 0.532, 0.951, 0.865, 0.788, 0.908, 0.83, 0.693, 0.704]\n",
      "overall average accuracy is 0.757\n",
      "for this dataset, noise is 0.90, transition_rate is 0.45\n",
      "traces are of shape:(30, 1000, 2)\n",
      "got 30 traces containing 2 features: DD, DA\n",
      "\n",
      "labels are of shape:(30, 1000)\n",
      "got labels for 30 traces\n",
      "\n"
     ]
    },
    {
     "data": {
      "application/json": {
       "ascii": false,
       "bar_format": null,
       "colour": null,
       "elapsed": 0.007785797119140625,
       "initial": 0,
       "n": 0,
       "ncols": null,
       "nrows": null,
       "postfix": null,
       "prefix": "",
       "rate": null,
       "total": 30,
       "unit": "it",
       "unit_divisor": 1000,
       "unit_scale": false
      },
      "application/vnd.jupyter.widget-view+json": {
       "model_id": "3def743fbc4f47f8a54a6f925227e8f6",
       "version_major": 2,
       "version_minor": 0
      },
      "text/plain": [
       "  0%|          | 0/30 [00:00<?, ?it/s]"
      ]
     },
     "metadata": {},
     "output_type": "display_data"
    },
    {
     "name": "stdout",
     "output_type": "stream",
     "text": [
      "accuracy for individual traces is [0.722, 0.888, 0.548, 0.548, 0.582, 0.827, 0.738, 0.954, 0.92, 0.927, 0.918, 0.586, 0.664, 0.988, 0.937, 0.69, 0.969, 0.94, 0.946, 0.805, 0.902, 0.771, 0.945, 0.908, 0.818, 0.974, 0.679, 0.885, 0.773, 0.988]\n",
      "overall average accuracy is 0.8246666666666668\n",
      "for this dataset, noise is 0.90, transition_rate is 0.50\n",
      "traces are of shape:(30, 1000, 2)\n",
      "got 30 traces containing 2 features: DD, DA\n",
      "\n",
      "labels are of shape:(30, 1000)\n",
      "got labels for 30 traces\n",
      "\n"
     ]
    },
    {
     "data": {
      "application/json": {
       "ascii": false,
       "bar_format": null,
       "colour": null,
       "elapsed": 0.004004478454589844,
       "initial": 0,
       "n": 0,
       "ncols": null,
       "nrows": null,
       "postfix": null,
       "prefix": "",
       "rate": null,
       "total": 30,
       "unit": "it",
       "unit_divisor": 1000,
       "unit_scale": false
      },
      "application/vnd.jupyter.widget-view+json": {
       "model_id": "cf505cd0557645e889f585e4f0d61930",
       "version_major": 2,
       "version_minor": 0
      },
      "text/plain": [
       "  0%|          | 0/30 [00:00<?, ?it/s]"
      ]
     },
     "metadata": {},
     "output_type": "display_data"
    },
    {
     "name": "stdout",
     "output_type": "stream",
     "text": [
      "accuracy for individual traces is [0.784, 0.819, 0.579, 0.852, 0.641, 0.758, 0.763, 0.875, 0.752, 0.941, 0.791, 0.53, 0.824, 0.986, 0.846, 0.863, 0.518, 0.537, 0.763, 0.755, 0.884, 0.588, 0.541, 0.908, 0.808, 0.884, 0.829, 0.6, 0.508, 0.717]\n",
      "overall average accuracy is 0.7481333333333334\n",
      "for this dataset, noise is 0.95, transition_rate is 0.05\n",
      "traces are of shape:(16, 1000, 2)\n",
      "got 16 traces containing 2 features: DD, DA\n",
      "\n",
      "labels are of shape:(16, 1000)\n",
      "got labels for 16 traces\n",
      "\n"
     ]
    },
    {
     "data": {
      "application/json": {
       "ascii": false,
       "bar_format": null,
       "colour": null,
       "elapsed": 0.003928184509277344,
       "initial": 0,
       "n": 0,
       "ncols": null,
       "nrows": null,
       "postfix": null,
       "prefix": "",
       "rate": null,
       "total": 16,
       "unit": "it",
       "unit_divisor": 1000,
       "unit_scale": false
      },
      "application/vnd.jupyter.widget-view+json": {
       "model_id": "59262448ab914151987e9e1bf1c0d415",
       "version_major": 2,
       "version_minor": 0
      },
      "text/plain": [
       "  0%|          | 0/16 [00:00<?, ?it/s]"
      ]
     },
     "metadata": {},
     "output_type": "display_data"
    },
    {
     "name": "stdout",
     "output_type": "stream",
     "text": [
      "accuracy for individual traces is [0.965, 0.98, 0.991, 0.923, 0.874, 0.94, 0.551, 0.932, 0.94, 0.877, 0.928, 0.856, 0.926, 0.893, 0.959, 0.992]\n",
      "overall average accuracy is 0.9079375000000001\n",
      "for this dataset, noise is 0.95, transition_rate is 0.10\n",
      "traces are of shape:(20, 1000, 2)\n",
      "got 20 traces containing 2 features: DD, DA\n",
      "\n",
      "labels are of shape:(20, 1000)\n",
      "got labels for 20 traces\n",
      "\n"
     ]
    },
    {
     "data": {
      "application/json": {
       "ascii": false,
       "bar_format": null,
       "colour": null,
       "elapsed": 0.0039997100830078125,
       "initial": 0,
       "n": 0,
       "ncols": null,
       "nrows": null,
       "postfix": null,
       "prefix": "",
       "rate": null,
       "total": 20,
       "unit": "it",
       "unit_divisor": 1000,
       "unit_scale": false
      },
      "application/vnd.jupyter.widget-view+json": {
       "model_id": "6aa46fb3314345b987c6d6fe52b8b8c8",
       "version_major": 2,
       "version_minor": 0
      },
      "text/plain": [
       "  0%|          | 0/20 [00:00<?, ?it/s]"
      ]
     },
     "metadata": {},
     "output_type": "display_data"
    },
    {
     "name": "stdout",
     "output_type": "stream",
     "text": [
      "accuracy for individual traces is [0.904, 0.965, 0.987, 0.82, 0.912, 0.903, 0.757, 0.881, 0.768, 0.984, 0.974, 0.58, 0.923, 0.85, 0.942, 0.975, 0.765, 0.978, 0.98, 0.857]\n",
      "overall average accuracy is 0.8852499999999999\n",
      "for this dataset, noise is 0.95, transition_rate is 0.15\n",
      "traces are of shape:(21, 1000, 2)\n",
      "got 21 traces containing 2 features: DD, DA\n",
      "\n",
      "labels are of shape:(21, 1000)\n",
      "got labels for 21 traces\n",
      "\n"
     ]
    },
    {
     "data": {
      "application/json": {
       "ascii": false,
       "bar_format": null,
       "colour": null,
       "elapsed": 0.0039997100830078125,
       "initial": 0,
       "n": 0,
       "ncols": null,
       "nrows": null,
       "postfix": null,
       "prefix": "",
       "rate": null,
       "total": 21,
       "unit": "it",
       "unit_divisor": 1000,
       "unit_scale": false
      },
      "application/vnd.jupyter.widget-view+json": {
       "model_id": "02b8f33e6df84a35a5052190700fc97d",
       "version_major": 2,
       "version_minor": 0
      },
      "text/plain": [
       "  0%|          | 0/21 [00:00<?, ?it/s]"
      ]
     },
     "metadata": {},
     "output_type": "display_data"
    },
    {
     "name": "stdout",
     "output_type": "stream",
     "text": [
      "accuracy for individual traces is [0.814, 0.779, 0.965, 0.59, 0.906, 0.698, 0.965, 0.844, 0.719, 0.964, 0.847, 0.812, 0.928, 0.955, 0.927, 0.988, 0.623, 0.961, 0.94, 0.826, 0.865]\n",
      "overall average accuracy is 0.853142857142857\n",
      "for this dataset, noise is 0.95, transition_rate is 0.20\n",
      "traces are of shape:(21, 1000, 2)\n",
      "got 21 traces containing 2 features: DD, DA\n",
      "\n",
      "labels are of shape:(21, 1000)\n",
      "got labels for 21 traces\n",
      "\n"
     ]
    },
    {
     "data": {
      "application/json": {
       "ascii": false,
       "bar_format": null,
       "colour": null,
       "elapsed": 0.003999233245849609,
       "initial": 0,
       "n": 0,
       "ncols": null,
       "nrows": null,
       "postfix": null,
       "prefix": "",
       "rate": null,
       "total": 21,
       "unit": "it",
       "unit_divisor": 1000,
       "unit_scale": false
      },
      "application/vnd.jupyter.widget-view+json": {
       "model_id": "9aa3dfb89dfd42748d0b25ae708acbff",
       "version_major": 2,
       "version_minor": 0
      },
      "text/plain": [
       "  0%|          | 0/21 [00:00<?, ?it/s]"
      ]
     },
     "metadata": {},
     "output_type": "display_data"
    },
    {
     "name": "stdout",
     "output_type": "stream",
     "text": [
      "accuracy for individual traces is [0.714, 0.711, 0.921, 0.992, 0.8, 0.848, 0.743, 0.808, 0.506, 0.892, 0.833, 0.844, 0.899, 0.904, 0.912, 0.506, 0.866, 0.79, 0.769, 0.917, 0.542]\n",
      "overall average accuracy is 0.7960476190476191\n",
      "for this dataset, noise is 0.95, transition_rate is 0.25\n",
      "traces are of shape:(21, 1000, 2)\n",
      "got 21 traces containing 2 features: DD, DA\n",
      "\n",
      "labels are of shape:(21, 1000)\n",
      "got labels for 21 traces\n",
      "\n"
     ]
    },
    {
     "data": {
      "application/json": {
       "ascii": false,
       "bar_format": null,
       "colour": null,
       "elapsed": 0.003997087478637695,
       "initial": 0,
       "n": 0,
       "ncols": null,
       "nrows": null,
       "postfix": null,
       "prefix": "",
       "rate": null,
       "total": 21,
       "unit": "it",
       "unit_divisor": 1000,
       "unit_scale": false
      },
      "application/vnd.jupyter.widget-view+json": {
       "model_id": "7625a0e7e38e46ceb4d176998c1517e3",
       "version_major": 2,
       "version_minor": 0
      },
      "text/plain": [
       "  0%|          | 0/21 [00:00<?, ?it/s]"
      ]
     },
     "metadata": {},
     "output_type": "display_data"
    },
    {
     "name": "stdout",
     "output_type": "stream",
     "text": [
      "accuracy for individual traces is [0.961, 0.897, 0.754, 0.949, 0.923, 0.74, 0.866, 0.636, 0.954, 0.974, 0.544, 0.654, 0.803, 0.555, 0.816, 0.623, 0.967, 0.828, 0.915, 0.519, 0.922]\n",
      "overall average accuracy is 0.8\n",
      "for this dataset, noise is 0.95, transition_rate is 0.30\n",
      "traces are of shape:(16, 1000, 2)\n",
      "got 16 traces containing 2 features: DD, DA\n",
      "\n",
      "labels are of shape:(16, 1000)\n",
      "got labels for 16 traces\n",
      "\n"
     ]
    },
    {
     "data": {
      "application/json": {
       "ascii": false,
       "bar_format": null,
       "colour": null,
       "elapsed": 0.00299835205078125,
       "initial": 0,
       "n": 0,
       "ncols": null,
       "nrows": null,
       "postfix": null,
       "prefix": "",
       "rate": null,
       "total": 16,
       "unit": "it",
       "unit_divisor": 1000,
       "unit_scale": false
      },
      "application/vnd.jupyter.widget-view+json": {
       "model_id": "a81c41b1fe8a415f899a1fb98d29663c",
       "version_major": 2,
       "version_minor": 0
      },
      "text/plain": [
       "  0%|          | 0/16 [00:00<?, ?it/s]"
      ]
     },
     "metadata": {},
     "output_type": "display_data"
    },
    {
     "name": "stdout",
     "output_type": "stream",
     "text": [
      "accuracy for individual traces is [0.832, 0.866, 0.753, 0.652, 0.605, 0.637, 0.964, 0.839, 0.522, 0.79, 0.859, 0.725, 0.932, 0.683, 0.812, 0.949]\n",
      "overall average accuracy is 0.7762500000000001\n",
      "for this dataset, noise is 0.95, transition_rate is 0.35\n",
      "traces are of shape:(23, 1000, 2)\n",
      "got 23 traces containing 2 features: DD, DA\n",
      "\n",
      "labels are of shape:(23, 1000)\n",
      "got labels for 23 traces\n",
      "\n"
     ]
    },
    {
     "data": {
      "application/json": {
       "ascii": false,
       "bar_format": null,
       "colour": null,
       "elapsed": 0.004004240036010742,
       "initial": 0,
       "n": 0,
       "ncols": null,
       "nrows": null,
       "postfix": null,
       "prefix": "",
       "rate": null,
       "total": 23,
       "unit": "it",
       "unit_divisor": 1000,
       "unit_scale": false
      },
      "application/vnd.jupyter.widget-view+json": {
       "model_id": "8fef9f8b3beb47f6a3a5c974f258879a",
       "version_major": 2,
       "version_minor": 0
      },
      "text/plain": [
       "  0%|          | 0/23 [00:00<?, ?it/s]"
      ]
     },
     "metadata": {},
     "output_type": "display_data"
    },
    {
     "name": "stdout",
     "output_type": "stream",
     "text": [
      "accuracy for individual traces is [0.852, 0.759, 0.923, 0.732, 0.531, 0.505, 0.919, 0.504, 0.903, 0.863, 0.866, 0.733, 0.623, 0.959, 0.782, 0.891, 0.894, 0.954, 0.568, 0.958, 0.51, 0.559, 0.975]\n",
      "overall average accuracy is 0.772304347826087\n",
      "for this dataset, noise is 0.95, transition_rate is 0.40\n",
      "traces are of shape:(22, 1000, 2)\n",
      "got 22 traces containing 2 features: DD, DA\n",
      "\n",
      "labels are of shape:(22, 1000)\n",
      "got labels for 22 traces\n",
      "\n"
     ]
    },
    {
     "data": {
      "application/json": {
       "ascii": false,
       "bar_format": null,
       "colour": null,
       "elapsed": 0.004000663757324219,
       "initial": 0,
       "n": 0,
       "ncols": null,
       "nrows": null,
       "postfix": null,
       "prefix": "",
       "rate": null,
       "total": 22,
       "unit": "it",
       "unit_divisor": 1000,
       "unit_scale": false
      },
      "application/vnd.jupyter.widget-view+json": {
       "model_id": "661a1fab84d24eeb8e9c1fb3e145bbad",
       "version_major": 2,
       "version_minor": 0
      },
      "text/plain": [
       "  0%|          | 0/22 [00:00<?, ?it/s]"
      ]
     },
     "metadata": {},
     "output_type": "display_data"
    },
    {
     "name": "stdout",
     "output_type": "stream",
     "text": [
      "accuracy for individual traces is [0.685, 0.977, 0.971, 0.533, 0.734, 0.613, 0.719, 0.752, 0.503, 0.966, 0.683, 0.552, 0.948, 0.59, 0.854, 0.649, 0.956, 0.738, 0.837, 0.743, 0.882, 0.892]\n",
      "overall average accuracy is 0.762590909090909\n",
      "for this dataset, noise is 0.95, transition_rate is 0.45\n",
      "traces are of shape:(19, 1000, 2)\n",
      "got 19 traces containing 2 features: DD, DA\n",
      "\n",
      "labels are of shape:(19, 1000)\n",
      "got labels for 19 traces\n",
      "\n"
     ]
    },
    {
     "data": {
      "application/json": {
       "ascii": false,
       "bar_format": null,
       "colour": null,
       "elapsed": 0.004999637603759766,
       "initial": 0,
       "n": 0,
       "ncols": null,
       "nrows": null,
       "postfix": null,
       "prefix": "",
       "rate": null,
       "total": 19,
       "unit": "it",
       "unit_divisor": 1000,
       "unit_scale": false
      },
      "application/vnd.jupyter.widget-view+json": {
       "model_id": "19071181df6a426d9a305ca2abf18d61",
       "version_major": 2,
       "version_minor": 0
      },
      "text/plain": [
       "  0%|          | 0/19 [00:00<?, ?it/s]"
      ]
     },
     "metadata": {},
     "output_type": "display_data"
    },
    {
     "name": "stdout",
     "output_type": "stream",
     "text": [
      "accuracy for individual traces is [0.509, 0.546, 0.55, 0.789, 0.946, 0.963, 0.683, 0.543, 0.821, 0.506, 0.813, 0.973, 0.503, 0.723, 0.502, 0.683, 0.891, 0.792, 0.533]\n",
      "overall average accuracy is 0.6983684210526316\n",
      "for this dataset, noise is 0.95, transition_rate is 0.50\n",
      "traces are of shape:(22, 1000, 2)\n",
      "got 22 traces containing 2 features: DD, DA\n",
      "\n",
      "labels are of shape:(22, 1000)\n",
      "got labels for 22 traces\n",
      "\n"
     ]
    },
    {
     "data": {
      "application/json": {
       "ascii": false,
       "bar_format": null,
       "colour": null,
       "elapsed": 0.003999233245849609,
       "initial": 0,
       "n": 0,
       "ncols": null,
       "nrows": null,
       "postfix": null,
       "prefix": "",
       "rate": null,
       "total": 22,
       "unit": "it",
       "unit_divisor": 1000,
       "unit_scale": false
      },
      "application/vnd.jupyter.widget-view+json": {
       "model_id": "70a2da36eb39429bb93e2e8c43f95061",
       "version_major": 2,
       "version_minor": 0
      },
      "text/plain": [
       "  0%|          | 0/22 [00:00<?, ?it/s]"
      ]
     },
     "metadata": {},
     "output_type": "display_data"
    },
    {
     "name": "stdout",
     "output_type": "stream",
     "text": [
      "accuracy for individual traces is [0.861, 0.824, 0.555, 0.689, 0.94, 0.921, 0.744, 0.784, 0.533, 0.833, 0.853, 0.709, 0.73, 0.793, 0.764, 0.717, 0.751, 0.882, 0.975, 0.619, 0.604, 0.567]\n",
      "overall average accuracy is 0.7567272727272727\n",
      "for this dataset, noise is 1.00, transition_rate is 0.05\n",
      "traces are of shape:(10, 1000, 2)\n",
      "got 10 traces containing 2 features: DD, DA\n",
      "\n",
      "labels are of shape:(10, 1000)\n",
      "got labels for 10 traces\n",
      "\n"
     ]
    },
    {
     "data": {
      "application/json": {
       "ascii": false,
       "bar_format": null,
       "colour": null,
       "elapsed": 0.004996299743652344,
       "initial": 0,
       "n": 0,
       "ncols": null,
       "nrows": null,
       "postfix": null,
       "prefix": "",
       "rate": null,
       "total": 10,
       "unit": "it",
       "unit_divisor": 1000,
       "unit_scale": false
      },
      "application/vnd.jupyter.widget-view+json": {
       "model_id": "2500ad74f090413c98af6d56b4a24b80",
       "version_major": 2,
       "version_minor": 0
      },
      "text/plain": [
       "  0%|          | 0/10 [00:00<?, ?it/s]"
      ]
     },
     "metadata": {},
     "output_type": "display_data"
    },
    {
     "name": "stdout",
     "output_type": "stream",
     "text": [
      "accuracy for individual traces is [0.986, 0.953, 0.752, 0.956, 0.999, 0.917, 0.995, 0.965, 0.999, 0.954]\n",
      "overall average accuracy is 0.9476000000000001\n",
      "for this dataset, noise is 1.00, transition_rate is 0.10\n",
      "traces are of shape:(10, 1000, 2)\n",
      "got 10 traces containing 2 features: DD, DA\n",
      "\n",
      "labels are of shape:(10, 1000)\n",
      "got labels for 10 traces\n",
      "\n"
     ]
    },
    {
     "data": {
      "application/json": {
       "ascii": false,
       "bar_format": null,
       "colour": null,
       "elapsed": 0.004999399185180664,
       "initial": 0,
       "n": 0,
       "ncols": null,
       "nrows": null,
       "postfix": null,
       "prefix": "",
       "rate": null,
       "total": 10,
       "unit": "it",
       "unit_divisor": 1000,
       "unit_scale": false
      },
      "application/vnd.jupyter.widget-view+json": {
       "model_id": "4336694178134e499e21aaf735fd76b6",
       "version_major": 2,
       "version_minor": 0
      },
      "text/plain": [
       "  0%|          | 0/10 [00:00<?, ?it/s]"
      ]
     },
     "metadata": {},
     "output_type": "display_data"
    },
    {
     "name": "stdout",
     "output_type": "stream",
     "text": [
      "accuracy for individual traces is [0.959, 0.937, 0.918, 0.533, 0.878, 0.985, 0.997, 0.746, 0.96, 0.839]\n",
      "overall average accuracy is 0.8751999999999999\n",
      "for this dataset, noise is 1.00, transition_rate is 0.15\n",
      "traces are of shape:(15, 1000, 2)\n",
      "got 15 traces containing 2 features: DD, DA\n",
      "\n",
      "labels are of shape:(15, 1000)\n",
      "got labels for 15 traces\n",
      "\n"
     ]
    },
    {
     "data": {
      "application/json": {
       "ascii": false,
       "bar_format": null,
       "colour": null,
       "elapsed": 0.004999637603759766,
       "initial": 0,
       "n": 0,
       "ncols": null,
       "nrows": null,
       "postfix": null,
       "prefix": "",
       "rate": null,
       "total": 15,
       "unit": "it",
       "unit_divisor": 1000,
       "unit_scale": false
      },
      "application/vnd.jupyter.widget-view+json": {
       "model_id": "e6eafc03c2a94a238afd540c025fbd92",
       "version_major": 2,
       "version_minor": 0
      },
      "text/plain": [
       "  0%|          | 0/15 [00:00<?, ?it/s]"
      ]
     },
     "metadata": {},
     "output_type": "display_data"
    },
    {
     "name": "stdout",
     "output_type": "stream",
     "text": [
      "accuracy for individual traces is [0.949, 0.855, 0.892, 0.897, 0.794, 0.895, 0.766, 0.754, 0.902, 0.876, 0.927, 0.85, 0.838, 0.604, 0.504]\n",
      "overall average accuracy is 0.8201999999999998\n",
      "for this dataset, noise is 1.00, transition_rate is 0.20\n",
      "traces are of shape:(18, 1000, 2)\n",
      "got 18 traces containing 2 features: DD, DA\n",
      "\n",
      "labels are of shape:(18, 1000)\n",
      "got labels for 18 traces\n",
      "\n"
     ]
    },
    {
     "data": {
      "application/json": {
       "ascii": false,
       "bar_format": null,
       "colour": null,
       "elapsed": 0.008998632431030273,
       "initial": 0,
       "n": 0,
       "ncols": null,
       "nrows": null,
       "postfix": null,
       "prefix": "",
       "rate": null,
       "total": 18,
       "unit": "it",
       "unit_divisor": 1000,
       "unit_scale": false
      },
      "application/vnd.jupyter.widget-view+json": {
       "model_id": "6a1ae1d49fbb4c27ad195482ffcf781b",
       "version_major": 2,
       "version_minor": 0
      },
      "text/plain": [
       "  0%|          | 0/18 [00:00<?, ?it/s]"
      ]
     },
     "metadata": {},
     "output_type": "display_data"
    },
    {
     "name": "stdout",
     "output_type": "stream",
     "text": [
      "accuracy for individual traces is [0.958, 0.826, 0.972, 0.945, 0.992, 0.985, 0.801, 0.842, 0.689, 0.88, 0.798, 0.852, 0.987, 0.826, 0.976, 0.925, 0.919, 0.823]\n",
      "overall average accuracy is 0.8886666666666668\n",
      "for this dataset, noise is 1.00, transition_rate is 0.25\n",
      "traces are of shape:(15, 1000, 2)\n",
      "got 15 traces containing 2 features: DD, DA\n",
      "\n",
      "labels are of shape:(15, 1000)\n",
      "got labels for 15 traces\n",
      "\n"
     ]
    },
    {
     "data": {
      "application/json": {
       "ascii": false,
       "bar_format": null,
       "colour": null,
       "elapsed": 0.006000041961669922,
       "initial": 0,
       "n": 0,
       "ncols": null,
       "nrows": null,
       "postfix": null,
       "prefix": "",
       "rate": null,
       "total": 15,
       "unit": "it",
       "unit_divisor": 1000,
       "unit_scale": false
      },
      "application/vnd.jupyter.widget-view+json": {
       "model_id": "d417d2ade10f42d69fc169bc85ccbf3e",
       "version_major": 2,
       "version_minor": 0
      },
      "text/plain": [
       "  0%|          | 0/15 [00:00<?, ?it/s]"
      ]
     },
     "metadata": {},
     "output_type": "display_data"
    },
    {
     "name": "stdout",
     "output_type": "stream",
     "text": [
      "accuracy for individual traces is [0.806, 0.759, 0.79, 0.731, 0.737, 0.99, 0.542, 0.683, 0.924, 0.974, 0.518, 0.849, 0.988, 0.746, 0.73]\n",
      "overall average accuracy is 0.7844666666666668\n",
      "for this dataset, noise is 1.00, transition_rate is 0.30\n",
      "traces are of shape:(8, 1000, 2)\n",
      "got 8 traces containing 2 features: DD, DA\n",
      "\n",
      "labels are of shape:(8, 1000)\n",
      "got labels for 8 traces\n",
      "\n"
     ]
    },
    {
     "data": {
      "application/json": {
       "ascii": false,
       "bar_format": null,
       "colour": null,
       "elapsed": 0.003997087478637695,
       "initial": 0,
       "n": 0,
       "ncols": null,
       "nrows": null,
       "postfix": null,
       "prefix": "",
       "rate": null,
       "total": 8,
       "unit": "it",
       "unit_divisor": 1000,
       "unit_scale": false
      },
      "application/vnd.jupyter.widget-view+json": {
       "model_id": "1478b9b3a51543fbb0896e8ccf56fbb2",
       "version_major": 2,
       "version_minor": 0
      },
      "text/plain": [
       "  0%|          | 0/8 [00:00<?, ?it/s]"
      ]
     },
     "metadata": {},
     "output_type": "display_data"
    },
    {
     "name": "stdout",
     "output_type": "stream",
     "text": [
      "accuracy for individual traces is [0.658, 0.895, 0.72, 0.851, 0.566, 0.907, 0.677, 0.802]\n",
      "overall average accuracy is 0.7594999999999998\n",
      "for this dataset, noise is 1.00, transition_rate is 0.35\n",
      "traces are of shape:(12, 1000, 2)\n",
      "got 12 traces containing 2 features: DD, DA\n",
      "\n",
      "labels are of shape:(12, 1000)\n",
      "got labels for 12 traces\n",
      "\n"
     ]
    },
    {
     "data": {
      "application/json": {
       "ascii": false,
       "bar_format": null,
       "colour": null,
       "elapsed": 0.003000020980834961,
       "initial": 0,
       "n": 0,
       "ncols": null,
       "nrows": null,
       "postfix": null,
       "prefix": "",
       "rate": null,
       "total": 12,
       "unit": "it",
       "unit_divisor": 1000,
       "unit_scale": false
      },
      "application/vnd.jupyter.widget-view+json": {
       "model_id": "cb1aeb78de5c40c58458f8fd72e40a2b",
       "version_major": 2,
       "version_minor": 0
      },
      "text/plain": [
       "  0%|          | 0/12 [00:00<?, ?it/s]"
      ]
     },
     "metadata": {},
     "output_type": "display_data"
    },
    {
     "name": "stdout",
     "output_type": "stream",
     "text": [
      "accuracy for individual traces is [0.672, 0.891, 0.767, 0.907, 0.519, 0.71, 0.901, 0.519, 0.968, 0.599, 0.928, 0.975]\n",
      "overall average accuracy is 0.7796666666666666\n",
      "for this dataset, noise is 1.00, transition_rate is 0.40\n",
      "traces are of shape:(12, 1000, 2)\n",
      "got 12 traces containing 2 features: DD, DA\n",
      "\n",
      "labels are of shape:(12, 1000)\n",
      "got labels for 12 traces\n",
      "\n"
     ]
    },
    {
     "data": {
      "application/json": {
       "ascii": false,
       "bar_format": null,
       "colour": null,
       "elapsed": 0.003999471664428711,
       "initial": 0,
       "n": 0,
       "ncols": null,
       "nrows": null,
       "postfix": null,
       "prefix": "",
       "rate": null,
       "total": 12,
       "unit": "it",
       "unit_divisor": 1000,
       "unit_scale": false
      },
      "application/vnd.jupyter.widget-view+json": {
       "model_id": "93f09b3aa81648119567a75f19d6f5f5",
       "version_major": 2,
       "version_minor": 0
      },
      "text/plain": [
       "  0%|          | 0/12 [00:00<?, ?it/s]"
      ]
     },
     "metadata": {},
     "output_type": "display_data"
    },
    {
     "name": "stdout",
     "output_type": "stream",
     "text": [
      "accuracy for individual traces is [0.748, 0.877, 0.692, 0.676, 0.947, 0.559, 0.949, 0.529, 0.732, 0.899, 0.93, 0.925]\n",
      "overall average accuracy is 0.7885833333333334\n",
      "for this dataset, noise is 1.00, transition_rate is 0.45\n",
      "traces are of shape:(16, 1000, 2)\n",
      "got 16 traces containing 2 features: DD, DA\n",
      "\n",
      "labels are of shape:(16, 1000)\n",
      "got labels for 16 traces\n",
      "\n"
     ]
    },
    {
     "data": {
      "application/json": {
       "ascii": false,
       "bar_format": null,
       "colour": null,
       "elapsed": 0.003009796142578125,
       "initial": 0,
       "n": 0,
       "ncols": null,
       "nrows": null,
       "postfix": null,
       "prefix": "",
       "rate": null,
       "total": 16,
       "unit": "it",
       "unit_divisor": 1000,
       "unit_scale": false
      },
      "application/vnd.jupyter.widget-view+json": {
       "model_id": "d996ee09591a45a491cf21590add7af5",
       "version_major": 2,
       "version_minor": 0
      },
      "text/plain": [
       "  0%|          | 0/16 [00:00<?, ?it/s]"
      ]
     },
     "metadata": {},
     "output_type": "display_data"
    },
    {
     "name": "stdout",
     "output_type": "stream",
     "text": [
      "accuracy for individual traces is [0.89, 0.622, 0.548, 0.698, 0.66, 0.597, 0.843, 0.83, 0.942, 0.856, 0.98, 0.674, 0.811, 0.717, 0.792, 0.546]\n",
      "overall average accuracy is 0.750375\n",
      "for this dataset, noise is 1.00, transition_rate is 0.50\n",
      "traces are of shape:(13, 1000, 2)\n",
      "got 13 traces containing 2 features: DD, DA\n",
      "\n",
      "labels are of shape:(13, 1000)\n",
      "got labels for 13 traces\n",
      "\n"
     ]
    },
    {
     "data": {
      "application/json": {
       "ascii": false,
       "bar_format": null,
       "colour": null,
       "elapsed": 0.0060007572174072266,
       "initial": 0,
       "n": 0,
       "ncols": null,
       "nrows": null,
       "postfix": null,
       "prefix": "",
       "rate": null,
       "total": 13,
       "unit": "it",
       "unit_divisor": 1000,
       "unit_scale": false
      },
      "application/vnd.jupyter.widget-view+json": {
       "model_id": "bd0f08d666a84c2094a5b4cf2f1d171c",
       "version_major": 2,
       "version_minor": 0
      },
      "text/plain": [
       "  0%|          | 0/13 [00:00<?, ?it/s]"
      ]
     },
     "metadata": {},
     "output_type": "display_data"
    },
    {
     "name": "stdout",
     "output_type": "stream",
     "text": [
      "accuracy for individual traces is [0.944, 0.94, 0.507, 0.816, 0.78, 0.539, 0.818, 0.961, 0.925, 0.609, 0.971, 0.531, 0.912]\n",
      "overall average accuracy is 0.7886923076923077\n"
     ]
    }
   ],
   "source": [
    "Hmm_performance_batch(folder_path,\n",
    "                    n_states=2,\n",
    "                    save_folder=r'E:\\OneDrive - Nexus365\\Desktop\\physics\\Year 4\\project\\BenchFRET\\dev',\n",
    "                    save_point=20\n",
    "                    )"
   ]
  },
  {
   "cell_type": "code",
   "execution_count": 4,
   "metadata": {},
   "outputs": [],
   "source": [
    "df = pd.read_json(r'E:\\OneDrive - Nexus365\\Desktop\\physics\\Year 4\\project\\BenchFRET\\dev\\hmm_prediction_2_states.json',orient='split')"
   ]
  },
  {
   "cell_type": "code",
   "execution_count": 5,
   "metadata": {},
   "outputs": [
    {
     "data": {
      "text/html": [
       "<div>\n",
       "<style scoped>\n",
       "    .dataframe tbody tr th:only-of-type {\n",
       "        vertical-align: middle;\n",
       "    }\n",
       "\n",
       "    .dataframe tbody tr th {\n",
       "        vertical-align: top;\n",
       "    }\n",
       "\n",
       "    .dataframe thead th {\n",
       "        text-align: right;\n",
       "    }\n",
       "</style>\n",
       "<table border=\"1\" class=\"dataframe\">\n",
       "  <thead>\n",
       "    <tr style=\"text-align: right;\">\n",
       "      <th></th>\n",
       "      <th>noise</th>\n",
       "      <th>trans_rate</th>\n",
       "      <th>average_accuracy</th>\n",
       "      <th>average_precision</th>\n",
       "      <th>average_recall</th>\n",
       "      <th>predicted_states</th>\n",
       "      <th>algined_labels</th>\n",
       "    </tr>\n",
       "  </thead>\n",
       "  <tbody>\n",
       "    <tr>\n",
       "      <th>0</th>\n",
       "      <td>0.0</td>\n",
       "      <td>0.05</td>\n",
       "      <td>0.592540</td>\n",
       "      <td>0.955720</td>\n",
       "      <td>0.955699</td>\n",
       "      <td>[[-1, -1, -1, -1, -1, -1, -1, -1, -1, -1, -1, ...</td>\n",
       "      <td>[[0, 0, 0, 0, 0, 0, 0, 0, 0, 0, 0, 0, 0, 0, 0,...</td>\n",
       "    </tr>\n",
       "    <tr>\n",
       "      <th>1</th>\n",
       "      <td>0.0</td>\n",
       "      <td>0.10</td>\n",
       "      <td>0.523561</td>\n",
       "      <td>0.933151</td>\n",
       "      <td>0.932888</td>\n",
       "      <td>[[-1, -1, -1, -1, -1, -1, -1, -1, -1, -1, -1, ...</td>\n",
       "      <td>[[0, 0, 0, 0, 0, 1, 1, 1, 1, 1, 1, 1, 1, 1, 1,...</td>\n",
       "    </tr>\n",
       "    <tr>\n",
       "      <th>2</th>\n",
       "      <td>0.0</td>\n",
       "      <td>0.15</td>\n",
       "      <td>0.569632</td>\n",
       "      <td>0.917199</td>\n",
       "      <td>0.917231</td>\n",
       "      <td>[[0, 1, 0, 0, 0, 1, 1, 0, 1, 0, 0, 0, 0, 0, 0,...</td>\n",
       "      <td>[[0, 1, 0, 0, 0, 1, 1, 0, 1, 0, 0, 0, 0, 0, 0,...</td>\n",
       "    </tr>\n",
       "    <tr>\n",
       "      <th>3</th>\n",
       "      <td>0.0</td>\n",
       "      <td>0.20</td>\n",
       "      <td>0.583454</td>\n",
       "      <td>0.943349</td>\n",
       "      <td>0.943239</td>\n",
       "      <td>[[1, 0, 1, 0, 0, 0, 0, 0, 0, 0, 0, 0, 0, 0, 0,...</td>\n",
       "      <td>[[1, 0, 1, 0, 0, 0, 0, 0, 0, 0, 0, 0, 0, 0, 0,...</td>\n",
       "    </tr>\n",
       "    <tr>\n",
       "      <th>4</th>\n",
       "      <td>0.0</td>\n",
       "      <td>0.25</td>\n",
       "      <td>0.505899</td>\n",
       "      <td>0.944985</td>\n",
       "      <td>0.944988</td>\n",
       "      <td>[[0, 0, 0, 0, 1, 1, 1, 1, 1, 1, 0, 0, 0, 0, 0,...</td>\n",
       "      <td>[[0, 0, 0, 0, 1, 1, 1, 1, 1, 1, 0, 0, 0, 0, 0,...</td>\n",
       "    </tr>\n",
       "    <tr>\n",
       "      <th>...</th>\n",
       "      <td>...</td>\n",
       "      <td>...</td>\n",
       "      <td>...</td>\n",
       "      <td>...</td>\n",
       "      <td>...</td>\n",
       "      <td>...</td>\n",
       "      <td>...</td>\n",
       "    </tr>\n",
       "    <tr>\n",
       "      <th>205</th>\n",
       "      <td>1.0</td>\n",
       "      <td>0.30</td>\n",
       "      <td>0.759500</td>\n",
       "      <td>0.759919</td>\n",
       "      <td>0.759500</td>\n",
       "      <td>[[1, 1, 0, 0, 1, 1, 0, 0, 0, 0, 0, 0, 0, 0, 0,...</td>\n",
       "      <td>[[0, 1, 0, 0, 1, 1, 1, 1, 1, 0, 1, 1, 0, 0, 0,...</td>\n",
       "    </tr>\n",
       "    <tr>\n",
       "      <th>206</th>\n",
       "      <td>1.0</td>\n",
       "      <td>0.35</td>\n",
       "      <td>0.779667</td>\n",
       "      <td>0.783025</td>\n",
       "      <td>0.779667</td>\n",
       "      <td>[[0, 0, 0, 0, 0, 0, 0, 0, 0, 0, 0, 1, 1, 1, 1,...</td>\n",
       "      <td>[[0, 0, 0, 0, 1, 1, 0, 0, 0, 0, 0, 1, 0, 1, 1,...</td>\n",
       "    </tr>\n",
       "    <tr>\n",
       "      <th>207</th>\n",
       "      <td>1.0</td>\n",
       "      <td>0.40</td>\n",
       "      <td>0.788583</td>\n",
       "      <td>0.794361</td>\n",
       "      <td>0.788583</td>\n",
       "      <td>[[0, 1, 1, 1, 0, 0, 0, 0, 1, 1, 1, 1, 1, 1, 1,...</td>\n",
       "      <td>[[0, 1, 1, 1, 1, 1, 0, 0, 0, 1, 0, 0, 0, 0, 0,...</td>\n",
       "    </tr>\n",
       "    <tr>\n",
       "      <th>208</th>\n",
       "      <td>1.0</td>\n",
       "      <td>0.45</td>\n",
       "      <td>0.750375</td>\n",
       "      <td>0.750457</td>\n",
       "      <td>0.750375</td>\n",
       "      <td>[[0, 1, 1, 1, 1, 1, 1, 0, 0, 1, 1, 1, 0, 1, 1,...</td>\n",
       "      <td>[[0, 1, 1, 1, 1, 1, 0, 0, 0, 1, 1, 1, 0, 1, 0,...</td>\n",
       "    </tr>\n",
       "    <tr>\n",
       "      <th>209</th>\n",
       "      <td>1.0</td>\n",
       "      <td>0.50</td>\n",
       "      <td>0.788692</td>\n",
       "      <td>0.799752</td>\n",
       "      <td>0.788692</td>\n",
       "      <td>[[0, 1, 1, 1, 1, 1, 1, 0, 1, 0, 1, 0, 0, 0, 1,...</td>\n",
       "      <td>[[0, 1, 1, 1, 1, 1, 1, 0, 1, 0, 1, 0, 1, 0, 1,...</td>\n",
       "    </tr>\n",
       "  </tbody>\n",
       "</table>\n",
       "<p>210 rows × 7 columns</p>\n",
       "</div>"
      ],
      "text/plain": [
       "     noise  trans_rate  average_accuracy  average_precision  average_recall  \\\n",
       "0      0.0        0.05          0.592540           0.955720        0.955699   \n",
       "1      0.0        0.10          0.523561           0.933151        0.932888   \n",
       "2      0.0        0.15          0.569632           0.917199        0.917231   \n",
       "3      0.0        0.20          0.583454           0.943349        0.943239   \n",
       "4      0.0        0.25          0.505899           0.944985        0.944988   \n",
       "..     ...         ...               ...                ...             ...   \n",
       "205    1.0        0.30          0.759500           0.759919        0.759500   \n",
       "206    1.0        0.35          0.779667           0.783025        0.779667   \n",
       "207    1.0        0.40          0.788583           0.794361        0.788583   \n",
       "208    1.0        0.45          0.750375           0.750457        0.750375   \n",
       "209    1.0        0.50          0.788692           0.799752        0.788692   \n",
       "\n",
       "                                      predicted_states  \\\n",
       "0    [[-1, -1, -1, -1, -1, -1, -1, -1, -1, -1, -1, ...   \n",
       "1    [[-1, -1, -1, -1, -1, -1, -1, -1, -1, -1, -1, ...   \n",
       "2    [[0, 1, 0, 0, 0, 1, 1, 0, 1, 0, 0, 0, 0, 0, 0,...   \n",
       "3    [[1, 0, 1, 0, 0, 0, 0, 0, 0, 0, 0, 0, 0, 0, 0,...   \n",
       "4    [[0, 0, 0, 0, 1, 1, 1, 1, 1, 1, 0, 0, 0, 0, 0,...   \n",
       "..                                                 ...   \n",
       "205  [[1, 1, 0, 0, 1, 1, 0, 0, 0, 0, 0, 0, 0, 0, 0,...   \n",
       "206  [[0, 0, 0, 0, 0, 0, 0, 0, 0, 0, 0, 1, 1, 1, 1,...   \n",
       "207  [[0, 1, 1, 1, 0, 0, 0, 0, 1, 1, 1, 1, 1, 1, 1,...   \n",
       "208  [[0, 1, 1, 1, 1, 1, 1, 0, 0, 1, 1, 1, 0, 1, 1,...   \n",
       "209  [[0, 1, 1, 1, 1, 1, 1, 0, 1, 0, 1, 0, 0, 0, 1,...   \n",
       "\n",
       "                                        algined_labels  \n",
       "0    [[0, 0, 0, 0, 0, 0, 0, 0, 0, 0, 0, 0, 0, 0, 0,...  \n",
       "1    [[0, 0, 0, 0, 0, 1, 1, 1, 1, 1, 1, 1, 1, 1, 1,...  \n",
       "2    [[0, 1, 0, 0, 0, 1, 1, 0, 1, 0, 0, 0, 0, 0, 0,...  \n",
       "3    [[1, 0, 1, 0, 0, 0, 0, 0, 0, 0, 0, 0, 0, 0, 0,...  \n",
       "4    [[0, 0, 0, 0, 1, 1, 1, 1, 1, 1, 0, 0, 0, 0, 0,...  \n",
       "..                                                 ...  \n",
       "205  [[0, 1, 0, 0, 1, 1, 1, 1, 1, 0, 1, 1, 0, 0, 0,...  \n",
       "206  [[0, 0, 0, 0, 1, 1, 0, 0, 0, 0, 0, 1, 0, 1, 1,...  \n",
       "207  [[0, 1, 1, 1, 1, 1, 0, 0, 0, 1, 0, 0, 0, 0, 0,...  \n",
       "208  [[0, 1, 1, 1, 1, 1, 0, 0, 0, 1, 1, 1, 0, 1, 0,...  \n",
       "209  [[0, 1, 1, 1, 1, 1, 1, 0, 1, 0, 1, 0, 1, 0, 1,...  \n",
       "\n",
       "[210 rows x 7 columns]"
      ]
     },
     "execution_count": 5,
     "metadata": {},
     "output_type": "execute_result"
    }
   ],
   "source": [
    "df"
   ]
  },
  {
   "cell_type": "code",
   "execution_count": null,
   "metadata": {},
   "outputs": [],
   "source": []
  }
 ],
 "metadata": {
  "kernelspec": {
   "display_name": "DeepGapSeq",
   "language": "python",
   "name": "python3"
  },
  "language_info": {
   "codemirror_mode": {
    "name": "ipython",
    "version": 3
   },
   "file_extension": ".py",
   "mimetype": "text/x-python",
   "name": "python",
   "nbconvert_exporter": "python",
   "pygments_lexer": "ipython3",
   "version": "3.9.0"
  }
 },
 "nbformat": 4,
 "nbformat_minor": 2
}
