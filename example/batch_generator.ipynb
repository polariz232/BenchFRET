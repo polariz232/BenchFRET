{
 "cells": [
  {
   "cell_type": "code",
   "execution_count": 3,
   "metadata": {},
   "outputs": [],
   "source": [
    "from BenchFRET.pipeline.dataloader import NewSim\n",
    "import numpy as np\n",
    "import os\n",
    "from tqdm.notebook import tqdm"
   ]
  },
  {
   "cell_type": "code",
   "execution_count": 10,
   "metadata": {},
   "outputs": [],
   "source": [
    "outdir = r'F:\\_Evaluation_set\\2_states'"
   ]
  },
  {
   "cell_type": "code",
   "execution_count": 4,
   "metadata": {},
   "outputs": [
    {
     "data": {
      "text/plain": [
       "array([0.  , 0.05, 0.1 , 0.15, 0.2 , 0.25, 0.3 , 0.35, 0.4 , 0.45, 0.5 ,\n",
       "       0.55, 0.6 , 0.65, 0.7 , 0.75, 0.8 , 0.85, 0.9 , 0.95, 1.  ])"
      ]
     },
     "execution_count": 4,
     "metadata": {},
     "output_type": "execute_result"
    }
   ],
   "source": [
    "noise_range = np.linspace(0, 1.0, 21)\n",
    "noise_range"
   ]
  },
  {
   "cell_type": "code",
   "execution_count": 5,
   "metadata": {},
   "outputs": [
    {
     "data": {
      "text/plain": [
       "array([0.05, 0.1 , 0.15, 0.2 , 0.25, 0.3 , 0.35, 0.4 , 0.45, 0.5 ])"
      ]
     },
     "execution_count": 5,
     "metadata": {},
     "output_type": "execute_result"
    }
   ],
   "source": [
    "trans_rates = np.linspace(0.05, 0.5, 10)\n",
    "trans_rates"
   ]
  },
  {
   "cell_type": "code",
   "execution_count": null,
   "metadata": {},
   "outputs": [],
   "source": [
    "for noise in tqdm(noise_range):\n",
    "    for rate in tqdm(trans_rates):\n",
    "        bg_noise_scale = (noise,noise)\n",
    "        # a,_a = np.random.uniform(0, rate, 2)\n",
    "        # b,_b = np.random.uniform(0, rate, 2)\n",
    "        # c,_c = np.random.uniform(0, rate, 2)\n",
    "        # d,_d = np.random.uniform(0, rate, 2)\n",
    "        # trans_mat = np.array([[1-rate,a,_a,rate-a-_a], [b,1-rate,_b,rate-b-_b], [c,rate-c-_c,1-rate,_c], [d,_d,rate-d-_d,1-rate]])\n",
    "        trans_mat = np.array([[1-rate,rate],[rate,1-rate]])\n",
    "        newsim = NewSim(n_frames=1000,\n",
    "                        n_traces=100,\n",
    "                        outdir=outdir,\n",
    "                        n_states=2,\n",
    "                        noise = bg_noise_scale,\n",
    "                        trans_mat=trans_mat,\n",
    "                        export_mode=\"pickledict\", \n",
    "                        reduce_memory=False,\n",
    "                        export_name='noise_{:.2f}'.format(noise) + '_rate_{:.2f}'.format(rate))"
   ]
  },
  {
   "cell_type": "code",
   "execution_count": 11,
   "metadata": {},
   "outputs": [],
   "source": [
    "folder = os.path.join(outdir, 'pickledict')\n",
    "file_paths = [f for f in os.listdir(folder) if os.path.isfile(os.path.join(folder, f))]"
   ]
  },
  {
   "cell_type": "code",
   "execution_count": null,
   "metadata": {},
   "outputs": [],
   "source": [
    "for file in tqdm(file_paths, desc='Processing files'):\n",
    "        "
   ]
  },
  {
   "cell_type": "code",
   "execution_count": null,
   "metadata": {},
   "outputs": [],
   "source": [
    "def cohens_d(states_mean,states_std,sample_size):\n",
    "\n",
    "     pooled_var = ((sample_size[0]-1)*states_std[0]**2 + (sample_size[1]-1)*states_std[1]**2) / (sample_size[0]+sample_size[1]-2)\n",
    "     pooled_std = np.sqrt(pooled_var)\n",
    "     \n",
    "     return (states_mean[1]-states_mean[0])/pooled_std"
   ]
  },
  {
   "cell_type": "code",
   "execution_count": null,
   "metadata": {},
   "outputs": [],
   "source": [
    "def cal_cohens_d_and_sort(file):\n",
    "    simloader = SimLoader(file)\n",
    "    data,_full_data = simloader.get_data()\n",
    "    "
   ]
  }
 ],
 "metadata": {
  "kernelspec": {
   "display_name": "DeepGapSeq",
   "language": "python",
   "name": "python3"
  },
  "language_info": {
   "codemirror_mode": {
    "name": "ipython",
    "version": 3
   },
   "file_extension": ".py",
   "mimetype": "text/x-python",
   "name": "python",
   "nbconvert_exporter": "python",
   "pygments_lexer": "ipython3",
   "version": "3.9.0"
  }
 },
 "nbformat": 4,
 "nbformat_minor": 2
}
