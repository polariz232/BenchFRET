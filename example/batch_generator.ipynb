{
 "cells": [
  {
   "cell_type": "code",
   "execution_count": 7,
   "metadata": {},
   "outputs": [],
   "source": [
    "from BenchFRET.pipeline.dataloader import NewSim\n",
    "import numpy as np\n",
    "import os\n",
    "from tqdm.notebook import tqdm"
   ]
  },
  {
   "cell_type": "code",
   "execution_count": 8,
   "metadata": {},
   "outputs": [],
   "source": [
    "outdir = r'F:\\BenchFRET_Simulated_Comparison_Data\\4 states'"
   ]
  },
  {
   "cell_type": "code",
   "execution_count": 9,
   "metadata": {},
   "outputs": [
    {
     "data": {
      "text/plain": [
       "array([0.  , 0.05, 0.1 , 0.15, 0.2 , 0.25, 0.3 , 0.35, 0.4 , 0.45, 0.5 ,\n",
       "       0.55, 0.6 , 0.65, 0.7 , 0.75, 0.8 , 0.85, 0.9 , 0.95, 1.  ])"
      ]
     },
     "execution_count": 9,
     "metadata": {},
     "output_type": "execute_result"
    }
   ],
   "source": [
    "noise_range = np.linspace(0, 1.0, 21)\n",
    "noise_range"
   ]
  },
  {
   "cell_type": "code",
   "execution_count": 10,
   "metadata": {},
   "outputs": [
    {
     "data": {
      "text/plain": [
       "array([0.05, 0.1 , 0.15, 0.2 , 0.25, 0.3 , 0.35, 0.4 , 0.45, 0.5 ])"
      ]
     },
     "execution_count": 10,
     "metadata": {},
     "output_type": "execute_result"
    }
   ],
   "source": [
    "trans_rates = np.linspace(0.05, 0.5, 10)\n",
    "trans_rates"
   ]
  },
  {
   "cell_type": "code",
   "execution_count": 14,
   "metadata": {},
   "outputs": [
    {
     "data": {
      "application/json": {
       "ascii": false,
       "bar_format": null,
       "colour": null,
       "elapsed": 0.0039997100830078125,
       "initial": 0,
       "n": 0,
       "ncols": null,
       "nrows": null,
       "postfix": null,
       "prefix": "",
       "rate": null,
       "total": 21,
       "unit": "it",
       "unit_divisor": 1000,
       "unit_scale": false
      },
      "application/vnd.jupyter.widget-view+json": {
       "model_id": "c647a58385c4408cb4cf93bf2f003b4c",
       "version_major": 2,
       "version_minor": 0
      },
      "text/plain": [
       "  0%|          | 0/21 [00:00<?, ?it/s]"
      ]
     },
     "metadata": {},
     "output_type": "display_data"
    },
    {
     "data": {
      "application/json": {
       "ascii": false,
       "bar_format": null,
       "colour": null,
       "elapsed": 0.003999471664428711,
       "initial": 0,
       "n": 0,
       "ncols": null,
       "nrows": null,
       "postfix": null,
       "prefix": "",
       "rate": null,
       "total": 10,
       "unit": "it",
       "unit_divisor": 1000,
       "unit_scale": false
      },
      "application/vnd.jupyter.widget-view+json": {
       "model_id": "cd09de0ca18f4d1db4624f9c26c961b6",
       "version_major": 2,
       "version_minor": 0
      },
      "text/plain": [
       "  0%|          | 0/10 [00:00<?, ?it/s]"
      ]
     },
     "metadata": {},
     "output_type": "display_data"
    },
    {
     "name": "stdout",
     "output_type": "stream",
     "text": [
      "Generating traces...\n"
     ]
    },
    {
     "name": "stderr",
     "output_type": "stream",
     "text": [
      "\n",
      "\u001b[A\n",
      "\u001b[A\n",
      "\u001b[A\n",
      "\u001b[A\n",
      "\u001b[A\n",
      "\u001b[A\n",
      "\u001b[A\n",
      "100%|██████████| 100/100 [00:00<00:00, 126.80it/s]\n"
     ]
    },
    {
     "name": "stdout",
     "output_type": "stream",
     "text": [
      "Spent 0.8 s to generate 97 traces\n",
      "Labels:  [0. 1. 2. 3.]\n",
      "exporting pickled dictionary to: F:\\BenchFRET_Simulated_Comparison_Data\\4 states\\pickledict\\noise_0.00_rate_0.05.pkl\n",
      "Generating traces...\n"
     ]
    },
    {
     "name": "stderr",
     "output_type": "stream",
     "text": [
      "\n",
      "\u001b[A\n",
      "\u001b[A\n",
      "\u001b[A\n",
      "\u001b[A\n",
      "\u001b[A\n",
      "\u001b[A\n",
      "\u001b[A\n",
      "100%|██████████| 100/100 [00:00<00:00, 130.07it/s]\n"
     ]
    },
    {
     "name": "stdout",
     "output_type": "stream",
     "text": [
      "Spent 0.8 s to generate 100 traces\n",
      "Labels:  [0. 1. 2. 3.]\n",
      "exporting pickled dictionary to: F:\\BenchFRET_Simulated_Comparison_Data\\4 states\\pickledict\\noise_0.00_rate_0.10.pkl\n",
      "Generating traces...\n"
     ]
    },
    {
     "name": "stderr",
     "output_type": "stream",
     "text": [
      "\n",
      "\u001b[A\n",
      "\u001b[A\n",
      "\u001b[A\n",
      "\u001b[A\n",
      "\u001b[A\n",
      "\u001b[A\n",
      "\u001b[A\n",
      "100%|██████████| 100/100 [00:00<00:00, 133.73it/s]\n"
     ]
    },
    {
     "name": "stdout",
     "output_type": "stream",
     "text": [
      "Spent 0.8 s to generate 99 traces\n",
      "Labels:  [0. 1. 2. 3.]\n",
      "exporting pickled dictionary to: F:\\BenchFRET_Simulated_Comparison_Data\\4 states\\pickledict\\noise_0.00_rate_0.15.pkl\n",
      "Generating traces...\n"
     ]
    },
    {
     "name": "stderr",
     "output_type": "stream",
     "text": [
      "\n",
      "\u001b[A\n",
      "\u001b[A\n",
      "\u001b[A\n",
      "\u001b[A\n",
      "\u001b[A\n",
      "\u001b[A\n",
      "100%|██████████| 100/100 [00:00<00:00, 139.07it/s]\n"
     ]
    },
    {
     "name": "stdout",
     "output_type": "stream",
     "text": [
      "Spent 0.8 s to generate 99 traces\n",
      "Labels:  [0. 1. 2. 3.]\n",
      "exporting pickled dictionary to: F:\\BenchFRET_Simulated_Comparison_Data\\4 states\\pickledict\\noise_0.00_rate_0.20.pkl\n",
      "Generating traces...\n"
     ]
    },
    {
     "name": "stderr",
     "output_type": "stream",
     "text": [
      "\n",
      "\u001b[A\n",
      "\u001b[A\n",
      "\u001b[A\n",
      "\u001b[A\n",
      "\u001b[A\n",
      "\u001b[A\n",
      "\u001b[A\n",
      "100%|██████████| 100/100 [00:00<00:00, 120.14it/s]\n"
     ]
    },
    {
     "name": "stdout",
     "output_type": "stream",
     "text": [
      "Spent 0.9 s to generate 100 traces\n",
      "Labels:  [0. 1. 2. 3.]\n",
      "exporting pickled dictionary to: F:\\BenchFRET_Simulated_Comparison_Data\\4 states\\pickledict\\noise_0.00_rate_0.25.pkl\n",
      "Generating traces...\n"
     ]
    },
    {
     "name": "stderr",
     "output_type": "stream",
     "text": [
      "\n",
      "\u001b[A\n",
      "\u001b[A\n",
      "\u001b[A\n",
      "\u001b[A\n",
      "\u001b[A\n",
      "\u001b[A\n",
      "100%|██████████| 100/100 [00:00<00:00, 142.22it/s]\n"
     ]
    },
    {
     "name": "stdout",
     "output_type": "stream",
     "text": [
      "Spent 0.7 s to generate 100 traces\n",
      "Labels:  [0. 1. 2. 3.]\n",
      "exporting pickled dictionary to: F:\\BenchFRET_Simulated_Comparison_Data\\4 states\\pickledict\\noise_0.00_rate_0.30.pkl\n",
      "Generating traces...\n"
     ]
    },
    {
     "name": "stderr",
     "output_type": "stream",
     "text": [
      "\n",
      "\u001b[A\n",
      "\u001b[A\n",
      "\u001b[A\n",
      "\u001b[A\n",
      "\u001b[A\n",
      "\u001b[A\n",
      "100%|██████████| 100/100 [00:00<00:00, 140.49it/s]\n"
     ]
    },
    {
     "name": "stdout",
     "output_type": "stream",
     "text": [
      "Spent 0.7 s to generate 93 traces\n",
      "Labels:  [0. 1. 2. 3.]\n",
      "exporting pickled dictionary to: F:\\BenchFRET_Simulated_Comparison_Data\\4 states\\pickledict\\noise_0.00_rate_0.35.pkl\n",
      "Generating traces...\n"
     ]
    },
    {
     "name": "stderr",
     "output_type": "stream",
     "text": [
      "\n",
      "\u001b[A\n",
      "\u001b[A\n",
      "\u001b[A\n",
      "\u001b[A\n",
      "\u001b[A\n",
      "\u001b[A\n",
      "100%|██████████| 100/100 [00:00<00:00, 128.81it/s]\n"
     ]
    },
    {
     "name": "stdout",
     "output_type": "stream",
     "text": [
      "Spent 0.8 s to generate 99 traces\n",
      "Labels:  [0. 1. 2. 3.]\n",
      "exporting pickled dictionary to: F:\\BenchFRET_Simulated_Comparison_Data\\4 states\\pickledict\\noise_0.00_rate_0.40.pkl\n",
      "Generating traces...\n"
     ]
    },
    {
     "name": "stderr",
     "output_type": "stream",
     "text": [
      "\n",
      "\u001b[A\n",
      "\u001b[A\n",
      "\u001b[A\n",
      "\u001b[A\n",
      "\u001b[A\n",
      "\u001b[A\n",
      "100%|██████████| 100/100 [00:00<00:00, 139.47it/s]\n"
     ]
    },
    {
     "name": "stdout",
     "output_type": "stream",
     "text": [
      "Spent 0.7 s to generate 97 traces\n",
      "Labels:  [0. 1. 2. 3.]\n",
      "exporting pickled dictionary to: F:\\BenchFRET_Simulated_Comparison_Data\\4 states\\pickledict\\noise_0.00_rate_0.45.pkl\n",
      "Generating traces...\n"
     ]
    },
    {
     "name": "stderr",
     "output_type": "stream",
     "text": [
      "\n",
      "\u001b[A\n",
      "\u001b[A\n",
      "\u001b[A\n",
      "\u001b[A\n",
      "\u001b[A\n",
      "\u001b[A\n",
      "100%|██████████| 100/100 [00:00<00:00, 140.44it/s]"
     ]
    },
    {
     "name": "stdout",
     "output_type": "stream",
     "text": [
      "Spent 0.7 s to generate 97 traces\n",
      "Labels:  [0. 1. 2. 3.]\n",
      "exporting pickled dictionary to: F:\\BenchFRET_Simulated_Comparison_Data\\4 states\\pickledict\\noise_0.00_rate_0.50.pkl\n"
     ]
    },
    {
     "name": "stderr",
     "output_type": "stream",
     "text": [
      "\n"
     ]
    },
    {
     "data": {
      "application/json": {
       "ascii": false,
       "bar_format": null,
       "colour": null,
       "elapsed": 0.003999471664428711,
       "initial": 0,
       "n": 0,
       "ncols": null,
       "nrows": null,
       "postfix": null,
       "prefix": "",
       "rate": null,
       "total": 10,
       "unit": "it",
       "unit_divisor": 1000,
       "unit_scale": false
      },
      "application/vnd.jupyter.widget-view+json": {
       "model_id": "ccca87235f864db0a2a8794fb52914e4",
       "version_major": 2,
       "version_minor": 0
      },
      "text/plain": [
       "  0%|          | 0/10 [00:00<?, ?it/s]"
      ]
     },
     "metadata": {},
     "output_type": "display_data"
    },
    {
     "name": "stdout",
     "output_type": "stream",
     "text": [
      "Generating traces...\n"
     ]
    },
    {
     "name": "stderr",
     "output_type": "stream",
     "text": [
      "\n",
      "\u001b[A\n",
      "\u001b[A\n",
      "\u001b[A\n",
      "\u001b[A\n",
      "\u001b[A\n",
      "\u001b[A\n",
      "\u001b[A\n",
      "100%|██████████| 100/100 [00:00<00:00, 113.59it/s]\n"
     ]
    },
    {
     "name": "stdout",
     "output_type": "stream",
     "text": [
      "Spent 0.9 s to generate 98 traces\n",
      "Labels:  [0. 1. 2. 3.]\n",
      "exporting pickled dictionary to: F:\\BenchFRET_Simulated_Comparison_Data\\4 states\\pickledict\\noise_0.05_rate_0.05.pkl\n",
      "Generating traces...\n"
     ]
    },
    {
     "name": "stderr",
     "output_type": "stream",
     "text": [
      "\n",
      "\u001b[A\n",
      "\u001b[A\n",
      "\u001b[A\n",
      "\u001b[A\n",
      "\u001b[A\n",
      "\u001b[A\n",
      "100%|██████████| 100/100 [00:00<00:00, 140.06it/s]\n"
     ]
    },
    {
     "name": "stdout",
     "output_type": "stream",
     "text": [
      "Spent 0.7 s to generate 100 traces\n",
      "Labels:  [0. 1. 2. 3.]\n",
      "exporting pickled dictionary to: F:\\BenchFRET_Simulated_Comparison_Data\\4 states\\pickledict\\noise_0.05_rate_0.10.pkl\n",
      "Generating traces...\n"
     ]
    },
    {
     "name": "stderr",
     "output_type": "stream",
     "text": [
      "\n",
      "\u001b[A\n",
      "\u001b[A\n",
      "\u001b[A\n",
      "\u001b[A\n",
      "\u001b[A\n",
      "\u001b[A\n",
      "\u001b[A\n",
      "100%|██████████| 100/100 [00:00<00:00, 109.73it/s]\n"
     ]
    },
    {
     "name": "stdout",
     "output_type": "stream",
     "text": [
      "Spent 0.9 s to generate 99 traces\n",
      "Labels:  [0. 1. 2. 3.]\n",
      "exporting pickled dictionary to: F:\\BenchFRET_Simulated_Comparison_Data\\4 states\\pickledict\\noise_0.05_rate_0.15.pkl\n",
      "Generating traces...\n"
     ]
    },
    {
     "name": "stderr",
     "output_type": "stream",
     "text": [
      "\n",
      "\u001b[A\n",
      "\u001b[A\n",
      "\u001b[A\n",
      "\u001b[A\n",
      "\u001b[A\n",
      "\u001b[A\n",
      "\u001b[A\n",
      "\u001b[A\n",
      "100%|██████████| 100/100 [00:00<00:00, 108.14it/s]\n"
     ]
    },
    {
     "name": "stdout",
     "output_type": "stream",
     "text": [
      "Spent 1.0 s to generate 100 traces\n",
      "Labels:  [0. 1. 2. 3.]\n",
      "exporting pickled dictionary to: F:\\BenchFRET_Simulated_Comparison_Data\\4 states\\pickledict\\noise_0.05_rate_0.20.pkl\n",
      "Generating traces...\n"
     ]
    },
    {
     "name": "stderr",
     "output_type": "stream",
     "text": [
      "\n",
      "\u001b[A\n",
      "\u001b[A\n",
      "\u001b[A\n",
      "\u001b[A\n",
      "\u001b[A\n",
      "\u001b[A\n",
      "\u001b[A\n",
      "100%|██████████| 100/100 [00:00<00:00, 127.46it/s]\n"
     ]
    },
    {
     "name": "stdout",
     "output_type": "stream",
     "text": [
      "Spent 0.8 s to generate 98 traces\n",
      "Labels:  [0. 1. 2. 3.]\n",
      "exporting pickled dictionary to: F:\\BenchFRET_Simulated_Comparison_Data\\4 states\\pickledict\\noise_0.05_rate_0.25.pkl\n",
      "Generating traces...\n"
     ]
    },
    {
     "name": "stderr",
     "output_type": "stream",
     "text": [
      "\n",
      "\u001b[A\n",
      "\u001b[A\n",
      "\u001b[A\n",
      "\u001b[A\n",
      "\u001b[A\n",
      "\u001b[A\n",
      "\u001b[A\n",
      "100%|██████████| 100/100 [00:00<00:00, 132.51it/s]\n"
     ]
    },
    {
     "name": "stdout",
     "output_type": "stream",
     "text": [
      "Spent 0.8 s to generate 99 traces\n",
      "Labels:  [0. 1. 2. 3.]\n",
      "exporting pickled dictionary to: F:\\BenchFRET_Simulated_Comparison_Data\\4 states\\pickledict\\noise_0.05_rate_0.30.pkl\n",
      "Generating traces...\n"
     ]
    },
    {
     "name": "stderr",
     "output_type": "stream",
     "text": [
      "\n",
      "\u001b[A\n",
      "\u001b[A\n",
      "\u001b[A\n",
      "\u001b[A\n",
      "\u001b[A\n",
      "\u001b[A\n",
      "\u001b[A\n",
      "\u001b[A\n",
      "100%|██████████| 100/100 [00:00<00:00, 111.22it/s]\n"
     ]
    },
    {
     "name": "stdout",
     "output_type": "stream",
     "text": [
      "Spent 0.9 s to generate 97 traces\n",
      "Labels:  [0. 1. 2. 3.]\n",
      "exporting pickled dictionary to: F:\\BenchFRET_Simulated_Comparison_Data\\4 states\\pickledict\\noise_0.05_rate_0.35.pkl\n",
      "Generating traces...\n"
     ]
    },
    {
     "name": "stderr",
     "output_type": "stream",
     "text": [
      "\n",
      "\u001b[A\n",
      "\u001b[A\n",
      "\u001b[A\n",
      "\u001b[A\n",
      "\u001b[A\n",
      "\u001b[A\n",
      "100%|██████████| 100/100 [00:00<00:00, 139.41it/s]\n"
     ]
    },
    {
     "name": "stdout",
     "output_type": "stream",
     "text": [
      "Spent 0.7 s to generate 97 traces\n",
      "Labels:  [0. 1. 2. 3.]\n",
      "exporting pickled dictionary to: F:\\BenchFRET_Simulated_Comparison_Data\\4 states\\pickledict\\noise_0.05_rate_0.40.pkl\n",
      "Generating traces...\n"
     ]
    },
    {
     "name": "stderr",
     "output_type": "stream",
     "text": [
      "\n",
      "\u001b[A\n",
      "\u001b[A\n",
      "\u001b[A\n",
      "\u001b[A\n",
      "\u001b[A\n",
      "\u001b[A\n",
      "100%|██████████| 100/100 [00:00<00:00, 134.84it/s]\n"
     ]
    },
    {
     "name": "stdout",
     "output_type": "stream",
     "text": [
      "Spent 0.8 s to generate 99 traces\n",
      "Labels:  [0. 1. 2. 3.]\n",
      "exporting pickled dictionary to: F:\\BenchFRET_Simulated_Comparison_Data\\4 states\\pickledict\\noise_0.05_rate_0.45.pkl\n",
      "Generating traces...\n"
     ]
    },
    {
     "name": "stderr",
     "output_type": "stream",
     "text": [
      "\n",
      "\u001b[A\n",
      "\u001b[A\n",
      "\u001b[A\n",
      "\u001b[A\n",
      "\u001b[A\n",
      "\u001b[A\n",
      "100%|██████████| 100/100 [00:00<00:00, 136.09it/s]"
     ]
    },
    {
     "name": "stdout",
     "output_type": "stream",
     "text": [
      "Spent 0.8 s to generate 100 traces\n",
      "Labels:  [0. 1. 2. 3.]\n",
      "exporting pickled dictionary to: F:\\BenchFRET_Simulated_Comparison_Data\\4 states\\pickledict\\noise_0.05_rate_0.50.pkl\n"
     ]
    },
    {
     "name": "stderr",
     "output_type": "stream",
     "text": [
      "\n"
     ]
    },
    {
     "data": {
      "application/json": {
       "ascii": false,
       "bar_format": null,
       "colour": null,
       "elapsed": 0.004004001617431641,
       "initial": 0,
       "n": 0,
       "ncols": null,
       "nrows": null,
       "postfix": null,
       "prefix": "",
       "rate": null,
       "total": 10,
       "unit": "it",
       "unit_divisor": 1000,
       "unit_scale": false
      },
      "application/vnd.jupyter.widget-view+json": {
       "model_id": "0523aae257c5423f806acfe6271907d0",
       "version_major": 2,
       "version_minor": 0
      },
      "text/plain": [
       "  0%|          | 0/10 [00:00<?, ?it/s]"
      ]
     },
     "metadata": {},
     "output_type": "display_data"
    },
    {
     "name": "stdout",
     "output_type": "stream",
     "text": [
      "Generating traces...\n"
     ]
    },
    {
     "name": "stderr",
     "output_type": "stream",
     "text": [
      "\n",
      "\u001b[A\n",
      "\u001b[A\n",
      "\u001b[A\n",
      "\u001b[A\n",
      "\u001b[A\n",
      "\u001b[A\n",
      "\u001b[A\n",
      "100%|██████████| 100/100 [00:00<00:00, 126.38it/s]\n"
     ]
    },
    {
     "name": "stdout",
     "output_type": "stream",
     "text": [
      "Spent 0.8 s to generate 98 traces\n",
      "Labels:  [0. 1. 2. 3.]\n",
      "exporting pickled dictionary to: F:\\BenchFRET_Simulated_Comparison_Data\\4 states\\pickledict\\noise_0.10_rate_0.05.pkl\n",
      "Generating traces...\n"
     ]
    },
    {
     "name": "stderr",
     "output_type": "stream",
     "text": [
      "\n",
      "\u001b[A\n",
      "\u001b[A\n",
      "\u001b[A\n",
      "\u001b[A\n",
      "\u001b[A\n",
      "\u001b[A\n",
      "100%|██████████| 100/100 [00:00<00:00, 144.71it/s]\n"
     ]
    },
    {
     "name": "stdout",
     "output_type": "stream",
     "text": [
      "Spent 0.7 s to generate 97 traces\n",
      "Labels:  [0. 1. 2. 3.]\n",
      "exporting pickled dictionary to: F:\\BenchFRET_Simulated_Comparison_Data\\4 states\\pickledict\\noise_0.10_rate_0.10.pkl\n",
      "Generating traces...\n"
     ]
    },
    {
     "name": "stderr",
     "output_type": "stream",
     "text": [
      "\n",
      "\u001b[A\n",
      "\u001b[A\n",
      "\u001b[A\n",
      "\u001b[A\n",
      "\u001b[A\n",
      "\u001b[A\n",
      "100%|██████████| 100/100 [00:00<00:00, 146.62it/s]\n"
     ]
    },
    {
     "name": "stdout",
     "output_type": "stream",
     "text": [
      "Spent 0.7 s to generate 97 traces\n",
      "Labels:  [0. 1. 2. 3.]\n",
      "exporting pickled dictionary to: F:\\BenchFRET_Simulated_Comparison_Data\\4 states\\pickledict\\noise_0.10_rate_0.15.pkl\n",
      "Generating traces...\n"
     ]
    },
    {
     "name": "stderr",
     "output_type": "stream",
     "text": [
      "\n",
      "\u001b[A\n",
      "\u001b[A\n",
      "\u001b[A\n",
      "\u001b[A\n",
      "\u001b[A\n",
      "\u001b[A\n",
      "\u001b[A\n",
      "100%|██████████| 100/100 [00:00<00:00, 129.75it/s]\n"
     ]
    },
    {
     "name": "stdout",
     "output_type": "stream",
     "text": [
      "Spent 0.8 s to generate 100 traces\n",
      "Labels:  [0. 1. 2. 3.]\n",
      "exporting pickled dictionary to: F:\\BenchFRET_Simulated_Comparison_Data\\4 states\\pickledict\\noise_0.10_rate_0.20.pkl\n",
      "Generating traces...\n"
     ]
    },
    {
     "name": "stderr",
     "output_type": "stream",
     "text": [
      "\n",
      "\u001b[A\n",
      "\u001b[A\n",
      "\u001b[A\n",
      "\u001b[A\n",
      "\u001b[A\n",
      "\u001b[A\n",
      "\u001b[A\n",
      "100%|██████████| 100/100 [00:00<00:00, 122.01it/s]\n"
     ]
    },
    {
     "name": "stdout",
     "output_type": "stream",
     "text": [
      "Spent 0.8 s to generate 99 traces\n",
      "Labels:  [0. 1. 2. 3.]\n",
      "exporting pickled dictionary to: F:\\BenchFRET_Simulated_Comparison_Data\\4 states\\pickledict\\noise_0.10_rate_0.25.pkl\n",
      "Generating traces...\n"
     ]
    },
    {
     "name": "stderr",
     "output_type": "stream",
     "text": [
      "\n",
      "\u001b[A\n",
      "\u001b[A\n",
      "\u001b[A\n",
      "\u001b[A\n",
      "\u001b[A\n",
      "\u001b[A\n",
      "\u001b[A\n",
      "100%|██████████| 100/100 [00:00<00:00, 118.20it/s]\n"
     ]
    },
    {
     "name": "stdout",
     "output_type": "stream",
     "text": [
      "Spent 0.9 s to generate 100 traces\n",
      "Labels:  [0. 1. 2. 3.]\n",
      "exporting pickled dictionary to: F:\\BenchFRET_Simulated_Comparison_Data\\4 states\\pickledict\\noise_0.10_rate_0.30.pkl\n",
      "Generating traces...\n"
     ]
    },
    {
     "name": "stderr",
     "output_type": "stream",
     "text": [
      "\n",
      "\u001b[A\n",
      "\u001b[A\n",
      "\u001b[A\n",
      "\u001b[A\n",
      "\u001b[A\n",
      "\u001b[A\n",
      "100%|██████████| 100/100 [00:00<00:00, 128.21it/s]\n"
     ]
    },
    {
     "name": "stdout",
     "output_type": "stream",
     "text": [
      "Spent 0.8 s to generate 99 traces\n",
      "Labels:  [0. 1. 2. 3.]\n",
      "exporting pickled dictionary to: F:\\BenchFRET_Simulated_Comparison_Data\\4 states\\pickledict\\noise_0.10_rate_0.35.pkl\n",
      "Generating traces...\n"
     ]
    },
    {
     "name": "stderr",
     "output_type": "stream",
     "text": [
      "\n",
      "\u001b[A\n",
      "\u001b[A\n",
      "\u001b[A\n",
      "\u001b[A\n",
      "\u001b[A\n",
      "\u001b[A\n",
      "100%|██████████| 100/100 [00:00<00:00, 127.51it/s]\n"
     ]
    },
    {
     "name": "stdout",
     "output_type": "stream",
     "text": [
      "Spent 0.8 s to generate 99 traces\n",
      "Labels:  [0. 1. 2. 3.]\n",
      "exporting pickled dictionary to: F:\\BenchFRET_Simulated_Comparison_Data\\4 states\\pickledict\\noise_0.10_rate_0.40.pkl\n",
      "Generating traces...\n"
     ]
    },
    {
     "name": "stderr",
     "output_type": "stream",
     "text": [
      "\n",
      "\u001b[A\n",
      "\u001b[A\n",
      "\u001b[A\n",
      "\u001b[A\n",
      "\u001b[A\n",
      "\u001b[A\n",
      "100%|██████████| 100/100 [00:00<00:00, 142.57it/s]\n"
     ]
    },
    {
     "name": "stdout",
     "output_type": "stream",
     "text": [
      "Spent 0.7 s to generate 99 traces\n",
      "Labels:  [0. 1. 2. 3.]\n",
      "exporting pickled dictionary to: F:\\BenchFRET_Simulated_Comparison_Data\\4 states\\pickledict\\noise_0.10_rate_0.45.pkl\n",
      "Generating traces...\n"
     ]
    },
    {
     "name": "stderr",
     "output_type": "stream",
     "text": [
      "\n",
      "\u001b[A\n",
      "\u001b[A\n",
      "\u001b[A\n",
      "\u001b[A\n",
      "\u001b[A\n",
      "\u001b[A\n",
      "\u001b[A\n",
      "100%|██████████| 100/100 [00:00<00:00, 121.25it/s]\n"
     ]
    },
    {
     "name": "stdout",
     "output_type": "stream",
     "text": [
      "Spent 0.9 s to generate 95 traces\n",
      "Labels:  [0. 1. 2. 3.]\n",
      "exporting pickled dictionary to: F:\\BenchFRET_Simulated_Comparison_Data\\4 states\\pickledict\\noise_0.10_rate_0.50.pkl\n"
     ]
    },
    {
     "data": {
      "application/json": {
       "ascii": false,
       "bar_format": null,
       "colour": null,
       "elapsed": 0.002999544143676758,
       "initial": 0,
       "n": 0,
       "ncols": null,
       "nrows": null,
       "postfix": null,
       "prefix": "",
       "rate": null,
       "total": 10,
       "unit": "it",
       "unit_divisor": 1000,
       "unit_scale": false
      },
      "application/vnd.jupyter.widget-view+json": {
       "model_id": "2c47251c0214402aa0b60b77e9d608d5",
       "version_major": 2,
       "version_minor": 0
      },
      "text/plain": [
       "  0%|          | 0/10 [00:00<?, ?it/s]"
      ]
     },
     "metadata": {},
     "output_type": "display_data"
    },
    {
     "name": "stdout",
     "output_type": "stream",
     "text": [
      "Generating traces...\n"
     ]
    },
    {
     "name": "stderr",
     "output_type": "stream",
     "text": [
      "\n",
      "\u001b[A\n",
      "\u001b[A\n",
      "\u001b[A\n",
      "\u001b[A\n",
      "\u001b[A\n",
      "\u001b[A\n",
      "100%|██████████| 100/100 [00:00<00:00, 144.50it/s]\n"
     ]
    },
    {
     "name": "stdout",
     "output_type": "stream",
     "text": [
      "Spent 0.7 s to generate 99 traces\n",
      "Labels:  [0. 1. 2. 3.]\n",
      "exporting pickled dictionary to: F:\\BenchFRET_Simulated_Comparison_Data\\4 states\\pickledict\\noise_0.15_rate_0.05.pkl\n",
      "Generating traces...\n"
     ]
    },
    {
     "name": "stderr",
     "output_type": "stream",
     "text": [
      "\n",
      "\u001b[A\n",
      "\u001b[A\n",
      "\u001b[A\n",
      "\u001b[A\n",
      "\u001b[A\n",
      "\u001b[A\n",
      "100%|██████████| 100/100 [00:00<00:00, 149.02it/s]\n"
     ]
    },
    {
     "name": "stdout",
     "output_type": "stream",
     "text": [
      "Spent 0.7 s to generate 99 traces\n",
      "Labels:  [0. 1. 2. 3.]\n",
      "exporting pickled dictionary to: F:\\BenchFRET_Simulated_Comparison_Data\\4 states\\pickledict\\noise_0.15_rate_0.10.pkl\n",
      "Generating traces...\n"
     ]
    },
    {
     "name": "stderr",
     "output_type": "stream",
     "text": [
      "\n",
      "\u001b[A\n",
      "\u001b[A\n",
      "\u001b[A\n",
      "\u001b[A\n",
      "\u001b[A\n",
      "\u001b[A\n",
      "\u001b[A\n",
      "100%|██████████| 100/100 [00:00<00:00, 130.63it/s]\n"
     ]
    },
    {
     "name": "stdout",
     "output_type": "stream",
     "text": [
      "Spent 0.8 s to generate 98 traces\n",
      "Labels:  [0. 1. 2. 3.]\n",
      "exporting pickled dictionary to: F:\\BenchFRET_Simulated_Comparison_Data\\4 states\\pickledict\\noise_0.15_rate_0.15.pkl\n",
      "Generating traces...\n"
     ]
    },
    {
     "name": "stderr",
     "output_type": "stream",
     "text": [
      "\n",
      "\u001b[A\n",
      "\u001b[A\n",
      "\u001b[A\n",
      "\u001b[A\n",
      "\u001b[A\n",
      "\u001b[A\n",
      "\u001b[A\n",
      "100%|██████████| 100/100 [00:00<00:00, 132.60it/s]\n"
     ]
    },
    {
     "name": "stdout",
     "output_type": "stream",
     "text": [
      "Spent 0.8 s to generate 99 traces\n",
      "Labels:  [0. 1. 2. 3.]\n",
      "exporting pickled dictionary to: F:\\BenchFRET_Simulated_Comparison_Data\\4 states\\pickledict\\noise_0.15_rate_0.20.pkl\n",
      "Generating traces...\n"
     ]
    },
    {
     "name": "stderr",
     "output_type": "stream",
     "text": [
      "\n",
      "\u001b[A\n",
      "\u001b[A\n",
      "\u001b[A\n",
      "\u001b[A\n",
      "\u001b[A\n",
      "\u001b[A\n",
      "\u001b[A\n",
      "100%|██████████| 100/100 [00:00<00:00, 127.53it/s]\n"
     ]
    },
    {
     "name": "stdout",
     "output_type": "stream",
     "text": [
      "Spent 0.8 s to generate 97 traces\n",
      "Labels:  [0. 1. 2. 3.]\n",
      "exporting pickled dictionary to: F:\\BenchFRET_Simulated_Comparison_Data\\4 states\\pickledict\\noise_0.15_rate_0.25.pkl\n",
      "Generating traces...\n"
     ]
    },
    {
     "name": "stderr",
     "output_type": "stream",
     "text": [
      "\n",
      "\u001b[A\n",
      "\u001b[A\n",
      "\u001b[A\n",
      "\u001b[A\n",
      "\u001b[A\n",
      "\u001b[A\n",
      "\u001b[A\n",
      "100%|██████████| 100/100 [00:00<00:00, 129.57it/s]\n"
     ]
    },
    {
     "name": "stdout",
     "output_type": "stream",
     "text": [
      "Spent 0.8 s to generate 98 traces\n",
      "Labels:  [0. 1. 2. 3.]\n",
      "exporting pickled dictionary to: F:\\BenchFRET_Simulated_Comparison_Data\\4 states\\pickledict\\noise_0.15_rate_0.30.pkl\n",
      "Generating traces...\n"
     ]
    },
    {
     "name": "stderr",
     "output_type": "stream",
     "text": [
      "\n",
      "\u001b[A\n",
      "\u001b[A\n",
      "\u001b[A\n",
      "\u001b[A\n",
      "\u001b[A\n",
      "\u001b[A\n",
      "100%|██████████| 100/100 [00:00<00:00, 144.72it/s]\n"
     ]
    },
    {
     "name": "stdout",
     "output_type": "stream",
     "text": [
      "Spent 0.7 s to generate 100 traces\n",
      "Labels:  [0. 1. 2. 3.]\n",
      "exporting pickled dictionary to: F:\\BenchFRET_Simulated_Comparison_Data\\4 states\\pickledict\\noise_0.15_rate_0.35.pkl\n",
      "Generating traces...\n"
     ]
    },
    {
     "name": "stderr",
     "output_type": "stream",
     "text": [
      "\n",
      "\u001b[A\n",
      "\u001b[A\n",
      "\u001b[A\n",
      "\u001b[A\n",
      "\u001b[A\n",
      "\u001b[A\n",
      "100%|██████████| 100/100 [00:00<00:00, 150.37it/s]\n"
     ]
    },
    {
     "name": "stdout",
     "output_type": "stream",
     "text": [
      "Spent 0.7 s to generate 100 traces\n",
      "Labels:  [0. 1. 2. 3.]\n",
      "exporting pickled dictionary to: F:\\BenchFRET_Simulated_Comparison_Data\\4 states\\pickledict\\noise_0.15_rate_0.40.pkl\n",
      "Generating traces...\n"
     ]
    },
    {
     "name": "stderr",
     "output_type": "stream",
     "text": [
      "\n",
      "\u001b[A\n",
      "\u001b[A\n",
      "\u001b[A\n",
      "\u001b[A\n",
      "\u001b[A\n",
      "\u001b[A\n",
      "100%|██████████| 100/100 [00:00<00:00, 125.14it/s]\n"
     ]
    },
    {
     "name": "stdout",
     "output_type": "stream",
     "text": [
      "Spent 0.9 s to generate 99 traces\n",
      "Labels:  [0. 1. 2. 3.]\n",
      "exporting pickled dictionary to: F:\\BenchFRET_Simulated_Comparison_Data\\4 states\\pickledict\\noise_0.15_rate_0.45.pkl\n",
      "Generating traces...\n"
     ]
    },
    {
     "name": "stderr",
     "output_type": "stream",
     "text": [
      "\n",
      "\u001b[A\n",
      "\u001b[A\n",
      "\u001b[A\n",
      "\u001b[A\n",
      "\u001b[A\n",
      "\u001b[A\n",
      "\u001b[A\n",
      "100%|██████████| 100/100 [00:00<00:00, 132.60it/s]"
     ]
    },
    {
     "name": "stdout",
     "output_type": "stream",
     "text": [
      "Spent 0.8 s to generate 100 traces\n",
      "Labels:  [0. 1. 2. 3.]\n",
      "exporting pickled dictionary to: F:\\BenchFRET_Simulated_Comparison_Data\\4 states\\pickledict\\noise_0.15_rate_0.50.pkl\n"
     ]
    },
    {
     "name": "stderr",
     "output_type": "stream",
     "text": [
      "\n"
     ]
    },
    {
     "data": {
      "application/json": {
       "ascii": false,
       "bar_format": null,
       "colour": null,
       "elapsed": 0.004002809524536133,
       "initial": 0,
       "n": 0,
       "ncols": null,
       "nrows": null,
       "postfix": null,
       "prefix": "",
       "rate": null,
       "total": 10,
       "unit": "it",
       "unit_divisor": 1000,
       "unit_scale": false
      },
      "application/vnd.jupyter.widget-view+json": {
       "model_id": "85488bcb4fb1453194346846044af3da",
       "version_major": 2,
       "version_minor": 0
      },
      "text/plain": [
       "  0%|          | 0/10 [00:00<?, ?it/s]"
      ]
     },
     "metadata": {},
     "output_type": "display_data"
    },
    {
     "name": "stdout",
     "output_type": "stream",
     "text": [
      "Generating traces...\n"
     ]
    },
    {
     "name": "stderr",
     "output_type": "stream",
     "text": [
      "\n",
      "\u001b[A\n",
      "\u001b[A\n",
      "\u001b[A\n",
      "\u001b[A\n",
      "\u001b[A\n",
      "\u001b[A\n",
      "100%|██████████| 100/100 [00:00<00:00, 143.47it/s]\n"
     ]
    },
    {
     "name": "stdout",
     "output_type": "stream",
     "text": [
      "Spent 0.7 s to generate 99 traces\n",
      "Labels:  [0. 1. 2. 3.]\n",
      "exporting pickled dictionary to: F:\\BenchFRET_Simulated_Comparison_Data\\4 states\\pickledict\\noise_0.20_rate_0.05.pkl\n",
      "Generating traces...\n"
     ]
    },
    {
     "name": "stderr",
     "output_type": "stream",
     "text": [
      "\n",
      "\u001b[A\n",
      "\u001b[A\n",
      "\u001b[A\n",
      "\u001b[A\n",
      "\u001b[A\n",
      "\u001b[A\n",
      "100%|██████████| 100/100 [00:00<00:00, 133.69it/s]\n"
     ]
    },
    {
     "name": "stdout",
     "output_type": "stream",
     "text": [
      "Spent 0.8 s to generate 98 traces\n",
      "Labels:  [0. 1. 2. 3.]\n",
      "exporting pickled dictionary to: F:\\BenchFRET_Simulated_Comparison_Data\\4 states\\pickledict\\noise_0.20_rate_0.10.pkl\n",
      "Generating traces...\n"
     ]
    },
    {
     "name": "stderr",
     "output_type": "stream",
     "text": [
      "\n",
      "\u001b[A\n",
      "\u001b[A\n",
      "\u001b[A\n",
      "\u001b[A\n",
      "\u001b[A\n",
      "\u001b[A\n",
      "100%|██████████| 100/100 [00:00<00:00, 144.57it/s]\n"
     ]
    },
    {
     "name": "stdout",
     "output_type": "stream",
     "text": [
      "Spent 0.7 s to generate 98 traces\n",
      "Labels:  [0. 1. 2. 3.]\n",
      "exporting pickled dictionary to: F:\\BenchFRET_Simulated_Comparison_Data\\4 states\\pickledict\\noise_0.20_rate_0.15.pkl\n",
      "Generating traces...\n"
     ]
    },
    {
     "name": "stderr",
     "output_type": "stream",
     "text": [
      "\n",
      "\u001b[A\n",
      "\u001b[A\n",
      "\u001b[A\n",
      "\u001b[A\n",
      "\u001b[A\n",
      "\u001b[A\n",
      "100%|██████████| 100/100 [00:00<00:00, 144.51it/s]\n"
     ]
    },
    {
     "name": "stdout",
     "output_type": "stream",
     "text": [
      "Spent 0.7 s to generate 100 traces\n",
      "Labels:  [0. 1. 2. 3.]\n",
      "exporting pickled dictionary to: F:\\BenchFRET_Simulated_Comparison_Data\\4 states\\pickledict\\noise_0.20_rate_0.20.pkl\n",
      "Generating traces...\n"
     ]
    },
    {
     "name": "stderr",
     "output_type": "stream",
     "text": [
      "\n",
      "\u001b[A\n",
      "\u001b[A\n",
      "\u001b[A\n",
      "\u001b[A\n",
      "\u001b[A\n",
      "\u001b[A\n",
      "100%|██████████| 100/100 [00:00<00:00, 144.71it/s]\n"
     ]
    },
    {
     "name": "stdout",
     "output_type": "stream",
     "text": [
      "Spent 0.7 s to generate 99 traces\n",
      "Labels:  [0. 1. 2. 3.]\n",
      "exporting pickled dictionary to: F:\\BenchFRET_Simulated_Comparison_Data\\4 states\\pickledict\\noise_0.20_rate_0.25.pkl\n",
      "Generating traces...\n"
     ]
    },
    {
     "name": "stderr",
     "output_type": "stream",
     "text": [
      "\n",
      "\u001b[A\n",
      "\u001b[A\n",
      "\u001b[A\n",
      "\u001b[A\n",
      "\u001b[A\n",
      "\u001b[A\n",
      "\u001b[A\n",
      "100%|██████████| 100/100 [00:00<00:00, 133.16it/s]\n"
     ]
    },
    {
     "name": "stdout",
     "output_type": "stream",
     "text": [
      "Spent 0.8 s to generate 99 traces\n",
      "Labels:  [0. 1. 2. 3.]\n",
      "exporting pickled dictionary to: F:\\BenchFRET_Simulated_Comparison_Data\\4 states\\pickledict\\noise_0.20_rate_0.30.pkl\n",
      "Generating traces...\n"
     ]
    },
    {
     "name": "stderr",
     "output_type": "stream",
     "text": [
      "\n",
      "\u001b[A\n",
      "\u001b[A\n",
      "\u001b[A\n",
      "\u001b[A\n",
      "\u001b[A\n",
      "\u001b[A\n",
      "100%|██████████| 100/100 [00:00<00:00, 149.48it/s]\n"
     ]
    },
    {
     "name": "stdout",
     "output_type": "stream",
     "text": [
      "Spent 0.7 s to generate 96 traces\n",
      "Labels:  [0. 1. 2. 3.]\n",
      "exporting pickled dictionary to: F:\\BenchFRET_Simulated_Comparison_Data\\4 states\\pickledict\\noise_0.20_rate_0.35.pkl\n",
      "Generating traces...\n"
     ]
    },
    {
     "name": "stderr",
     "output_type": "stream",
     "text": [
      "\n",
      "\u001b[A\n",
      "\u001b[A\n",
      "\u001b[A\n",
      "\u001b[A\n",
      "\u001b[A\n",
      "\u001b[A\n",
      "100%|██████████| 100/100 [00:00<00:00, 143.67it/s]\n"
     ]
    },
    {
     "name": "stdout",
     "output_type": "stream",
     "text": [
      "Spent 0.7 s to generate 99 traces\n",
      "Labels:  [0. 1. 2. 3.]\n",
      "exporting pickled dictionary to: F:\\BenchFRET_Simulated_Comparison_Data\\4 states\\pickledict\\noise_0.20_rate_0.40.pkl\n",
      "Generating traces...\n"
     ]
    },
    {
     "name": "stderr",
     "output_type": "stream",
     "text": [
      "\n",
      "\u001b[A\n",
      "\u001b[A\n",
      "\u001b[A\n",
      "\u001b[A\n",
      "\u001b[A\n",
      "\u001b[A\n",
      "\u001b[A\n",
      "100%|██████████| 100/100 [00:00<00:00, 123.67it/s]\n"
     ]
    },
    {
     "name": "stdout",
     "output_type": "stream",
     "text": [
      "Spent 0.8 s to generate 100 traces\n",
      "Labels:  [0. 1. 2. 3.]\n",
      "exporting pickled dictionary to: F:\\BenchFRET_Simulated_Comparison_Data\\4 states\\pickledict\\noise_0.20_rate_0.45.pkl\n",
      "Generating traces...\n"
     ]
    },
    {
     "name": "stderr",
     "output_type": "stream",
     "text": [
      "\n",
      "\u001b[A\n",
      "\u001b[A\n",
      "\u001b[A\n",
      "\u001b[A\n",
      "\u001b[A\n",
      "\u001b[A\n",
      "100%|██████████| 100/100 [00:00<00:00, 121.98it/s]"
     ]
    },
    {
     "name": "stdout",
     "output_type": "stream",
     "text": [
      "Spent 0.9 s to generate 98 traces\n",
      "Labels:  [0. 1. 2. 3.]\n",
      "exporting pickled dictionary to: F:\\BenchFRET_Simulated_Comparison_Data\\4 states\\pickledict\\noise_0.20_rate_0.50.pkl\n"
     ]
    },
    {
     "name": "stderr",
     "output_type": "stream",
     "text": [
      "\n"
     ]
    },
    {
     "data": {
      "application/json": {
       "ascii": false,
       "bar_format": null,
       "colour": null,
       "elapsed": 0.0049974918365478516,
       "initial": 0,
       "n": 0,
       "ncols": null,
       "nrows": null,
       "postfix": null,
       "prefix": "",
       "rate": null,
       "total": 10,
       "unit": "it",
       "unit_divisor": 1000,
       "unit_scale": false
      },
      "application/vnd.jupyter.widget-view+json": {
       "model_id": "9d40e4146ff6467c940839635c9bb174",
       "version_major": 2,
       "version_minor": 0
      },
      "text/plain": [
       "  0%|          | 0/10 [00:00<?, ?it/s]"
      ]
     },
     "metadata": {},
     "output_type": "display_data"
    },
    {
     "name": "stdout",
     "output_type": "stream",
     "text": [
      "Generating traces...\n"
     ]
    },
    {
     "name": "stderr",
     "output_type": "stream",
     "text": [
      "\n",
      "\u001b[A\n",
      "\u001b[A\n",
      "\u001b[A\n",
      "\u001b[A\n",
      "\u001b[A\n",
      "\u001b[A\n",
      "100%|██████████| 100/100 [00:00<00:00, 119.94it/s]\n"
     ]
    },
    {
     "name": "stdout",
     "output_type": "stream",
     "text": [
      "Spent 0.9 s to generate 96 traces\n",
      "Labels:  [0. 1. 2. 3.]\n",
      "exporting pickled dictionary to: F:\\BenchFRET_Simulated_Comparison_Data\\4 states\\pickledict\\noise_0.25_rate_0.05.pkl\n",
      "Generating traces...\n"
     ]
    },
    {
     "name": "stderr",
     "output_type": "stream",
     "text": [
      "\n",
      "\u001b[A\n",
      "\u001b[A\n",
      "\u001b[A\n",
      "\u001b[A\n",
      "\u001b[A\n",
      "\u001b[A\n",
      "\u001b[A\n",
      "100%|██████████| 100/100 [00:00<00:00, 107.53it/s]\n"
     ]
    },
    {
     "name": "stdout",
     "output_type": "stream",
     "text": [
      "Spent 1.0 s to generate 100 traces\n",
      "Labels:  [0. 1. 2. 3.]\n",
      "exporting pickled dictionary to: F:\\BenchFRET_Simulated_Comparison_Data\\4 states\\pickledict\\noise_0.25_rate_0.10.pkl\n",
      "Generating traces...\n"
     ]
    },
    {
     "name": "stderr",
     "output_type": "stream",
     "text": [
      "\n",
      "\u001b[A\n",
      "\u001b[A\n",
      "\u001b[A\n",
      "\u001b[A\n",
      "\u001b[A\n",
      "\u001b[A\n",
      "\u001b[A\n",
      "100%|██████████| 100/100 [00:00<00:00, 125.43it/s]\n"
     ]
    },
    {
     "name": "stdout",
     "output_type": "stream",
     "text": [
      "Spent 0.8 s to generate 99 traces\n",
      "Labels:  [0. 1. 2. 3.]\n",
      "exporting pickled dictionary to: F:\\BenchFRET_Simulated_Comparison_Data\\4 states\\pickledict\\noise_0.25_rate_0.15.pkl\n",
      "Generating traces...\n"
     ]
    },
    {
     "name": "stderr",
     "output_type": "stream",
     "text": [
      "\n",
      "\u001b[A\n",
      "\u001b[A\n",
      "\u001b[A\n",
      "\u001b[A\n",
      "\u001b[A\n",
      "\u001b[A\n",
      "\u001b[A\n",
      "100%|██████████| 100/100 [00:00<00:00, 118.33it/s]\n"
     ]
    },
    {
     "name": "stdout",
     "output_type": "stream",
     "text": [
      "Spent 0.9 s to generate 99 traces\n",
      "Labels:  [0. 1. 2. 3.]\n",
      "exporting pickled dictionary to: F:\\BenchFRET_Simulated_Comparison_Data\\4 states\\pickledict\\noise_0.25_rate_0.20.pkl\n",
      "Generating traces...\n"
     ]
    },
    {
     "name": "stderr",
     "output_type": "stream",
     "text": [
      "\n",
      "\u001b[A\n",
      "\u001b[A\n",
      "\u001b[A\n",
      "\u001b[A\n",
      "\u001b[A\n",
      "\u001b[A\n",
      "\u001b[A\n",
      "\u001b[A\n",
      "100%|██████████| 100/100 [00:00<00:00, 112.55it/s]\n"
     ]
    },
    {
     "name": "stdout",
     "output_type": "stream",
     "text": [
      "Spent 0.9 s to generate 98 traces\n",
      "Labels:  [0. 1. 2. 3.]\n",
      "exporting pickled dictionary to: F:\\BenchFRET_Simulated_Comparison_Data\\4 states\\pickledict\\noise_0.25_rate_0.25.pkl\n",
      "Generating traces...\n"
     ]
    },
    {
     "name": "stderr",
     "output_type": "stream",
     "text": [
      "\n",
      "\u001b[A\n",
      "\u001b[A\n",
      "\u001b[A\n",
      "\u001b[A\n",
      "\u001b[A\n",
      "\u001b[A\n",
      "\u001b[A\n",
      "\u001b[A\n",
      "100%|██████████| 100/100 [00:00<00:00, 112.30it/s]\n"
     ]
    },
    {
     "name": "stdout",
     "output_type": "stream",
     "text": [
      "Spent 0.9 s to generate 98 traces\n",
      "Labels:  [0. 1. 2. 3.]\n",
      "exporting pickled dictionary to: F:\\BenchFRET_Simulated_Comparison_Data\\4 states\\pickledict\\noise_0.25_rate_0.30.pkl\n",
      "Generating traces...\n"
     ]
    },
    {
     "name": "stderr",
     "output_type": "stream",
     "text": [
      "\n",
      "\u001b[A\n",
      "\u001b[A\n",
      "\u001b[A\n",
      "\u001b[A\n",
      "\u001b[A\n",
      "\u001b[A\n",
      "\u001b[A\n",
      "\u001b[A\n",
      "100%|██████████| 100/100 [00:00<00:00, 113.56it/s]\n"
     ]
    },
    {
     "name": "stdout",
     "output_type": "stream",
     "text": [
      "Spent 0.9 s to generate 98 traces\n",
      "Labels:  [0. 1. 2. 3.]\n",
      "exporting pickled dictionary to: F:\\BenchFRET_Simulated_Comparison_Data\\4 states\\pickledict\\noise_0.25_rate_0.35.pkl\n",
      "Generating traces...\n"
     ]
    },
    {
     "name": "stderr",
     "output_type": "stream",
     "text": [
      "\n",
      "\u001b[A\n",
      "\u001b[A\n",
      "\u001b[A\n",
      "\u001b[A\n",
      "\u001b[A\n",
      "\u001b[A\n",
      "\u001b[A\n",
      "100%|██████████| 100/100 [00:00<00:00, 127.06it/s]\n"
     ]
    },
    {
     "name": "stdout",
     "output_type": "stream",
     "text": [
      "Spent 0.8 s to generate 96 traces\n",
      "Labels:  [0. 1. 2. 3.]\n",
      "exporting pickled dictionary to: F:\\BenchFRET_Simulated_Comparison_Data\\4 states\\pickledict\\noise_0.25_rate_0.40.pkl\n",
      "Generating traces...\n"
     ]
    },
    {
     "name": "stderr",
     "output_type": "stream",
     "text": [
      "\n",
      "\u001b[A\n",
      "\u001b[A\n",
      "\u001b[A\n",
      "\u001b[A\n",
      "\u001b[A\n",
      "\u001b[A\n",
      "\u001b[A\n",
      "100%|██████████| 100/100 [00:00<00:00, 135.86it/s]\n"
     ]
    },
    {
     "name": "stdout",
     "output_type": "stream",
     "text": [
      "Spent 0.8 s to generate 99 traces\n",
      "Labels:  [0. 1. 2. 3.]\n",
      "exporting pickled dictionary to: F:\\BenchFRET_Simulated_Comparison_Data\\4 states\\pickledict\\noise_0.25_rate_0.45.pkl\n",
      "Generating traces...\n"
     ]
    },
    {
     "name": "stderr",
     "output_type": "stream",
     "text": [
      "\n",
      "\u001b[A\n",
      "\u001b[A\n",
      "\u001b[A\n",
      "\u001b[A\n",
      "\u001b[A\n",
      "\u001b[A\n",
      "100%|██████████| 100/100 [00:00<00:00, 131.49it/s]\n"
     ]
    },
    {
     "name": "stdout",
     "output_type": "stream",
     "text": [
      "Spent 0.8 s to generate 97 traces\n",
      "Labels:  [0. 1. 2. 3.]\n",
      "exporting pickled dictionary to: F:\\BenchFRET_Simulated_Comparison_Data\\4 states\\pickledict\\noise_0.25_rate_0.50.pkl\n"
     ]
    },
    {
     "data": {
      "application/json": {
       "ascii": false,
       "bar_format": null,
       "colour": null,
       "elapsed": 0.0029997825622558594,
       "initial": 0,
       "n": 0,
       "ncols": null,
       "nrows": null,
       "postfix": null,
       "prefix": "",
       "rate": null,
       "total": 10,
       "unit": "it",
       "unit_divisor": 1000,
       "unit_scale": false
      },
      "application/vnd.jupyter.widget-view+json": {
       "model_id": "fc774c9e6af34e608742bf41656e6444",
       "version_major": 2,
       "version_minor": 0
      },
      "text/plain": [
       "  0%|          | 0/10 [00:00<?, ?it/s]"
      ]
     },
     "metadata": {},
     "output_type": "display_data"
    },
    {
     "name": "stdout",
     "output_type": "stream",
     "text": [
      "Generating traces...\n"
     ]
    },
    {
     "name": "stderr",
     "output_type": "stream",
     "text": [
      "\n",
      "\u001b[A\n",
      "\u001b[A\n",
      "\u001b[A\n",
      "\u001b[A\n",
      "\u001b[A\n",
      "\u001b[A\n",
      "\u001b[A\n",
      "100%|██████████| 100/100 [00:00<00:00, 136.14it/s]\n"
     ]
    },
    {
     "name": "stdout",
     "output_type": "stream",
     "text": [
      "Spent 0.8 s to generate 97 traces\n",
      "Labels:  [0. 1. 2. 3.]\n",
      "exporting pickled dictionary to: F:\\BenchFRET_Simulated_Comparison_Data\\4 states\\pickledict\\noise_0.30_rate_0.05.pkl\n",
      "Generating traces...\n"
     ]
    },
    {
     "name": "stderr",
     "output_type": "stream",
     "text": [
      "\n",
      "\u001b[A\n",
      "\u001b[A\n",
      "\u001b[A\n",
      "\u001b[A\n",
      "\u001b[A\n",
      "\u001b[A\n",
      "\u001b[A\n",
      "100%|██████████| 100/100 [00:00<00:00, 128.37it/s]\n"
     ]
    },
    {
     "name": "stdout",
     "output_type": "stream",
     "text": [
      "Spent 0.8 s to generate 97 traces\n",
      "Labels:  [0. 1. 2. 3.]\n",
      "exporting pickled dictionary to: F:\\BenchFRET_Simulated_Comparison_Data\\4 states\\pickledict\\noise_0.30_rate_0.10.pkl\n",
      "Generating traces...\n"
     ]
    },
    {
     "name": "stderr",
     "output_type": "stream",
     "text": [
      "\n",
      "\u001b[A\n",
      "\u001b[A\n",
      "\u001b[A\n",
      "\u001b[A\n",
      "\u001b[A\n",
      "\u001b[A\n",
      "\u001b[A\n",
      "100%|██████████| 100/100 [00:00<00:00, 120.47it/s]\n"
     ]
    },
    {
     "name": "stdout",
     "output_type": "stream",
     "text": [
      "Spent 0.9 s to generate 100 traces\n",
      "Labels:  [0. 1. 2. 3.]\n",
      "exporting pickled dictionary to: F:\\BenchFRET_Simulated_Comparison_Data\\4 states\\pickledict\\noise_0.30_rate_0.15.pkl\n",
      "Generating traces...\n"
     ]
    },
    {
     "name": "stderr",
     "output_type": "stream",
     "text": [
      "\n",
      "\u001b[A\n",
      "\u001b[A\n",
      "\u001b[A\n",
      "\u001b[A\n",
      "\u001b[A\n",
      "\u001b[A\n",
      "100%|██████████| 100/100 [00:00<00:00, 132.09it/s]\n"
     ]
    },
    {
     "name": "stdout",
     "output_type": "stream",
     "text": [
      "Spent 0.8 s to generate 100 traces\n",
      "Labels:  [0. 1. 2. 3.]\n",
      "exporting pickled dictionary to: F:\\BenchFRET_Simulated_Comparison_Data\\4 states\\pickledict\\noise_0.30_rate_0.20.pkl\n",
      "Generating traces...\n"
     ]
    },
    {
     "name": "stderr",
     "output_type": "stream",
     "text": [
      "\n",
      "\u001b[A\n",
      "\u001b[A\n",
      "\u001b[A\n",
      "\u001b[A\n",
      "\u001b[A\n",
      "\u001b[A\n",
      "100%|██████████| 100/100 [00:00<00:00, 119.40it/s]\n"
     ]
    },
    {
     "name": "stdout",
     "output_type": "stream",
     "text": [
      "Spent 0.9 s to generate 97 traces\n",
      "Labels:  [0. 1. 2. 3.]\n",
      "exporting pickled dictionary to: F:\\BenchFRET_Simulated_Comparison_Data\\4 states\\pickledict\\noise_0.30_rate_0.25.pkl\n",
      "Generating traces...\n"
     ]
    },
    {
     "name": "stderr",
     "output_type": "stream",
     "text": [
      "\n",
      "\u001b[A\n",
      "\u001b[A\n",
      "\u001b[A\n",
      "\u001b[A\n",
      "\u001b[A\n",
      "\u001b[A\n",
      "\u001b[A\n",
      "100%|██████████| 100/100 [00:00<00:00, 128.04it/s]\n"
     ]
    },
    {
     "name": "stdout",
     "output_type": "stream",
     "text": [
      "Spent 0.8 s to generate 97 traces\n",
      "Labels:  [0. 1. 2. 3.]\n",
      "exporting pickled dictionary to: F:\\BenchFRET_Simulated_Comparison_Data\\4 states\\pickledict\\noise_0.30_rate_0.30.pkl\n",
      "Generating traces...\n"
     ]
    },
    {
     "name": "stderr",
     "output_type": "stream",
     "text": [
      "\n",
      "\u001b[A\n",
      "\u001b[A\n",
      "\u001b[A\n",
      "\u001b[A\n",
      "\u001b[A\n",
      "\u001b[A\n",
      "\u001b[A\n",
      "100%|██████████| 100/100 [00:00<00:00, 129.87it/s]\n"
     ]
    },
    {
     "name": "stdout",
     "output_type": "stream",
     "text": [
      "Spent 0.8 s to generate 98 traces\n",
      "Labels:  [0. 1. 2. 3.]\n",
      "exporting pickled dictionary to: F:\\BenchFRET_Simulated_Comparison_Data\\4 states\\pickledict\\noise_0.30_rate_0.35.pkl\n",
      "Generating traces...\n"
     ]
    },
    {
     "name": "stderr",
     "output_type": "stream",
     "text": [
      "\n",
      "\u001b[A\n",
      "\u001b[A\n",
      "\u001b[A\n",
      "\u001b[A\n",
      "\u001b[A\n",
      "\u001b[A\n",
      "\u001b[A\n",
      "100%|██████████| 100/100 [00:00<00:00, 119.62it/s]\n"
     ]
    },
    {
     "name": "stdout",
     "output_type": "stream",
     "text": [
      "Spent 0.9 s to generate 99 traces\n",
      "Labels:  [0. 1. 2. 3.]\n",
      "exporting pickled dictionary to: F:\\BenchFRET_Simulated_Comparison_Data\\4 states\\pickledict\\noise_0.30_rate_0.40.pkl\n",
      "Generating traces...\n"
     ]
    },
    {
     "name": "stderr",
     "output_type": "stream",
     "text": [
      "\n",
      "\u001b[A\n",
      "\u001b[A\n",
      "\u001b[A\n",
      "\u001b[A\n",
      "\u001b[A\n",
      "\u001b[A\n",
      "100%|██████████| 100/100 [00:00<00:00, 142.36it/s]\n"
     ]
    },
    {
     "name": "stdout",
     "output_type": "stream",
     "text": [
      "Spent 0.7 s to generate 100 traces\n",
      "Labels:  [0. 1. 2. 3.]\n",
      "exporting pickled dictionary to: F:\\BenchFRET_Simulated_Comparison_Data\\4 states\\pickledict\\noise_0.30_rate_0.45.pkl\n",
      "Generating traces...\n"
     ]
    },
    {
     "name": "stderr",
     "output_type": "stream",
     "text": [
      "\n",
      "\u001b[A\n",
      "\u001b[A\n",
      "\u001b[A\n",
      "\u001b[A\n",
      "\u001b[A\n",
      "\u001b[A\n",
      "\u001b[A\n",
      "100%|██████████| 100/100 [00:00<00:00, 134.60it/s]"
     ]
    },
    {
     "name": "stdout",
     "output_type": "stream",
     "text": [
      "Spent 0.8 s to generate 99 traces\n",
      "Labels:  [0. 1. 2. 3.]\n",
      "exporting pickled dictionary to: F:\\BenchFRET_Simulated_Comparison_Data\\4 states\\pickledict\\noise_0.30_rate_0.50.pkl\n"
     ]
    },
    {
     "name": "stderr",
     "output_type": "stream",
     "text": [
      "\n"
     ]
    },
    {
     "data": {
      "application/json": {
       "ascii": false,
       "bar_format": null,
       "colour": null,
       "elapsed": 0.003999948501586914,
       "initial": 0,
       "n": 0,
       "ncols": null,
       "nrows": null,
       "postfix": null,
       "prefix": "",
       "rate": null,
       "total": 10,
       "unit": "it",
       "unit_divisor": 1000,
       "unit_scale": false
      },
      "application/vnd.jupyter.widget-view+json": {
       "model_id": "6b9688ade81840d7822291b55bcf5484",
       "version_major": 2,
       "version_minor": 0
      },
      "text/plain": [
       "  0%|          | 0/10 [00:00<?, ?it/s]"
      ]
     },
     "metadata": {},
     "output_type": "display_data"
    },
    {
     "name": "stdout",
     "output_type": "stream",
     "text": [
      "Generating traces...\n"
     ]
    },
    {
     "name": "stderr",
     "output_type": "stream",
     "text": [
      "\n",
      "\u001b[A\n",
      "\u001b[A\n",
      "\u001b[A\n",
      "\u001b[A\n",
      "\u001b[A\n",
      "\u001b[A\n",
      "\u001b[A\n",
      "100%|██████████| 100/100 [00:00<00:00, 123.18it/s]\n"
     ]
    },
    {
     "name": "stdout",
     "output_type": "stream",
     "text": [
      "Spent 0.8 s to generate 98 traces\n",
      "Labels:  [0. 1. 2. 3.]\n",
      "exporting pickled dictionary to: F:\\BenchFRET_Simulated_Comparison_Data\\4 states\\pickledict\\noise_0.35_rate_0.05.pkl\n",
      "Generating traces...\n"
     ]
    },
    {
     "name": "stderr",
     "output_type": "stream",
     "text": [
      "\n",
      "\u001b[A\n",
      "\u001b[A\n",
      "\u001b[A\n",
      "\u001b[A\n",
      "\u001b[A\n",
      "\u001b[A\n",
      "100%|██████████| 100/100 [00:00<00:00, 136.01it/s]\n"
     ]
    },
    {
     "name": "stdout",
     "output_type": "stream",
     "text": [
      "Spent 0.8 s to generate 93 traces\n",
      "Labels:  [0. 1. 2. 3.]\n",
      "exporting pickled dictionary to: F:\\BenchFRET_Simulated_Comparison_Data\\4 states\\pickledict\\noise_0.35_rate_0.10.pkl\n",
      "Generating traces...\n"
     ]
    },
    {
     "name": "stderr",
     "output_type": "stream",
     "text": [
      "\n",
      "\u001b[A\n",
      "\u001b[A\n",
      "\u001b[A\n",
      "\u001b[A\n",
      "\u001b[A\n",
      "\u001b[A\n",
      "100%|██████████| 100/100 [00:00<00:00, 138.49it/s]\n"
     ]
    },
    {
     "name": "stdout",
     "output_type": "stream",
     "text": [
      "Spent 0.8 s to generate 98 traces\n",
      "Labels:  [0. 1. 2. 3.]\n",
      "exporting pickled dictionary to: F:\\BenchFRET_Simulated_Comparison_Data\\4 states\\pickledict\\noise_0.35_rate_0.15.pkl\n",
      "Generating traces...\n"
     ]
    },
    {
     "name": "stderr",
     "output_type": "stream",
     "text": [
      "\n",
      "\u001b[A\n",
      "\u001b[A\n",
      "\u001b[A\n",
      "\u001b[A\n",
      "\u001b[A\n",
      "\u001b[A\n",
      "\u001b[A\n",
      "100%|██████████| 100/100 [00:00<00:00, 125.27it/s]\n"
     ]
    },
    {
     "name": "stdout",
     "output_type": "stream",
     "text": [
      "Spent 0.8 s to generate 95 traces\n",
      "Labels:  [0. 1. 2. 3.]\n",
      "exporting pickled dictionary to: F:\\BenchFRET_Simulated_Comparison_Data\\4 states\\pickledict\\noise_0.35_rate_0.20.pkl\n",
      "Generating traces...\n"
     ]
    },
    {
     "name": "stderr",
     "output_type": "stream",
     "text": [
      "\n",
      "\u001b[A\n",
      "\u001b[A\n",
      "\u001b[A\n",
      "\u001b[A\n",
      "\u001b[A\n",
      "\u001b[A\n",
      "100%|██████████| 100/100 [00:00<00:00, 135.55it/s]\n"
     ]
    },
    {
     "name": "stdout",
     "output_type": "stream",
     "text": [
      "Spent 0.8 s to generate 97 traces\n",
      "Labels:  [0. 1. 2. 3.]\n",
      "exporting pickled dictionary to: F:\\BenchFRET_Simulated_Comparison_Data\\4 states\\pickledict\\noise_0.35_rate_0.25.pkl\n",
      "Generating traces...\n"
     ]
    },
    {
     "name": "stderr",
     "output_type": "stream",
     "text": [
      "\n",
      "\u001b[A\n",
      "\u001b[A\n",
      "\u001b[A\n",
      "\u001b[A\n",
      "\u001b[A\n",
      "\u001b[A\n",
      "100%|██████████| 100/100 [00:00<00:00, 140.05it/s]\n"
     ]
    },
    {
     "name": "stdout",
     "output_type": "stream",
     "text": [
      "Spent 0.7 s to generate 95 traces\n",
      "Labels:  [0. 1. 2. 3.]\n",
      "exporting pickled dictionary to: F:\\BenchFRET_Simulated_Comparison_Data\\4 states\\pickledict\\noise_0.35_rate_0.30.pkl\n",
      "Generating traces...\n"
     ]
    },
    {
     "name": "stderr",
     "output_type": "stream",
     "text": [
      "\n",
      "\u001b[A\n",
      "\u001b[A\n",
      "\u001b[A\n",
      "\u001b[A\n",
      "\u001b[A\n",
      "\u001b[A\n",
      "100%|██████████| 100/100 [00:00<00:00, 130.38it/s]\n"
     ]
    },
    {
     "name": "stdout",
     "output_type": "stream",
     "text": [
      "Spent 0.8 s to generate 100 traces\n",
      "Labels:  [0. 1. 2. 3.]\n",
      "exporting pickled dictionary to: F:\\BenchFRET_Simulated_Comparison_Data\\4 states\\pickledict\\noise_0.35_rate_0.35.pkl\n",
      "Generating traces...\n"
     ]
    },
    {
     "name": "stderr",
     "output_type": "stream",
     "text": [
      "\n",
      "\u001b[A\n",
      "\u001b[A\n",
      "\u001b[A\n",
      "\u001b[A\n",
      "\u001b[A\n",
      "\u001b[A\n",
      "\u001b[A\n",
      "100%|██████████| 100/100 [00:00<00:00, 122.02it/s]\n"
     ]
    },
    {
     "name": "stdout",
     "output_type": "stream",
     "text": [
      "Spent 0.8 s to generate 98 traces\n",
      "Labels:  [0. 1. 2. 3.]\n",
      "exporting pickled dictionary to: F:\\BenchFRET_Simulated_Comparison_Data\\4 states\\pickledict\\noise_0.35_rate_0.40.pkl\n",
      "Generating traces...\n"
     ]
    },
    {
     "name": "stderr",
     "output_type": "stream",
     "text": [
      "\n",
      "\u001b[A\n",
      "\u001b[A\n",
      "\u001b[A\n",
      "\u001b[A\n",
      "\u001b[A\n",
      "\u001b[A\n",
      "100%|██████████| 100/100 [00:00<00:00, 143.68it/s]\n"
     ]
    },
    {
     "name": "stdout",
     "output_type": "stream",
     "text": [
      "Spent 0.7 s to generate 97 traces\n",
      "Labels:  [0. 1. 2. 3.]\n",
      "exporting pickled dictionary to: F:\\BenchFRET_Simulated_Comparison_Data\\4 states\\pickledict\\noise_0.35_rate_0.45.pkl\n",
      "Generating traces...\n"
     ]
    },
    {
     "name": "stderr",
     "output_type": "stream",
     "text": [
      "\n",
      "\u001b[A\n",
      "\u001b[A\n",
      "\u001b[A\n",
      "\u001b[A\n",
      "\u001b[A\n",
      "\u001b[A\n",
      "\u001b[A\n",
      "100%|██████████| 100/100 [00:00<00:00, 126.10it/s]\n"
     ]
    },
    {
     "name": "stdout",
     "output_type": "stream",
     "text": [
      "Spent 0.8 s to generate 99 traces\n",
      "Labels:  [0. 1. 2. 3.]\n",
      "exporting pickled dictionary to: F:\\BenchFRET_Simulated_Comparison_Data\\4 states\\pickledict\\noise_0.35_rate_0.50.pkl\n"
     ]
    },
    {
     "data": {
      "application/json": {
       "ascii": false,
       "bar_format": null,
       "colour": null,
       "elapsed": 0.0029954910278320312,
       "initial": 0,
       "n": 0,
       "ncols": null,
       "nrows": null,
       "postfix": null,
       "prefix": "",
       "rate": null,
       "total": 10,
       "unit": "it",
       "unit_divisor": 1000,
       "unit_scale": false
      },
      "application/vnd.jupyter.widget-view+json": {
       "model_id": "74d2588e31c34878b7e07c268fdeac1f",
       "version_major": 2,
       "version_minor": 0
      },
      "text/plain": [
       "  0%|          | 0/10 [00:00<?, ?it/s]"
      ]
     },
     "metadata": {},
     "output_type": "display_data"
    },
    {
     "name": "stdout",
     "output_type": "stream",
     "text": [
      "Generating traces...\n"
     ]
    },
    {
     "name": "stderr",
     "output_type": "stream",
     "text": [
      "\n",
      "\u001b[A\n",
      "\u001b[A\n",
      "\u001b[A\n",
      "\u001b[A\n",
      "\u001b[A\n",
      "\u001b[A\n",
      "100%|██████████| 100/100 [00:00<00:00, 143.06it/s]\n"
     ]
    },
    {
     "name": "stdout",
     "output_type": "stream",
     "text": [
      "Spent 0.7 s to generate 97 traces\n",
      "Labels:  [0. 1. 2. 3.]\n",
      "exporting pickled dictionary to: F:\\BenchFRET_Simulated_Comparison_Data\\4 states\\pickledict\\noise_0.40_rate_0.05.pkl\n",
      "Generating traces...\n"
     ]
    },
    {
     "name": "stderr",
     "output_type": "stream",
     "text": [
      "\n",
      "\u001b[A\n",
      "\u001b[A\n",
      "\u001b[A\n",
      "\u001b[A\n",
      "\u001b[A\n",
      "\u001b[A\n",
      "100%|██████████| 100/100 [00:00<00:00, 128.21it/s]\n"
     ]
    },
    {
     "name": "stdout",
     "output_type": "stream",
     "text": [
      "Spent 0.8 s to generate 95 traces\n",
      "Labels:  [0. 1. 2. 3.]\n",
      "exporting pickled dictionary to: F:\\BenchFRET_Simulated_Comparison_Data\\4 states\\pickledict\\noise_0.40_rate_0.10.pkl\n",
      "Generating traces...\n"
     ]
    },
    {
     "name": "stderr",
     "output_type": "stream",
     "text": [
      "\n",
      "\u001b[A\n",
      "\u001b[A\n",
      "\u001b[A\n",
      "\u001b[A\n",
      "\u001b[A\n",
      "\u001b[A\n",
      "100%|██████████| 100/100 [00:00<00:00, 144.19it/s]\n"
     ]
    },
    {
     "name": "stdout",
     "output_type": "stream",
     "text": [
      "Spent 0.7 s to generate 96 traces\n",
      "Labels:  [0. 1. 2. 3.]\n",
      "exporting pickled dictionary to: F:\\BenchFRET_Simulated_Comparison_Data\\4 states\\pickledict\\noise_0.40_rate_0.15.pkl\n",
      "Generating traces...\n"
     ]
    },
    {
     "name": "stderr",
     "output_type": "stream",
     "text": [
      "\n",
      "\u001b[A\n",
      "\u001b[A\n",
      "\u001b[A\n",
      "\u001b[A\n",
      "\u001b[A\n",
      "\u001b[A\n",
      "100%|██████████| 100/100 [00:00<00:00, 139.08it/s]\n"
     ]
    },
    {
     "name": "stdout",
     "output_type": "stream",
     "text": [
      "Spent 0.7 s to generate 95 traces\n",
      "Labels:  [0. 1. 2. 3.]\n",
      "exporting pickled dictionary to: F:\\BenchFRET_Simulated_Comparison_Data\\4 states\\pickledict\\noise_0.40_rate_0.20.pkl\n",
      "Generating traces...\n"
     ]
    },
    {
     "name": "stderr",
     "output_type": "stream",
     "text": [
      "\n",
      "\u001b[A\n",
      "\u001b[A\n",
      "\u001b[A\n",
      "\u001b[A\n",
      "\u001b[A\n",
      "\u001b[A\n",
      "\u001b[A\n",
      "100%|██████████| 100/100 [00:00<00:00, 123.17it/s]\n"
     ]
    },
    {
     "name": "stdout",
     "output_type": "stream",
     "text": [
      "Spent 0.8 s to generate 96 traces\n",
      "Labels:  [0. 1. 2. 3.]\n",
      "exporting pickled dictionary to: F:\\BenchFRET_Simulated_Comparison_Data\\4 states\\pickledict\\noise_0.40_rate_0.25.pkl\n",
      "Generating traces...\n"
     ]
    },
    {
     "name": "stderr",
     "output_type": "stream",
     "text": [
      "\n",
      "\u001b[A\n",
      "\u001b[A\n",
      "\u001b[A\n",
      "\u001b[A\n",
      "\u001b[A\n",
      "\u001b[A\n",
      "100%|██████████| 100/100 [00:00<00:00, 141.82it/s]\n"
     ]
    },
    {
     "name": "stdout",
     "output_type": "stream",
     "text": [
      "Spent 0.7 s to generate 94 traces\n",
      "Labels:  [0. 1. 2. 3.]\n",
      "exporting pickled dictionary to: F:\\BenchFRET_Simulated_Comparison_Data\\4 states\\pickledict\\noise_0.40_rate_0.30.pkl\n",
      "Generating traces...\n"
     ]
    },
    {
     "name": "stderr",
     "output_type": "stream",
     "text": [
      "\n",
      "\u001b[A\n",
      "\u001b[A\n",
      "\u001b[A\n",
      "\u001b[A\n",
      "\u001b[A\n",
      "\u001b[A\n",
      "100%|██████████| 100/100 [00:00<00:00, 132.27it/s]\n"
     ]
    },
    {
     "name": "stdout",
     "output_type": "stream",
     "text": [
      "Spent 0.8 s to generate 93 traces\n",
      "Labels:  [0. 1. 2. 3.]\n",
      "exporting pickled dictionary to: F:\\BenchFRET_Simulated_Comparison_Data\\4 states\\pickledict\\noise_0.40_rate_0.35.pkl\n",
      "Generating traces...\n"
     ]
    },
    {
     "name": "stderr",
     "output_type": "stream",
     "text": [
      "\n",
      "\u001b[A\n",
      "\u001b[A\n",
      "\u001b[A\n",
      "\u001b[A\n",
      "\u001b[A\n",
      "\u001b[A\n",
      "\u001b[A\n",
      "100%|██████████| 100/100 [00:00<00:00, 134.77it/s]\n"
     ]
    },
    {
     "name": "stdout",
     "output_type": "stream",
     "text": [
      "Spent 0.8 s to generate 99 traces\n",
      "Labels:  [0. 1. 2. 3.]\n",
      "exporting pickled dictionary to: F:\\BenchFRET_Simulated_Comparison_Data\\4 states\\pickledict\\noise_0.40_rate_0.40.pkl\n",
      "Generating traces...\n"
     ]
    },
    {
     "name": "stderr",
     "output_type": "stream",
     "text": [
      "\n",
      "\u001b[A\n",
      "\u001b[A\n",
      "\u001b[A\n",
      "\u001b[A\n",
      "\u001b[A\n",
      "\u001b[A\n",
      "\u001b[A\n",
      "100%|██████████| 100/100 [00:00<00:00, 135.50it/s]\n"
     ]
    },
    {
     "name": "stdout",
     "output_type": "stream",
     "text": [
      "Spent 0.8 s to generate 96 traces\n",
      "Labels:  [0. 1. 2. 3.]\n",
      "exporting pickled dictionary to: F:\\BenchFRET_Simulated_Comparison_Data\\4 states\\pickledict\\noise_0.40_rate_0.45.pkl\n",
      "Generating traces...\n"
     ]
    },
    {
     "name": "stderr",
     "output_type": "stream",
     "text": [
      "\n",
      "\u001b[A\n",
      "\u001b[A\n",
      "\u001b[A\n",
      "\u001b[A\n",
      "\u001b[A\n",
      "\u001b[A\n",
      "\u001b[A\n",
      "100%|██████████| 100/100 [00:00<00:00, 123.37it/s]\n"
     ]
    },
    {
     "name": "stdout",
     "output_type": "stream",
     "text": [
      "Spent 0.8 s to generate 100 traces\n",
      "Labels:  [0. 1. 2. 3.]\n",
      "exporting pickled dictionary to: F:\\BenchFRET_Simulated_Comparison_Data\\4 states\\pickledict\\noise_0.40_rate_0.50.pkl\n"
     ]
    },
    {
     "data": {
      "application/json": {
       "ascii": false,
       "bar_format": null,
       "colour": null,
       "elapsed": 0.003997802734375,
       "initial": 0,
       "n": 0,
       "ncols": null,
       "nrows": null,
       "postfix": null,
       "prefix": "",
       "rate": null,
       "total": 10,
       "unit": "it",
       "unit_divisor": 1000,
       "unit_scale": false
      },
      "application/vnd.jupyter.widget-view+json": {
       "model_id": "bd52e2ad0011495ca51ae2eecd8ce087",
       "version_major": 2,
       "version_minor": 0
      },
      "text/plain": [
       "  0%|          | 0/10 [00:00<?, ?it/s]"
      ]
     },
     "metadata": {},
     "output_type": "display_data"
    },
    {
     "name": "stdout",
     "output_type": "stream",
     "text": [
      "Generating traces...\n"
     ]
    },
    {
     "name": "stderr",
     "output_type": "stream",
     "text": [
      "\n",
      "\u001b[A\n",
      "\u001b[A\n",
      "\u001b[A\n",
      "\u001b[A\n",
      "\u001b[A\n",
      "\u001b[A\n",
      "\u001b[A\n",
      "100%|██████████| 100/100 [00:00<00:00, 110.54it/s]\n"
     ]
    },
    {
     "name": "stdout",
     "output_type": "stream",
     "text": [
      "Spent 0.9 s to generate 98 traces\n",
      "Labels:  [0. 1. 2. 3.]\n",
      "exporting pickled dictionary to: F:\\BenchFRET_Simulated_Comparison_Data\\4 states\\pickledict\\noise_0.45_rate_0.05.pkl\n",
      "Generating traces...\n"
     ]
    },
    {
     "name": "stderr",
     "output_type": "stream",
     "text": [
      "\n",
      "\u001b[A\n",
      "\u001b[A\n",
      "\u001b[A\n",
      "\u001b[A\n",
      "\u001b[A\n",
      "\u001b[A\n",
      "100%|██████████| 100/100 [00:00<00:00, 131.37it/s]\n"
     ]
    },
    {
     "name": "stdout",
     "output_type": "stream",
     "text": [
      "Spent 0.8 s to generate 98 traces\n",
      "Labels:  [0. 1. 2. 3.]\n",
      "exporting pickled dictionary to: F:\\BenchFRET_Simulated_Comparison_Data\\4 states\\pickledict\\noise_0.45_rate_0.10.pkl\n",
      "Generating traces...\n"
     ]
    },
    {
     "name": "stderr",
     "output_type": "stream",
     "text": [
      "\n",
      "\u001b[A\n",
      "\u001b[A\n",
      "\u001b[A\n",
      "\u001b[A\n",
      "\u001b[A\n",
      "\u001b[A\n",
      "\u001b[A\n",
      "100%|██████████| 100/100 [00:00<00:00, 126.87it/s]\n"
     ]
    },
    {
     "name": "stdout",
     "output_type": "stream",
     "text": [
      "Spent 0.8 s to generate 99 traces\n",
      "Labels:  [0. 1. 2. 3.]\n",
      "exporting pickled dictionary to: F:\\BenchFRET_Simulated_Comparison_Data\\4 states\\pickledict\\noise_0.45_rate_0.15.pkl\n",
      "Generating traces...\n"
     ]
    },
    {
     "name": "stderr",
     "output_type": "stream",
     "text": [
      "\n",
      "\u001b[A\n",
      "\u001b[A\n",
      "\u001b[A\n",
      "\u001b[A\n",
      "\u001b[A\n",
      "\u001b[A\n",
      "\u001b[A\n",
      "\u001b[A\n",
      "100%|██████████| 100/100 [00:00<00:00, 108.70it/s]\n"
     ]
    },
    {
     "name": "stdout",
     "output_type": "stream",
     "text": [
      "Spent 1.0 s to generate 95 traces\n",
      "Labels:  [0. 1. 2. 3.]\n",
      "exporting pickled dictionary to: F:\\BenchFRET_Simulated_Comparison_Data\\4 states\\pickledict\\noise_0.45_rate_0.20.pkl\n",
      "Generating traces...\n"
     ]
    },
    {
     "name": "stderr",
     "output_type": "stream",
     "text": [
      "\n",
      "\u001b[A\n",
      "\u001b[A\n",
      "\u001b[A\n",
      "\u001b[A\n",
      "\u001b[A\n",
      "\u001b[A\n",
      "\u001b[A\n",
      "100%|██████████| 100/100 [00:00<00:00, 120.79it/s]\n"
     ]
    },
    {
     "name": "stdout",
     "output_type": "stream",
     "text": [
      "Spent 0.9 s to generate 98 traces\n",
      "Labels:  [0. 1. 2. 3.]\n",
      "exporting pickled dictionary to: F:\\BenchFRET_Simulated_Comparison_Data\\4 states\\pickledict\\noise_0.45_rate_0.25.pkl\n",
      "Generating traces...\n"
     ]
    },
    {
     "name": "stderr",
     "output_type": "stream",
     "text": [
      "\n",
      "\u001b[A\n",
      "\u001b[A\n",
      "\u001b[A\n",
      "\u001b[A\n",
      "\u001b[A\n",
      "\u001b[A\n",
      "\u001b[A\n",
      "100%|██████████| 100/100 [00:00<00:00, 125.94it/s]\n"
     ]
    },
    {
     "name": "stdout",
     "output_type": "stream",
     "text": [
      "Spent 0.8 s to generate 94 traces\n",
      "Labels:  [0. 1. 2. 3.]\n",
      "exporting pickled dictionary to: F:\\BenchFRET_Simulated_Comparison_Data\\4 states\\pickledict\\noise_0.45_rate_0.30.pkl\n",
      "Generating traces...\n"
     ]
    },
    {
     "name": "stderr",
     "output_type": "stream",
     "text": [
      "\n",
      "\u001b[A\n",
      "\u001b[A\n",
      "\u001b[A\n",
      "\u001b[A\n",
      "\u001b[A\n",
      "\u001b[A\n",
      "\u001b[A\n",
      "\u001b[A\n",
      "\u001b[A\n",
      "100%|██████████| 100/100 [00:01<00:00, 97.73it/s]\n"
     ]
    },
    {
     "name": "stdout",
     "output_type": "stream",
     "text": [
      "Spent 1.1 s to generate 94 traces\n",
      "Labels:  [0. 1. 2. 3.]\n",
      "exporting pickled dictionary to: F:\\BenchFRET_Simulated_Comparison_Data\\4 states\\pickledict\\noise_0.45_rate_0.35.pkl\n",
      "Generating traces...\n"
     ]
    },
    {
     "name": "stderr",
     "output_type": "stream",
     "text": [
      "\n",
      "\u001b[A\n",
      "\u001b[A\n",
      "\u001b[A\n",
      "\u001b[A\n",
      "\u001b[A\n",
      "\u001b[A\n",
      "\u001b[A\n",
      "\u001b[A\n",
      "100%|██████████| 100/100 [00:00<00:00, 109.71it/s]\n"
     ]
    },
    {
     "name": "stdout",
     "output_type": "stream",
     "text": [
      "Spent 0.9 s to generate 89 traces\n",
      "Labels:  [0. 1. 2. 3.]\n",
      "exporting pickled dictionary to: F:\\BenchFRET_Simulated_Comparison_Data\\4 states\\pickledict\\noise_0.45_rate_0.40.pkl\n",
      "Generating traces...\n"
     ]
    },
    {
     "name": "stderr",
     "output_type": "stream",
     "text": [
      "\n",
      "\u001b[A\n",
      "\u001b[A\n",
      "\u001b[A\n",
      "\u001b[A\n",
      "\u001b[A\n",
      "\u001b[A\n",
      "\u001b[A\n",
      "\u001b[A\n",
      "100%|██████████| 100/100 [00:00<00:00, 118.08it/s]\n"
     ]
    },
    {
     "name": "stdout",
     "output_type": "stream",
     "text": [
      "Spent 0.9 s to generate 95 traces\n",
      "Labels:  [0. 1. 2. 3.]\n",
      "exporting pickled dictionary to: F:\\BenchFRET_Simulated_Comparison_Data\\4 states\\pickledict\\noise_0.45_rate_0.45.pkl\n",
      "Generating traces...\n"
     ]
    },
    {
     "name": "stderr",
     "output_type": "stream",
     "text": [
      "\n",
      "\u001b[A\n",
      "\u001b[A\n",
      "\u001b[A\n",
      "\u001b[A\n",
      "\u001b[A\n",
      "\u001b[A\n",
      "\u001b[A\n",
      "\u001b[A\n",
      "100%|██████████| 100/100 [00:00<00:00, 107.28it/s]\n"
     ]
    },
    {
     "name": "stdout",
     "output_type": "stream",
     "text": [
      "Spent 1.0 s to generate 96 traces\n",
      "Labels:  [0. 1. 2. 3.]\n",
      "exporting pickled dictionary to: F:\\BenchFRET_Simulated_Comparison_Data\\4 states\\pickledict\\noise_0.45_rate_0.50.pkl\n"
     ]
    },
    {
     "data": {
      "application/json": {
       "ascii": false,
       "bar_format": null,
       "colour": null,
       "elapsed": 0.004508256912231445,
       "initial": 0,
       "n": 0,
       "ncols": null,
       "nrows": null,
       "postfix": null,
       "prefix": "",
       "rate": null,
       "total": 10,
       "unit": "it",
       "unit_divisor": 1000,
       "unit_scale": false
      },
      "application/vnd.jupyter.widget-view+json": {
       "model_id": "27da6ebdb73d4c3da95b96ca0b9c7944",
       "version_major": 2,
       "version_minor": 0
      },
      "text/plain": [
       "  0%|          | 0/10 [00:00<?, ?it/s]"
      ]
     },
     "metadata": {},
     "output_type": "display_data"
    },
    {
     "name": "stdout",
     "output_type": "stream",
     "text": [
      "Generating traces...\n"
     ]
    },
    {
     "name": "stderr",
     "output_type": "stream",
     "text": [
      "\n",
      "\u001b[A\n",
      "\u001b[A\n",
      "\u001b[A\n",
      "\u001b[A\n",
      "\u001b[A\n",
      "\u001b[A\n",
      "\u001b[A\n",
      "100%|██████████| 100/100 [00:00<00:00, 124.07it/s]\n"
     ]
    },
    {
     "name": "stdout",
     "output_type": "stream",
     "text": [
      "Spent 0.8 s to generate 94 traces\n",
      "Labels:  [0. 1. 2. 3.]\n",
      "exporting pickled dictionary to: F:\\BenchFRET_Simulated_Comparison_Data\\4 states\\pickledict\\noise_0.50_rate_0.05.pkl\n",
      "Generating traces...\n"
     ]
    },
    {
     "name": "stderr",
     "output_type": "stream",
     "text": [
      "\n",
      "\u001b[A\n",
      "\u001b[A\n",
      "\u001b[A\n",
      "\u001b[A\n",
      "\u001b[A\n",
      "\u001b[A\n",
      "\u001b[A\n",
      "100%|██████████| 100/100 [00:00<00:00, 109.37it/s]\n"
     ]
    },
    {
     "name": "stdout",
     "output_type": "stream",
     "text": [
      "Spent 0.9 s to generate 94 traces\n",
      "Labels:  [0. 1. 2. 3.]\n",
      "exporting pickled dictionary to: F:\\BenchFRET_Simulated_Comparison_Data\\4 states\\pickledict\\noise_0.50_rate_0.10.pkl\n",
      "Generating traces...\n"
     ]
    },
    {
     "name": "stderr",
     "output_type": "stream",
     "text": [
      "\n",
      "\u001b[A\n",
      "\u001b[A\n",
      "\u001b[A\n",
      "\u001b[A\n",
      "\u001b[A\n",
      "\u001b[A\n",
      "\u001b[A\n",
      "100%|██████████| 100/100 [00:00<00:00, 128.97it/s]\n"
     ]
    },
    {
     "name": "stdout",
     "output_type": "stream",
     "text": [
      "Spent 0.8 s to generate 95 traces\n",
      "Labels:  [0. 1. 2. 3.]\n",
      "exporting pickled dictionary to: F:\\BenchFRET_Simulated_Comparison_Data\\4 states\\pickledict\\noise_0.50_rate_0.15.pkl\n",
      "Generating traces...\n"
     ]
    },
    {
     "name": "stderr",
     "output_type": "stream",
     "text": [
      "\n",
      "\u001b[A\n",
      "\u001b[A\n",
      "\u001b[A\n",
      "\u001b[A\n",
      "\u001b[A\n",
      "\u001b[A\n",
      "100%|██████████| 100/100 [00:00<00:00, 120.42it/s]\n"
     ]
    },
    {
     "name": "stdout",
     "output_type": "stream",
     "text": [
      "Spent 0.9 s to generate 97 traces\n",
      "Labels:  [0. 1. 2. 3.]\n",
      "exporting pickled dictionary to: F:\\BenchFRET_Simulated_Comparison_Data\\4 states\\pickledict\\noise_0.50_rate_0.20.pkl\n",
      "Generating traces...\n"
     ]
    },
    {
     "name": "stderr",
     "output_type": "stream",
     "text": [
      "\n",
      "\u001b[A\n",
      "\u001b[A\n",
      "\u001b[A\n",
      "\u001b[A\n",
      "\u001b[A\n",
      "\u001b[A\n",
      "\u001b[A\n",
      "100%|██████████| 100/100 [00:00<00:00, 116.62it/s]\n"
     ]
    },
    {
     "name": "stdout",
     "output_type": "stream",
     "text": [
      "Spent 0.9 s to generate 96 traces\n",
      "Labels:  [0. 1. 2. 3.]\n",
      "exporting pickled dictionary to: F:\\BenchFRET_Simulated_Comparison_Data\\4 states\\pickledict\\noise_0.50_rate_0.25.pkl\n",
      "Generating traces...\n"
     ]
    },
    {
     "name": "stderr",
     "output_type": "stream",
     "text": [
      "\n",
      "\u001b[A\n",
      "\u001b[A\n",
      "\u001b[A\n",
      "\u001b[A\n",
      "\u001b[A\n",
      "\u001b[A\n",
      "\u001b[A\n",
      "100%|██████████| 100/100 [00:00<00:00, 127.55it/s]\n"
     ]
    },
    {
     "name": "stdout",
     "output_type": "stream",
     "text": [
      "Spent 0.8 s to generate 93 traces\n",
      "Labels:  [0. 1. 2. 3.]\n",
      "exporting pickled dictionary to: F:\\BenchFRET_Simulated_Comparison_Data\\4 states\\pickledict\\noise_0.50_rate_0.30.pkl\n",
      "Generating traces...\n"
     ]
    },
    {
     "name": "stderr",
     "output_type": "stream",
     "text": [
      "\n",
      "\u001b[A\n",
      "\u001b[A\n",
      "\u001b[A\n",
      "\u001b[A\n",
      "\u001b[A\n",
      "\u001b[A\n",
      "\u001b[A\n",
      "100%|██████████| 100/100 [00:00<00:00, 114.02it/s]\n"
     ]
    },
    {
     "name": "stdout",
     "output_type": "stream",
     "text": [
      "Spent 0.9 s to generate 93 traces\n",
      "Labels:  [0. 1. 2. 3.]\n",
      "exporting pickled dictionary to: F:\\BenchFRET_Simulated_Comparison_Data\\4 states\\pickledict\\noise_0.50_rate_0.35.pkl\n",
      "Generating traces...\n"
     ]
    },
    {
     "name": "stderr",
     "output_type": "stream",
     "text": [
      "\n",
      "\u001b[A\n",
      "\u001b[A\n",
      "\u001b[A\n",
      "\u001b[A\n",
      "\u001b[A\n",
      "\u001b[A\n",
      "\u001b[A\n",
      "100%|██████████| 100/100 [00:00<00:00, 128.37it/s]\n"
     ]
    },
    {
     "name": "stdout",
     "output_type": "stream",
     "text": [
      "Spent 0.8 s to generate 93 traces\n",
      "Labels:  [0. 1. 2. 3.]\n",
      "exporting pickled dictionary to: F:\\BenchFRET_Simulated_Comparison_Data\\4 states\\pickledict\\noise_0.50_rate_0.40.pkl\n",
      "Generating traces...\n"
     ]
    },
    {
     "name": "stderr",
     "output_type": "stream",
     "text": [
      "\n",
      "\u001b[A\n",
      "\u001b[A\n",
      "\u001b[A\n",
      "\u001b[A\n",
      "\u001b[A\n",
      "\u001b[A\n",
      "\u001b[A\n",
      "100%|██████████| 100/100 [00:00<00:00, 129.70it/s]\n"
     ]
    },
    {
     "name": "stdout",
     "output_type": "stream",
     "text": [
      "Spent 0.8 s to generate 92 traces\n",
      "Labels:  [0. 1. 2. 3.]\n",
      "exporting pickled dictionary to: F:\\BenchFRET_Simulated_Comparison_Data\\4 states\\pickledict\\noise_0.50_rate_0.45.pkl\n",
      "Generating traces...\n"
     ]
    },
    {
     "name": "stderr",
     "output_type": "stream",
     "text": [
      "\n",
      "\u001b[A\n",
      "\u001b[A\n",
      "\u001b[A\n",
      "\u001b[A\n",
      "\u001b[A\n",
      "\u001b[A\n",
      "\u001b[A\n",
      "100%|██████████| 100/100 [00:00<00:00, 125.31it/s]"
     ]
    },
    {
     "name": "stdout",
     "output_type": "stream",
     "text": [
      "Spent 0.8 s to generate 94 traces\n",
      "Labels:  [0. 1. 2. 3.]\n",
      "exporting pickled dictionary to: F:\\BenchFRET_Simulated_Comparison_Data\\4 states\\pickledict\\noise_0.50_rate_0.50.pkl\n"
     ]
    },
    {
     "name": "stderr",
     "output_type": "stream",
     "text": [
      "\n"
     ]
    },
    {
     "data": {
      "application/json": {
       "ascii": false,
       "bar_format": null,
       "colour": null,
       "elapsed": 0.004001617431640625,
       "initial": 0,
       "n": 0,
       "ncols": null,
       "nrows": null,
       "postfix": null,
       "prefix": "",
       "rate": null,
       "total": 10,
       "unit": "it",
       "unit_divisor": 1000,
       "unit_scale": false
      },
      "application/vnd.jupyter.widget-view+json": {
       "model_id": "4c3cd190978945eabee3d57e0c146ff8",
       "version_major": 2,
       "version_minor": 0
      },
      "text/plain": [
       "  0%|          | 0/10 [00:00<?, ?it/s]"
      ]
     },
     "metadata": {},
     "output_type": "display_data"
    },
    {
     "name": "stdout",
     "output_type": "stream",
     "text": [
      "Generating traces...\n"
     ]
    },
    {
     "name": "stderr",
     "output_type": "stream",
     "text": [
      "\n",
      "\u001b[A\n",
      "\u001b[A\n",
      "\u001b[A\n",
      "\u001b[A\n",
      "\u001b[A\n",
      "\u001b[A\n",
      "100%|██████████| 100/100 [00:00<00:00, 137.93it/s]\n"
     ]
    },
    {
     "name": "stdout",
     "output_type": "stream",
     "text": [
      "Spent 0.8 s to generate 92 traces\n",
      "Labels:  [0. 1. 2. 3.]\n",
      "exporting pickled dictionary to: F:\\BenchFRET_Simulated_Comparison_Data\\4 states\\pickledict\\noise_0.55_rate_0.05.pkl\n",
      "Generating traces...\n"
     ]
    },
    {
     "name": "stderr",
     "output_type": "stream",
     "text": [
      "\n",
      "\u001b[A\n",
      "\u001b[A\n",
      "\u001b[A\n",
      "\u001b[A\n",
      "\u001b[A\n",
      "\u001b[A\n",
      "100%|██████████| 100/100 [00:00<00:00, 136.54it/s]\n"
     ]
    },
    {
     "name": "stdout",
     "output_type": "stream",
     "text": [
      "Spent 0.8 s to generate 85 traces\n",
      "Labels:  [0. 1. 2. 3.]\n",
      "exporting pickled dictionary to: F:\\BenchFRET_Simulated_Comparison_Data\\4 states\\pickledict\\noise_0.55_rate_0.10.pkl\n",
      "Generating traces...\n"
     ]
    },
    {
     "name": "stderr",
     "output_type": "stream",
     "text": [
      "\n",
      "\u001b[A\n",
      "\u001b[A\n",
      "\u001b[A\n",
      "\u001b[A\n",
      "\u001b[A\n",
      "\u001b[A\n",
      "\u001b[A\n",
      "100%|██████████| 100/100 [00:00<00:00, 133.26it/s]\n"
     ]
    },
    {
     "name": "stdout",
     "output_type": "stream",
     "text": [
      "Spent 0.8 s to generate 94 traces\n",
      "Labels:  [0. 1. 2. 3.]\n",
      "exporting pickled dictionary to: F:\\BenchFRET_Simulated_Comparison_Data\\4 states\\pickledict\\noise_0.55_rate_0.15.pkl\n",
      "Generating traces...\n"
     ]
    },
    {
     "name": "stderr",
     "output_type": "stream",
     "text": [
      "\n",
      "\u001b[A\n",
      "\u001b[A\n",
      "\u001b[A\n",
      "\u001b[A\n",
      "\u001b[A\n",
      "\u001b[A\n",
      "100%|██████████| 100/100 [00:00<00:00, 144.72it/s]\n"
     ]
    },
    {
     "name": "stdout",
     "output_type": "stream",
     "text": [
      "Spent 0.7 s to generate 89 traces\n",
      "Labels:  [0. 1. 2. 3.]\n",
      "exporting pickled dictionary to: F:\\BenchFRET_Simulated_Comparison_Data\\4 states\\pickledict\\noise_0.55_rate_0.20.pkl\n",
      "Generating traces...\n"
     ]
    },
    {
     "name": "stderr",
     "output_type": "stream",
     "text": [
      "\n",
      "\u001b[A\n",
      "\u001b[A\n",
      "\u001b[A\n",
      "\u001b[A\n",
      "\u001b[A\n",
      "\u001b[A\n",
      "100%|██████████| 100/100 [00:00<00:00, 142.78it/s]\n"
     ]
    },
    {
     "name": "stdout",
     "output_type": "stream",
     "text": [
      "Spent 0.7 s to generate 93 traces\n",
      "Labels:  [0. 1. 2. 3.]\n",
      "exporting pickled dictionary to: F:\\BenchFRET_Simulated_Comparison_Data\\4 states\\pickledict\\noise_0.55_rate_0.25.pkl\n",
      "Generating traces...\n"
     ]
    },
    {
     "name": "stderr",
     "output_type": "stream",
     "text": [
      "\n",
      "\u001b[A\n",
      "\u001b[A\n",
      "\u001b[A\n",
      "\u001b[A\n",
      "\u001b[A\n",
      "\u001b[A\n",
      "\u001b[A\n",
      "100%|██████████| 100/100 [00:00<00:00, 118.33it/s]\n"
     ]
    },
    {
     "name": "stdout",
     "output_type": "stream",
     "text": [
      "Spent 0.9 s to generate 90 traces\n",
      "Labels:  [0. 1. 2. 3.]\n",
      "exporting pickled dictionary to: F:\\BenchFRET_Simulated_Comparison_Data\\4 states\\pickledict\\noise_0.55_rate_0.30.pkl\n",
      "Generating traces...\n"
     ]
    },
    {
     "name": "stderr",
     "output_type": "stream",
     "text": [
      "\n",
      "\u001b[A\n",
      "\u001b[A\n",
      "\u001b[A\n",
      "\u001b[A\n",
      "\u001b[A\n",
      "\u001b[A\n",
      "\u001b[A\n",
      "100%|██████████| 100/100 [00:00<00:00, 138.51it/s]\n"
     ]
    },
    {
     "name": "stdout",
     "output_type": "stream",
     "text": [
      "Spent 0.8 s to generate 90 traces\n",
      "Labels:  [0. 1. 2. 3.]\n",
      "exporting pickled dictionary to: F:\\BenchFRET_Simulated_Comparison_Data\\4 states\\pickledict\\noise_0.55_rate_0.35.pkl\n",
      "Generating traces...\n"
     ]
    },
    {
     "name": "stderr",
     "output_type": "stream",
     "text": [
      "\n",
      "\u001b[A\n",
      "\u001b[A\n",
      "\u001b[A\n",
      "\u001b[A\n",
      "\u001b[A\n",
      "\u001b[A\n",
      "\u001b[A\n",
      "100%|██████████| 100/100 [00:00<00:00, 108.94it/s]\n"
     ]
    },
    {
     "name": "stdout",
     "output_type": "stream",
     "text": [
      "Spent 0.9 s to generate 93 traces\n",
      "Labels:  [0. 1. 2. 3.]\n",
      "exporting pickled dictionary to: F:\\BenchFRET_Simulated_Comparison_Data\\4 states\\pickledict\\noise_0.55_rate_0.40.pkl\n",
      "Generating traces...\n"
     ]
    },
    {
     "name": "stderr",
     "output_type": "stream",
     "text": [
      "\n",
      "\u001b[A\n",
      "\u001b[A\n",
      "\u001b[A\n",
      "\u001b[A\n",
      "\u001b[A\n",
      "\u001b[A\n",
      "100%|██████████| 100/100 [00:00<00:00, 137.74it/s]\n"
     ]
    },
    {
     "name": "stdout",
     "output_type": "stream",
     "text": [
      "Spent 0.8 s to generate 91 traces\n",
      "Labels:  [0. 1. 2. 3.]\n",
      "exporting pickled dictionary to: F:\\BenchFRET_Simulated_Comparison_Data\\4 states\\pickledict\\noise_0.55_rate_0.45.pkl\n",
      "Generating traces...\n"
     ]
    },
    {
     "name": "stderr",
     "output_type": "stream",
     "text": [
      "\n",
      "\u001b[A\n",
      "\u001b[A\n",
      "\u001b[A\n",
      "\u001b[A\n",
      "\u001b[A\n",
      "\u001b[A\n",
      "100%|██████████| 100/100 [00:00<00:00, 142.65it/s]\n"
     ]
    },
    {
     "name": "stdout",
     "output_type": "stream",
     "text": [
      "Spent 0.7 s to generate 96 traces\n",
      "Labels:  [0. 1. 2. 3.]\n",
      "exporting pickled dictionary to: F:\\BenchFRET_Simulated_Comparison_Data\\4 states\\pickledict\\noise_0.55_rate_0.50.pkl\n"
     ]
    },
    {
     "data": {
      "application/json": {
       "ascii": false,
       "bar_format": null,
       "colour": null,
       "elapsed": 0.004003047943115234,
       "initial": 0,
       "n": 0,
       "ncols": null,
       "nrows": null,
       "postfix": null,
       "prefix": "",
       "rate": null,
       "total": 10,
       "unit": "it",
       "unit_divisor": 1000,
       "unit_scale": false
      },
      "application/vnd.jupyter.widget-view+json": {
       "model_id": "396cdd374fb644e7b2ada082cc51221f",
       "version_major": 2,
       "version_minor": 0
      },
      "text/plain": [
       "  0%|          | 0/10 [00:00<?, ?it/s]"
      ]
     },
     "metadata": {},
     "output_type": "display_data"
    },
    {
     "name": "stdout",
     "output_type": "stream",
     "text": [
      "Generating traces...\n"
     ]
    },
    {
     "name": "stderr",
     "output_type": "stream",
     "text": [
      "\n",
      "\u001b[A\n",
      "\u001b[A\n",
      "\u001b[A\n",
      "\u001b[A\n",
      "\u001b[A\n",
      "\u001b[A\n",
      "\u001b[A\n",
      "100%|██████████| 100/100 [00:00<00:00, 127.55it/s]\n"
     ]
    },
    {
     "name": "stdout",
     "output_type": "stream",
     "text": [
      "Spent 0.8 s to generate 89 traces\n",
      "Labels:  [0. 1. 2. 3.]\n",
      "exporting pickled dictionary to: F:\\BenchFRET_Simulated_Comparison_Data\\4 states\\pickledict\\noise_0.60_rate_0.05.pkl\n",
      "Generating traces...\n"
     ]
    },
    {
     "name": "stderr",
     "output_type": "stream",
     "text": [
      "\n",
      "\u001b[A\n",
      "\u001b[A\n",
      "\u001b[A\n",
      "\u001b[A\n",
      "\u001b[A\n",
      "\u001b[A\n",
      "100%|██████████| 100/100 [00:00<00:00, 144.45it/s]\n"
     ]
    },
    {
     "name": "stdout",
     "output_type": "stream",
     "text": [
      "Spent 0.7 s to generate 91 traces\n",
      "Labels:  [0. 1. 2. 3.]\n",
      "exporting pickled dictionary to: F:\\BenchFRET_Simulated_Comparison_Data\\4 states\\pickledict\\noise_0.60_rate_0.10.pkl\n",
      "Generating traces...\n"
     ]
    },
    {
     "name": "stderr",
     "output_type": "stream",
     "text": [
      "\n",
      "\u001b[A\n",
      "\u001b[A\n",
      "\u001b[A\n",
      "\u001b[A\n",
      "\u001b[A\n",
      "\u001b[A\n",
      "\u001b[A\n",
      "100%|██████████| 100/100 [00:00<00:00, 132.54it/s]\n"
     ]
    },
    {
     "name": "stdout",
     "output_type": "stream",
     "text": [
      "Spent 0.8 s to generate 92 traces\n",
      "Labels:  [0. 1. 2. 3.]\n",
      "exporting pickled dictionary to: F:\\BenchFRET_Simulated_Comparison_Data\\4 states\\pickledict\\noise_0.60_rate_0.15.pkl\n",
      "Generating traces...\n"
     ]
    },
    {
     "name": "stderr",
     "output_type": "stream",
     "text": [
      "\n",
      "\u001b[A\n",
      "\u001b[A\n",
      "\u001b[A\n",
      "\u001b[A\n",
      "\u001b[A\n",
      "\u001b[A\n",
      "100%|██████████| 100/100 [00:00<00:00, 132.75it/s]\n"
     ]
    },
    {
     "name": "stdout",
     "output_type": "stream",
     "text": [
      "Spent 0.8 s to generate 88 traces\n",
      "Labels:  [0. 1. 2. 3.]\n",
      "exporting pickled dictionary to: F:\\BenchFRET_Simulated_Comparison_Data\\4 states\\pickledict\\noise_0.60_rate_0.20.pkl\n",
      "Generating traces...\n"
     ]
    },
    {
     "name": "stderr",
     "output_type": "stream",
     "text": [
      "\n",
      "\u001b[A\n",
      "\u001b[A\n",
      "\u001b[A\n",
      "\u001b[A\n",
      "\u001b[A\n",
      "\u001b[A\n",
      "100%|██████████| 100/100 [00:00<00:00, 144.37it/s]\n"
     ]
    },
    {
     "name": "stdout",
     "output_type": "stream",
     "text": [
      "Spent 0.7 s to generate 92 traces\n",
      "Labels:  [0. 1. 2. 3.]\n",
      "exporting pickled dictionary to: F:\\BenchFRET_Simulated_Comparison_Data\\4 states\\pickledict\\noise_0.60_rate_0.25.pkl\n",
      "Generating traces...\n"
     ]
    },
    {
     "name": "stderr",
     "output_type": "stream",
     "text": [
      "\n",
      "\u001b[A\n",
      "\u001b[A\n",
      "\u001b[A\n",
      "\u001b[A\n",
      "\u001b[A\n",
      "\u001b[A\n",
      "100%|██████████| 100/100 [00:00<00:00, 143.93it/s]\n"
     ]
    },
    {
     "name": "stdout",
     "output_type": "stream",
     "text": [
      "Spent 0.7 s to generate 89 traces\n",
      "Labels:  [0. 1. 2. 3.]\n",
      "exporting pickled dictionary to: F:\\BenchFRET_Simulated_Comparison_Data\\4 states\\pickledict\\noise_0.60_rate_0.30.pkl\n",
      "Generating traces...\n"
     ]
    },
    {
     "name": "stderr",
     "output_type": "stream",
     "text": [
      "\n",
      "\u001b[A\n",
      "\u001b[A\n",
      "\u001b[A\n",
      "\u001b[A\n",
      "\u001b[A\n",
      "\u001b[A\n",
      "100%|██████████| 100/100 [00:00<00:00, 128.04it/s]\n"
     ]
    },
    {
     "name": "stdout",
     "output_type": "stream",
     "text": [
      "Spent 0.8 s to generate 90 traces\n",
      "Labels:  [0. 1. 2. 3.]\n",
      "exporting pickled dictionary to: F:\\BenchFRET_Simulated_Comparison_Data\\4 states\\pickledict\\noise_0.60_rate_0.35.pkl\n",
      "Generating traces...\n"
     ]
    },
    {
     "name": "stderr",
     "output_type": "stream",
     "text": [
      "\n",
      "\u001b[A\n",
      "\u001b[A\n",
      "\u001b[A\n",
      "\u001b[A\n",
      "\u001b[A\n",
      "\u001b[A\n",
      "100%|██████████| 100/100 [00:00<00:00, 146.84it/s]\n"
     ]
    },
    {
     "name": "stdout",
     "output_type": "stream",
     "text": [
      "Spent 0.7 s to generate 96 traces\n",
      "Labels:  [0. 1. 2. 3.]\n",
      "exporting pickled dictionary to: F:\\BenchFRET_Simulated_Comparison_Data\\4 states\\pickledict\\noise_0.60_rate_0.40.pkl\n",
      "Generating traces...\n"
     ]
    },
    {
     "name": "stderr",
     "output_type": "stream",
     "text": [
      "\n",
      "\u001b[A\n",
      "\u001b[A\n",
      "\u001b[A\n",
      "\u001b[A\n",
      "\u001b[A\n",
      "\u001b[A\n",
      "100%|██████████| 100/100 [00:00<00:00, 147.66it/s]\n"
     ]
    },
    {
     "name": "stdout",
     "output_type": "stream",
     "text": [
      "Spent 0.7 s to generate 88 traces\n",
      "Labels:  [0. 1. 2. 3.]\n",
      "exporting pickled dictionary to: F:\\BenchFRET_Simulated_Comparison_Data\\4 states\\pickledict\\noise_0.60_rate_0.45.pkl\n",
      "Generating traces...\n"
     ]
    },
    {
     "name": "stderr",
     "output_type": "stream",
     "text": [
      "\n",
      "\u001b[A\n",
      "\u001b[A\n",
      "\u001b[A\n",
      "\u001b[A\n",
      "\u001b[A\n",
      "\u001b[A\n",
      "100%|██████████| 100/100 [00:00<00:00, 135.46it/s]"
     ]
    },
    {
     "name": "stdout",
     "output_type": "stream",
     "text": [
      "Spent 0.8 s to generate 93 traces\n",
      "Labels:  [0. 1. 2. 3.]\n",
      "exporting pickled dictionary to: F:\\BenchFRET_Simulated_Comparison_Data\\4 states\\pickledict\\noise_0.60_rate_0.50.pkl\n"
     ]
    },
    {
     "name": "stderr",
     "output_type": "stream",
     "text": [
      "\n"
     ]
    },
    {
     "data": {
      "application/json": {
       "ascii": false,
       "bar_format": null,
       "colour": null,
       "elapsed": 0.00599980354309082,
       "initial": 0,
       "n": 0,
       "ncols": null,
       "nrows": null,
       "postfix": null,
       "prefix": "",
       "rate": null,
       "total": 10,
       "unit": "it",
       "unit_divisor": 1000,
       "unit_scale": false
      },
      "application/vnd.jupyter.widget-view+json": {
       "model_id": "47c4a9be24d84bc3a32838c4447e3950",
       "version_major": 2,
       "version_minor": 0
      },
      "text/plain": [
       "  0%|          | 0/10 [00:00<?, ?it/s]"
      ]
     },
     "metadata": {},
     "output_type": "display_data"
    },
    {
     "name": "stdout",
     "output_type": "stream",
     "text": [
      "Generating traces...\n"
     ]
    },
    {
     "name": "stderr",
     "output_type": "stream",
     "text": [
      "\n",
      "\u001b[A\n",
      "\u001b[A\n",
      "\u001b[A\n",
      "\u001b[A\n",
      "\u001b[A\n",
      "\u001b[A\n",
      "\u001b[A\n",
      "100%|██████████| 100/100 [00:00<00:00, 124.43it/s]\n"
     ]
    },
    {
     "name": "stdout",
     "output_type": "stream",
     "text": [
      "Spent 0.8 s to generate 84 traces\n",
      "Labels:  [0. 1. 2. 3.]\n",
      "exporting pickled dictionary to: F:\\BenchFRET_Simulated_Comparison_Data\\4 states\\pickledict\\noise_0.65_rate_0.05.pkl\n",
      "Generating traces...\n"
     ]
    },
    {
     "name": "stderr",
     "output_type": "stream",
     "text": [
      "\n",
      "\u001b[A\n",
      "\u001b[A\n",
      "\u001b[A\n",
      "\u001b[A\n",
      "\u001b[A\n",
      "\u001b[A\n",
      "100%|██████████| 100/100 [00:00<00:00, 136.71it/s]\n"
     ]
    },
    {
     "name": "stdout",
     "output_type": "stream",
     "text": [
      "Spent 0.8 s to generate 82 traces\n",
      "Labels:  [0. 1. 2. 3.]\n",
      "exporting pickled dictionary to: F:\\BenchFRET_Simulated_Comparison_Data\\4 states\\pickledict\\noise_0.65_rate_0.10.pkl\n",
      "Generating traces...\n"
     ]
    },
    {
     "name": "stderr",
     "output_type": "stream",
     "text": [
      "\n",
      "\u001b[A\n",
      "\u001b[A\n",
      "\u001b[A\n",
      "\u001b[A\n",
      "\u001b[A\n",
      "\u001b[A\n",
      "\u001b[A\n",
      "100%|██████████| 100/100 [00:00<00:00, 112.53it/s]\n"
     ]
    },
    {
     "name": "stdout",
     "output_type": "stream",
     "text": [
      "Spent 0.9 s to generate 90 traces\n",
      "Labels:  [0. 1. 2. 3.]\n",
      "exporting pickled dictionary to: F:\\BenchFRET_Simulated_Comparison_Data\\4 states\\pickledict\\noise_0.65_rate_0.15.pkl\n",
      "Generating traces...\n"
     ]
    },
    {
     "name": "stderr",
     "output_type": "stream",
     "text": [
      "\n",
      "\u001b[A\n",
      "\u001b[A\n",
      "\u001b[A\n",
      "\u001b[A\n",
      "\u001b[A\n",
      "\u001b[A\n",
      "\u001b[A\n",
      "100%|██████████| 100/100 [00:00<00:00, 131.08it/s]\n"
     ]
    },
    {
     "name": "stdout",
     "output_type": "stream",
     "text": [
      "Spent 0.8 s to generate 80 traces\n",
      "Labels:  [0. 1. 2. 3.]\n",
      "exporting pickled dictionary to: F:\\BenchFRET_Simulated_Comparison_Data\\4 states\\pickledict\\noise_0.65_rate_0.20.pkl\n",
      "Generating traces...\n"
     ]
    },
    {
     "name": "stderr",
     "output_type": "stream",
     "text": [
      "\n",
      "\u001b[A\n",
      "\u001b[A\n",
      "\u001b[A\n",
      "\u001b[A\n",
      "\u001b[A\n",
      "\u001b[A\n",
      "\u001b[A\n",
      "100%|██████████| 100/100 [00:00<00:00, 128.83it/s]\n"
     ]
    },
    {
     "name": "stdout",
     "output_type": "stream",
     "text": [
      "Spent 0.8 s to generate 82 traces\n",
      "Labels:  [0. 1. 2. 3.]\n",
      "exporting pickled dictionary to: F:\\BenchFRET_Simulated_Comparison_Data\\4 states\\pickledict\\noise_0.65_rate_0.25.pkl\n",
      "Generating traces...\n"
     ]
    },
    {
     "name": "stderr",
     "output_type": "stream",
     "text": [
      "\n",
      "\u001b[A\n",
      "\u001b[A\n",
      "\u001b[A\n",
      "\u001b[A\n",
      "\u001b[A\n",
      "\u001b[A\n",
      "100%|██████████| 100/100 [00:00<00:00, 136.55it/s]\n"
     ]
    },
    {
     "name": "stdout",
     "output_type": "stream",
     "text": [
      "Spent 0.8 s to generate 82 traces\n",
      "Labels:  [0. 1. 2. 3.]\n",
      "exporting pickled dictionary to: F:\\BenchFRET_Simulated_Comparison_Data\\4 states\\pickledict\\noise_0.65_rate_0.30.pkl\n",
      "Generating traces...\n"
     ]
    },
    {
     "name": "stderr",
     "output_type": "stream",
     "text": [
      "\n",
      "\u001b[A\n",
      "\u001b[A\n",
      "\u001b[A\n",
      "\u001b[A\n",
      "\u001b[A\n",
      "\u001b[A\n",
      "100%|██████████| 100/100 [00:00<00:00, 137.07it/s]\n"
     ]
    },
    {
     "name": "stdout",
     "output_type": "stream",
     "text": [
      "Spent 0.8 s to generate 88 traces\n",
      "Labels:  [0. 1. 2. 3.]\n",
      "exporting pickled dictionary to: F:\\BenchFRET_Simulated_Comparison_Data\\4 states\\pickledict\\noise_0.65_rate_0.35.pkl\n",
      "Generating traces...\n"
     ]
    },
    {
     "name": "stderr",
     "output_type": "stream",
     "text": [
      "\n",
      "\u001b[A\n",
      "\u001b[A\n",
      "\u001b[A\n",
      "\u001b[A\n",
      "\u001b[A\n",
      "\u001b[A\n",
      "\u001b[A\n",
      "\u001b[A\n",
      "100%|██████████| 100/100 [00:00<00:00, 116.75it/s]\n"
     ]
    },
    {
     "name": "stdout",
     "output_type": "stream",
     "text": [
      "Spent 0.9 s to generate 86 traces\n",
      "Labels:  [0. 1. 2. 3.]\n",
      "exporting pickled dictionary to: F:\\BenchFRET_Simulated_Comparison_Data\\4 states\\pickledict\\noise_0.65_rate_0.40.pkl\n",
      "Generating traces...\n"
     ]
    },
    {
     "name": "stderr",
     "output_type": "stream",
     "text": [
      "\n",
      "\u001b[A\n",
      "\u001b[A\n",
      "\u001b[A\n",
      "\u001b[A\n",
      "\u001b[A\n",
      "\u001b[A\n",
      "\u001b[A\n",
      "100%|██████████| 100/100 [00:00<00:00, 125.10it/s]\n"
     ]
    },
    {
     "name": "stdout",
     "output_type": "stream",
     "text": [
      "Spent 0.8 s to generate 85 traces\n",
      "Labels:  [0. 1. 2. 3.]\n",
      "exporting pickled dictionary to: F:\\BenchFRET_Simulated_Comparison_Data\\4 states\\pickledict\\noise_0.65_rate_0.45.pkl\n",
      "Generating traces...\n"
     ]
    },
    {
     "name": "stderr",
     "output_type": "stream",
     "text": [
      "\n",
      "\u001b[A\n",
      "\u001b[A\n",
      "\u001b[A\n",
      "\u001b[A\n",
      "\u001b[A\n",
      "\u001b[A\n",
      "\u001b[A\n",
      "100%|██████████| 100/100 [00:00<00:00, 121.06it/s]\n"
     ]
    },
    {
     "name": "stdout",
     "output_type": "stream",
     "text": [
      "Spent 0.9 s to generate 85 traces\n",
      "Labels:  [0. 1. 2. 3.]\n",
      "exporting pickled dictionary to: F:\\BenchFRET_Simulated_Comparison_Data\\4 states\\pickledict\\noise_0.65_rate_0.50.pkl\n"
     ]
    },
    {
     "data": {
      "application/json": {
       "ascii": false,
       "bar_format": null,
       "colour": null,
       "elapsed": 0.004000186920166016,
       "initial": 0,
       "n": 0,
       "ncols": null,
       "nrows": null,
       "postfix": null,
       "prefix": "",
       "rate": null,
       "total": 10,
       "unit": "it",
       "unit_divisor": 1000,
       "unit_scale": false
      },
      "application/vnd.jupyter.widget-view+json": {
       "model_id": "c2d33aa36b8a46f19afb14498e4746fa",
       "version_major": 2,
       "version_minor": 0
      },
      "text/plain": [
       "  0%|          | 0/10 [00:00<?, ?it/s]"
      ]
     },
     "metadata": {},
     "output_type": "display_data"
    },
    {
     "name": "stdout",
     "output_type": "stream",
     "text": [
      "Generating traces...\n"
     ]
    },
    {
     "name": "stderr",
     "output_type": "stream",
     "text": [
      "\n",
      "\u001b[A\n",
      "\u001b[A\n",
      "\u001b[A\n",
      "\u001b[A\n",
      "\u001b[A\n",
      "\u001b[A\n",
      "\u001b[A\n",
      "100%|██████████| 100/100 [00:00<00:00, 116.46it/s]\n"
     ]
    },
    {
     "name": "stdout",
     "output_type": "stream",
     "text": [
      "Spent 0.9 s to generate 76 traces\n",
      "Labels:  [0. 1. 2. 3.]\n",
      "exporting pickled dictionary to: F:\\BenchFRET_Simulated_Comparison_Data\\4 states\\pickledict\\noise_0.70_rate_0.05.pkl\n",
      "Generating traces...\n"
     ]
    },
    {
     "name": "stderr",
     "output_type": "stream",
     "text": [
      "\n",
      "\u001b[A\n",
      "\u001b[A\n",
      "\u001b[A\n",
      "\u001b[A\n",
      "\u001b[A\n",
      "\u001b[A\n",
      "\u001b[A\n",
      "100%|██████████| 100/100 [00:00<00:00, 137.12it/s]\n"
     ]
    },
    {
     "name": "stdout",
     "output_type": "stream",
     "text": [
      "Spent 0.8 s to generate 81 traces\n",
      "Labels:  [0. 1. 2. 3.]\n",
      "exporting pickled dictionary to: F:\\BenchFRET_Simulated_Comparison_Data\\4 states\\pickledict\\noise_0.70_rate_0.10.pkl\n",
      "Generating traces...\n"
     ]
    },
    {
     "name": "stderr",
     "output_type": "stream",
     "text": [
      "\n",
      "\u001b[A\n",
      "\u001b[A\n",
      "\u001b[A\n",
      "\u001b[A\n",
      "\u001b[A\n",
      "\u001b[A\n",
      "100%|██████████| 100/100 [00:00<00:00, 146.07it/s]\n"
     ]
    },
    {
     "name": "stdout",
     "output_type": "stream",
     "text": [
      "Spent 0.7 s to generate 79 traces\n",
      "Labels:  [0. 1. 2. 3.]\n",
      "exporting pickled dictionary to: F:\\BenchFRET_Simulated_Comparison_Data\\4 states\\pickledict\\noise_0.70_rate_0.15.pkl\n",
      "Generating traces...\n"
     ]
    },
    {
     "name": "stderr",
     "output_type": "stream",
     "text": [
      "\n",
      "\u001b[A\n",
      "\u001b[A\n",
      "\u001b[A\n",
      "\u001b[A\n",
      "\u001b[A\n",
      "\u001b[A\n",
      "\u001b[A\n",
      "100%|██████████| 100/100 [00:00<00:00, 123.09it/s]\n"
     ]
    },
    {
     "name": "stdout",
     "output_type": "stream",
     "text": [
      "Spent 0.8 s to generate 79 traces\n",
      "Labels:  [0. 1. 2. 3.]\n",
      "exporting pickled dictionary to: F:\\BenchFRET_Simulated_Comparison_Data\\4 states\\pickledict\\noise_0.70_rate_0.20.pkl\n",
      "Generating traces...\n"
     ]
    },
    {
     "name": "stderr",
     "output_type": "stream",
     "text": [
      "\n",
      "\u001b[A\n",
      "\u001b[A\n",
      "\u001b[A\n",
      "\u001b[A\n",
      "\u001b[A\n",
      "\u001b[A\n",
      "\u001b[A\n",
      "\u001b[A\n",
      "100%|██████████| 100/100 [00:00<00:00, 108.14it/s]\n"
     ]
    },
    {
     "name": "stdout",
     "output_type": "stream",
     "text": [
      "Spent 1.0 s to generate 81 traces\n",
      "Labels:  [0. 1. 2. 3.]\n",
      "exporting pickled dictionary to: F:\\BenchFRET_Simulated_Comparison_Data\\4 states\\pickledict\\noise_0.70_rate_0.25.pkl\n",
      "Generating traces...\n"
     ]
    },
    {
     "name": "stderr",
     "output_type": "stream",
     "text": [
      "\n",
      "\u001b[A\n",
      "\u001b[A\n",
      "\u001b[A\n",
      "\u001b[A\n",
      "\u001b[A\n",
      "\u001b[A\n",
      "\u001b[A\n",
      "100%|██████████| 100/100 [00:00<00:00, 119.22it/s]\n"
     ]
    },
    {
     "name": "stdout",
     "output_type": "stream",
     "text": [
      "Spent 0.9 s to generate 86 traces\n",
      "Labels:  [0. 1. 2. 3.]\n",
      "exporting pickled dictionary to: F:\\BenchFRET_Simulated_Comparison_Data\\4 states\\pickledict\\noise_0.70_rate_0.30.pkl\n",
      "Generating traces...\n"
     ]
    },
    {
     "name": "stderr",
     "output_type": "stream",
     "text": [
      "\n",
      "\u001b[A\n",
      "\u001b[A\n",
      "\u001b[A\n",
      "\u001b[A\n",
      "\u001b[A\n",
      "\u001b[A\n",
      "\u001b[A\n",
      "100%|██████████| 100/100 [00:00<00:00, 125.97it/s]\n"
     ]
    },
    {
     "name": "stdout",
     "output_type": "stream",
     "text": [
      "Spent 0.8 s to generate 80 traces\n",
      "Labels:  [0. 1. 2. 3.]\n",
      "exporting pickled dictionary to: F:\\BenchFRET_Simulated_Comparison_Data\\4 states\\pickledict\\noise_0.70_rate_0.35.pkl\n",
      "Generating traces...\n"
     ]
    },
    {
     "name": "stderr",
     "output_type": "stream",
     "text": [
      "\n",
      "\u001b[A\n",
      "\u001b[A\n",
      "\u001b[A\n",
      "\u001b[A\n",
      "\u001b[A\n",
      "\u001b[A\n",
      "\u001b[A\n",
      "100%|██████████| 100/100 [00:00<00:00, 115.39it/s]\n"
     ]
    },
    {
     "name": "stdout",
     "output_type": "stream",
     "text": [
      "Spent 0.9 s to generate 77 traces\n",
      "Labels:  [0. 1. 2. 3.]\n",
      "exporting pickled dictionary to: F:\\BenchFRET_Simulated_Comparison_Data\\4 states\\pickledict\\noise_0.70_rate_0.40.pkl\n",
      "Generating traces...\n"
     ]
    },
    {
     "name": "stderr",
     "output_type": "stream",
     "text": [
      "\n",
      "\u001b[A\n",
      "\u001b[A\n",
      "\u001b[A\n",
      "\u001b[A\n",
      "\u001b[A\n",
      "\u001b[A\n",
      "100%|██████████| 100/100 [00:00<00:00, 127.06it/s]\n"
     ]
    },
    {
     "name": "stdout",
     "output_type": "stream",
     "text": [
      "Spent 0.8 s to generate 83 traces\n",
      "Labels:  [0. 1. 2. 3.]\n",
      "exporting pickled dictionary to: F:\\BenchFRET_Simulated_Comparison_Data\\4 states\\pickledict\\noise_0.70_rate_0.45.pkl\n",
      "Generating traces...\n"
     ]
    },
    {
     "name": "stderr",
     "output_type": "stream",
     "text": [
      "\n",
      "\u001b[A\n",
      "\u001b[A\n",
      "\u001b[A\n",
      "\u001b[A\n",
      "\u001b[A\n",
      "\u001b[A\n",
      "100%|██████████| 100/100 [00:00<00:00, 144.64it/s]\n"
     ]
    },
    {
     "name": "stdout",
     "output_type": "stream",
     "text": [
      "Spent 0.7 s to generate 82 traces\n",
      "Labels:  [0. 1. 2. 3.]\n",
      "exporting pickled dictionary to: F:\\BenchFRET_Simulated_Comparison_Data\\4 states\\pickledict\\noise_0.70_rate_0.50.pkl\n"
     ]
    },
    {
     "data": {
      "application/json": {
       "ascii": false,
       "bar_format": null,
       "colour": null,
       "elapsed": 0.004999876022338867,
       "initial": 0,
       "n": 0,
       "ncols": null,
       "nrows": null,
       "postfix": null,
       "prefix": "",
       "rate": null,
       "total": 10,
       "unit": "it",
       "unit_divisor": 1000,
       "unit_scale": false
      },
      "application/vnd.jupyter.widget-view+json": {
       "model_id": "1ae1aa36f74c4b44b055fe05b2ae7720",
       "version_major": 2,
       "version_minor": 0
      },
      "text/plain": [
       "  0%|          | 0/10 [00:00<?, ?it/s]"
      ]
     },
     "metadata": {},
     "output_type": "display_data"
    },
    {
     "name": "stdout",
     "output_type": "stream",
     "text": [
      "Generating traces...\n"
     ]
    },
    {
     "name": "stderr",
     "output_type": "stream",
     "text": [
      "\n",
      "\u001b[A\n",
      "\u001b[A\n",
      "\u001b[A\n",
      "\u001b[A\n",
      "\u001b[A\n",
      "\u001b[A\n",
      "\u001b[A\n",
      "100%|██████████| 100/100 [00:00<00:00, 131.40it/s]\n"
     ]
    },
    {
     "name": "stdout",
     "output_type": "stream",
     "text": [
      "Spent 0.8 s to generate 71 traces\n",
      "Labels:  [0. 1. 2. 3.]\n",
      "exporting pickled dictionary to: F:\\BenchFRET_Simulated_Comparison_Data\\4 states\\pickledict\\noise_0.75_rate_0.05.pkl\n",
      "Generating traces...\n"
     ]
    },
    {
     "name": "stderr",
     "output_type": "stream",
     "text": [
      "\n",
      "\u001b[A\n",
      "\u001b[A\n",
      "\u001b[A\n",
      "\u001b[A\n",
      "\u001b[A\n",
      "\u001b[A\n",
      "100%|██████████| 100/100 [00:00<00:00, 149.25it/s]\n"
     ]
    },
    {
     "name": "stdout",
     "output_type": "stream",
     "text": [
      "Spent 0.7 s to generate 73 traces\n",
      "Labels:  [0. 1. 2. 3.]\n",
      "exporting pickled dictionary to: F:\\BenchFRET_Simulated_Comparison_Data\\4 states\\pickledict\\noise_0.75_rate_0.10.pkl\n",
      "Generating traces...\n"
     ]
    },
    {
     "name": "stderr",
     "output_type": "stream",
     "text": [
      "\n",
      "\u001b[A\n",
      "\u001b[A\n",
      "\u001b[A\n",
      "\u001b[A\n",
      "\u001b[A\n",
      "\u001b[A\n",
      "100%|██████████| 100/100 [00:00<00:00, 146.84it/s]\n"
     ]
    },
    {
     "name": "stdout",
     "output_type": "stream",
     "text": [
      "Spent 0.7 s to generate 70 traces\n",
      "Labels:  [0. 1. 2. 3.]\n",
      "exporting pickled dictionary to: F:\\BenchFRET_Simulated_Comparison_Data\\4 states\\pickledict\\noise_0.75_rate_0.15.pkl\n",
      "Generating traces...\n"
     ]
    },
    {
     "name": "stderr",
     "output_type": "stream",
     "text": [
      "\n",
      "\u001b[A\n",
      "\u001b[A\n",
      "\u001b[A\n",
      "\u001b[A\n",
      "\u001b[A\n",
      "\u001b[A\n",
      "\u001b[A\n",
      "100%|██████████| 100/100 [00:00<00:00, 123.35it/s]\n"
     ]
    },
    {
     "name": "stdout",
     "output_type": "stream",
     "text": [
      "Spent 0.8 s to generate 72 traces\n",
      "Labels:  [0. 1. 2. 3.]\n",
      "exporting pickled dictionary to: F:\\BenchFRET_Simulated_Comparison_Data\\4 states\\pickledict\\noise_0.75_rate_0.20.pkl\n",
      "Generating traces...\n"
     ]
    },
    {
     "name": "stderr",
     "output_type": "stream",
     "text": [
      "\n",
      "\u001b[A\n",
      "\u001b[A\n",
      "\u001b[A\n",
      "\u001b[A\n",
      "\u001b[A\n",
      "\u001b[A\n",
      "100%|██████████| 100/100 [00:00<00:00, 142.09it/s]\n"
     ]
    },
    {
     "name": "stdout",
     "output_type": "stream",
     "text": [
      "Spent 0.7 s to generate 76 traces\n",
      "Labels:  [0. 1. 2. 3.]\n",
      "exporting pickled dictionary to: F:\\BenchFRET_Simulated_Comparison_Data\\4 states\\pickledict\\noise_0.75_rate_0.25.pkl\n",
      "Generating traces...\n"
     ]
    },
    {
     "name": "stderr",
     "output_type": "stream",
     "text": [
      "\n",
      "\u001b[A\n",
      "\u001b[A\n",
      "\u001b[A\n",
      "\u001b[A\n",
      "\u001b[A\n",
      "\u001b[A\n",
      "100%|██████████| 100/100 [00:00<00:00, 147.59it/s]\n"
     ]
    },
    {
     "name": "stdout",
     "output_type": "stream",
     "text": [
      "Spent 0.7 s to generate 73 traces\n",
      "Labels:  [0. 1. 2. 3.]\n",
      "exporting pickled dictionary to: F:\\BenchFRET_Simulated_Comparison_Data\\4 states\\pickledict\\noise_0.75_rate_0.30.pkl\n",
      "Generating traces...\n"
     ]
    },
    {
     "name": "stderr",
     "output_type": "stream",
     "text": [
      "\n",
      "\u001b[A\n",
      "\u001b[A\n",
      "\u001b[A\n",
      "\u001b[A\n",
      "\u001b[A\n",
      "\u001b[A\n",
      "100%|██████████| 100/100 [00:00<00:00, 132.71it/s]\n"
     ]
    },
    {
     "name": "stdout",
     "output_type": "stream",
     "text": [
      "Spent 0.8 s to generate 76 traces\n",
      "Labels:  [0. 1. 2. 3.]\n",
      "exporting pickled dictionary to: F:\\BenchFRET_Simulated_Comparison_Data\\4 states\\pickledict\\noise_0.75_rate_0.35.pkl\n",
      "Generating traces...\n"
     ]
    },
    {
     "name": "stderr",
     "output_type": "stream",
     "text": [
      "\n",
      "\u001b[A\n",
      "\u001b[A\n",
      "\u001b[A\n",
      "\u001b[A\n",
      "\u001b[A\n",
      "\u001b[A\n",
      "\u001b[A\n",
      "100%|██████████| 100/100 [00:00<00:00, 135.86it/s]\n"
     ]
    },
    {
     "name": "stdout",
     "output_type": "stream",
     "text": [
      "Spent 0.8 s to generate 77 traces\n",
      "Labels:  [0. 1. 2. 3.]\n",
      "exporting pickled dictionary to: F:\\BenchFRET_Simulated_Comparison_Data\\4 states\\pickledict\\noise_0.75_rate_0.40.pkl\n",
      "Generating traces...\n"
     ]
    },
    {
     "name": "stderr",
     "output_type": "stream",
     "text": [
      "\n",
      "\u001b[A\n",
      "\u001b[A\n",
      "\u001b[A\n",
      "\u001b[A\n",
      "\u001b[A\n",
      "\u001b[A\n",
      "100%|██████████| 100/100 [00:00<00:00, 144.72it/s]\n"
     ]
    },
    {
     "name": "stdout",
     "output_type": "stream",
     "text": [
      "Spent 0.7 s to generate 71 traces\n",
      "Labels:  [0. 1. 2. 3.]\n",
      "exporting pickled dictionary to: F:\\BenchFRET_Simulated_Comparison_Data\\4 states\\pickledict\\noise_0.75_rate_0.45.pkl\n",
      "Generating traces...\n"
     ]
    },
    {
     "name": "stderr",
     "output_type": "stream",
     "text": [
      "\n",
      "\u001b[A\n",
      "\u001b[A\n",
      "\u001b[A\n",
      "\u001b[A\n",
      "\u001b[A\n",
      "\u001b[A\n",
      "100%|██████████| 100/100 [00:00<00:00, 148.81it/s]\n"
     ]
    },
    {
     "name": "stdout",
     "output_type": "stream",
     "text": [
      "Spent 0.7 s to generate 79 traces\n",
      "Labels:  [0. 1. 2. 3.]\n",
      "exporting pickled dictionary to: F:\\BenchFRET_Simulated_Comparison_Data\\4 states\\pickledict\\noise_0.75_rate_0.50.pkl\n"
     ]
    },
    {
     "data": {
      "application/json": {
       "ascii": false,
       "bar_format": null,
       "colour": null,
       "elapsed": 0.005000114440917969,
       "initial": 0,
       "n": 0,
       "ncols": null,
       "nrows": null,
       "postfix": null,
       "prefix": "",
       "rate": null,
       "total": 10,
       "unit": "it",
       "unit_divisor": 1000,
       "unit_scale": false
      },
      "application/vnd.jupyter.widget-view+json": {
       "model_id": "879b594185424768860b762707cc18b9",
       "version_major": 2,
       "version_minor": 0
      },
      "text/plain": [
       "  0%|          | 0/10 [00:00<?, ?it/s]"
      ]
     },
     "metadata": {},
     "output_type": "display_data"
    },
    {
     "name": "stdout",
     "output_type": "stream",
     "text": [
      "Generating traces...\n"
     ]
    },
    {
     "name": "stderr",
     "output_type": "stream",
     "text": [
      "\n",
      "\u001b[A\n",
      "\u001b[A\n",
      "\u001b[A\n",
      "\u001b[A\n",
      "\u001b[A\n",
      "\u001b[A\n",
      "\u001b[A\n",
      "100%|██████████| 100/100 [00:00<00:00, 136.43it/s]\n"
     ]
    },
    {
     "name": "stdout",
     "output_type": "stream",
     "text": [
      "Spent 0.8 s to generate 57 traces\n",
      "Labels:  [0. 1. 2. 3.]\n",
      "exporting pickled dictionary to: F:\\BenchFRET_Simulated_Comparison_Data\\4 states\\pickledict\\noise_0.80_rate_0.05.pkl\n",
      "Generating traces...\n"
     ]
    },
    {
     "name": "stderr",
     "output_type": "stream",
     "text": [
      "\n",
      "\u001b[A\n",
      "\u001b[A\n",
      "\u001b[A\n",
      "\u001b[A\n",
      "\u001b[A\n",
      "\u001b[A\n",
      "100%|██████████| 100/100 [00:00<00:00, 145.56it/s]\n"
     ]
    },
    {
     "name": "stdout",
     "output_type": "stream",
     "text": [
      "Spent 0.7 s to generate 66 traces\n",
      "Labels:  [0. 1. 2. 3.]\n",
      "exporting pickled dictionary to: F:\\BenchFRET_Simulated_Comparison_Data\\4 states\\pickledict\\noise_0.80_rate_0.10.pkl\n",
      "Generating traces...\n"
     ]
    },
    {
     "name": "stderr",
     "output_type": "stream",
     "text": [
      "\n",
      "\u001b[A\n",
      "\u001b[A\n",
      "\u001b[A\n",
      "\u001b[A\n",
      "\u001b[A\n",
      "\u001b[A\n",
      "100%|██████████| 100/100 [00:00<00:00, 148.37it/s]\n"
     ]
    },
    {
     "name": "stdout",
     "output_type": "stream",
     "text": [
      "Spent 0.7 s to generate 67 traces\n",
      "Labels:  [0. 1. 2. 3.]\n",
      "exporting pickled dictionary to: F:\\BenchFRET_Simulated_Comparison_Data\\4 states\\pickledict\\noise_0.80_rate_0.15.pkl\n",
      "Generating traces...\n"
     ]
    },
    {
     "name": "stderr",
     "output_type": "stream",
     "text": [
      "\n",
      "\u001b[A\n",
      "\u001b[A\n",
      "\u001b[A\n",
      "\u001b[A\n",
      "\u001b[A\n",
      "\u001b[A\n",
      "\u001b[A\n",
      "100%|██████████| 100/100 [00:00<00:00, 128.20it/s]\n"
     ]
    },
    {
     "name": "stdout",
     "output_type": "stream",
     "text": [
      "Spent 0.8 s to generate 63 traces\n",
      "Labels:  [0. 1. 2. 3.]\n",
      "exporting pickled dictionary to: F:\\BenchFRET_Simulated_Comparison_Data\\4 states\\pickledict\\noise_0.80_rate_0.20.pkl\n",
      "Generating traces...\n"
     ]
    },
    {
     "name": "stderr",
     "output_type": "stream",
     "text": [
      "\n",
      "\u001b[A\n",
      "\u001b[A\n",
      "\u001b[A\n",
      "\u001b[A\n",
      "\u001b[A\n",
      "\u001b[A\n",
      "100%|██████████| 100/100 [00:00<00:00, 154.08it/s]\n"
     ]
    },
    {
     "name": "stdout",
     "output_type": "stream",
     "text": [
      "Spent 0.7 s to generate 65 traces\n",
      "Labels:  [0. 1. 2. 3.]\n",
      "exporting pickled dictionary to: F:\\BenchFRET_Simulated_Comparison_Data\\4 states\\pickledict\\noise_0.80_rate_0.25.pkl\n",
      "Generating traces...\n"
     ]
    },
    {
     "name": "stderr",
     "output_type": "stream",
     "text": [
      "\n",
      "\u001b[A\n",
      "\u001b[A\n",
      "\u001b[A\n",
      "\u001b[A\n",
      "\u001b[A\n",
      "\u001b[A\n",
      "100%|██████████| 100/100 [00:00<00:00, 149.48it/s]\n"
     ]
    },
    {
     "name": "stdout",
     "output_type": "stream",
     "text": [
      "Spent 0.7 s to generate 63 traces\n",
      "Labels:  [0. 1. 2. 3.]\n",
      "exporting pickled dictionary to: F:\\BenchFRET_Simulated_Comparison_Data\\4 states\\pickledict\\noise_0.80_rate_0.30.pkl\n",
      "Generating traces...\n"
     ]
    },
    {
     "name": "stderr",
     "output_type": "stream",
     "text": [
      "\n",
      "\u001b[A\n",
      "\u001b[A\n",
      "\u001b[A\n",
      "\u001b[A\n",
      "\u001b[A\n",
      "\u001b[A\n",
      "100%|██████████| 100/100 [00:00<00:00, 142.78it/s]\n"
     ]
    },
    {
     "name": "stdout",
     "output_type": "stream",
     "text": [
      "Spent 0.7 s to generate 59 traces\n",
      "Labels:  [0. 1. 2. 3.]\n",
      "exporting pickled dictionary to: F:\\BenchFRET_Simulated_Comparison_Data\\4 states\\pickledict\\noise_0.80_rate_0.35.pkl\n",
      "Generating traces...\n"
     ]
    },
    {
     "name": "stderr",
     "output_type": "stream",
     "text": [
      "\n",
      "\u001b[A\n",
      "\u001b[A\n",
      "\u001b[A\n",
      "\u001b[A\n",
      "\u001b[A\n",
      "\u001b[A\n",
      "100%|██████████| 100/100 [00:00<00:00, 139.89it/s]\n"
     ]
    },
    {
     "name": "stdout",
     "output_type": "stream",
     "text": [
      "Spent 0.7 s to generate 66 traces\n",
      "Labels:  [0. 1. 2. 3.]\n",
      "exporting pickled dictionary to: F:\\BenchFRET_Simulated_Comparison_Data\\4 states\\pickledict\\noise_0.80_rate_0.40.pkl\n",
      "Generating traces...\n"
     ]
    },
    {
     "name": "stderr",
     "output_type": "stream",
     "text": [
      "\n",
      "\u001b[A\n",
      "\u001b[A\n",
      "\u001b[A\n",
      "\u001b[A\n",
      "\u001b[A\n",
      "\u001b[A\n",
      "100%|██████████| 100/100 [00:00<00:00, 120.88it/s]\n"
     ]
    },
    {
     "name": "stdout",
     "output_type": "stream",
     "text": [
      "Spent 0.8 s to generate 54 traces\n",
      "Labels:  [0. 1. 2. 3.]\n",
      "exporting pickled dictionary to: F:\\BenchFRET_Simulated_Comparison_Data\\4 states\\pickledict\\noise_0.80_rate_0.45.pkl\n",
      "Generating traces...\n"
     ]
    },
    {
     "name": "stderr",
     "output_type": "stream",
     "text": [
      "\n",
      "\u001b[A\n",
      "\u001b[A\n",
      "\u001b[A\n",
      "\u001b[A\n",
      "\u001b[A\n",
      "\u001b[A\n",
      "100%|██████████| 100/100 [00:00<00:00, 145.77it/s]\n"
     ]
    },
    {
     "name": "stdout",
     "output_type": "stream",
     "text": [
      "Spent 0.7 s to generate 64 traces\n",
      "Labels:  [0. 1. 2. 3.]\n",
      "exporting pickled dictionary to: F:\\BenchFRET_Simulated_Comparison_Data\\4 states\\pickledict\\noise_0.80_rate_0.50.pkl\n"
     ]
    },
    {
     "data": {
      "application/json": {
       "ascii": false,
       "bar_format": null,
       "colour": null,
       "elapsed": 0.00449681282043457,
       "initial": 0,
       "n": 0,
       "ncols": null,
       "nrows": null,
       "postfix": null,
       "prefix": "",
       "rate": null,
       "total": 10,
       "unit": "it",
       "unit_divisor": 1000,
       "unit_scale": false
      },
      "application/vnd.jupyter.widget-view+json": {
       "model_id": "100dee088fb343d5848420aec558ce23",
       "version_major": 2,
       "version_minor": 0
      },
      "text/plain": [
       "  0%|          | 0/10 [00:00<?, ?it/s]"
      ]
     },
     "metadata": {},
     "output_type": "display_data"
    },
    {
     "name": "stdout",
     "output_type": "stream",
     "text": [
      "Generating traces...\n"
     ]
    },
    {
     "name": "stderr",
     "output_type": "stream",
     "text": [
      "\n",
      "\u001b[A\n",
      "\u001b[A\n",
      "\u001b[A\n",
      "\u001b[A\n",
      "\u001b[A\n",
      "\u001b[A\n",
      "\u001b[A\n",
      "100%|██████████| 100/100 [00:00<00:00, 128.41it/s]\n"
     ]
    },
    {
     "name": "stdout",
     "output_type": "stream",
     "text": [
      "Spent 0.8 s to generate 63 traces\n",
      "Labels:  [0. 1. 2. 3.]\n",
      "exporting pickled dictionary to: F:\\BenchFRET_Simulated_Comparison_Data\\4 states\\pickledict\\noise_0.85_rate_0.05.pkl\n",
      "Generating traces...\n"
     ]
    },
    {
     "name": "stderr",
     "output_type": "stream",
     "text": [
      "\n",
      "\u001b[A\n",
      "\u001b[A\n",
      "\u001b[A\n",
      "\u001b[A\n",
      "\u001b[A\n",
      "\u001b[A\n",
      "100%|██████████| 100/100 [00:00<00:00, 140.78it/s]\n"
     ]
    },
    {
     "name": "stdout",
     "output_type": "stream",
     "text": [
      "Spent 0.7 s to generate 61 traces\n",
      "Labels:  [0. 1. 2. 3.]\n",
      "exporting pickled dictionary to: F:\\BenchFRET_Simulated_Comparison_Data\\4 states\\pickledict\\noise_0.85_rate_0.10.pkl\n",
      "Generating traces...\n"
     ]
    },
    {
     "name": "stderr",
     "output_type": "stream",
     "text": [
      "\n",
      "\u001b[A\n",
      "\u001b[A\n",
      "\u001b[A\n",
      "\u001b[A\n",
      "\u001b[A\n",
      "\u001b[A\n",
      "100%|██████████| 100/100 [00:00<00:00, 157.23it/s]\n"
     ]
    },
    {
     "name": "stdout",
     "output_type": "stream",
     "text": [
      "Spent 0.7 s to generate 61 traces\n",
      "Labels:  [0. 1. 2. 3.]\n",
      "exporting pickled dictionary to: F:\\BenchFRET_Simulated_Comparison_Data\\4 states\\pickledict\\noise_0.85_rate_0.15.pkl\n",
      "Generating traces...\n"
     ]
    },
    {
     "name": "stderr",
     "output_type": "stream",
     "text": [
      "\n",
      "\u001b[A\n",
      "\u001b[A\n",
      "\u001b[A\n",
      "\u001b[A\n",
      "\u001b[A\n",
      "\u001b[A\n",
      "\u001b[A\n",
      "100%|██████████| 100/100 [00:00<00:00, 118.71it/s]\n"
     ]
    },
    {
     "name": "stdout",
     "output_type": "stream",
     "text": [
      "Spent 0.9 s to generate 54 traces\n",
      "Labels:  [0. 1. 2. 3.]\n",
      "exporting pickled dictionary to: F:\\BenchFRET_Simulated_Comparison_Data\\4 states\\pickledict\\noise_0.85_rate_0.20.pkl\n",
      "Generating traces...\n"
     ]
    },
    {
     "name": "stderr",
     "output_type": "stream",
     "text": [
      "\n",
      "\u001b[A\n",
      "\u001b[A\n",
      "\u001b[A\n",
      "\u001b[A\n",
      "\u001b[A\n",
      "\u001b[A\n",
      "100%|██████████| 100/100 [00:00<00:00, 132.59it/s]\n"
     ]
    },
    {
     "name": "stdout",
     "output_type": "stream",
     "text": [
      "Spent 0.8 s to generate 49 traces\n",
      "Labels:  [0. 1. 2. 3.]\n",
      "exporting pickled dictionary to: F:\\BenchFRET_Simulated_Comparison_Data\\4 states\\pickledict\\noise_0.85_rate_0.25.pkl\n",
      "Generating traces...\n"
     ]
    },
    {
     "name": "stderr",
     "output_type": "stream",
     "text": [
      "\n",
      "\u001b[A\n",
      "\u001b[A\n",
      "\u001b[A\n",
      "\u001b[A\n",
      "\u001b[A\n",
      "\u001b[A\n",
      "100%|██████████| 100/100 [00:00<00:00, 138.91it/s]\n"
     ]
    },
    {
     "name": "stdout",
     "output_type": "stream",
     "text": [
      "Spent 0.7 s to generate 58 traces\n",
      "Labels:  [0. 1. 2. 3.]\n",
      "exporting pickled dictionary to: F:\\BenchFRET_Simulated_Comparison_Data\\4 states\\pickledict\\noise_0.85_rate_0.30.pkl\n",
      "Generating traces...\n"
     ]
    },
    {
     "name": "stderr",
     "output_type": "stream",
     "text": [
      "\n",
      "\u001b[A\n",
      "\u001b[A\n",
      "\u001b[A\n",
      "\u001b[A\n",
      "\u001b[A\n",
      "\u001b[A\n",
      "100%|██████████| 100/100 [00:00<00:00, 146.18it/s]\n"
     ]
    },
    {
     "name": "stdout",
     "output_type": "stream",
     "text": [
      "Spent 0.7 s to generate 44 traces\n",
      "Labels:  [0. 1. 2. 3.]\n",
      "exporting pickled dictionary to: F:\\BenchFRET_Simulated_Comparison_Data\\4 states\\pickledict\\noise_0.85_rate_0.35.pkl\n",
      "Generating traces...\n"
     ]
    },
    {
     "name": "stderr",
     "output_type": "stream",
     "text": [
      "\n",
      "\u001b[A\n",
      "\u001b[A\n",
      "\u001b[A\n",
      "\u001b[A\n",
      "\u001b[A\n",
      "\u001b[A\n",
      "\u001b[A\n",
      "100%|██████████| 100/100 [00:00<00:00, 124.53it/s]\n"
     ]
    },
    {
     "name": "stdout",
     "output_type": "stream",
     "text": [
      "Spent 0.8 s to generate 58 traces\n",
      "Labels:  [0. 1. 2. 3.]\n",
      "exporting pickled dictionary to: F:\\BenchFRET_Simulated_Comparison_Data\\4 states\\pickledict\\noise_0.85_rate_0.40.pkl\n",
      "Generating traces...\n"
     ]
    },
    {
     "name": "stderr",
     "output_type": "stream",
     "text": [
      "\n",
      "\u001b[A\n",
      "\u001b[A\n",
      "\u001b[A\n",
      "\u001b[A\n",
      "\u001b[A\n",
      "\u001b[A\n",
      "100%|██████████| 100/100 [00:00<00:00, 158.23it/s]\n"
     ]
    },
    {
     "name": "stdout",
     "output_type": "stream",
     "text": [
      "Spent 0.7 s to generate 52 traces\n",
      "Labels:  [0. 1. 2. 3.]\n",
      "exporting pickled dictionary to: F:\\BenchFRET_Simulated_Comparison_Data\\4 states\\pickledict\\noise_0.85_rate_0.45.pkl\n",
      "Generating traces...\n"
     ]
    },
    {
     "name": "stderr",
     "output_type": "stream",
     "text": [
      "\n",
      "\u001b[A\n",
      "\u001b[A\n",
      "\u001b[A\n",
      "\u001b[A\n",
      "\u001b[A\n",
      "\u001b[A\n",
      "100%|██████████| 100/100 [00:00<00:00, 144.93it/s]\n"
     ]
    },
    {
     "name": "stdout",
     "output_type": "stream",
     "text": [
      "Spent 0.7 s to generate 53 traces\n",
      "Labels:  [0. 1. 2. 3.]\n",
      "exporting pickled dictionary to: F:\\BenchFRET_Simulated_Comparison_Data\\4 states\\pickledict\\noise_0.85_rate_0.50.pkl\n"
     ]
    },
    {
     "data": {
      "application/json": {
       "ascii": false,
       "bar_format": null,
       "colour": null,
       "elapsed": 0.0030002593994140625,
       "initial": 0,
       "n": 0,
       "ncols": null,
       "nrows": null,
       "postfix": null,
       "prefix": "",
       "rate": null,
       "total": 10,
       "unit": "it",
       "unit_divisor": 1000,
       "unit_scale": false
      },
      "application/vnd.jupyter.widget-view+json": {
       "model_id": "fad61cfbfd4349e7924c252cde54cdc7",
       "version_major": 2,
       "version_minor": 0
      },
      "text/plain": [
       "  0%|          | 0/10 [00:00<?, ?it/s]"
      ]
     },
     "metadata": {},
     "output_type": "display_data"
    },
    {
     "name": "stdout",
     "output_type": "stream",
     "text": [
      "Generating traces...\n"
     ]
    },
    {
     "name": "stderr",
     "output_type": "stream",
     "text": [
      "\n",
      "\u001b[A\n",
      "\u001b[A\n",
      "\u001b[A\n",
      "\u001b[A\n",
      "\u001b[A\n",
      "\u001b[A\n",
      "100%|██████████| 100/100 [00:00<00:00, 157.98it/s]\n"
     ]
    },
    {
     "name": "stdout",
     "output_type": "stream",
     "text": [
      "Spent 0.7 s to generate 50 traces\n",
      "Labels:  [0. 1. 2. 3.]\n",
      "exporting pickled dictionary to: F:\\BenchFRET_Simulated_Comparison_Data\\4 states\\pickledict\\noise_0.90_rate_0.05.pkl\n",
      "Generating traces...\n"
     ]
    },
    {
     "name": "stderr",
     "output_type": "stream",
     "text": [
      "\n",
      "\u001b[A\n",
      "\u001b[A\n",
      "\u001b[A\n",
      "\u001b[A\n",
      "\u001b[A\n",
      "\u001b[A\n",
      "100%|██████████| 100/100 [00:00<00:00, 139.80it/s]\n"
     ]
    },
    {
     "name": "stdout",
     "output_type": "stream",
     "text": [
      "Spent 0.7 s to generate 55 traces\n",
      "Labels:  [0. 1. 2. 3.]\n",
      "exporting pickled dictionary to: F:\\BenchFRET_Simulated_Comparison_Data\\4 states\\pickledict\\noise_0.90_rate_0.10.pkl\n",
      "Generating traces...\n"
     ]
    },
    {
     "name": "stderr",
     "output_type": "stream",
     "text": [
      "\n",
      "\u001b[A\n",
      "\u001b[A\n",
      "\u001b[A\n",
      "\u001b[A\n",
      "\u001b[A\n",
      "\u001b[A\n",
      "100%|██████████| 100/100 [00:00<00:00, 133.82it/s]\n"
     ]
    },
    {
     "name": "stdout",
     "output_type": "stream",
     "text": [
      "Spent 0.8 s to generate 54 traces\n",
      "Labels:  [0. 1. 2. 3.]\n",
      "exporting pickled dictionary to: F:\\BenchFRET_Simulated_Comparison_Data\\4 states\\pickledict\\noise_0.90_rate_0.15.pkl\n",
      "Generating traces...\n"
     ]
    },
    {
     "name": "stderr",
     "output_type": "stream",
     "text": [
      "\n",
      "\u001b[A\n",
      "\u001b[A\n",
      "\u001b[A\n",
      "\u001b[A\n",
      "\u001b[A\n",
      "\u001b[A\n",
      "100%|██████████| 100/100 [00:00<00:00, 155.04it/s]\n"
     ]
    },
    {
     "name": "stdout",
     "output_type": "stream",
     "text": [
      "Spent 0.7 s to generate 49 traces\n",
      "Labels:  [0. 1. 2. 3.]\n",
      "exporting pickled dictionary to: F:\\BenchFRET_Simulated_Comparison_Data\\4 states\\pickledict\\noise_0.90_rate_0.20.pkl\n",
      "Generating traces...\n"
     ]
    },
    {
     "name": "stderr",
     "output_type": "stream",
     "text": [
      "\n",
      "\u001b[A\n",
      "\u001b[A\n",
      "\u001b[A\n",
      "\u001b[A\n",
      "\u001b[A\n",
      "\u001b[A\n",
      "100%|██████████| 100/100 [00:00<00:00, 161.29it/s]\n"
     ]
    },
    {
     "name": "stdout",
     "output_type": "stream",
     "text": [
      "Spent 0.6 s to generate 40 traces\n",
      "Labels:  [0. 1. 2. 3.]\n",
      "exporting pickled dictionary to: F:\\BenchFRET_Simulated_Comparison_Data\\4 states\\pickledict\\noise_0.90_rate_0.25.pkl\n",
      "Generating traces...\n"
     ]
    },
    {
     "name": "stderr",
     "output_type": "stream",
     "text": [
      "\n",
      "\u001b[A\n",
      "\u001b[A\n",
      "\u001b[A\n",
      "\u001b[A\n",
      "\u001b[A\n",
      "\u001b[A\n",
      "100%|██████████| 100/100 [00:00<00:00, 147.66it/s]\n"
     ]
    },
    {
     "name": "stdout",
     "output_type": "stream",
     "text": [
      "Spent 0.7 s to generate 47 traces\n",
      "Labels:  [0. 1. 2. 3.]\n",
      "exporting pickled dictionary to: F:\\BenchFRET_Simulated_Comparison_Data\\4 states\\pickledict\\noise_0.90_rate_0.30.pkl\n",
      "Generating traces...\n"
     ]
    },
    {
     "name": "stderr",
     "output_type": "stream",
     "text": [
      "\n",
      "\u001b[A\n",
      "\u001b[A\n",
      "\u001b[A\n",
      "\u001b[A\n",
      "\u001b[A\n",
      "\u001b[A\n",
      "100%|██████████| 100/100 [00:00<00:00, 137.55it/s]\n"
     ]
    },
    {
     "name": "stdout",
     "output_type": "stream",
     "text": [
      "Spent 0.7 s to generate 52 traces\n",
      "Labels:  [0. 1. 2. 3.]\n",
      "exporting pickled dictionary to: F:\\BenchFRET_Simulated_Comparison_Data\\4 states\\pickledict\\noise_0.90_rate_0.35.pkl\n",
      "Generating traces...\n"
     ]
    },
    {
     "name": "stderr",
     "output_type": "stream",
     "text": [
      "\n",
      "\u001b[A\n",
      "\u001b[A\n",
      "\u001b[A\n",
      "\u001b[A\n",
      "\u001b[A\n",
      "100%|██████████| 100/100 [00:00<00:00, 160.35it/s]\n"
     ]
    },
    {
     "name": "stdout",
     "output_type": "stream",
     "text": [
      "Spent 0.6 s to generate 48 traces\n",
      "Labels:  [0. 1. 2. 3.]\n",
      "exporting pickled dictionary to: F:\\BenchFRET_Simulated_Comparison_Data\\4 states\\pickledict\\noise_0.90_rate_0.40.pkl\n",
      "Generating traces...\n"
     ]
    },
    {
     "name": "stderr",
     "output_type": "stream",
     "text": [
      "\n",
      "\u001b[A\n",
      "\u001b[A\n",
      "\u001b[A\n",
      "\u001b[A\n",
      "\u001b[A\n",
      "\u001b[A\n",
      "100%|██████████| 100/100 [00:00<00:00, 155.76it/s]\n"
     ]
    },
    {
     "name": "stdout",
     "output_type": "stream",
     "text": [
      "Spent 0.7 s to generate 47 traces\n",
      "Labels:  [0. 1. 2. 3.]\n",
      "exporting pickled dictionary to: F:\\BenchFRET_Simulated_Comparison_Data\\4 states\\pickledict\\noise_0.90_rate_0.45.pkl\n",
      "Generating traces...\n"
     ]
    },
    {
     "name": "stderr",
     "output_type": "stream",
     "text": [
      "\n",
      "\u001b[A\n",
      "\u001b[A\n",
      "\u001b[A\n",
      "\u001b[A\n",
      "\u001b[A\n",
      "100%|██████████| 100/100 [00:00<00:00, 163.67it/s]"
     ]
    },
    {
     "name": "stdout",
     "output_type": "stream",
     "text": [
      "Spent 0.6 s to generate 46 traces\n",
      "Labels:  [0. 1. 2. 3.]\n",
      "exporting pickled dictionary to: F:\\BenchFRET_Simulated_Comparison_Data\\4 states\\pickledict\\noise_0.90_rate_0.50.pkl\n"
     ]
    },
    {
     "name": "stderr",
     "output_type": "stream",
     "text": [
      "\n"
     ]
    },
    {
     "data": {
      "application/json": {
       "ascii": false,
       "bar_format": null,
       "colour": null,
       "elapsed": 0.003325223922729492,
       "initial": 0,
       "n": 0,
       "ncols": null,
       "nrows": null,
       "postfix": null,
       "prefix": "",
       "rate": null,
       "total": 10,
       "unit": "it",
       "unit_divisor": 1000,
       "unit_scale": false
      },
      "application/vnd.jupyter.widget-view+json": {
       "model_id": "6a7e1bda396142e79a0e5c701d7a9ffa",
       "version_major": 2,
       "version_minor": 0
      },
      "text/plain": [
       "  0%|          | 0/10 [00:00<?, ?it/s]"
      ]
     },
     "metadata": {},
     "output_type": "display_data"
    },
    {
     "name": "stdout",
     "output_type": "stream",
     "text": [
      "Generating traces...\n"
     ]
    },
    {
     "name": "stderr",
     "output_type": "stream",
     "text": [
      "\n",
      "\u001b[A\n",
      "\u001b[A\n",
      "\u001b[A\n",
      "\u001b[A\n",
      "\u001b[A\n",
      "\u001b[A\n",
      "\u001b[A\n",
      "100%|██████████| 100/100 [00:00<00:00, 134.49it/s]\n"
     ]
    },
    {
     "name": "stdout",
     "output_type": "stream",
     "text": [
      "Spent 0.8 s to generate 52 traces\n",
      "Labels:  [0. 1. 2. 3.]\n",
      "exporting pickled dictionary to: F:\\BenchFRET_Simulated_Comparison_Data\\4 states\\pickledict\\noise_0.95_rate_0.05.pkl\n",
      "Generating traces...\n"
     ]
    },
    {
     "name": "stderr",
     "output_type": "stream",
     "text": [
      "\n",
      "\u001b[A\n",
      "\u001b[A\n",
      "\u001b[A\n",
      "\u001b[A\n",
      "\u001b[A\n",
      "100%|██████████| 100/100 [00:00<00:00, 164.71it/s]\n"
     ]
    },
    {
     "name": "stdout",
     "output_type": "stream",
     "text": [
      "Spent 0.6 s to generate 40 traces\n",
      "Labels:  [0. 1. 2. 3.]\n",
      "exporting pickled dictionary to: F:\\BenchFRET_Simulated_Comparison_Data\\4 states\\pickledict\\noise_0.95_rate_0.10.pkl\n",
      "Generating traces...\n"
     ]
    },
    {
     "name": "stderr",
     "output_type": "stream",
     "text": [
      "\n",
      "\u001b[A\n",
      "\u001b[A\n",
      "\u001b[A\n",
      "\u001b[A\n",
      "\u001b[A\n",
      "100%|██████████| 100/100 [00:00<00:00, 163.11it/s]\n"
     ]
    },
    {
     "name": "stdout",
     "output_type": "stream",
     "text": [
      "Spent 0.6 s to generate 39 traces\n",
      "Labels:  [0. 1. 2. 3.]\n",
      "exporting pickled dictionary to: F:\\BenchFRET_Simulated_Comparison_Data\\4 states\\pickledict\\noise_0.95_rate_0.15.pkl\n",
      "Generating traces...\n"
     ]
    },
    {
     "name": "stderr",
     "output_type": "stream",
     "text": [
      "\n",
      "\u001b[A\n",
      "\u001b[A\n",
      "\u001b[A\n",
      "\u001b[A\n",
      "\u001b[A\n",
      "\u001b[A\n",
      "100%|██████████| 100/100 [00:00<00:00, 133.51it/s]\n"
     ]
    },
    {
     "name": "stdout",
     "output_type": "stream",
     "text": [
      "Spent 0.8 s to generate 34 traces\n",
      "Labels:  [0. 1. 2. 3.]\n",
      "exporting pickled dictionary to: F:\\BenchFRET_Simulated_Comparison_Data\\4 states\\pickledict\\noise_0.95_rate_0.20.pkl\n",
      "Generating traces...\n"
     ]
    },
    {
     "name": "stderr",
     "output_type": "stream",
     "text": [
      "\n",
      "\u001b[A\n",
      "\u001b[A\n",
      "\u001b[A\n",
      "\u001b[A\n",
      "\u001b[A\n",
      "100%|██████████| 100/100 [00:00<00:00, 162.35it/s]\n"
     ]
    },
    {
     "name": "stdout",
     "output_type": "stream",
     "text": [
      "Spent 0.6 s to generate 38 traces\n",
      "Labels:  [0. 1. 2. 3.]\n",
      "exporting pickled dictionary to: F:\\BenchFRET_Simulated_Comparison_Data\\4 states\\pickledict\\noise_0.95_rate_0.25.pkl\n",
      "Generating traces...\n"
     ]
    },
    {
     "name": "stderr",
     "output_type": "stream",
     "text": [
      "\n",
      "\u001b[A\n",
      "\u001b[A\n",
      "\u001b[A\n",
      "\u001b[A\n",
      "\u001b[A\n",
      "\u001b[A\n",
      "100%|██████████| 100/100 [00:00<00:00, 153.43it/s]\n"
     ]
    },
    {
     "name": "stdout",
     "output_type": "stream",
     "text": [
      "Spent 0.7 s to generate 36 traces\n",
      "Labels:  [0. 1. 2. 3.]\n",
      "exporting pickled dictionary to: F:\\BenchFRET_Simulated_Comparison_Data\\4 states\\pickledict\\noise_0.95_rate_0.30.pkl\n",
      "Generating traces...\n"
     ]
    },
    {
     "name": "stderr",
     "output_type": "stream",
     "text": [
      "\n",
      "\u001b[A\n",
      "\u001b[A\n",
      "\u001b[A\n",
      "\u001b[A\n",
      "\u001b[A\n",
      "100%|██████████| 100/100 [00:00<00:00, 168.62it/s]\n"
     ]
    },
    {
     "name": "stdout",
     "output_type": "stream",
     "text": [
      "Spent 0.6 s to generate 37 traces\n",
      "Labels:  [0. 1. 2. 3.]\n",
      "exporting pickled dictionary to: F:\\BenchFRET_Simulated_Comparison_Data\\4 states\\pickledict\\noise_0.95_rate_0.35.pkl\n",
      "Generating traces...\n"
     ]
    },
    {
     "name": "stderr",
     "output_type": "stream",
     "text": [
      "\n",
      "\u001b[A\n",
      "\u001b[A\n",
      "\u001b[A\n",
      "\u001b[A\n",
      "\u001b[A\n",
      "\u001b[A\n",
      "100%|██████████| 100/100 [00:00<00:00, 140.21it/s]\n"
     ]
    },
    {
     "name": "stdout",
     "output_type": "stream",
     "text": [
      "Spent 0.7 s to generate 39 traces\n",
      "Labels:  [0. 1. 2. 3.]\n",
      "exporting pickled dictionary to: F:\\BenchFRET_Simulated_Comparison_Data\\4 states\\pickledict\\noise_0.95_rate_0.40.pkl\n",
      "Generating traces...\n"
     ]
    },
    {
     "name": "stderr",
     "output_type": "stream",
     "text": [
      "\n",
      "\u001b[A\n",
      "\u001b[A\n",
      "\u001b[A\n",
      "\u001b[A\n",
      "\u001b[A\n",
      "100%|██████████| 100/100 [00:00<00:00, 160.89it/s]\n"
     ]
    },
    {
     "name": "stdout",
     "output_type": "stream",
     "text": [
      "Spent 0.6 s to generate 42 traces\n",
      "Labels:  [0. 1. 2. 3.]\n",
      "exporting pickled dictionary to: F:\\BenchFRET_Simulated_Comparison_Data\\4 states\\pickledict\\noise_0.95_rate_0.45.pkl\n",
      "Generating traces...\n"
     ]
    },
    {
     "name": "stderr",
     "output_type": "stream",
     "text": [
      "\n",
      "\u001b[A\n",
      "\u001b[A\n",
      "\u001b[A\n",
      "\u001b[A\n",
      "\u001b[A\n",
      "\u001b[A\n",
      "100%|██████████| 100/100 [00:00<00:00, 147.72it/s]"
     ]
    },
    {
     "name": "stdout",
     "output_type": "stream",
     "text": [
      "Spent 0.7 s to generate 36 traces\n",
      "Labels:  [0. 1. 2. 3.]\n",
      "exporting pickled dictionary to: F:\\BenchFRET_Simulated_Comparison_Data\\4 states\\pickledict\\noise_0.95_rate_0.50.pkl\n"
     ]
    },
    {
     "name": "stderr",
     "output_type": "stream",
     "text": [
      "\n"
     ]
    },
    {
     "data": {
      "application/json": {
       "ascii": false,
       "bar_format": null,
       "colour": null,
       "elapsed": 0.003000497817993164,
       "initial": 0,
       "n": 0,
       "ncols": null,
       "nrows": null,
       "postfix": null,
       "prefix": "",
       "rate": null,
       "total": 10,
       "unit": "it",
       "unit_divisor": 1000,
       "unit_scale": false
      },
      "application/vnd.jupyter.widget-view+json": {
       "model_id": "bfc517f048a34e2eb6929731ae21d2d4",
       "version_major": 2,
       "version_minor": 0
      },
      "text/plain": [
       "  0%|          | 0/10 [00:00<?, ?it/s]"
      ]
     },
     "metadata": {},
     "output_type": "display_data"
    },
    {
     "name": "stdout",
     "output_type": "stream",
     "text": [
      "Generating traces...\n"
     ]
    },
    {
     "name": "stderr",
     "output_type": "stream",
     "text": [
      "\n",
      "\u001b[A\n",
      "\u001b[A\n",
      "\u001b[A\n",
      "\u001b[A\n",
      "\u001b[A\n",
      "\u001b[A\n",
      "100%|██████████| 100/100 [00:00<00:00, 139.71it/s]\n"
     ]
    },
    {
     "name": "stdout",
     "output_type": "stream",
     "text": [
      "Spent 0.7 s to generate 25 traces\n",
      "Labels:  [0. 1. 2. 3.]\n",
      "exporting pickled dictionary to: F:\\BenchFRET_Simulated_Comparison_Data\\4 states\\pickledict\\noise_1.00_rate_0.05.pkl\n",
      "Generating traces...\n"
     ]
    },
    {
     "name": "stderr",
     "output_type": "stream",
     "text": [
      "\n",
      "\u001b[A\n",
      "\u001b[A\n",
      "\u001b[A\n",
      "\u001b[A\n",
      "\u001b[A\n",
      "100%|██████████| 100/100 [00:00<00:00, 163.33it/s]\n"
     ]
    },
    {
     "name": "stdout",
     "output_type": "stream",
     "text": [
      "Spent 0.6 s to generate 22 traces\n",
      "Labels:  [0. 1. 2. 3.]\n",
      "exporting pickled dictionary to: F:\\BenchFRET_Simulated_Comparison_Data\\4 states\\pickledict\\noise_1.00_rate_0.10.pkl\n",
      "Generating traces...\n"
     ]
    },
    {
     "name": "stderr",
     "output_type": "stream",
     "text": [
      "\n",
      "\u001b[A\n",
      "\u001b[A\n",
      "\u001b[A\n",
      "\u001b[A\n",
      "\u001b[A\n",
      "100%|██████████| 100/100 [00:00<00:00, 165.41it/s]\n"
     ]
    },
    {
     "name": "stdout",
     "output_type": "stream",
     "text": [
      "Spent 0.6 s to generate 34 traces\n",
      "Labels:  [0. 1. 2. 3.]\n",
      "exporting pickled dictionary to: F:\\BenchFRET_Simulated_Comparison_Data\\4 states\\pickledict\\noise_1.00_rate_0.15.pkl\n",
      "Generating traces...\n"
     ]
    },
    {
     "name": "stderr",
     "output_type": "stream",
     "text": [
      "\n",
      "\u001b[A\n",
      "\u001b[A\n",
      "\u001b[A\n",
      "\u001b[A\n",
      "\u001b[A\n",
      "100%|██████████| 100/100 [00:00<00:00, 162.95it/s]\n"
     ]
    },
    {
     "name": "stdout",
     "output_type": "stream",
     "text": [
      "Spent 0.6 s to generate 27 traces\n",
      "Labels:  [0. 1. 2. 3.]\n",
      "exporting pickled dictionary to: F:\\BenchFRET_Simulated_Comparison_Data\\4 states\\pickledict\\noise_1.00_rate_0.20.pkl\n",
      "Generating traces...\n"
     ]
    },
    {
     "name": "stderr",
     "output_type": "stream",
     "text": [
      "\n",
      "\u001b[A\n",
      "\u001b[A\n",
      "\u001b[A\n",
      "\u001b[A\n",
      "\u001b[A\n",
      "\u001b[A\n",
      "100%|██████████| 100/100 [00:00<00:00, 140.82it/s]\n"
     ]
    },
    {
     "name": "stdout",
     "output_type": "stream",
     "text": [
      "Spent 0.7 s to generate 32 traces\n",
      "Labels:  [0. 1. 2. 3.]\n",
      "exporting pickled dictionary to: F:\\BenchFRET_Simulated_Comparison_Data\\4 states\\pickledict\\noise_1.00_rate_0.25.pkl\n",
      "Generating traces...\n"
     ]
    },
    {
     "name": "stderr",
     "output_type": "stream",
     "text": [
      "\n",
      "\u001b[A\n",
      "\u001b[A\n",
      "\u001b[A\n",
      "\u001b[A\n",
      "\u001b[A\n",
      "100%|██████████| 100/100 [00:00<00:00, 166.39it/s]\n"
     ]
    },
    {
     "name": "stdout",
     "output_type": "stream",
     "text": [
      "Spent 0.6 s to generate 29 traces\n",
      "Labels:  [0. 1. 2. 3.]\n",
      "exporting pickled dictionary to: F:\\BenchFRET_Simulated_Comparison_Data\\4 states\\pickledict\\noise_1.00_rate_0.30.pkl\n",
      "Generating traces...\n"
     ]
    },
    {
     "name": "stderr",
     "output_type": "stream",
     "text": [
      "\n",
      "\u001b[A\n",
      "\u001b[A\n",
      "\u001b[A\n",
      "\u001b[A\n",
      "\u001b[A\n",
      "100%|██████████| 100/100 [00:00<00:00, 170.33it/s]\n"
     ]
    },
    {
     "name": "stdout",
     "output_type": "stream",
     "text": [
      "Spent 0.6 s to generate 29 traces\n",
      "Labels:  [0. 1. 2. 3.]\n",
      "exporting pickled dictionary to: F:\\BenchFRET_Simulated_Comparison_Data\\4 states\\pickledict\\noise_1.00_rate_0.35.pkl\n",
      "Generating traces...\n"
     ]
    },
    {
     "name": "stderr",
     "output_type": "stream",
     "text": [
      "\n",
      "\u001b[A\n",
      "\u001b[A\n",
      "\u001b[A\n",
      "\u001b[A\n",
      "\u001b[A\n",
      "100%|██████████| 100/100 [00:00<00:00, 171.53it/s]\n"
     ]
    },
    {
     "name": "stdout",
     "output_type": "stream",
     "text": [
      "Spent 0.6 s to generate 33 traces\n",
      "Labels:  [0. 1. 2. 3.]\n",
      "exporting pickled dictionary to: F:\\BenchFRET_Simulated_Comparison_Data\\4 states\\pickledict\\noise_1.00_rate_0.40.pkl\n",
      "Generating traces...\n"
     ]
    },
    {
     "name": "stderr",
     "output_type": "stream",
     "text": [
      "\n",
      "\u001b[A\n",
      "\u001b[A\n",
      "\u001b[A\n",
      "\u001b[A\n",
      "\u001b[A\n",
      "\u001b[A\n",
      "\u001b[A\n",
      "100%|██████████| 100/100 [00:00<00:00, 135.28it/s]\n"
     ]
    },
    {
     "name": "stdout",
     "output_type": "stream",
     "text": [
      "Spent 0.7 s to generate 24 traces\n",
      "Labels:  [0. 1. 2. 3.]\n",
      "exporting pickled dictionary to: F:\\BenchFRET_Simulated_Comparison_Data\\4 states\\pickledict\\noise_1.00_rate_0.45.pkl\n",
      "Generating traces...\n"
     ]
    },
    {
     "name": "stderr",
     "output_type": "stream",
     "text": [
      "\n",
      "\u001b[A\n",
      "\u001b[A\n",
      "\u001b[A\n",
      "\u001b[A\n",
      "\u001b[A\n",
      "\u001b[A\n",
      "100%|██████████| 100/100 [00:00<00:00, 156.51it/s]"
     ]
    },
    {
     "name": "stdout",
     "output_type": "stream",
     "text": [
      "Spent 0.7 s to generate 24 traces\n",
      "Labels:  [0. 1. 2. 3.]\n",
      "exporting pickled dictionary to: F:\\BenchFRET_Simulated_Comparison_Data\\4 states\\pickledict\\noise_1.00_rate_0.50.pkl\n"
     ]
    },
    {
     "name": "stderr",
     "output_type": "stream",
     "text": [
      "\n"
     ]
    }
   ],
   "source": [
    "for noise in tqdm(noise_range):\n",
    "    for rate in tqdm(trans_rates):\n",
    "        bg_noise_scale = (noise,noise)\n",
    "        a,_a = np.random.uniform(0, rate, 2)\n",
    "        b,_b = np.random.uniform(0, rate, 2)\n",
    "        c,_c = np.random.uniform(0, rate, 2)\n",
    "        d,_d = np.random.uniform(0, rate, 2)\n",
    "        trans_mat = np.array([[1-rate,a,_a,rate-a-_a], [b,1-rate,_b,rate-b-_b], [c,rate-c-_c,1-rate,_c], [d,_d,rate-d-_d,1-rate]])\n",
    "        newsim = NewSim(n_frames=1000,\n",
    "                        n_traces=100,\n",
    "                        outdir=outdir,\n",
    "                        n_states=4,\n",
    "                        noise = bg_noise_scale,\n",
    "                        trans_mat=trans_mat,\n",
    "                        export_mode=\"pickledict\", \n",
    "                        reduce_memory=True,\n",
    "                        export_name='noise_{:.2f}'.format(noise) + '_rate_{:.2f}'.format(rate))"
   ]
  },
  {
   "cell_type": "code",
   "execution_count": null,
   "metadata": {},
   "outputs": [],
   "source": []
  }
 ],
 "metadata": {
  "kernelspec": {
   "display_name": "DeepGapSeq",
   "language": "python",
   "name": "python3"
  },
  "language_info": {
   "codemirror_mode": {
    "name": "ipython",
    "version": 3
   },
   "file_extension": ".py",
   "mimetype": "text/x-python",
   "name": "python",
   "nbconvert_exporter": "python",
   "pygments_lexer": "ipython3",
   "version": "3.9.0"
  }
 },
 "nbformat": 4,
 "nbformat_minor": 2
}
