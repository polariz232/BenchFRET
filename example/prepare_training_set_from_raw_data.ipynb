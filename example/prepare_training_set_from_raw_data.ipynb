{
 "cells": [
  {
   "cell_type": "code",
   "execution_count": 1,
   "metadata": {},
   "outputs": [],
   "source": [
    "from BenchFRET.pipeline.dataloader import RealLoader_training_raw\n",
    "from BenchFRET.pipeline.analysis import *\n",
    "from BenchFRET.DeepLASI.wrapper import DeepLasiWrapper \n",
    "import os\n",
    "from BenchFRET.pipeline.batch_tools import *"
   ]
  },
  {
   "cell_type": "code",
   "execution_count": 2,
   "metadata": {},
   "outputs": [],
   "source": [
    "folder_path = r\"F:\\Traces exported for training_FRET\"\n",
    "file_paths = [f for f in os.listdir(folder_path) if os.path.isfile(os.path.join(folder_path, f))]"
   ]
  },
  {
   "cell_type": "code",
   "execution_count": 7,
   "metadata": {},
   "outputs": [
    {
     "name": "stdout",
     "output_type": "stream",
     "text": [
      "got 7 traces of various length\n",
      "\n",
      "got 7 labels of n_states: [2 3 5]\n",
      "got 54 traces of various length\n",
      "\n",
      "got 54 labels of n_states: [2]\n",
      "got 59 traces of various length\n",
      "\n",
      "got 59 labels of n_states: [1 2]\n",
      "got 19 traces of various length\n",
      "\n",
      "got 19 labels of n_states: [1 2]\n",
      "got 4 traces of various length\n",
      "\n",
      "got 4 labels of n_states: [1 2]\n",
      "got 82 traces of various length\n",
      "\n",
      "got 82 labels of n_states: [1 2 3 4 5 6]\n",
      "got 9 traces of various length\n",
      "\n",
      "got 9 labels of n_states: [1 2]\n",
      "got 31 traces of various length\n",
      "\n",
      "got 31 labels of n_states: [1 2 3 4 5]\n",
      "got 44 traces of various length\n",
      "\n",
      "got 44 labels of n_states: [1 2]\n",
      "got 39 traces of various length\n",
      "\n",
      "got 39 labels of n_states: [2 3]\n"
     ]
    }
   ],
   "source": [
    "df = pd.DataFrame(columns = ['trace_id','DD','DA','labels','n_states'])\n",
    "for k, file in enumerate(file_paths):\n",
    "    \n",
    "    loader = RealLoader_training_raw(os.path.join(folder_path, file))\n",
    "    traces = loader.get_data()\n",
    "    labels,n_states = loader.get_labels()\n",
    "    for i in range(len(traces)):\n",
    "        df.loc[len(df)] = [k,traces[i][:,0],traces[i][:,1],labels[i],n_states[i]]"
   ]
  },
  {
   "cell_type": "code",
   "execution_count": 8,
   "metadata": {},
   "outputs": [],
   "source": [
    "sub_dfs = df.groupby('n_states')\n",
    "sub_dfs = [sub_dfs.get_group(x) for x in sub_dfs.groups]"
   ]
  },
  {
   "cell_type": "code",
   "execution_count": 12,
   "metadata": {},
   "outputs": [
    {
     "data": {
      "text/plain": [
       "(29, 2)"
      ]
     },
     "execution_count": 12,
     "metadata": {},
     "output_type": "execute_result"
    }
   ],
   "source": [
    "sub_dfs[0][['DD','DA']].values.shape"
   ]
  },
  {
   "cell_type": "code",
   "execution_count": null,
   "metadata": {},
   "outputs": [],
   "source": [
    "file_paths = [f for f in os.listdir(folder_path) if os.path.isfile(os.path.join(folder_path, f))]\n",
    "df = pd.DataFrame(columns = ['traces','labels','n_states'])\n",
    "for file in file_paths:\n",
    "loader = RealLoader_training_raw(os.path.join(folder_path, file))\n",
    "traces = loader.get_data()\n",
    "labels,n_states = loader.get_labels()\n",
    "for i in range(len(traces)):\n",
    "    df.loc[len(df)] = [traces[i],labels[i],n_states[i]]\n",
    "sub_dfs = df.groupby('n_states')\n",
    "sub_dfs = [sub_dfs.get_group(x) for x in sub_dfs.groups]\n",
    "for i in range(len(sub_dfs)):\n",
    "trace_dictionary = {'data':[],'labels':[],'n_states':[]}\n",
    "trace_dictionary['data'].append(sub_dfs[i][['traces']].values)\n",
    "trace_dictionary['labels'].append(sub_dfs[i]['labels'].values)\n",
    "trace_dictionary['n_states'].append(sub_dfs[i]['n_states'].values)\n",
    "if save_path is not None:\n",
    "    with open(os.path.join(save_path,f'real_dataset_{sub_dfs[i][\"n_states\"].values[0]}_states.pkl'), 'wb') as f:\n",
    "        pickle.dump(trace_dictionary,f,protocol=pickle.HIGHEST_PROTOCOL)\n",
    "    print(f'prepared real_dataset_{sub_dfs[i][\"n_states\"].values[0]}_states.pkl')\n",
    "else:\n",
    "    raise ValueError('Please specify the save path')        "
   ]
  },
  {
   "cell_type": "code",
   "execution_count": 3,
   "metadata": {},
   "outputs": [
    {
     "name": "stdout",
     "output_type": "stream",
     "text": [
      "got 7 traces of various length\n",
      "\n",
      "got 7 labels of n_states: [2 3 5]\n",
      "got 54 traces of various length\n",
      "\n",
      "got 54 labels of n_states: [2]\n",
      "got 59 traces of various length\n",
      "\n",
      "got 59 labels of n_states: [1 2]\n",
      "got 19 traces of various length\n",
      "\n",
      "got 19 labels of n_states: [1 2]\n",
      "got 4 traces of various length\n",
      "\n",
      "got 4 labels of n_states: [1 2]\n",
      "got 82 traces of various length\n",
      "\n",
      "got 82 labels of n_states: [1 2 3 4 5 6]\n",
      "got 9 traces of various length\n",
      "\n",
      "got 9 labels of n_states: [1 2]\n",
      "got 31 traces of various length\n",
      "\n",
      "got 31 labels of n_states: [1 2 3 4 5]\n",
      "got 44 traces of various length\n",
      "\n",
      "got 44 labels of n_states: [1 2]\n",
      "got 39 traces of various length\n",
      "\n",
      "got 39 labels of n_states: [2 3]\n",
      "prepared real_dataset_1_states.pkl\n",
      "prepared real_dataset_2_states.pkl\n",
      "prepared real_dataset_3_states.pkl\n",
      "prepared real_dataset_4_states.pkl\n",
      "prepared real_dataset_5_states.pkl\n",
      "prepared real_dataset_6_states.pkl\n"
     ]
    }
   ],
   "source": [
    "prepare_real_dataset(folder_path,folder_path)"
   ]
  },
  {
   "cell_type": "code",
   "execution_count": 2,
   "metadata": {},
   "outputs": [],
   "source": [
    "\n"
   ]
  }
 ],
 "metadata": {
  "kernelspec": {
   "display_name": "DeepGapSeq",
   "language": "python",
   "name": "python3"
  },
  "language_info": {
   "codemirror_mode": {
    "name": "ipython",
    "version": 3
   },
   "file_extension": ".py",
   "mimetype": "text/x-python",
   "name": "python",
   "nbconvert_exporter": "python",
   "pygments_lexer": "ipython3",
   "version": "3.9.0"
  }
 },
 "nbformat": 4,
 "nbformat_minor": 2
}
