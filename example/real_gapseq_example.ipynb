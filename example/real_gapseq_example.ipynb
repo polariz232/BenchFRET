{
 "cells": [
  {
   "cell_type": "code",
   "execution_count": null,
   "metadata": {},
   "outputs": [],
   "source": [
    "from BenchFRET.pipeline.dataloader import RealLoader_gapseq\n",
    "from BenchFRET.pipeline.analysis import *\n",
    "from BenchFRET.DeepLASI.wrapper import DeepLasiWrapper\n",
    "from glob2 import glob\n",
    "import os"
   ]
  },
  {
   "cell_type": "code",
   "execution_count": null,
   "metadata": {},
   "outputs": [],
   "source": [
    "directory_path = r\"F:/Traces for ML_GAP-sequencing\"\n",
    "\n",
    "complimentary_files_path = os.path.join(directory_path, \"Complementary Traces\")\n",
    "noncomplimentary_files_path = os.path.join(directory_path, \"Non_Complementary Traces\")\n",
    "\n",
    "less_frequent_binding_files = glob(complimentary_files_path + \"*/*_gapseqML.txt\")\n",
    "more_frequent_binding_files = glob(noncomplimentary_files_path + \"*/*_gapseqML.txt\")\n"
   ]
  },
  {
   "cell_type": "code",
   "execution_count": null,
   "metadata": {},
   "outputs": [],
   "source": [
    "deeplasi = DeepLasiWrapper()"
   ]
  },
  {
   "cell_type": "code",
   "execution_count": null,
   "metadata": {},
   "outputs": [],
   "source": [
    "less_frequent_loader = RealLoader_gapseq(less_frequent_binding_files)\n",
    "less_data = less_frequent_loader.get_data()\n",
    "detected_states_less, _ = deeplasi.predict(less_data,n_colors=1,n_states=2)\n",
    "\n",
    "more_frequent_loader = RealLoader_gapseq(more_frequent_binding_files)\n",
    "more_data = more_frequent_loader.get_data()\n",
    "detected_states_more, _ = deeplasi.predict(more_data,n_colors=1,n_states=2)"
   ]
  },
  {
   "cell_type": "code",
   "execution_count": null,
   "metadata": {},
   "outputs": [],
   "source": [
    "less_dwell_time = get_dwell_times(detected_states_less,all_together=True,bin_size=1)\n",
    "more_dwell_time = get_dwell_times(detected_states_more,all_together=True,bin_size=1)"
   ]
  },
  {
   "cell_type": "code",
   "execution_count": null,
   "metadata": {},
   "outputs": [],
   "source": [
    "plot_FRET_efficiency_histogram(less_data)\n",
    "plot_FRET_efficiency_histogram(more_data)"
   ]
  },
  {
   "cell_type": "code",
   "execution_count": null,
   "metadata": {},
   "outputs": [],
   "source": []
  },
  {
   "cell_type": "code",
   "execution_count": null,
   "metadata": {},
   "outputs": [],
   "source": []
  }
 ],
 "metadata": {
  "kernelspec": {
   "display_name": "DeepGapSeq",
   "language": "python",
   "name": "python3"
  },
  "language_info": {
   "codemirror_mode": {
    "name": "ipython",
    "version": 3
   },
   "file_extension": ".py",
   "mimetype": "text/x-python",
   "name": "python",
   "nbconvert_exporter": "python",
   "pygments_lexer": "ipython3",
   "version": "3.9.0"
  }
 },
 "nbformat": 4,
 "nbformat_minor": 2
}
