{
 "cells": [
  {
   "cell_type": "code",
   "execution_count": 1,
   "metadata": {},
   "outputs": [],
   "source": [
    "from BenchFRET.pipeline.dataloader import *\n",
    "import numpy as np"
   ]
  },
  {
   "cell_type": "code",
   "execution_count": 2,
   "metadata": {},
   "outputs": [],
   "source": [
    "data_path = r\"E:\\OneDrive - Nexus365\\Desktop\\physics\\Year 4\\project\\BenchFRET\\data\\simulated_traces\\pickledict\\test.pkl\""
   ]
  },
  {
   "cell_type": "code",
   "execution_count": 3,
   "metadata": {},
   "outputs": [],
   "source": [
    "simloader = SimLoader(data_path=data_path)"
   ]
  },
  {
   "cell_type": "code",
   "execution_count": 4,
   "metadata": {},
   "outputs": [
    {
     "name": "stdout",
     "output_type": "stream",
     "text": [
      "trace are of shape:(62, 500, 9)\n",
      "got 62 traces containing 9 features: DD, DA, AA, E, E_true, label, cohen_d, min_E_diff, trans_mean\n",
      "extracted only DD, DA as output 1, the full data as output 2\n",
      "\n"
     ]
    }
   ],
   "source": [
    "_, data = simloader.get_data()"
   ]
  },
  {
   "cell_type": "code",
   "execution_count": 18,
   "metadata": {},
   "outputs": [
    {
     "name": "stdout",
     "output_type": "stream",
     "text": [
      "labels are of shape:(1, 1000)\n",
      "got labels for 1 traces\n",
      "\n"
     ]
    }
   ],
   "source": [
    "labels = simloader.get_labels()"
   ]
  },
  {
   "cell_type": "code",
   "execution_count": 19,
   "metadata": {},
   "outputs": [
    {
     "name": "stdout",
     "output_type": "stream",
     "text": [
      "got parameters dictionary containing the following keys:['n_traces', 'n_frames', 'n_colors', 'n_states', 'trans_mat', 'noise', 'gamma_noise_prob', 'reduce_memory', 'mode', 'parallel_asynchronous', 'min_state_diff']\n",
      "\n"
     ]
    },
    {
     "data": {
      "text/plain": [
       "{'n_traces': 1,\n",
       " 'n_frames': 1000,\n",
       " 'n_colors': 2,\n",
       " 'n_states': 2,\n",
       " 'trans_mat': array([[0.9, 0.1],\n",
       "        [0.1, 0.9]]),\n",
       " 'noise': (0.01, 1.2),\n",
       " 'gamma_noise_prob': 0.8,\n",
       " 'reduce_memory': False,\n",
       " 'mode': 'state_mode',\n",
       " 'parallel_asynchronous': False,\n",
       " 'min_state_diff': 0.1}"
      ]
     },
     "execution_count": 19,
     "metadata": {},
     "output_type": "execute_result"
    }
   ],
   "source": [
    "simloader.get_parameters()"
   ]
  },
  {
   "cell_type": "code",
   "execution_count": 21,
   "metadata": {},
   "outputs": [
    {
     "data": {
      "text/plain": [
       "(1000,)"
      ]
     },
     "execution_count": 21,
     "metadata": {},
     "output_type": "execute_result"
    }
   ],
   "source": [
    "labels.reshape(-1).shape"
   ]
  },
  {
   "cell_type": "code",
   "execution_count": null,
   "metadata": {},
   "outputs": [],
   "source": []
  }
 ],
 "metadata": {
  "kernelspec": {
   "display_name": "DeepGapSeq",
   "language": "python",
   "name": "python3"
  },
  "language_info": {
   "codemirror_mode": {
    "name": "ipython",
    "version": 3
   },
   "file_extension": ".py",
   "mimetype": "text/x-python",
   "name": "python",
   "nbconvert_exporter": "python",
   "pygments_lexer": "ipython3",
   "version": "3.9.0"
  }
 },
 "nbformat": 4,
 "nbformat_minor": 2
}
