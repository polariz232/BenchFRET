{
 "cells": [
  {
   "cell_type": "code",
   "execution_count": 3,
   "metadata": {},
   "outputs": [],
   "source": [
    "from BenchFRET.pipeline.dataloader import *\n",
    "import numpy as np"
   ]
  },
  {
   "cell_type": "code",
   "execution_count": 4,
   "metadata": {},
   "outputs": [],
   "source": [
    "data_path = r\"E:\\OneDrive - Nexus365\\Desktop\\physics\\Year 4\\project\\BenchFRET\\data\\simulated_traces\\pickledict\\trace_dataset_2024_01_29.pkl\""
   ]
  },
  {
   "cell_type": "code",
   "execution_count": 5,
   "metadata": {},
   "outputs": [],
   "source": [
    "simloader = SimLoader(data_path=data_path)"
   ]
  },
  {
   "cell_type": "code",
   "execution_count": 4,
   "metadata": {},
   "outputs": [
    {
     "name": "stdout",
     "output_type": "stream",
     "text": [
      "shape:(58,500,2)\n",
      "got 58 traces containing 2 features: DD, DA\n"
     ]
    }
   ],
   "source": [
    "data = simloader.get_data()"
   ]
  },
  {
   "cell_type": "code",
   "execution_count": 6,
   "metadata": {},
   "outputs": [
    {
     "name": "stdout",
     "output_type": "stream",
     "text": [
      "shape:(58,500,1)\n",
      "got labels for 58 traces\n"
     ]
    }
   ],
   "source": [
    "labels = simloader.get_labels()"
   ]
  },
  {
   "cell_type": "code",
   "execution_count": 7,
   "metadata": {},
   "outputs": [
    {
     "name": "stdout",
     "output_type": "stream",
     "text": [
      "got parameters dictionary containing the following keys:['n_traces', 'n_frames', 'n_colors', 'n_states', 'trans_mat', 'noise', 'gamma_noise_prob', 'reduce_memory', 'mode', 'parallel_asynchronous', 'min_state_diff']\n"
     ]
    }
   ],
   "source": [
    "param_dict = simloader.get_parameters()"
   ]
  },
  {
   "cell_type": "code",
   "execution_count": null,
   "metadata": {},
   "outputs": [],
   "source": []
  }
 ],
 "metadata": {
  "kernelspec": {
   "display_name": "DeepGapSeq",
   "language": "python",
   "name": "python3"
  },
  "language_info": {
   "codemirror_mode": {
    "name": "ipython",
    "version": 3
   },
   "file_extension": ".py",
   "mimetype": "text/x-python",
   "name": "python",
   "nbconvert_exporter": "python",
   "pygments_lexer": "ipython3",
   "version": "3.9.0"
  }
 },
 "nbformat": 4,
 "nbformat_minor": 2
}
