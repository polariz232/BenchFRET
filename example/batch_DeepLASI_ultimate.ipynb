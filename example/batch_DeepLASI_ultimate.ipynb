{
 "cells": [
  {
   "cell_type": "code",
   "execution_count": null,
   "metadata": {},
   "outputs": [],
   "source": [
    "from BenchFRET.pipeline.batch_tools import DeepLASI_performance_batch\n",
    "import json\n",
    "import os\n",
    "import numpy as np\n",
    "import pandas as pd\n",
    "from BenchFRET.pipeline.analysis import draw_compare_plot"
   ]
  },
  {
   "cell_type": "code",
   "execution_count": null,
   "metadata": {},
   "outputs": [],
   "source": [
    "folder_path = r\"F:\\BenchFRET_Simulated_Comparison_Data\\2 states\\pickledict\""
   ]
  },
  {
   "cell_type": "code",
   "execution_count": null,
   "metadata": {},
   "outputs": [],
   "source": [
    "DeepLASI_performance_batch(folder_path,\n",
    "                            n_colors=2,\n",
    "                            n_states=2,\n",
    "                            save_path=r'E:\\OneDrive - Nexus365\\Desktop\\physics\\Year 4\\project\\BenchFRET\\dev\\DeepLASI_prediction_2_states_re.json',\n",
    "                            retrained_model_name='2_states_retrained.h5')"
   ]
  },
  {
   "cell_type": "code",
   "execution_count": null,
   "metadata": {},
   "outputs": [],
   "source": [
    "df_og = pd.read_json(r'E:\\OneDrive - Nexus365\\Desktop\\physics\\Year 4\\project\\BenchFRET\\dev\\DeepLASI_prediction_2_states.json',orient='split')\n",
    "df_retrained = pd.read_json(r'E:\\OneDrive - Nexus365\\Desktop\\physics\\Year 4\\project\\BenchFRET\\dev\\DeepLASI_prediction_2_states_re.json',orient='split')"
   ]
  },
  {
   "cell_type": "code",
   "execution_count": null,
   "metadata": {},
   "outputs": [],
   "source": [
    "draw_compare_plot(df_og,df_retrained,to_compare='average_recall',names=['og','retrained'],save_path=r'E:\\OneDrive - Nexus365\\Desktop\\physics\\Year 4\\project\\BenchFRET\\dev\\compare_plot.html')"
   ]
  },
  {
   "cell_type": "code",
   "execution_count": null,
   "metadata": {},
   "outputs": [],
   "source": []
  }
 ],
 "metadata": {
  "kernelspec": {
   "display_name": "DeepGapSeq",
   "language": "python",
   "name": "python3"
  },
  "language_info": {
   "codemirror_mode": {
    "name": "ipython",
    "version": 3
   },
   "file_extension": ".py",
   "mimetype": "text/x-python",
   "name": "python",
   "nbconvert_exporter": "python",
   "pygments_lexer": "ipython3",
   "version": "3.9.0"
  }
 },
 "nbformat": 4,
 "nbformat_minor": 2
}
