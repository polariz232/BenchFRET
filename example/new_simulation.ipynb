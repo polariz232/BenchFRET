{
 "cells": [
  {
   "cell_type": "code",
   "execution_count": 5,
   "metadata": {},
   "outputs": [],
   "source": [
    "from BenchFRET.pipeline.dataloader import *\n",
    "import os\n",
    "import numpy as np"
   ]
  },
  {
   "cell_type": "code",
   "execution_count": 6,
   "metadata": {},
   "outputs": [],
   "source": [
    "outdir = 'E:\\OneDrive - Nexus365\\Desktop\\physics\\Year 4\\project\\BenchFRET\\data'"
   ]
  },
  {
   "cell_type": "code",
   "execution_count": 7,
   "metadata": {},
   "outputs": [
    {
     "name": "stdout",
     "output_type": "stream",
     "text": [
      "[[0.86625705 0.13374295]\n",
      " [0.88812794 0.11187206]]\n"
     ]
    }
   ],
   "source": [
    "import numpy as np\n",
    "\n",
    "# Initialize the matrix with the minimum value for each entry\n",
    "random_2d_matrix = np.full((2,2), 0.1)\n",
    "\n",
    "# For each row, distribute the remaining value (0.8 per row) randomly ensuring the sum equals 1\n",
    "for row in random_2d_matrix:\n",
    "    remaining = 1 - row.sum()  # Calculate the remaining value to distribute\n",
    "    distribution = np.random.rand(2)\n",
    "    distribution /= distribution.sum()  # Normalize the distribution to sum to 1\n",
    "    distribution *= remaining  # Scale the distribution to the remaining value\n",
    "    row += distribution\n",
    "\n",
    "print(random_2d_matrix)"
   ]
  },
  {
   "cell_type": "code",
   "execution_count": 8,
   "metadata": {},
   "outputs": [],
   "source": [
    "fixed_matrix = np.array([[0.8, 0.1, 0.1],[0.1, 0.8, 0.1],[0.1, 0.1, 0.8]])"
   ]
  },
  {
   "cell_type": "code",
   "execution_count": 9,
   "metadata": {},
   "outputs": [
    {
     "name": "stdout",
     "output_type": "stream",
     "text": [
      "Generating traces...\n"
     ]
    },
    {
     "name": "stderr",
     "output_type": "stream",
     "text": [
      "100%|██████████| 100/100 [00:00<00:00, 101.67it/s]"
     ]
    },
    {
     "name": "stdout",
     "output_type": "stream",
     "text": [
      "Spent 1.0 s to generate 69 traces\n",
      "Labels:  [0. 1. 2.]\n",
      "exporting pickled dictionary to: E:\\OneDrive - Nexus365\\Desktop\\physics\\Year 4\\project\\BenchFRET\\data\\simulated_traces\\pickledict\\test_2024_02_14.pkl\n"
     ]
    },
    {
     "name": "stderr",
     "output_type": "stream",
     "text": [
      "\n"
     ]
    }
   ],
   "source": [
    "new_sim = NewSim(n_frames=1000,n_traces=100,outdir=outdir,n_states=3,trans_mat=fixed_matrix,export_mode=\"pickledict\", reduce_memory=False,export_name='test')"
   ]
  },
  {
   "cell_type": "code",
   "execution_count": 11,
   "metadata": {},
   "outputs": [
    {
     "name": "stdout",
     "output_type": "stream",
     "text": [
      "fetched data: DD, DA, AA, E, E_true, label, noise_level, min_E_diff, trans_mean\n",
      "\n"
     ]
    },
    {
     "data": {
      "text/plain": [
       "array([[[-0.12350663,  1.15881385,  1.14882426, ..., -1.        ,\n",
       "          0.31948   ,  0.1       ],\n",
       "        [ 0.32469823,  0.6089545 ,  1.22706108, ..., -1.        ,\n",
       "          0.31948   ,  0.1       ]],\n",
       "\n",
       "       [[ 0.50131873,  0.48219748,  0.37122553, ..., -1.        ,\n",
       "          0.21313   ,  0.1       ],\n",
       "        [ 0.48044909,  0.33685366,  0.36606112, ..., -1.        ,\n",
       "          0.21313   ,  0.1       ]],\n",
       "\n",
       "       [[ 0.26013525,  0.42638469,  0.24404176, ..., -1.        ,\n",
       "          0.17082   ,  0.1       ],\n",
       "        [ 0.71099383,  0.42804719,  0.66753223, ..., -1.        ,\n",
       "          0.17082   ,  0.1       ]],\n",
       "\n",
       "       ...,\n",
       "\n",
       "       [[-0.05828428,  1.08762579,  1.87378399, ..., -1.        ,\n",
       "          0.23019   ,  0.1       ],\n",
       "        [-0.0788796 ,  0.80279276,  1.44418982, ..., -1.        ,\n",
       "          0.23019   ,  0.1       ]],\n",
       "\n",
       "       [[ 0.21715775,  0.35695192,  0.48692286, ..., -1.        ,\n",
       "          0.10117   ,  0.1       ],\n",
       "        [ 0.79557834,  0.67184331,  0.28645269, ..., -1.        ,\n",
       "          0.10117   ,  0.1       ]],\n",
       "\n",
       "       [[ 0.12670677,  0.81182464,  0.44531878, ..., -1.        ,\n",
       "          0.17909   ,  0.1       ],\n",
       "        [ 0.44765675,  0.57971767,  0.0754814 , ..., -1.        ,\n",
       "          0.17909   ,  0.1       ]]])"
      ]
     },
     "execution_count": 11,
     "metadata": {},
     "output_type": "execute_result"
    }
   ],
   "source": [
    "new_sim.get_data()[:,:2]"
   ]
  },
  {
   "cell_type": "code",
   "execution_count": null,
   "metadata": {},
   "outputs": [],
   "source": []
  },
  {
   "cell_type": "code",
   "execution_count": null,
   "metadata": {},
   "outputs": [],
   "source": []
  },
  {
   "cell_type": "code",
   "execution_count": null,
   "metadata": {},
   "outputs": [],
   "source": []
  },
  {
   "cell_type": "code",
   "execution_count": null,
   "metadata": {},
   "outputs": [],
   "source": []
  }
 ],
 "metadata": {
  "kernelspec": {
   "display_name": "DeepGapSeq",
   "language": "python",
   "name": "python3"
  },
  "language_info": {
   "codemirror_mode": {
    "name": "ipython",
    "version": 3
   },
   "file_extension": ".py",
   "mimetype": "text/x-python",
   "name": "python",
   "nbconvert_exporter": "python",
   "pygments_lexer": "ipython3",
   "version": "3.9.0"
  }
 },
 "nbformat": 4,
 "nbformat_minor": 2
}
