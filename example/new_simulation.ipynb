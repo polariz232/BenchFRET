{
 "cells": [
  {
   "cell_type": "code",
   "execution_count": 14,
   "metadata": {},
   "outputs": [],
   "source": [
    "from BenchFRET.pipeline.dataloader import *\n",
    "import os\n",
    "import numpy as np"
   ]
  },
  {
   "cell_type": "code",
   "execution_count": 15,
   "metadata": {},
   "outputs": [],
   "source": [
    "outdir = 'E:\\OneDrive - Nexus365\\Desktop\\physics\\Year 4\\project\\BenchFRET\\data'"
   ]
  },
  {
   "cell_type": "code",
   "execution_count": 24,
   "metadata": {},
   "outputs": [
    {
     "name": "stdout",
     "output_type": "stream",
     "text": [
      "[[0.69818816 0.30181184]\n",
      " [0.38472059 0.61527941]]\n"
     ]
    }
   ],
   "source": [
    "import numpy as np\n",
    "\n",
    "# Initialize the matrix with the minimum value for each entry\n",
    "random_2d_matrix = np.full((2,2), 0.1)\n",
    "\n",
    "# For each row, distribute the remaining value (0.8 per row) randomly ensuring the sum equals 1\n",
    "for row in random_2d_matrix:\n",
    "    remaining = 1 - row.sum()  # Calculate the remaining value to distribute\n",
    "    distribution = np.random.rand(2)\n",
    "    distribution /= distribution.sum()  # Normalize the distribution to sum to 1\n",
    "    distribution *= remaining  # Scale the distribution to the remaining value\n",
    "    row += distribution\n",
    "\n",
    "print(random_2d_matrix)"
   ]
  },
  {
   "cell_type": "code",
   "execution_count": 25,
   "metadata": {},
   "outputs": [],
   "source": [
    "fixed_matrix = np.array([[0.8, 0.1, 0.1],[0.1, 0.8, 0.1],[0.1, 0.1, 0.8]])"
   ]
  },
  {
   "cell_type": "code",
   "execution_count": null,
   "metadata": {},
   "outputs": [],
   "source": []
  },
  {
   "cell_type": "code",
   "execution_count": 27,
   "metadata": {},
   "outputs": [
    {
     "name": "stdout",
     "output_type": "stream",
     "text": [
      "Generating traces...\n"
     ]
    },
    {
     "name": "stderr",
     "output_type": "stream",
     "text": [
      "100%|██████████| 100/100 [00:00<00:00, 144.45it/s]\n"
     ]
    },
    {
     "name": "stdout",
     "output_type": "stream",
     "text": [
      "Spent 0.7 s to generate 69 traces\n",
      "Labels:  [0. 1. 2.]\n",
      "exporting pickled dictionary to: E:\\OneDrive - Nexus365\\Desktop\\physics\\Year 4\\project\\BenchFRET\\data\\simulated_traces\\pickledict\\trace_dataset_2024_02_07.pkl\n"
     ]
    }
   ],
   "source": [
    "new_sim = NewSim(n_frames=1000,n_traces=100,outdir=outdir,n_states=3,trans_mat=fixed_matrix,export_mode=\"pickledict\", reduce_memory=False)"
   ]
  },
  {
   "cell_type": "code",
   "execution_count": null,
   "metadata": {},
   "outputs": [],
   "source": []
  },
  {
   "cell_type": "code",
   "execution_count": null,
   "metadata": {},
   "outputs": [],
   "source": []
  },
  {
   "cell_type": "code",
   "execution_count": null,
   "metadata": {},
   "outputs": [],
   "source": []
  },
  {
   "cell_type": "code",
   "execution_count": null,
   "metadata": {},
   "outputs": [],
   "source": []
  },
  {
   "cell_type": "code",
   "execution_count": null,
   "metadata": {},
   "outputs": [],
   "source": []
  }
 ],
 "metadata": {
  "kernelspec": {
   "display_name": "DeepGapSeq",
   "language": "python",
   "name": "python3"
  },
  "language_info": {
   "codemirror_mode": {
    "name": "ipython",
    "version": 3
   },
   "file_extension": ".py",
   "mimetype": "text/x-python",
   "name": "python",
   "nbconvert_exporter": "python",
   "pygments_lexer": "ipython3",
   "version": "3.9.0"
  }
 },
 "nbformat": 4,
 "nbformat_minor": 2
}
